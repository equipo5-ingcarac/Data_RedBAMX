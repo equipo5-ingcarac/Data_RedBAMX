{
 "cells": [
  {
   "cell_type": "code",
   "execution_count": 1,
   "id": "f2c2c401",
   "metadata": {},
   "outputs": [],
   "source": [
    "import os\n",
    "import datetime\n",
    "import pandas as pd\n",
    "import re\n",
    "import great_expectations\n",
    "import agriculture as ag"
   ]
  },
  {
   "cell_type": "code",
   "execution_count": 2,
   "id": "4e4ddeac",
   "metadata": {},
   "outputs": [],
   "source": [
    "#!pip install great_expectations"
   ]
  },
  {
   "cell_type": "markdown",
   "id": "be73290d",
   "metadata": {},
   "source": [
    "## Descargando los datos\n",
    "\n",
    "Para descargar los datos referentes a los precios de diversos productos agricolas, podemos ejecutar directamente el script `agriculture.py` en la terminal de la siguiente manera:\n",
    "\n",
    "```python3 agriculture.py```\n",
    "\n",
    "El script mencionado llama de forma iterativa a la API de la pagina del Sistema Nacional de Informacion de Mercados (SNIIM) de la Secretaria de Economia, para recuperar los precios de diversos productos en diversos centros de distribucion en el pais, desde el año 2020 hasta la fecha.\n",
    "\n",
    "Otra manera de descargar los datos es ejecutando la siguiente celda, la cual inicializa un objeto de tipo `ScrapperMarketAgriculture`, el cual contiene la funcion `scraping`, la cual realiza el mismo proceso del script mencionado anteriormente."
   ]
  },
  {
   "cell_type": "code",
   "execution_count": 3,
   "id": "15a61543",
   "metadata": {
    "scrolled": true
   },
   "outputs": [
    {
     "name": "stdout",
     "output_type": "stream",
     "text": [
      "Producto: Acelga - Primera\n",
      "Producto: Aguacate Criollo - Primera\n",
      "Producto: Aguacate Fuerte - Primera\n",
      "Producto: Aguacate Hass - Calidad extra\n",
      "Producto: Aguacate Hass - Calidad super extra\n",
      "Producto: Aguacate Hass - Primera\n",
      "Producto: Aguacate Hass adelantado - Primera\n",
      "Producto: Aguacate Hass flor vieja - Primera\n"
     ]
    },
    {
     "ename": "KeyboardInterrupt",
     "evalue": "",
     "output_type": "error",
     "traceback": [
      "\u001b[1;31m---------------------------------------------------------------------------\u001b[0m",
      "\u001b[1;31mKeyboardInterrupt\u001b[0m                         Traceback (most recent call last)",
      "\u001b[1;32mc:\\Users\\Ivan\\Documents\\Maestria\\01_ing_caract\\Data_RedBAMX\\notebooks\\limpieza\\Data_SNIIM.ipynb Cell 4\u001b[0m line \u001b[0;36m3\n\u001b[0;32m      <a href='vscode-notebook-cell:/c%3A/Users/Ivan/Documents/Maestria/01_ing_caract/Data_RedBAMX/notebooks/limpieza/Data_SNIIM.ipynb#W3sZmlsZQ%3D%3D?line=0'>1</a>\u001b[0m \u001b[39m# ESTE SCRAPPER PUEDE TARDAR, RECOMENDABLE EJECUTAR DIRECTAMENTE DESDE TERMINAL\u001b[39;00m\n\u001b[0;32m      <a href='vscode-notebook-cell:/c%3A/Users/Ivan/Documents/Maestria/01_ing_caract/Data_RedBAMX/notebooks/limpieza/Data_SNIIM.ipynb#W3sZmlsZQ%3D%3D?line=1'>2</a>\u001b[0m scrapper \u001b[39m=\u001b[39m ag\u001b[39m.\u001b[39mScrapperMarketAgriculture() \u001b[39m# Generamos un objeto de tipo ScrapperMarketAgriculture (scrapper SNIIM)\u001b[39;00m\n\u001b[1;32m----> <a href='vscode-notebook-cell:/c%3A/Users/Ivan/Documents/Maestria/01_ing_caract/Data_RedBAMX/notebooks/limpieza/Data_SNIIM.ipynb#W3sZmlsZQ%3D%3D?line=2'>3</a>\u001b[0m scrapper\u001b[39m.\u001b[39;49mscraping() \u001b[39m# Scrapear la pagina del SNIIM para las frutas y hortalizas\u001b[39;00m\n",
      "File \u001b[1;32mc:\\Users\\Ivan\\Documents\\Maestria\\01_ing_caract\\Data_RedBAMX\\notebooks\\limpieza\\agriculture.py:116\u001b[0m, in \u001b[0;36mScrapperMarketAgriculture.scraping\u001b[1;34m(self)\u001b[0m\n\u001b[0;32m    113\u001b[0m     os\u001b[39m.\u001b[39mmkdir(\u001b[39m\"\u001b[39m\u001b[39m../../data/sniim\u001b[39m\u001b[39m\"\u001b[39m)\n\u001b[0;32m    115\u001b[0m \u001b[39mfor\u001b[39;00m category, url, url_form \u001b[39min\u001b[39;00m \u001b[39mself\u001b[39m\u001b[39m.\u001b[39minit_urls:\n\u001b[1;32m--> 116\u001b[0m     \u001b[39mself\u001b[39;49m\u001b[39m.\u001b[39;49mread_category(category, url, url_form)\n\u001b[0;32m    118\u001b[0m \u001b[39mwith\u001b[39;00m \u001b[39mopen\u001b[39m(\u001b[39m\"\u001b[39m\u001b[39m../../logs/info_sniim.txt\u001b[39m\u001b[39m\"\u001b[39m, \u001b[39m'\u001b[39m\u001b[39mw\u001b[39m\u001b[39m'\u001b[39m) \u001b[39mas\u001b[39;00m f:\n\u001b[0;32m    119\u001b[0m     f\u001b[39m.\u001b[39mwrite(\u001b[39m\"\u001b[39m\u001b[39mArchivos sobre personas desaparecidas\u001b[39m\u001b[39m\\n\u001b[39;00m\u001b[39m\"\u001b[39m)\n",
      "File \u001b[1;32mc:\\Users\\Ivan\\Documents\\Maestria\\01_ing_caract\\Data_RedBAMX\\notebooks\\limpieza\\agriculture.py:103\u001b[0m, in \u001b[0;36mScrapperMarketAgriculture.read_category\u001b[1;34m(self, category, url, url_form)\u001b[0m\n\u001b[0;32m     89\u001b[0m             end_date\u001b[39m=\u001b[39m\u001b[39m'\u001b[39m\u001b[39m01/01/\u001b[39m\u001b[39m{0}\u001b[39;00m\u001b[39m'\u001b[39m\u001b[39m.\u001b[39mformat(\u001b[39mstr\u001b[39m(year \u001b[39m+\u001b[39m \u001b[39m1\u001b[39m))\n\u001b[0;32m     91\u001b[0m         payload \u001b[39m=\u001b[39m {\n\u001b[0;32m     92\u001b[0m             \u001b[39m'\u001b[39m\u001b[39mfechaInicio\u001b[39m\u001b[39m'\u001b[39m:\u001b[39m'\u001b[39m\u001b[39m01/01/\u001b[39m\u001b[39m{0}\u001b[39;00m\u001b[39m'\u001b[39m\u001b[39m.\u001b[39mformat(\u001b[39mstr\u001b[39m(year)),\n\u001b[0;32m     93\u001b[0m             \u001b[39m'\u001b[39m\u001b[39mfechaFinal\u001b[39m\u001b[39m'\u001b[39m: end_date,\n\u001b[1;32m   (...)\u001b[0m\n\u001b[0;32m    100\u001b[0m             \u001b[39m'\u001b[39m\u001b[39mRegistrosPorPagina\u001b[39m\u001b[39m'\u001b[39m:\u001b[39m'\u001b[39m\u001b[39m20000\u001b[39m\u001b[39m'\u001b[39m\n\u001b[0;32m    101\u001b[0m         }\n\u001b[1;32m--> 103\u001b[0m         \u001b[39mif\u001b[39;00m \u001b[39mnot\u001b[39;00m \u001b[39mself\u001b[39;49m\u001b[39m.\u001b[39;49mgather_prices(payload, url_form, product_name, year):\n\u001b[0;32m    104\u001b[0m             \u001b[39mnext\u001b[39m\n\u001b[0;32m    106\u001b[0m \u001b[39mreturn\u001b[39;00m\n",
      "File \u001b[1;32mc:\\Users\\Ivan\\Documents\\Maestria\\01_ing_caract\\Data_RedBAMX\\notebooks\\limpieza\\agriculture.py:141\u001b[0m, in \u001b[0;36mScrapperMarketAgriculture.gather_prices\u001b[1;34m(self, payload, url_form, product_name, year)\u001b[0m\n\u001b[0;32m    137\u001b[0m     \u001b[39mreturn\u001b[39;00m\n\u001b[0;32m    139\u001b[0m \u001b[39m#puts(colored.blue(\"Peticion: {}\".format(str(payload))))\u001b[39;00m\n\u001b[1;32m--> 141\u001b[0m response \u001b[39m=\u001b[39m requests\u001b[39m.\u001b[39;49mget(\u001b[39mself\u001b[39;49m\u001b[39m.\u001b[39;49mbase_url \u001b[39m+\u001b[39;49m url_form, params\u001b[39m=\u001b[39;49mpayload, headers\u001b[39m=\u001b[39;49m\u001b[39mself\u001b[39;49m\u001b[39m.\u001b[39;49mheaders)\n\u001b[0;32m    143\u001b[0m \u001b[39mif\u001b[39;00m response\u001b[39m.\u001b[39mstatus_code \u001b[39m!=\u001b[39m \u001b[39m200\u001b[39m:\n\u001b[0;32m    144\u001b[0m     puts(colored\u001b[39m.\u001b[39mred(\u001b[39m\"\u001b[39m\u001b[39mError en la peticion HTTP: \u001b[39m\u001b[39m{}\u001b[39;00m\u001b[39m\"\u001b[39m\u001b[39m.\u001b[39mformat(\u001b[39mstr\u001b[39m(response\u001b[39m.\u001b[39mtext))))\n",
      "File \u001b[1;32mc:\\Users\\Ivan\\.conda\\envs\\mstria\\lib\\site-packages\\requests\\api.py:73\u001b[0m, in \u001b[0;36mget\u001b[1;34m(url, params, **kwargs)\u001b[0m\n\u001b[0;32m     62\u001b[0m \u001b[39mdef\u001b[39;00m \u001b[39mget\u001b[39m(url, params\u001b[39m=\u001b[39m\u001b[39mNone\u001b[39;00m, \u001b[39m*\u001b[39m\u001b[39m*\u001b[39mkwargs):\n\u001b[0;32m     63\u001b[0m \u001b[39m    \u001b[39m\u001b[39mr\u001b[39m\u001b[39m\"\"\"Sends a GET request.\u001b[39;00m\n\u001b[0;32m     64\u001b[0m \n\u001b[0;32m     65\u001b[0m \u001b[39m    :param url: URL for the new :class:`Request` object.\u001b[39;00m\n\u001b[1;32m   (...)\u001b[0m\n\u001b[0;32m     70\u001b[0m \u001b[39m    :rtype: requests.Response\u001b[39;00m\n\u001b[0;32m     71\u001b[0m \u001b[39m    \"\"\"\u001b[39;00m\n\u001b[1;32m---> 73\u001b[0m     \u001b[39mreturn\u001b[39;00m request(\u001b[39m\"\u001b[39;49m\u001b[39mget\u001b[39;49m\u001b[39m\"\u001b[39;49m, url, params\u001b[39m=\u001b[39;49mparams, \u001b[39m*\u001b[39;49m\u001b[39m*\u001b[39;49mkwargs)\n",
      "File \u001b[1;32mc:\\Users\\Ivan\\.conda\\envs\\mstria\\lib\\site-packages\\requests\\api.py:59\u001b[0m, in \u001b[0;36mrequest\u001b[1;34m(method, url, **kwargs)\u001b[0m\n\u001b[0;32m     55\u001b[0m \u001b[39m# By using the 'with' statement we are sure the session is closed, thus we\u001b[39;00m\n\u001b[0;32m     56\u001b[0m \u001b[39m# avoid leaving sockets open which can trigger a ResourceWarning in some\u001b[39;00m\n\u001b[0;32m     57\u001b[0m \u001b[39m# cases, and look like a memory leak in others.\u001b[39;00m\n\u001b[0;32m     58\u001b[0m \u001b[39mwith\u001b[39;00m sessions\u001b[39m.\u001b[39mSession() \u001b[39mas\u001b[39;00m session:\n\u001b[1;32m---> 59\u001b[0m     \u001b[39mreturn\u001b[39;00m session\u001b[39m.\u001b[39;49mrequest(method\u001b[39m=\u001b[39;49mmethod, url\u001b[39m=\u001b[39;49murl, \u001b[39m*\u001b[39;49m\u001b[39m*\u001b[39;49mkwargs)\n",
      "File \u001b[1;32mc:\\Users\\Ivan\\.conda\\envs\\mstria\\lib\\site-packages\\requests\\sessions.py:589\u001b[0m, in \u001b[0;36mSession.request\u001b[1;34m(self, method, url, params, data, headers, cookies, files, auth, timeout, allow_redirects, proxies, hooks, stream, verify, cert, json)\u001b[0m\n\u001b[0;32m    584\u001b[0m send_kwargs \u001b[39m=\u001b[39m {\n\u001b[0;32m    585\u001b[0m     \u001b[39m\"\u001b[39m\u001b[39mtimeout\u001b[39m\u001b[39m\"\u001b[39m: timeout,\n\u001b[0;32m    586\u001b[0m     \u001b[39m\"\u001b[39m\u001b[39mallow_redirects\u001b[39m\u001b[39m\"\u001b[39m: allow_redirects,\n\u001b[0;32m    587\u001b[0m }\n\u001b[0;32m    588\u001b[0m send_kwargs\u001b[39m.\u001b[39mupdate(settings)\n\u001b[1;32m--> 589\u001b[0m resp \u001b[39m=\u001b[39m \u001b[39mself\u001b[39;49m\u001b[39m.\u001b[39;49msend(prep, \u001b[39m*\u001b[39;49m\u001b[39m*\u001b[39;49msend_kwargs)\n\u001b[0;32m    591\u001b[0m \u001b[39mreturn\u001b[39;00m resp\n",
      "File \u001b[1;32mc:\\Users\\Ivan\\.conda\\envs\\mstria\\lib\\site-packages\\requests\\sessions.py:703\u001b[0m, in \u001b[0;36mSession.send\u001b[1;34m(self, request, **kwargs)\u001b[0m\n\u001b[0;32m    700\u001b[0m start \u001b[39m=\u001b[39m preferred_clock()\n\u001b[0;32m    702\u001b[0m \u001b[39m# Send the request\u001b[39;00m\n\u001b[1;32m--> 703\u001b[0m r \u001b[39m=\u001b[39m adapter\u001b[39m.\u001b[39;49msend(request, \u001b[39m*\u001b[39;49m\u001b[39m*\u001b[39;49mkwargs)\n\u001b[0;32m    705\u001b[0m \u001b[39m# Total elapsed time of the request (approximately)\u001b[39;00m\n\u001b[0;32m    706\u001b[0m elapsed \u001b[39m=\u001b[39m preferred_clock() \u001b[39m-\u001b[39m start\n",
      "File \u001b[1;32mc:\\Users\\Ivan\\.conda\\envs\\mstria\\lib\\site-packages\\requests\\adapters.py:486\u001b[0m, in \u001b[0;36mHTTPAdapter.send\u001b[1;34m(self, request, stream, timeout, verify, cert, proxies)\u001b[0m\n\u001b[0;32m    483\u001b[0m     timeout \u001b[39m=\u001b[39m TimeoutSauce(connect\u001b[39m=\u001b[39mtimeout, read\u001b[39m=\u001b[39mtimeout)\n\u001b[0;32m    485\u001b[0m \u001b[39mtry\u001b[39;00m:\n\u001b[1;32m--> 486\u001b[0m     resp \u001b[39m=\u001b[39m conn\u001b[39m.\u001b[39;49murlopen(\n\u001b[0;32m    487\u001b[0m         method\u001b[39m=\u001b[39;49mrequest\u001b[39m.\u001b[39;49mmethod,\n\u001b[0;32m    488\u001b[0m         url\u001b[39m=\u001b[39;49murl,\n\u001b[0;32m    489\u001b[0m         body\u001b[39m=\u001b[39;49mrequest\u001b[39m.\u001b[39;49mbody,\n\u001b[0;32m    490\u001b[0m         headers\u001b[39m=\u001b[39;49mrequest\u001b[39m.\u001b[39;49mheaders,\n\u001b[0;32m    491\u001b[0m         redirect\u001b[39m=\u001b[39;49m\u001b[39mFalse\u001b[39;49;00m,\n\u001b[0;32m    492\u001b[0m         assert_same_host\u001b[39m=\u001b[39;49m\u001b[39mFalse\u001b[39;49;00m,\n\u001b[0;32m    493\u001b[0m         preload_content\u001b[39m=\u001b[39;49m\u001b[39mFalse\u001b[39;49;00m,\n\u001b[0;32m    494\u001b[0m         decode_content\u001b[39m=\u001b[39;49m\u001b[39mFalse\u001b[39;49;00m,\n\u001b[0;32m    495\u001b[0m         retries\u001b[39m=\u001b[39;49m\u001b[39mself\u001b[39;49m\u001b[39m.\u001b[39;49mmax_retries,\n\u001b[0;32m    496\u001b[0m         timeout\u001b[39m=\u001b[39;49mtimeout,\n\u001b[0;32m    497\u001b[0m         chunked\u001b[39m=\u001b[39;49mchunked,\n\u001b[0;32m    498\u001b[0m     )\n\u001b[0;32m    500\u001b[0m \u001b[39mexcept\u001b[39;00m (ProtocolError, \u001b[39mOSError\u001b[39;00m) \u001b[39mas\u001b[39;00m err:\n\u001b[0;32m    501\u001b[0m     \u001b[39mraise\u001b[39;00m \u001b[39mConnectionError\u001b[39;00m(err, request\u001b[39m=\u001b[39mrequest)\n",
      "File \u001b[1;32mc:\\Users\\Ivan\\.conda\\envs\\mstria\\lib\\site-packages\\urllib3\\connectionpool.py:790\u001b[0m, in \u001b[0;36mHTTPConnectionPool.urlopen\u001b[1;34m(self, method, url, body, headers, retries, redirect, assert_same_host, timeout, pool_timeout, release_conn, chunked, body_pos, preload_content, decode_content, **response_kw)\u001b[0m\n\u001b[0;32m    787\u001b[0m response_conn \u001b[39m=\u001b[39m conn \u001b[39mif\u001b[39;00m \u001b[39mnot\u001b[39;00m release_conn \u001b[39melse\u001b[39;00m \u001b[39mNone\u001b[39;00m\n\u001b[0;32m    789\u001b[0m \u001b[39m# Make the request on the HTTPConnection object\u001b[39;00m\n\u001b[1;32m--> 790\u001b[0m response \u001b[39m=\u001b[39m \u001b[39mself\u001b[39;49m\u001b[39m.\u001b[39;49m_make_request(\n\u001b[0;32m    791\u001b[0m     conn,\n\u001b[0;32m    792\u001b[0m     method,\n\u001b[0;32m    793\u001b[0m     url,\n\u001b[0;32m    794\u001b[0m     timeout\u001b[39m=\u001b[39;49mtimeout_obj,\n\u001b[0;32m    795\u001b[0m     body\u001b[39m=\u001b[39;49mbody,\n\u001b[0;32m    796\u001b[0m     headers\u001b[39m=\u001b[39;49mheaders,\n\u001b[0;32m    797\u001b[0m     chunked\u001b[39m=\u001b[39;49mchunked,\n\u001b[0;32m    798\u001b[0m     retries\u001b[39m=\u001b[39;49mretries,\n\u001b[0;32m    799\u001b[0m     response_conn\u001b[39m=\u001b[39;49mresponse_conn,\n\u001b[0;32m    800\u001b[0m     preload_content\u001b[39m=\u001b[39;49mpreload_content,\n\u001b[0;32m    801\u001b[0m     decode_content\u001b[39m=\u001b[39;49mdecode_content,\n\u001b[0;32m    802\u001b[0m     \u001b[39m*\u001b[39;49m\u001b[39m*\u001b[39;49mresponse_kw,\n\u001b[0;32m    803\u001b[0m )\n\u001b[0;32m    805\u001b[0m \u001b[39m# Everything went great!\u001b[39;00m\n\u001b[0;32m    806\u001b[0m clean_exit \u001b[39m=\u001b[39m \u001b[39mTrue\u001b[39;00m\n",
      "File \u001b[1;32mc:\\Users\\Ivan\\.conda\\envs\\mstria\\lib\\site-packages\\urllib3\\connectionpool.py:536\u001b[0m, in \u001b[0;36mHTTPConnectionPool._make_request\u001b[1;34m(self, conn, method, url, body, headers, retries, timeout, chunked, response_conn, preload_content, decode_content, enforce_content_length)\u001b[0m\n\u001b[0;32m    534\u001b[0m \u001b[39m# Receive the response from the server\u001b[39;00m\n\u001b[0;32m    535\u001b[0m \u001b[39mtry\u001b[39;00m:\n\u001b[1;32m--> 536\u001b[0m     response \u001b[39m=\u001b[39m conn\u001b[39m.\u001b[39;49mgetresponse()\n\u001b[0;32m    537\u001b[0m \u001b[39mexcept\u001b[39;00m (BaseSSLError, \u001b[39mOSError\u001b[39;00m) \u001b[39mas\u001b[39;00m e:\n\u001b[0;32m    538\u001b[0m     \u001b[39mself\u001b[39m\u001b[39m.\u001b[39m_raise_timeout(err\u001b[39m=\u001b[39me, url\u001b[39m=\u001b[39murl, timeout_value\u001b[39m=\u001b[39mread_timeout)\n",
      "File \u001b[1;32mc:\\Users\\Ivan\\.conda\\envs\\mstria\\lib\\site-packages\\urllib3\\connection.py:461\u001b[0m, in \u001b[0;36mHTTPConnection.getresponse\u001b[1;34m(self)\u001b[0m\n\u001b[0;32m    458\u001b[0m \u001b[39mfrom\u001b[39;00m \u001b[39m.\u001b[39;00m\u001b[39mresponse\u001b[39;00m \u001b[39mimport\u001b[39;00m HTTPResponse\n\u001b[0;32m    460\u001b[0m \u001b[39m# Get the response from http.client.HTTPConnection\u001b[39;00m\n\u001b[1;32m--> 461\u001b[0m httplib_response \u001b[39m=\u001b[39m \u001b[39msuper\u001b[39;49m()\u001b[39m.\u001b[39;49mgetresponse()\n\u001b[0;32m    463\u001b[0m \u001b[39mtry\u001b[39;00m:\n\u001b[0;32m    464\u001b[0m     assert_header_parsing(httplib_response\u001b[39m.\u001b[39mmsg)\n",
      "File \u001b[1;32mc:\\Users\\Ivan\\.conda\\envs\\mstria\\lib\\http\\client.py:1348\u001b[0m, in \u001b[0;36mHTTPConnection.getresponse\u001b[1;34m(self)\u001b[0m\n\u001b[0;32m   1346\u001b[0m \u001b[39mtry\u001b[39;00m:\n\u001b[0;32m   1347\u001b[0m     \u001b[39mtry\u001b[39;00m:\n\u001b[1;32m-> 1348\u001b[0m         response\u001b[39m.\u001b[39;49mbegin()\n\u001b[0;32m   1349\u001b[0m     \u001b[39mexcept\u001b[39;00m \u001b[39mConnectionError\u001b[39;00m:\n\u001b[0;32m   1350\u001b[0m         \u001b[39mself\u001b[39m\u001b[39m.\u001b[39mclose()\n",
      "File \u001b[1;32mc:\\Users\\Ivan\\.conda\\envs\\mstria\\lib\\http\\client.py:316\u001b[0m, in \u001b[0;36mHTTPResponse.begin\u001b[1;34m(self)\u001b[0m\n\u001b[0;32m    314\u001b[0m \u001b[39m# read until we get a non-100 response\u001b[39;00m\n\u001b[0;32m    315\u001b[0m \u001b[39mwhile\u001b[39;00m \u001b[39mTrue\u001b[39;00m:\n\u001b[1;32m--> 316\u001b[0m     version, status, reason \u001b[39m=\u001b[39m \u001b[39mself\u001b[39;49m\u001b[39m.\u001b[39;49m_read_status()\n\u001b[0;32m    317\u001b[0m     \u001b[39mif\u001b[39;00m status \u001b[39m!=\u001b[39m CONTINUE:\n\u001b[0;32m    318\u001b[0m         \u001b[39mbreak\u001b[39;00m\n",
      "File \u001b[1;32mc:\\Users\\Ivan\\.conda\\envs\\mstria\\lib\\http\\client.py:277\u001b[0m, in \u001b[0;36mHTTPResponse._read_status\u001b[1;34m(self)\u001b[0m\n\u001b[0;32m    276\u001b[0m \u001b[39mdef\u001b[39;00m \u001b[39m_read_status\u001b[39m(\u001b[39mself\u001b[39m):\n\u001b[1;32m--> 277\u001b[0m     line \u001b[39m=\u001b[39m \u001b[39mstr\u001b[39m(\u001b[39mself\u001b[39;49m\u001b[39m.\u001b[39;49mfp\u001b[39m.\u001b[39;49mreadline(_MAXLINE \u001b[39m+\u001b[39;49m \u001b[39m1\u001b[39;49m), \u001b[39m\"\u001b[39m\u001b[39miso-8859-1\u001b[39m\u001b[39m\"\u001b[39m)\n\u001b[0;32m    278\u001b[0m     \u001b[39mif\u001b[39;00m \u001b[39mlen\u001b[39m(line) \u001b[39m>\u001b[39m _MAXLINE:\n\u001b[0;32m    279\u001b[0m         \u001b[39mraise\u001b[39;00m LineTooLong(\u001b[39m\"\u001b[39m\u001b[39mstatus line\u001b[39m\u001b[39m\"\u001b[39m)\n",
      "File \u001b[1;32mc:\\Users\\Ivan\\.conda\\envs\\mstria\\lib\\socket.py:669\u001b[0m, in \u001b[0;36mSocketIO.readinto\u001b[1;34m(self, b)\u001b[0m\n\u001b[0;32m    667\u001b[0m \u001b[39mwhile\u001b[39;00m \u001b[39mTrue\u001b[39;00m:\n\u001b[0;32m    668\u001b[0m     \u001b[39mtry\u001b[39;00m:\n\u001b[1;32m--> 669\u001b[0m         \u001b[39mreturn\u001b[39;00m \u001b[39mself\u001b[39;49m\u001b[39m.\u001b[39;49m_sock\u001b[39m.\u001b[39;49mrecv_into(b)\n\u001b[0;32m    670\u001b[0m     \u001b[39mexcept\u001b[39;00m timeout:\n\u001b[0;32m    671\u001b[0m         \u001b[39mself\u001b[39m\u001b[39m.\u001b[39m_timeout_occurred \u001b[39m=\u001b[39m \u001b[39mTrue\u001b[39;00m\n",
      "\u001b[1;31mKeyboardInterrupt\u001b[0m: "
     ]
    }
   ],
   "source": [
    "# ESTE SCRAPPER PUEDE TARDAR, RECOMENDABLE EJECUTAR DIRECTAMENTE DESDE TERMINAL\n",
    "scrapper = ag.ScrapperMarketAgriculture() # Generamos un objeto de tipo ScrapperMarketAgriculture (scrapper SNIIM)\n",
    "scrapper.scraping() # Scrapear la pagina del SNIIM para las frutas y hortalizas"
   ]
  },
  {
   "cell_type": "markdown",
   "id": "a1392c49",
   "metadata": {},
   "source": [
    "Una vez recuperados los datos, estos se almacenan de forma local en archivos .csv, los cuales se encuentran en el directorio `data/sniim`"
   ]
  },
  {
   "cell_type": "code",
   "execution_count": 5,
   "id": "aae4d57c",
   "metadata": {},
   "outputs": [],
   "source": [
    "# Directorio que contiene los archivos generados por el scrapper\n",
    "sniim_dir = os.path.join(\"..\",\"..\",\"data\",\"sniim\")"
   ]
  },
  {
   "cell_type": "markdown",
   "id": "665dffd5",
   "metadata": {},
   "source": [
    "## Procesamiento de los datos\n",
    "\n",
    "Como al final tendremos una dataframe conteniendo los precios de diversos productos, podemos tratar de obtener el nombre de cada producto a partir del nombre del archivo csv, para esto definimos la siguiente funcion:"
   ]
  },
  {
   "cell_type": "code",
   "execution_count": 7,
   "id": "d5e610a9",
   "metadata": {},
   "outputs": [],
   "source": [
    "# Definimos una funcion para obtener el nombre del cultivo a partir del nombre del archivo csv\n",
    "def estandarizar_nombre(nombre : str) -> str:\n",
    "    \"\"\"\n",
    "    Regresa el nombre del cultivo/producto a partir del nombre del archivo .csv\n",
    "    \"\"\"\n",
    "    cultivo_std = nombre.split('_')[:-1]\n",
    "    cultivo_std = '_'.join(cultivo_std)\n",
    "    cultivo_std = re.sub(r\"(?<=#)_(?=\\d)\",'',cultivo_std)\n",
    "    cultivo_std = re.sub(\"_\",\" \",cultivo_std)\n",
    "    cultivo_std = re.sub(\"csemilla\", \"con semilla\", cultivo_std)\n",
    "    cultivo_std = re.sub(\"ssemilla\", \"sin semilla\", cultivo_std)\n",
    "    cultivo_std = cultivo_std.title()\n",
    "\n",
    "    return cultivo_std"
   ]
  },
  {
   "cell_type": "markdown",
   "id": "19c6aaee",
   "metadata": {},
   "source": [
    "Finalmente, podemos iterar sobre los archivos presentes en el directorio anterior, para generar una dataframe por cada uno de ellos, agregar las dataframes a una lista para posteriormente concatenarlas en una sola.\n",
    "\n",
    "Ademas, a cada dataframe le agregamos la columna `producto` para poder diferenciar las entradas una vez concatenadas las dataframes, y separamos la columna `destino` en dos: `destino` y `central` para identificar mas facilmente la Entidad de destino y la central de abastos donde se levanto la muestra."
   ]
  },
  {
   "cell_type": "code",
   "execution_count": 8,
   "id": "661ad272",
   "metadata": {},
   "outputs": [],
   "source": [
    "# Almacenaremos nuestras dataframes en una lista para despues concatenar\n",
    "df_list = []\n",
    "for dirpath, subdir, files in os.walk(sniim_dir):\n",
    "    for file in files:\n",
    "        if file == \".DS_Store\":\n",
    "            continue\n",
    "        \n",
    "        df = pd.read_csv(os.path.join(dirpath,file)) \n",
    "        df[\"producto\"] = estandarizar_nombre(file) # Obtenemos el nombre del producto a partir del nombre del archivo\n",
    "        df[[\"destino\",\"central\"]] = df[\"destino\"].str.split(\": \", expand=True) # Separamos la columna destino en 2\n",
    "        \n",
    "        # Reordenamos las columnas\n",
    "        cols = df.columns.to_list()\n",
    "        del cols[-1]\n",
    "        cols.insert(4,\"central\")\n",
    "        \n",
    "        del cols[-1]\n",
    "        cols.insert(1,\"producto\")\n",
    "        \n",
    "        df = df[cols]\n",
    "        \n",
    "        # Agregamos la dataframe generada a la lista\n",
    "        df_list.append(df)"
   ]
  },
  {
   "cell_type": "code",
   "execution_count": 9,
   "id": "2673aa9b",
   "metadata": {},
   "outputs": [],
   "source": [
    "precios_sniim = pd.concat(df_list,ignore_index=True) # Concatenamos nuestra lista de dataframes en una sola"
   ]
  },
  {
   "cell_type": "markdown",
   "id": "28a458c1",
   "metadata": {},
   "source": [
    "Una vez obtenida nuestra dataframe final, podemos utilizar el metodo `sample` para obtener una vista general de nuestra dataframe."
   ]
  },
  {
   "cell_type": "code",
   "execution_count": 10,
   "id": "d1034b17",
   "metadata": {
    "scrolled": true
   },
   "outputs": [
    {
     "data": {
      "text/html": [
       "<div>\n",
       "<style scoped>\n",
       "    .dataframe tbody tr th:only-of-type {\n",
       "        vertical-align: middle;\n",
       "    }\n",
       "\n",
       "    .dataframe tbody tr th {\n",
       "        vertical-align: top;\n",
       "    }\n",
       "\n",
       "    .dataframe thead th {\n",
       "        text-align: right;\n",
       "    }\n",
       "</style>\n",
       "<table border=\"1\" class=\"dataframe\">\n",
       "  <thead>\n",
       "    <tr style=\"text-align: right;\">\n",
       "      <th></th>\n",
       "      <th>fecha</th>\n",
       "      <th>producto</th>\n",
       "      <th>presentacion</th>\n",
       "      <th>origen</th>\n",
       "      <th>destino</th>\n",
       "      <th>central</th>\n",
       "      <th>precio_min</th>\n",
       "      <th>precio_max</th>\n",
       "      <th>precio_frec</th>\n",
       "      <th>obs</th>\n",
       "    </tr>\n",
       "  </thead>\n",
       "  <tbody>\n",
       "    <tr>\n",
       "      <th>1373881</th>\n",
       "      <td>13/07/2022</td>\n",
       "      <td>Nectarina</td>\n",
       "      <td>Caja de 10 kg.</td>\n",
       "      <td>Importación</td>\n",
       "      <td>Nuevo León</td>\n",
       "      <td>Mercado de Abasto \"Estrella\" de San Nicolás de...</td>\n",
       "      <td>50.0</td>\n",
       "      <td>60.0</td>\n",
       "      <td>55.00</td>\n",
       "      <td>NaN</td>\n",
       "    </tr>\n",
       "    <tr>\n",
       "      <th>886863</th>\n",
       "      <td>04/11/2022</td>\n",
       "      <td>Espinaca</td>\n",
       "      <td>Manojo</td>\n",
       "      <td>Baja California</td>\n",
       "      <td>Baja California</td>\n",
       "      <td>Central de Abasto INDIA, Tijuana</td>\n",
       "      <td>15.0</td>\n",
       "      <td>15.0</td>\n",
       "      <td>15.00</td>\n",
       "      <td>NaN</td>\n",
       "    </tr>\n",
       "    <tr>\n",
       "      <th>1486717</th>\n",
       "      <td>11/07/2023</td>\n",
       "      <td>Papa Gema</td>\n",
       "      <td>Caja de 24 kg.</td>\n",
       "      <td>Veracruz</td>\n",
       "      <td>Veracruz</td>\n",
       "      <td>Central de Abasto de Jalapa</td>\n",
       "      <td>29.17</td>\n",
       "      <td>29.58</td>\n",
       "      <td>29.58</td>\n",
       "      <td>NaN</td>\n",
       "    </tr>\n",
       "    <tr>\n",
       "      <th>1152411</th>\n",
       "      <td>24/02/2021</td>\n",
       "      <td>Mandarina</td>\n",
       "      <td>Kilogramo</td>\n",
       "      <td>Nuevo León</td>\n",
       "      <td>Nuevo León</td>\n",
       "      <td>Mercado de Abasto \"Estrella\" de San Nicolás de...</td>\n",
       "      <td>10.0</td>\n",
       "      <td>13.0</td>\n",
       "      <td>10.00</td>\n",
       "      <td>NaN</td>\n",
       "    </tr>\n",
       "    <tr>\n",
       "      <th>986718</th>\n",
       "      <td>20/03/2020</td>\n",
       "      <td>Jicama</td>\n",
       "      <td>Costal de 30 kg.</td>\n",
       "      <td>Distrito Federal</td>\n",
       "      <td>Yucatán</td>\n",
       "      <td>Central de Abasto de Mérida</td>\n",
       "      <td>7.67</td>\n",
       "      <td>7.67</td>\n",
       "      <td>7.67</td>\n",
       "      <td>NaN</td>\n",
       "    </tr>\n",
       "    <tr>\n",
       "      <th>1948291</th>\n",
       "      <td>20/05/2022</td>\n",
       "      <td>Uva Superior</td>\n",
       "      <td>Caja de 8 kg.</td>\n",
       "      <td>Importación</td>\n",
       "      <td>Jalisco</td>\n",
       "      <td>Mercado de Abasto de Guadalajara</td>\n",
       "      <td>75.0</td>\n",
       "      <td>81.25</td>\n",
       "      <td>75.00</td>\n",
       "      <td>NaN</td>\n",
       "    </tr>\n",
       "    <tr>\n",
       "      <th>751060</th>\n",
       "      <td>16/12/2022</td>\n",
       "      <td>Coliflor Mediana</td>\n",
       "      <td>Pieza</td>\n",
       "      <td>Puebla</td>\n",
       "      <td>Chiapas</td>\n",
       "      <td>Central de Abasto de Tuxtla Gutiérrez</td>\n",
       "      <td>16.0</td>\n",
       "      <td>18.0</td>\n",
       "      <td>16.00</td>\n",
       "      <td>NaN</td>\n",
       "    </tr>\n",
       "    <tr>\n",
       "      <th>1742489</th>\n",
       "      <td>08/03/2021</td>\n",
       "      <td>Sandia Sangria</td>\n",
       "      <td>Kilogramo</td>\n",
       "      <td>Jalisco</td>\n",
       "      <td>Nuevo León</td>\n",
       "      <td>Mercado de Abasto \"Estrella\" de San Nicolás de...</td>\n",
       "      <td>9.0</td>\n",
       "      <td>13.0</td>\n",
       "      <td>10.00</td>\n",
       "      <td>NaN</td>\n",
       "    </tr>\n",
       "    <tr>\n",
       "      <th>48422</th>\n",
       "      <td>01/08/2022</td>\n",
       "      <td>Ajo Morado</td>\n",
       "      <td>Caja de 10 kg.</td>\n",
       "      <td>Zacatecas</td>\n",
       "      <td>Guanajuato</td>\n",
       "      <td>Central de Abasto de León</td>\n",
       "      <td>80.0</td>\n",
       "      <td>81.0</td>\n",
       "      <td>80.00</td>\n",
       "      <td>NaN</td>\n",
       "    </tr>\n",
       "    <tr>\n",
       "      <th>1813083</th>\n",
       "      <td>07/04/2021</td>\n",
       "      <td>Tomate Saladette</td>\n",
       "      <td>Caja de 28 kg.</td>\n",
       "      <td>Campeche</td>\n",
       "      <td>Yucatán</td>\n",
       "      <td>Central de Abasto de Mérida</td>\n",
       "      <td>5.36</td>\n",
       "      <td>5.36</td>\n",
       "      <td>5.36</td>\n",
       "      <td>NaN</td>\n",
       "    </tr>\n",
       "  </tbody>\n",
       "</table>\n",
       "</div>"
      ],
      "text/plain": [
       "              fecha          producto      presentacion            origen  \\\n",
       "1373881  13/07/2022         Nectarina    Caja de 10 kg.       Importación   \n",
       "886863   04/11/2022          Espinaca            Manojo   Baja California   \n",
       "1486717  11/07/2023         Papa Gema    Caja de 24 kg.          Veracruz   \n",
       "1152411  24/02/2021         Mandarina         Kilogramo        Nuevo León   \n",
       "986718   20/03/2020            Jicama  Costal de 30 kg.  Distrito Federal   \n",
       "1948291  20/05/2022      Uva Superior     Caja de 8 kg.       Importación   \n",
       "751060   16/12/2022  Coliflor Mediana             Pieza            Puebla   \n",
       "1742489  08/03/2021    Sandia Sangria         Kilogramo           Jalisco   \n",
       "48422    01/08/2022        Ajo Morado    Caja de 10 kg.         Zacatecas   \n",
       "1813083  07/04/2021  Tomate Saladette    Caja de 28 kg.          Campeche   \n",
       "\n",
       "                  destino                                            central  \\\n",
       "1373881        Nuevo León  Mercado de Abasto \"Estrella\" de San Nicolás de...   \n",
       "886863   Baja California                    Central de Abasto INDIA, Tijuana   \n",
       "1486717          Veracruz                        Central de Abasto de Jalapa   \n",
       "1152411        Nuevo León  Mercado de Abasto \"Estrella\" de San Nicolás de...   \n",
       "986718            Yucatán                        Central de Abasto de Mérida   \n",
       "1948291           Jalisco                   Mercado de Abasto de Guadalajara   \n",
       "751060            Chiapas              Central de Abasto de Tuxtla Gutiérrez   \n",
       "1742489        Nuevo León  Mercado de Abasto \"Estrella\" de San Nicolás de...   \n",
       "48422          Guanajuato                          Central de Abasto de León   \n",
       "1813083           Yucatán                        Central de Abasto de Mérida   \n",
       "\n",
       "        precio_min precio_max  precio_frec  obs  \n",
       "1373881       50.0       60.0        55.00  NaN  \n",
       "886863        15.0       15.0        15.00  NaN  \n",
       "1486717      29.17      29.58        29.58  NaN  \n",
       "1152411       10.0       13.0        10.00  NaN  \n",
       "986718        7.67       7.67         7.67  NaN  \n",
       "1948291       75.0      81.25        75.00  NaN  \n",
       "751060        16.0       18.0        16.00  NaN  \n",
       "1742489        9.0       13.0        10.00  NaN  \n",
       "48422         80.0       81.0        80.00  NaN  \n",
       "1813083       5.36       5.36         5.36  NaN  "
      ]
     },
     "execution_count": 10,
     "metadata": {},
     "output_type": "execute_result"
    }
   ],
   "source": [
    "precios_sniim.sample(10)"
   ]
  },
  {
   "cell_type": "markdown",
   "id": "b1836219",
   "metadata": {},
   "source": [
    "Para una mayor facilidad al momento de comprender nuestra dataframe, generamos un diccionario de datos para esta, explicando lo que representa cada una de las columnas."
   ]
  },
  {
   "cell_type": "code",
   "execution_count": 11,
   "id": "71282d86",
   "metadata": {},
   "outputs": [],
   "source": [
    "precios_dict = {\n",
    "    \"fecha\": \"Fecha en la que se levanto la encuesta\",\n",
    "    \"product\": \"Producto al que hace referencia la entrada/muestra\",\n",
    "    \"presentacion\": \"Presentacion del producto al que se hace referencia\",\n",
    "    \"origen\": \"Entidad Federativa de donde proviene el producto\",\n",
    "    \"destino\": \"Entidad Federativa hacia donde llego el producto\",\n",
    "    \"central\": \"Central de abastos/centro de distribucion de donde se obtuvo la informacion\",\n",
    "    \"precio_min\": \"El valor más bajo de la cotización dentro de una muestra (MXN)\",\n",
    "    \"precio_max\": \"El valor más alto de la cotización dentro de una muestra (MXN)\",\n",
    "    \"precio_frec\": \"Es el dato que más se repite en la muestra (moda) (MXN)\",\n",
    "    \"obs\": \"Observaciones encontradas para la muestra\"\n",
    "}"
   ]
  },
  {
   "cell_type": "code",
   "execution_count": 12,
   "id": "58cda37f",
   "metadata": {
    "scrolled": true
   },
   "outputs": [
    {
     "data": {
      "text/html": [
       "<div>\n",
       "<style scoped>\n",
       "    .dataframe tbody tr th:only-of-type {\n",
       "        vertical-align: middle;\n",
       "    }\n",
       "\n",
       "    .dataframe tbody tr th {\n",
       "        vertical-align: top;\n",
       "    }\n",
       "\n",
       "    .dataframe thead th {\n",
       "        text-align: right;\n",
       "    }\n",
       "</style>\n",
       "<table border=\"1\" class=\"dataframe\">\n",
       "  <thead>\n",
       "    <tr style=\"text-align: right;\">\n",
       "      <th></th>\n",
       "      <th>Descripcion</th>\n",
       "    </tr>\n",
       "    <tr>\n",
       "      <th>Columna</th>\n",
       "      <th></th>\n",
       "    </tr>\n",
       "  </thead>\n",
       "  <tbody>\n",
       "    <tr>\n",
       "      <th>fecha</th>\n",
       "      <td>Fecha en la que se levanto la encuesta</td>\n",
       "    </tr>\n",
       "    <tr>\n",
       "      <th>product</th>\n",
       "      <td>Producto al que hace referencia la entrada/mue...</td>\n",
       "    </tr>\n",
       "    <tr>\n",
       "      <th>presentacion</th>\n",
       "      <td>Presentacion del producto al que se hace refer...</td>\n",
       "    </tr>\n",
       "    <tr>\n",
       "      <th>origen</th>\n",
       "      <td>Entidad Federativa de donde proviene el producto</td>\n",
       "    </tr>\n",
       "    <tr>\n",
       "      <th>destino</th>\n",
       "      <td>Entidad Federativa hacia donde llego el producto</td>\n",
       "    </tr>\n",
       "    <tr>\n",
       "      <th>central</th>\n",
       "      <td>Central de abastos/centro de distribucion de d...</td>\n",
       "    </tr>\n",
       "    <tr>\n",
       "      <th>precio_min</th>\n",
       "      <td>El valor más bajo de la cotización dentro de u...</td>\n",
       "    </tr>\n",
       "    <tr>\n",
       "      <th>precio_max</th>\n",
       "      <td>El valor más alto de la cotización dentro de u...</td>\n",
       "    </tr>\n",
       "    <tr>\n",
       "      <th>precio_frec</th>\n",
       "      <td>Es el dato que más se repite en la muestra (mo...</td>\n",
       "    </tr>\n",
       "    <tr>\n",
       "      <th>obs</th>\n",
       "      <td>Observaciones encontradas para la muestra</td>\n",
       "    </tr>\n",
       "  </tbody>\n",
       "</table>\n",
       "</div>"
      ],
      "text/plain": [
       "                                                    Descripcion\n",
       "Columna                                                        \n",
       "fecha                    Fecha en la que se levanto la encuesta\n",
       "product       Producto al que hace referencia la entrada/mue...\n",
       "presentacion  Presentacion del producto al que se hace refer...\n",
       "origen         Entidad Federativa de donde proviene el producto\n",
       "destino        Entidad Federativa hacia donde llego el producto\n",
       "central       Central de abastos/centro de distribucion de d...\n",
       "precio_min    El valor más bajo de la cotización dentro de u...\n",
       "precio_max    El valor más alto de la cotización dentro de u...\n",
       "precio_frec   Es el dato que más se repite en la muestra (mo...\n",
       "obs                   Observaciones encontradas para la muestra"
      ]
     },
     "execution_count": 12,
     "metadata": {},
     "output_type": "execute_result"
    }
   ],
   "source": [
    "dict_df = pd.DataFrame.from_dict(precios_dict,orient=\"index\")\n",
    "dict_df.columns = [\"Descripcion\"]\n",
    "dict_df.rename_axis(\"Columna\", inplace=True)\n",
    "dict_df"
   ]
  },
  {
   "cell_type": "code",
   "execution_count": 13,
   "id": "a18f2f09",
   "metadata": {},
   "outputs": [],
   "source": [
    "dict_dir = os.path.join(\"..\",\"..\",\"diccionarios\") \n",
    "if not os.path.exists(dict_dir):\n",
    "    os.mkdir(dict_dir)\n",
    "    \n",
    "dict_df.to_csv(os.path.join(dict_dir,\"diccionario_sniim.csv\"),encoding=\"iso-8859-1\")"
   ]
  },
  {
   "cell_type": "markdown",
   "id": "740ce92f",
   "metadata": {},
   "source": [
    "## Limpieza de los datos\n",
    "\n",
    "Una vez generado nuestro diccionario, podemos comenzar a tratar los datos de nuestro dataframe. Algo que podemos observar del sample de nuestro dataframe es que la columna `obs` parece ser la unica que cuenta con valores nulos. Podemos tener una idea de la proporcion de datos faltantes en esta columna ejecutando la siguiente celda, la cual calcula el porcentaje de entradas faltantes en la misma."
   ]
  },
  {
   "cell_type": "code",
   "execution_count": 14,
   "id": "7bf96d19",
   "metadata": {},
   "outputs": [
    {
     "name": "stdout",
     "output_type": "stream",
     "text": [
      "Porcentaje de entradas faltantes en columna 'obs': 96.03%\n"
     ]
    }
   ],
   "source": [
    "print(f\"Porcentaje de entradas faltantes en columna 'obs': {100* precios_sniim['obs'].isna().sum() / precios_sniim.shape[0]:.2f}%\")"
   ]
  },
  {
   "cell_type": "markdown",
   "id": "8fc7fee7",
   "metadata": {},
   "source": [
    "Vemos que la mayoria de las entradas en nuestra dataframe (> 90%) no cuenta con informacion en la columna `obs`, por lo que puede ser mas conveniente deshacernos de esta columna."
   ]
  },
  {
   "cell_type": "code",
   "execution_count": 15,
   "id": "8f819748",
   "metadata": {},
   "outputs": [],
   "source": [
    "precios_sniim.drop(columns=\"obs\", inplace=True)"
   ]
  },
  {
   "cell_type": "code",
   "execution_count": 16,
   "id": "913dd27c",
   "metadata": {
    "scrolled": true
   },
   "outputs": [
    {
     "data": {
      "text/html": [
       "<div>\n",
       "<style scoped>\n",
       "    .dataframe tbody tr th:only-of-type {\n",
       "        vertical-align: middle;\n",
       "    }\n",
       "\n",
       "    .dataframe tbody tr th {\n",
       "        vertical-align: top;\n",
       "    }\n",
       "\n",
       "    .dataframe thead th {\n",
       "        text-align: right;\n",
       "    }\n",
       "</style>\n",
       "<table border=\"1\" class=\"dataframe\">\n",
       "  <thead>\n",
       "    <tr style=\"text-align: right;\">\n",
       "      <th></th>\n",
       "      <th>fecha</th>\n",
       "      <th>producto</th>\n",
       "      <th>presentacion</th>\n",
       "      <th>origen</th>\n",
       "      <th>destino</th>\n",
       "      <th>central</th>\n",
       "      <th>precio_min</th>\n",
       "      <th>precio_max</th>\n",
       "      <th>precio_frec</th>\n",
       "    </tr>\n",
       "  </thead>\n",
       "  <tbody>\n",
       "    <tr>\n",
       "      <th>1271520</th>\n",
       "      <td>27/09/2022</td>\n",
       "      <td>Manzana Red Delicious</td>\n",
       "      <td>Caja de 20 kg.</td>\n",
       "      <td>Chihuahua</td>\n",
       "      <td>Veracruz</td>\n",
       "      <td>Central de Abasto de Jalapa</td>\n",
       "      <td>32.0</td>\n",
       "      <td>32.5</td>\n",
       "      <td>32.0</td>\n",
       "    </tr>\n",
       "    <tr>\n",
       "      <th>693112</th>\n",
       "      <td>13/06/2023</td>\n",
       "      <td>Cilantro</td>\n",
       "      <td>Caja de 5 kg.</td>\n",
       "      <td>Puebla</td>\n",
       "      <td>Nuevo León</td>\n",
       "      <td>Mercado de Abasto \"Estrella\" de San Nicolás de...</td>\n",
       "      <td>50.0</td>\n",
       "      <td>60.0</td>\n",
       "      <td>56.0</td>\n",
       "    </tr>\n",
       "    <tr>\n",
       "      <th>758395</th>\n",
       "      <td>17/09/2021</td>\n",
       "      <td>Coliflor Sin Clasificacion</td>\n",
       "      <td>Pieza</td>\n",
       "      <td>Distrito Federal</td>\n",
       "      <td>Yucatán</td>\n",
       "      <td>Central de Abasto de Mérida</td>\n",
       "      <td>30.0</td>\n",
       "      <td>32.0</td>\n",
       "      <td>32.0</td>\n",
       "    </tr>\n",
       "    <tr>\n",
       "      <th>1975034</th>\n",
       "      <td>07/02/2023</td>\n",
       "      <td>Zanahoria Leña</td>\n",
       "      <td>Arpilla de 20 kg.</td>\n",
       "      <td>Zacatecas</td>\n",
       "      <td>Nuevo León</td>\n",
       "      <td>Mercado de Abasto \"Estrella\" de San Nicolás de...</td>\n",
       "      <td>7.5</td>\n",
       "      <td>10.0</td>\n",
       "      <td>9.0</td>\n",
       "    </tr>\n",
       "    <tr>\n",
       "      <th>110444</th>\n",
       "      <td>02/10/2023</td>\n",
       "      <td>Betabel</td>\n",
       "      <td>Kilogramo</td>\n",
       "      <td>Hidalgo</td>\n",
       "      <td>Hidalgo</td>\n",
       "      <td>Central de Abasto de Pachuca</td>\n",
       "      <td>60.0</td>\n",
       "      <td>65.0</td>\n",
       "      <td>65.0</td>\n",
       "    </tr>\n",
       "    <tr>\n",
       "      <th>891423</th>\n",
       "      <td>11/11/2022</td>\n",
       "      <td>Espinaca</td>\n",
       "      <td>Manojo</td>\n",
       "      <td>Hidalgo</td>\n",
       "      <td>Querétaro</td>\n",
       "      <td>Mercado de Abasto de Querétaro</td>\n",
       "      <td>55.0</td>\n",
       "      <td>60.0</td>\n",
       "      <td>60.0</td>\n",
       "    </tr>\n",
       "    <tr>\n",
       "      <th>1607828</th>\n",
       "      <td>21/06/2023</td>\n",
       "      <td>Piña Mediana</td>\n",
       "      <td>Pieza</td>\n",
       "      <td>Veracruz</td>\n",
       "      <td>Chiapas</td>\n",
       "      <td>Central de Abasto de Tuxtla Gutiérrez</td>\n",
       "      <td>30.0</td>\n",
       "      <td>35.0</td>\n",
       "      <td>30.0</td>\n",
       "    </tr>\n",
       "    <tr>\n",
       "      <th>619209</th>\n",
       "      <td>27/01/2023</td>\n",
       "      <td>Chile Poblano</td>\n",
       "      <td>Kilogramo</td>\n",
       "      <td>Distrito Federal</td>\n",
       "      <td>Campeche</td>\n",
       "      <td>Mercado \"Pedro Sáinz de Baranda\", Campeche</td>\n",
       "      <td>40.0</td>\n",
       "      <td>45.0</td>\n",
       "      <td>45.0</td>\n",
       "    </tr>\n",
       "    <tr>\n",
       "      <th>904150</th>\n",
       "      <td>09/01/2020</td>\n",
       "      <td>Fresa</td>\n",
       "      <td>Caja de 5 kg.</td>\n",
       "      <td>Nuevo León</td>\n",
       "      <td>Tamaulipas</td>\n",
       "      <td>Módulo de Abasto de Reynosa</td>\n",
       "      <td>60.0</td>\n",
       "      <td>62.0</td>\n",
       "      <td>60.0</td>\n",
       "    </tr>\n",
       "    <tr>\n",
       "      <th>1745462</th>\n",
       "      <td>07/12/2022</td>\n",
       "      <td>Sandia Sangria</td>\n",
       "      <td>Kilogramo</td>\n",
       "      <td>Coahuila</td>\n",
       "      <td>Coahuila</td>\n",
       "      <td>Central de Abasto de La Laguna, Torreón</td>\n",
       "      <td>10.5</td>\n",
       "      <td>11.0</td>\n",
       "      <td>11.0</td>\n",
       "    </tr>\n",
       "  </tbody>\n",
       "</table>\n",
       "</div>"
      ],
      "text/plain": [
       "              fecha                    producto       presentacion  \\\n",
       "1271520  27/09/2022       Manzana Red Delicious     Caja de 20 kg.   \n",
       "693112   13/06/2023                    Cilantro      Caja de 5 kg.   \n",
       "758395   17/09/2021  Coliflor Sin Clasificacion              Pieza   \n",
       "1975034  07/02/2023              Zanahoria Leña  Arpilla de 20 kg.   \n",
       "110444   02/10/2023                     Betabel          Kilogramo   \n",
       "891423   11/11/2022                    Espinaca             Manojo   \n",
       "1607828  21/06/2023                Piña Mediana              Pieza   \n",
       "619209   27/01/2023               Chile Poblano          Kilogramo   \n",
       "904150   09/01/2020                       Fresa      Caja de 5 kg.   \n",
       "1745462  07/12/2022              Sandia Sangria          Kilogramo   \n",
       "\n",
       "                   origen     destino  \\\n",
       "1271520         Chihuahua    Veracruz   \n",
       "693112             Puebla  Nuevo León   \n",
       "758395   Distrito Federal     Yucatán   \n",
       "1975034         Zacatecas  Nuevo León   \n",
       "110444            Hidalgo     Hidalgo   \n",
       "891423            Hidalgo   Querétaro   \n",
       "1607828          Veracruz     Chiapas   \n",
       "619209   Distrito Federal    Campeche   \n",
       "904150         Nuevo León  Tamaulipas   \n",
       "1745462          Coahuila    Coahuila   \n",
       "\n",
       "                                                   central precio_min  \\\n",
       "1271520                        Central de Abasto de Jalapa       32.0   \n",
       "693112   Mercado de Abasto \"Estrella\" de San Nicolás de...       50.0   \n",
       "758395                         Central de Abasto de Mérida       30.0   \n",
       "1975034  Mercado de Abasto \"Estrella\" de San Nicolás de...        7.5   \n",
       "110444                        Central de Abasto de Pachuca       60.0   \n",
       "891423                      Mercado de Abasto de Querétaro       55.0   \n",
       "1607828              Central de Abasto de Tuxtla Gutiérrez       30.0   \n",
       "619209          Mercado \"Pedro Sáinz de Baranda\", Campeche       40.0   \n",
       "904150                         Módulo de Abasto de Reynosa       60.0   \n",
       "1745462            Central de Abasto de La Laguna, Torreón       10.5   \n",
       "\n",
       "        precio_max  precio_frec  \n",
       "1271520       32.5         32.0  \n",
       "693112        60.0         56.0  \n",
       "758395        32.0         32.0  \n",
       "1975034       10.0          9.0  \n",
       "110444        65.0         65.0  \n",
       "891423        60.0         60.0  \n",
       "1607828       35.0         30.0  \n",
       "619209        45.0         45.0  \n",
       "904150        62.0         60.0  \n",
       "1745462       11.0         11.0  "
      ]
     },
     "execution_count": 16,
     "metadata": {},
     "output_type": "execute_result"
    }
   ],
   "source": [
    "precios_sniim.sample(10)"
   ]
  },
  {
   "cell_type": "markdown",
   "id": "3629f17b",
   "metadata": {},
   "source": [
    "Posteriormente, podemos utilizar el metodo `info` de nuestra dataframe para obtener informacion acerca de los tipos de datos de las columnas o la posible presencia de mas datos faltantes."
   ]
  },
  {
   "cell_type": "code",
   "execution_count": 17,
   "id": "ed24e11f",
   "metadata": {},
   "outputs": [
    {
     "name": "stdout",
     "output_type": "stream",
     "text": [
      "<class 'pandas.core.frame.DataFrame'>\n",
      "RangeIndex: 2019574 entries, 0 to 2019573\n",
      "Data columns (total 9 columns):\n",
      " #   Column        Dtype  \n",
      "---  ------        -----  \n",
      " 0   fecha         object \n",
      " 1   producto      object \n",
      " 2   presentacion  object \n",
      " 3   origen        object \n",
      " 4   destino       object \n",
      " 5   central       object \n",
      " 6   precio_min    object \n",
      " 7   precio_max    object \n",
      " 8   precio_frec   float64\n",
      "dtypes: float64(1), object(8)\n",
      "memory usage: 138.7+ MB\n"
     ]
    }
   ],
   "source": [
    "precios_sniim.info()"
   ]
  },
  {
   "cell_type": "markdown",
   "id": "ef36da07",
   "metadata": {},
   "source": [
    "Lo primero que notamos es que la columna `fecha` tiene un tipo de dato `object`, lo cual puede significar que esta almacenada como un string. Al tratarse de datos temporales, podemos convertir esta columna a un objeto de tipo `datetime` para una mayor facilidad al momento de manipular o explorar los datos."
   ]
  },
  {
   "cell_type": "code",
   "execution_count": 21,
   "id": "84d9a632",
   "metadata": {},
   "outputs": [],
   "source": [
    "precios_sniim[\"fecha\"] = pd.to_datetime(precios_sniim[\"fecha\"], format=\"%d/%m/%Y\")"
   ]
  },
  {
   "cell_type": "markdown",
   "id": "b760460e",
   "metadata": {},
   "source": [
    "Despues podemos analizar los valores en la columna `origen` para verificar que no haya valores inesperados. Los posibles valores en esta columna son los nombres de los 32 estados de Mexico, o bien \"Importacion\" si el producto fue importado del extranjero, o \"Nacional\" si no hay datos sobre su estado de origen."
   ]
  },
  {
   "cell_type": "code",
   "execution_count": 22,
   "id": "6268628b",
   "metadata": {},
   "outputs": [
    {
     "data": {
      "text/plain": [
       "array(['Puebla', 'Baja California', 'San Luis Potosí', 'Chiapas',\n",
       "       'Durango', 'Guanajuato', 'Aguascalientes', 'Michoacán', 'Nayarit',\n",
       "       'Nuevo León', 'Oaxaca', 'Jalisco', 'Distrito Federal',\n",
       "       'Quintana Roo', 'Hidalgo', 'México', 'Yucatán', 'Tamaulipas',\n",
       "       'Veracruz', 'Zacatecas', 'Importación', 'Sonora', 'Guerrero',\n",
       "       'Sinaloa', 'Morelos', 'Nacional', 'Sin Especificar', 'Chihuahua',\n",
       "       'Campeche', 'Coahuila', 'Tabasco', 'Baja California Sur',\n",
       "       'Querétaro', 'Colima'], dtype=object)"
      ]
     },
     "execution_count": 22,
     "metadata": {},
     "output_type": "execute_result"
    }
   ],
   "source": [
    "precios_sniim[\"origen\"].unique()"
   ]
  },
  {
   "cell_type": "markdown",
   "id": "d8d18386",
   "metadata": {},
   "source": [
    "Vemos que no existen anomalias aparentes en esta columna, asi que podemos proceder a revisar los valores de la columna `destino`, la cual deberia tener valores similares a la columna anterior."
   ]
  },
  {
   "cell_type": "code",
   "execution_count": 23,
   "id": "d8dd5bf4",
   "metadata": {
    "scrolled": true
   },
   "outputs": [
    {
     "data": {
      "text/plain": [
       "array(['Baja California ', 'Coahuila', 'Chiapas', 'DF', 'Durango',\n",
       "       'Guanajuato', 'Michoacán', 'Morelos', 'Nayarit', 'Nuevo León',\n",
       "       'Oaxaca', 'Quintana Roo', 'San Luis Potosí', 'Sonora', 'Tabasco',\n",
       "       'Tamaulipas', 'Veracruz', 'Sinaloa', 'Chihuahua', 'Guerrero',\n",
       "       'Campeche', 'Yucatán', 'Aguascalientes', 'Baja California Sur',\n",
       "       'Colima', 'Jalisco', 'Hidalgo', 'México', 'Puebla', 'Querétaro',\n",
       "       'Zacatecas'], dtype=object)"
      ]
     },
     "execution_count": 23,
     "metadata": {},
     "output_type": "execute_result"
    }
   ],
   "source": [
    "precios_sniim[\"destino\"].unique()"
   ]
  },
  {
   "cell_type": "markdown",
   "id": "b2b18d67",
   "metadata": {},
   "source": [
    "Vemos que tampoco hay anomalias en esta columna. Sin embargo, algunos valores contienen espacios al final del valor (por ejemplo, `Baja California `). Esto se puede corregir facilmente utilizando la funcion `strip` que nos ofrece pandas:"
   ]
  },
  {
   "cell_type": "code",
   "execution_count": 24,
   "id": "2c7203f8",
   "metadata": {},
   "outputs": [
    {
     "data": {
      "text/plain": [
       "array(['Baja California', 'Coahuila', 'Chiapas', 'DF', 'Durango',\n",
       "       'Guanajuato', 'Michoacán', 'Morelos', 'Nayarit', 'Nuevo León',\n",
       "       'Oaxaca', 'Quintana Roo', 'San Luis Potosí', 'Sonora', 'Tabasco',\n",
       "       'Tamaulipas', 'Veracruz', 'Sinaloa', 'Chihuahua', 'Guerrero',\n",
       "       'Campeche', 'Yucatán', 'Aguascalientes', 'Baja California Sur',\n",
       "       'Colima', 'Jalisco', 'Hidalgo', 'México', 'Puebla', 'Querétaro',\n",
       "       'Zacatecas'], dtype=object)"
      ]
     },
     "execution_count": 24,
     "metadata": {},
     "output_type": "execute_result"
    }
   ],
   "source": [
    "precios_sniim[\"destino\"] = precios_sniim[\"destino\"].str.strip()\n",
    "precios_sniim[\"destino\"].unique()"
   ]
  },
  {
   "cell_type": "markdown",
   "id": "4e2eec82",
   "metadata": {},
   "source": [
    "Finalmente, la columna `precio_max` aparece como de tipo `object`, por lo que posiblemente hay valores que impidieron que fuera parseada a `float`.\n",
    "\n",
    "Despues de una inspeccion de esta columna, vemos que para algunos precios, se utiliza la coma (,) para separar los millares. Podemos eliminar esta coma de nuestro dataframe con el metodo `replace`, para despues transformarla a tipo `float` con el metodo `astype(float)`."
   ]
  },
  {
   "cell_type": "code",
   "execution_count": 25,
   "id": "b530b9d2",
   "metadata": {},
   "outputs": [],
   "source": [
    "precios_sniim[\"precio_max\"] = precios_sniim[\"precio_max\"].astype(str).str.replace(\",\",\"\")\n",
    "precios_sniim[\"precio_max\"] = precios_sniim[\"precio_max\"].astype(float)"
   ]
  },
  {
   "cell_type": "code",
   "execution_count": 26,
   "id": "9afe376e",
   "metadata": {},
   "outputs": [],
   "source": [
    "precios_sniim[\"precio_min\"] = precios_sniim[\"precio_min\"].astype(str).str.replace(\",\",\"\")\n",
    "precios_sniim[\"precio_min\"] = precios_sniim[\"precio_min\"].astype(float)"
   ]
  },
  {
   "cell_type": "markdown",
   "id": "a264930b",
   "metadata": {},
   "source": [
    "Finalmente, podemos volver a obtener una muestra de nuestro dataframe para ver su estructura final, asi como volver a llamar al metodo `info` para verificar los tipos de datos de cada columna y que no haya valores faltantes."
   ]
  },
  {
   "cell_type": "code",
   "execution_count": 27,
   "id": "1063d442",
   "metadata": {},
   "outputs": [
    {
     "data": {
      "text/html": [
       "<div>\n",
       "<style scoped>\n",
       "    .dataframe tbody tr th:only-of-type {\n",
       "        vertical-align: middle;\n",
       "    }\n",
       "\n",
       "    .dataframe tbody tr th {\n",
       "        vertical-align: top;\n",
       "    }\n",
       "\n",
       "    .dataframe thead th {\n",
       "        text-align: right;\n",
       "    }\n",
       "</style>\n",
       "<table border=\"1\" class=\"dataframe\">\n",
       "  <thead>\n",
       "    <tr style=\"text-align: right;\">\n",
       "      <th></th>\n",
       "      <th>fecha</th>\n",
       "      <th>producto</th>\n",
       "      <th>presentacion</th>\n",
       "      <th>origen</th>\n",
       "      <th>destino</th>\n",
       "      <th>central</th>\n",
       "      <th>precio_min</th>\n",
       "      <th>precio_max</th>\n",
       "      <th>precio_frec</th>\n",
       "    </tr>\n",
       "  </thead>\n",
       "  <tbody>\n",
       "    <tr>\n",
       "      <th>1993753</th>\n",
       "      <td>2022-11-16</td>\n",
       "      <td>Zanahoria Mediana</td>\n",
       "      <td>Arpilla de 25 kg.</td>\n",
       "      <td>Puebla</td>\n",
       "      <td>DF</td>\n",
       "      <td>Central de Abasto de Iztapalapa DF</td>\n",
       "      <td>3.6</td>\n",
       "      <td>4.40</td>\n",
       "      <td>4.00</td>\n",
       "    </tr>\n",
       "    <tr>\n",
       "      <th>1635528</th>\n",
       "      <td>2021-04-23</td>\n",
       "      <td>Platano Dominico</td>\n",
       "      <td>Kilogramo</td>\n",
       "      <td>Veracruz</td>\n",
       "      <td>Jalisco</td>\n",
       "      <td>Mercado de Abasto de Guadalajara</td>\n",
       "      <td>14.5</td>\n",
       "      <td>15.00</td>\n",
       "      <td>14.50</td>\n",
       "    </tr>\n",
       "    <tr>\n",
       "      <th>1068953</th>\n",
       "      <td>2023-01-04</td>\n",
       "      <td>Lechuga Romanita Mediana</td>\n",
       "      <td>Docena</td>\n",
       "      <td>Puebla</td>\n",
       "      <td>Morelos</td>\n",
       "      <td>Central de Abasto de Cuautla</td>\n",
       "      <td>12.5</td>\n",
       "      <td>14.17</td>\n",
       "      <td>13.33</td>\n",
       "    </tr>\n",
       "    <tr>\n",
       "      <th>1724631</th>\n",
       "      <td>2022-03-22</td>\n",
       "      <td>Sandia Negra</td>\n",
       "      <td>Kilogramo</td>\n",
       "      <td>Coahuila</td>\n",
       "      <td>Chihuahua</td>\n",
       "      <td>Central de Abasto de Chihuahua</td>\n",
       "      <td>7.0</td>\n",
       "      <td>11.00</td>\n",
       "      <td>10.00</td>\n",
       "    </tr>\n",
       "    <tr>\n",
       "      <th>1000179</th>\n",
       "      <td>2022-05-23</td>\n",
       "      <td>Jicama</td>\n",
       "      <td>Kilogramo</td>\n",
       "      <td>Nayarit</td>\n",
       "      <td>Nayarit</td>\n",
       "      <td>Nayarabastos de Tepic</td>\n",
       "      <td>15.0</td>\n",
       "      <td>17.00</td>\n",
       "      <td>16.00</td>\n",
       "    </tr>\n",
       "    <tr>\n",
       "      <th>908490</th>\n",
       "      <td>2021-10-13</td>\n",
       "      <td>Fresa</td>\n",
       "      <td>Caja de 5 kg.</td>\n",
       "      <td>Importación</td>\n",
       "      <td>Nuevo León</td>\n",
       "      <td>Mercado de Abasto \"Estrella\" de San Nicolás de...</td>\n",
       "      <td>60.0</td>\n",
       "      <td>66.00</td>\n",
       "      <td>66.00</td>\n",
       "    </tr>\n",
       "    <tr>\n",
       "      <th>592472</th>\n",
       "      <td>2023-08-24</td>\n",
       "      <td>Chile Pimiento Morron</td>\n",
       "      <td>Kilogramo</td>\n",
       "      <td>Veracruz</td>\n",
       "      <td>Veracruz</td>\n",
       "      <td>Central de Abasto de Minatitlán</td>\n",
       "      <td>52.0</td>\n",
       "      <td>57.00</td>\n",
       "      <td>52.00</td>\n",
       "    </tr>\n",
       "    <tr>\n",
       "      <th>411847</th>\n",
       "      <td>2022-04-18</td>\n",
       "      <td>Chile Cat</td>\n",
       "      <td>Caja de 10 kg.</td>\n",
       "      <td>Yucatán</td>\n",
       "      <td>Yucatán</td>\n",
       "      <td>Mercado \"Casa del Pueblo\"</td>\n",
       "      <td>50.0</td>\n",
       "      <td>50.00</td>\n",
       "      <td>50.00</td>\n",
       "    </tr>\n",
       "    <tr>\n",
       "      <th>669061</th>\n",
       "      <td>2020-11-25</td>\n",
       "      <td>Cilantro</td>\n",
       "      <td>Caja de 5 kg.</td>\n",
       "      <td>Nuevo León</td>\n",
       "      <td>Nuevo León</td>\n",
       "      <td>Mercado de Abasto \"Estrella\" de San Nicolás de...</td>\n",
       "      <td>22.0</td>\n",
       "      <td>24.00</td>\n",
       "      <td>24.00</td>\n",
       "    </tr>\n",
       "    <tr>\n",
       "      <th>1948289</th>\n",
       "      <td>2022-05-18</td>\n",
       "      <td>Uva Superior</td>\n",
       "      <td>Caja de 8 kg.</td>\n",
       "      <td>Importación</td>\n",
       "      <td>Jalisco</td>\n",
       "      <td>Mercado de Abasto de Guadalajara</td>\n",
       "      <td>75.0</td>\n",
       "      <td>81.25</td>\n",
       "      <td>75.00</td>\n",
       "    </tr>\n",
       "  </tbody>\n",
       "</table>\n",
       "</div>"
      ],
      "text/plain": [
       "             fecha                  producto       presentacion       origen  \\\n",
       "1993753 2022-11-16         Zanahoria Mediana  Arpilla de 25 kg.       Puebla   \n",
       "1635528 2021-04-23          Platano Dominico          Kilogramo     Veracruz   \n",
       "1068953 2023-01-04  Lechuga Romanita Mediana             Docena       Puebla   \n",
       "1724631 2022-03-22              Sandia Negra          Kilogramo     Coahuila   \n",
       "1000179 2022-05-23                    Jicama          Kilogramo      Nayarit   \n",
       "908490  2021-10-13                     Fresa      Caja de 5 kg.  Importación   \n",
       "592472  2023-08-24     Chile Pimiento Morron          Kilogramo     Veracruz   \n",
       "411847  2022-04-18                 Chile Cat     Caja de 10 kg.      Yucatán   \n",
       "669061  2020-11-25                  Cilantro      Caja de 5 kg.   Nuevo León   \n",
       "1948289 2022-05-18              Uva Superior      Caja de 8 kg.  Importación   \n",
       "\n",
       "            destino                                            central  \\\n",
       "1993753          DF                 Central de Abasto de Iztapalapa DF   \n",
       "1635528     Jalisco                   Mercado de Abasto de Guadalajara   \n",
       "1068953     Morelos                       Central de Abasto de Cuautla   \n",
       "1724631   Chihuahua                     Central de Abasto de Chihuahua   \n",
       "1000179     Nayarit                              Nayarabastos de Tepic   \n",
       "908490   Nuevo León  Mercado de Abasto \"Estrella\" de San Nicolás de...   \n",
       "592472     Veracruz                    Central de Abasto de Minatitlán   \n",
       "411847      Yucatán                          Mercado \"Casa del Pueblo\"   \n",
       "669061   Nuevo León  Mercado de Abasto \"Estrella\" de San Nicolás de...   \n",
       "1948289     Jalisco                   Mercado de Abasto de Guadalajara   \n",
       "\n",
       "         precio_min  precio_max  precio_frec  \n",
       "1993753         3.6        4.40         4.00  \n",
       "1635528        14.5       15.00        14.50  \n",
       "1068953        12.5       14.17        13.33  \n",
       "1724631         7.0       11.00        10.00  \n",
       "1000179        15.0       17.00        16.00  \n",
       "908490         60.0       66.00        66.00  \n",
       "592472         52.0       57.00        52.00  \n",
       "411847         50.0       50.00        50.00  \n",
       "669061         22.0       24.00        24.00  \n",
       "1948289        75.0       81.25        75.00  "
      ]
     },
     "execution_count": 27,
     "metadata": {},
     "output_type": "execute_result"
    }
   ],
   "source": [
    "precios_sniim.sample(10)"
   ]
  },
  {
   "cell_type": "code",
   "execution_count": 28,
   "id": "917a739a",
   "metadata": {
    "scrolled": true
   },
   "outputs": [
    {
     "name": "stdout",
     "output_type": "stream",
     "text": [
      "<class 'pandas.core.frame.DataFrame'>\n",
      "RangeIndex: 2019574 entries, 0 to 2019573\n",
      "Data columns (total 9 columns):\n",
      " #   Column        Dtype         \n",
      "---  ------        -----         \n",
      " 0   fecha         datetime64[ns]\n",
      " 1   producto      object        \n",
      " 2   presentacion  object        \n",
      " 3   origen        object        \n",
      " 4   destino       object        \n",
      " 5   central       object        \n",
      " 6   precio_min    float64       \n",
      " 7   precio_max    float64       \n",
      " 8   precio_frec   float64       \n",
      "dtypes: datetime64[ns](1), float64(3), object(5)\n",
      "memory usage: 138.7+ MB\n"
     ]
    }
   ],
   "source": [
    "precios_sniim.info()"
   ]
  },
  {
   "cell_type": "markdown",
   "id": "b0dbd1c0",
   "metadata": {},
   "source": [
    "Finalmente, almacenamos nuestro dataframe tidy en un archivo `.parquet`."
   ]
  },
  {
   "cell_type": "code",
   "execution_count": 29,
   "id": "00d0f074",
   "metadata": {},
   "outputs": [
    {
     "ename": "",
     "evalue": "",
     "output_type": "error",
     "traceback": [
      "\u001b[1;31mThe Kernel crashed while executing code in the the current cell or a previous cell. Please review the code in the cell(s) to identify a possible cause of the failure. Click <a href='https://aka.ms/vscodeJupyterKernelCrash'>here</a> for more info. View Jupyter <a href='command:jupyter.viewOutput'>log</a> for further details."
     ]
    }
   ],
   "source": [
    "clean_data_dir = os.path.join(\"..\",\"..\",\"data\",\"clean_data\")\n",
    "\n",
    "if not os.path.exists(clean_data_dir):\n",
    "    os.mkdir(clean_data_dir)\n",
    "    \n",
    "precios_sniim.to_parquet(os.path.join(clean_data_dir,\"precios_sniim.parquet\"))"
   ]
  }
 ],
 "metadata": {
  "kernelspec": {
   "display_name": "Python 3 (ipykernel)",
   "language": "python",
   "name": "python3"
  },
  "language_info": {
   "codemirror_mode": {
    "name": "ipython",
    "version": 3
   },
   "file_extension": ".py",
   "mimetype": "text/x-python",
   "name": "python",
   "nbconvert_exporter": "python",
   "pygments_lexer": "ipython3",
   "version": "3.8.17"
  }
 },
 "nbformat": 4,
 "nbformat_minor": 5
}
