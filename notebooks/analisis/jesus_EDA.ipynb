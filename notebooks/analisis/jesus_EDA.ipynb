{
 "cells": [
  {
   "cell_type": "code",
   "execution_count": 1,
   "id": "71598345",
   "metadata": {},
   "outputs": [],
   "source": [
    "import pandas as pd\n",
    "import numpy as np\n",
    "import seaborn as sns\n",
    "import matplotlib.pyplot as plt\n",
    "import os\n",
    "import ipywidgets as widgets"
   ]
  },
  {
   "cell_type": "markdown",
   "id": "f9cee3ce",
   "metadata": {},
   "source": [
    "# Importando nuestros datos"
   ]
  },
  {
   "cell_type": "markdown",
   "id": "0678753a",
   "metadata": {},
   "source": [
    "Comenzamos obteniendo los archivos que contienen nuestros datasets, definiendo un path para cada uno para despues importarlos como dataframes"
   ]
  },
  {
   "cell_type": "code",
   "execution_count": 2,
   "id": "901e0bc2",
   "metadata": {},
   "outputs": [],
   "source": [
    "data_path_sniim = os.path.join(\"..\",\"..\",\"data\",\"clean_data\",\"precios_sniim.parquet\")\n",
    "data_path_siap = os.path.join(\"..\",\"..\",\"data\",\"clean_data\",\"siap.parquet.zip\")\n",
    "data_path_siap_wide = os.path.join(\"..\",\"..\",\"data\",\"clean_data\",\"siap_wide.parquet.zip\")"
   ]
  },
  {
   "cell_type": "code",
   "execution_count": 3,
   "id": "0a3323ee",
   "metadata": {},
   "outputs": [],
   "source": [
    "df_precios_sniim = pd.read_parquet(data_path_sniim)\n",
    "df_cultivos_siap = pd.read_parquet(data_path_siap)\n",
    "df_cultivos_siap_wide = pd.read_parquet(data_path_siap_wide)"
   ]
  },
  {
   "cell_type": "markdown",
   "id": "194adb3c",
   "metadata": {},
   "source": [
    "Después, podemos obtener algunas muestras de nuestras dataframes para verificar su estructura, las cuales están especificadas en nuestros diccionario de datos."
   ]
  },
  {
   "cell_type": "code",
   "execution_count": 4,
   "id": "4f0494ca",
   "metadata": {
    "scrolled": false
   },
   "outputs": [
    {
     "data": {
      "text/html": [
       "<div>\n",
       "<style scoped>\n",
       "    .dataframe tbody tr th:only-of-type {\n",
       "        vertical-align: middle;\n",
       "    }\n",
       "\n",
       "    .dataframe tbody tr th {\n",
       "        vertical-align: top;\n",
       "    }\n",
       "\n",
       "    .dataframe thead th {\n",
       "        text-align: right;\n",
       "    }\n",
       "</style>\n",
       "<table border=\"1\" class=\"dataframe\">\n",
       "  <thead>\n",
       "    <tr style=\"text-align: right;\">\n",
       "      <th></th>\n",
       "      <th>fecha</th>\n",
       "      <th>producto</th>\n",
       "      <th>presentacion</th>\n",
       "      <th>origen</th>\n",
       "      <th>destino</th>\n",
       "      <th>central</th>\n",
       "      <th>precio_min</th>\n",
       "      <th>precio_max</th>\n",
       "      <th>precio_frec</th>\n",
       "    </tr>\n",
       "  </thead>\n",
       "  <tbody>\n",
       "    <tr>\n",
       "      <th>541517</th>\n",
       "      <td>2022-07-05</td>\n",
       "      <td>Fresa</td>\n",
       "      <td>Caja de 4 kg.</td>\n",
       "      <td>Importación</td>\n",
       "      <td>Nuevo León</td>\n",
       "      <td>Mercado de Abasto \"Estrella\" de San Nicolás de...</td>\n",
       "      <td>62.50</td>\n",
       "      <td>67.50</td>\n",
       "      <td>67.50</td>\n",
       "    </tr>\n",
       "    <tr>\n",
       "      <th>12914</th>\n",
       "      <td>2022-09-02</td>\n",
       "      <td>Col Grande</td>\n",
       "      <td>Costal de 60 kg.</td>\n",
       "      <td>Puebla</td>\n",
       "      <td>Tabasco</td>\n",
       "      <td>Central de Abasto de Villahermosa</td>\n",
       "      <td>4.83</td>\n",
       "      <td>5.17</td>\n",
       "      <td>5.00</td>\n",
       "    </tr>\n",
       "    <tr>\n",
       "      <th>1432312</th>\n",
       "      <td>2022-12-15</td>\n",
       "      <td>Pepino</td>\n",
       "      <td>Caja de 20 kg.</td>\n",
       "      <td>Puebla</td>\n",
       "      <td>Tabasco</td>\n",
       "      <td>Central de Abasto de Villahermosa</td>\n",
       "      <td>15.00</td>\n",
       "      <td>17.00</td>\n",
       "      <td>16.00</td>\n",
       "    </tr>\n",
       "    <tr>\n",
       "      <th>1262780</th>\n",
       "      <td>2023-06-08</td>\n",
       "      <td>Chile Pasilla</td>\n",
       "      <td>Kilogramo</td>\n",
       "      <td>Zacatecas</td>\n",
       "      <td>Nuevo León</td>\n",
       "      <td>Mercado de Abasto \"Estrella\" de San Nicolás de...</td>\n",
       "      <td>145.00</td>\n",
       "      <td>152.00</td>\n",
       "      <td>149.00</td>\n",
       "    </tr>\n",
       "    <tr>\n",
       "      <th>856030</th>\n",
       "      <td>2022-11-23</td>\n",
       "      <td>Epazote</td>\n",
       "      <td>Rollo de 5 kg.</td>\n",
       "      <td>Puebla</td>\n",
       "      <td>Veracruz</td>\n",
       "      <td>Mercado Malibrán</td>\n",
       "      <td>12.00</td>\n",
       "      <td>20.00</td>\n",
       "      <td>18.00</td>\n",
       "    </tr>\n",
       "    <tr>\n",
       "      <th>1090052</th>\n",
       "      <td>2023-05-11</td>\n",
       "      <td>Cebolla Morada</td>\n",
       "      <td>Arpilla de 25 kg.</td>\n",
       "      <td>Puebla</td>\n",
       "      <td>Tamaulipas</td>\n",
       "      <td>Módulo de Abasto de Tampico, Madero y Altamira</td>\n",
       "      <td>14.00</td>\n",
       "      <td>18.40</td>\n",
       "      <td>18.40</td>\n",
       "    </tr>\n",
       "    <tr>\n",
       "      <th>765759</th>\n",
       "      <td>2021-03-30</td>\n",
       "      <td>Uva Superior</td>\n",
       "      <td>Caja de 25 kg.</td>\n",
       "      <td>Zacatecas</td>\n",
       "      <td>México</td>\n",
       "      <td>Central de Abasto de Toluca</td>\n",
       "      <td>30.00</td>\n",
       "      <td>31.20</td>\n",
       "      <td>30.00</td>\n",
       "    </tr>\n",
       "    <tr>\n",
       "      <th>990519</th>\n",
       "      <td>2021-12-24</td>\n",
       "      <td>Calabacita Italiana</td>\n",
       "      <td>Caja de 15 kg.</td>\n",
       "      <td>Puebla</td>\n",
       "      <td>Veracruz</td>\n",
       "      <td>Central de Abasto de Minatitlán</td>\n",
       "      <td>17.33</td>\n",
       "      <td>20.67</td>\n",
       "      <td>20.00</td>\n",
       "    </tr>\n",
       "    <tr>\n",
       "      <th>17748</th>\n",
       "      <td>2022-12-26</td>\n",
       "      <td>Tejocote</td>\n",
       "      <td>Caja de 13 kg.</td>\n",
       "      <td>Puebla</td>\n",
       "      <td>Veracruz</td>\n",
       "      <td>Central de Abasto de Jalapa</td>\n",
       "      <td>14.62</td>\n",
       "      <td>15.38</td>\n",
       "      <td>14.62</td>\n",
       "    </tr>\n",
       "    <tr>\n",
       "      <th>1718139</th>\n",
       "      <td>2022-09-28</td>\n",
       "      <td>Toronja Roja</td>\n",
       "      <td>Kilogramo</td>\n",
       "      <td>Veracruz</td>\n",
       "      <td>Veracruz</td>\n",
       "      <td>Central de Abasto de Minatitlán</td>\n",
       "      <td>22.00</td>\n",
       "      <td>26.00</td>\n",
       "      <td>23.00</td>\n",
       "    </tr>\n",
       "  </tbody>\n",
       "</table>\n",
       "</div>"
      ],
      "text/plain": [
       "             fecha             producto       presentacion       origen  \\\n",
       "541517  2022-07-05                Fresa      Caja de 4 kg.  Importación   \n",
       "12914   2022-09-02           Col Grande   Costal de 60 kg.       Puebla   \n",
       "1432312 2022-12-15               Pepino     Caja de 20 kg.       Puebla   \n",
       "1262780 2023-06-08        Chile Pasilla          Kilogramo    Zacatecas   \n",
       "856030  2022-11-23              Epazote     Rollo de 5 kg.       Puebla   \n",
       "1090052 2023-05-11       Cebolla Morada  Arpilla de 25 kg.       Puebla   \n",
       "765759  2021-03-30         Uva Superior     Caja de 25 kg.    Zacatecas   \n",
       "990519  2021-12-24  Calabacita Italiana     Caja de 15 kg.       Puebla   \n",
       "17748   2022-12-26             Tejocote     Caja de 13 kg.       Puebla   \n",
       "1718139 2022-09-28         Toronja Roja          Kilogramo     Veracruz   \n",
       "\n",
       "            destino                                            central  \\\n",
       "541517   Nuevo León  Mercado de Abasto \"Estrella\" de San Nicolás de...   \n",
       "12914       Tabasco                  Central de Abasto de Villahermosa   \n",
       "1432312     Tabasco                  Central de Abasto de Villahermosa   \n",
       "1262780  Nuevo León  Mercado de Abasto \"Estrella\" de San Nicolás de...   \n",
       "856030     Veracruz                                   Mercado Malibrán   \n",
       "1090052  Tamaulipas     Módulo de Abasto de Tampico, Madero y Altamira   \n",
       "765759       México                        Central de Abasto de Toluca   \n",
       "990519     Veracruz                    Central de Abasto de Minatitlán   \n",
       "17748      Veracruz                        Central de Abasto de Jalapa   \n",
       "1718139    Veracruz                    Central de Abasto de Minatitlán   \n",
       "\n",
       "         precio_min  precio_max  precio_frec  \n",
       "541517        62.50       67.50        67.50  \n",
       "12914          4.83        5.17         5.00  \n",
       "1432312       15.00       17.00        16.00  \n",
       "1262780      145.00      152.00       149.00  \n",
       "856030        12.00       20.00        18.00  \n",
       "1090052       14.00       18.40        18.40  \n",
       "765759        30.00       31.20        30.00  \n",
       "990519        17.33       20.67        20.00  \n",
       "17748         14.62       15.38        14.62  \n",
       "1718139       22.00       26.00        23.00  "
      ]
     },
     "execution_count": 4,
     "metadata": {},
     "output_type": "execute_result"
    }
   ],
   "source": [
    "df_precios_sniim.sample(10)"
   ]
  },
  {
   "cell_type": "code",
   "execution_count": 5,
   "id": "642bc36f",
   "metadata": {
    "scrolled": false
   },
   "outputs": [
    {
     "data": {
      "text/html": [
       "<div>\n",
       "<style scoped>\n",
       "    .dataframe tbody tr th:only-of-type {\n",
       "        vertical-align: middle;\n",
       "    }\n",
       "\n",
       "    .dataframe tbody tr th {\n",
       "        vertical-align: top;\n",
       "    }\n",
       "\n",
       "    .dataframe thead th {\n",
       "        text-align: right;\n",
       "    }\n",
       "</style>\n",
       "<table border=\"1\" class=\"dataframe\">\n",
       "  <thead>\n",
       "    <tr style=\"text-align: right;\">\n",
       "      <th></th>\n",
       "      <th>Entidad</th>\n",
       "      <th>Municipio</th>\n",
       "      <th>Sembrada (ha)</th>\n",
       "      <th>Cosechada (ha)</th>\n",
       "      <th>Siniestrada (ha)</th>\n",
       "      <th>Producción</th>\n",
       "      <th>Rendimiento (udm/ha)</th>\n",
       "      <th>Cultivo</th>\n",
       "      <th>fecha</th>\n",
       "    </tr>\n",
       "  </thead>\n",
       "  <tbody>\n",
       "    <tr>\n",
       "      <th>141</th>\n",
       "      <td>Sinaloa</td>\n",
       "      <td>Sinaloa</td>\n",
       "      <td>15375.00</td>\n",
       "      <td>5888.68</td>\n",
       "      <td>0.0</td>\n",
       "      <td>3075.39</td>\n",
       "      <td>0.52</td>\n",
       "      <td>ajonjolí</td>\n",
       "      <td>2020-11-01</td>\n",
       "    </tr>\n",
       "    <tr>\n",
       "      <th>418</th>\n",
       "      <td>Zacatecas</td>\n",
       "      <td>Tepetongo</td>\n",
       "      <td>12.00</td>\n",
       "      <td>0.00</td>\n",
       "      <td>0.0</td>\n",
       "      <td>0.00</td>\n",
       "      <td>0.00</td>\n",
       "      <td>sorgo forrajero en verde</td>\n",
       "      <td>2023-08-01</td>\n",
       "    </tr>\n",
       "    <tr>\n",
       "      <th>374</th>\n",
       "      <td>Sonora</td>\n",
       "      <td>Rayón</td>\n",
       "      <td>80.00</td>\n",
       "      <td>0.00</td>\n",
       "      <td>0.0</td>\n",
       "      <td>0.00</td>\n",
       "      <td>0.00</td>\n",
       "      <td>sorgo forrajero en verde</td>\n",
       "      <td>2023-09-01</td>\n",
       "    </tr>\n",
       "    <tr>\n",
       "      <th>144</th>\n",
       "      <td>Sonora</td>\n",
       "      <td>Cajeme</td>\n",
       "      <td>1257.00</td>\n",
       "      <td>1257.00</td>\n",
       "      <td>0.0</td>\n",
       "      <td>2844.90</td>\n",
       "      <td>2.26</td>\n",
       "      <td>garbanzo grano</td>\n",
       "      <td>2022-12-01</td>\n",
       "    </tr>\n",
       "    <tr>\n",
       "      <th>35</th>\n",
       "      <td>Durango</td>\n",
       "      <td>Lerdo</td>\n",
       "      <td>2.00</td>\n",
       "      <td>0.00</td>\n",
       "      <td>0.0</td>\n",
       "      <td>0.00</td>\n",
       "      <td>0.00</td>\n",
       "      <td>cebolla</td>\n",
       "      <td>2020-01-01</td>\n",
       "    </tr>\n",
       "    <tr>\n",
       "      <th>461</th>\n",
       "      <td>Veracruz</td>\n",
       "      <td>Atoyac</td>\n",
       "      <td>20.03</td>\n",
       "      <td>18.50</td>\n",
       "      <td>0.0</td>\n",
       "      <td>114.89</td>\n",
       "      <td>6.21</td>\n",
       "      <td>limón</td>\n",
       "      <td>2022-11-01</td>\n",
       "    </tr>\n",
       "    <tr>\n",
       "      <th>10</th>\n",
       "      <td>Guerrero</td>\n",
       "      <td>Ometepec</td>\n",
       "      <td>6.00</td>\n",
       "      <td>0.00</td>\n",
       "      <td>0.0</td>\n",
       "      <td>0.00</td>\n",
       "      <td>0.00</td>\n",
       "      <td>piña</td>\n",
       "      <td>2023-03-01</td>\n",
       "    </tr>\n",
       "    <tr>\n",
       "      <th>467</th>\n",
       "      <td>Oaxaca</td>\n",
       "      <td>San Pedro Mártir</td>\n",
       "      <td>3.00</td>\n",
       "      <td>3.00</td>\n",
       "      <td>0.0</td>\n",
       "      <td>229.92</td>\n",
       "      <td>76.64</td>\n",
       "      <td>alfalfa</td>\n",
       "      <td>2022-08-01</td>\n",
       "    </tr>\n",
       "    <tr>\n",
       "      <th>20</th>\n",
       "      <td>Durango</td>\n",
       "      <td>Nuevo Ideal</td>\n",
       "      <td>32.00</td>\n",
       "      <td>32.00</td>\n",
       "      <td>0.0</td>\n",
       "      <td>139.53</td>\n",
       "      <td>4.36</td>\n",
       "      <td>pera</td>\n",
       "      <td>2020-09-01</td>\n",
       "    </tr>\n",
       "    <tr>\n",
       "      <th>157</th>\n",
       "      <td>Michoacán</td>\n",
       "      <td>Ario</td>\n",
       "      <td>150.00</td>\n",
       "      <td>0.00</td>\n",
       "      <td>0.0</td>\n",
       "      <td>0.00</td>\n",
       "      <td>0.00</td>\n",
       "      <td>mango</td>\n",
       "      <td>2020-01-01</td>\n",
       "    </tr>\n",
       "  </tbody>\n",
       "</table>\n",
       "</div>"
      ],
      "text/plain": [
       "       Entidad         Municipio  Sembrada (ha)  Cosechada (ha)  \\\n",
       "141    Sinaloa           Sinaloa       15375.00         5888.68   \n",
       "418  Zacatecas         Tepetongo          12.00            0.00   \n",
       "374     Sonora             Rayón          80.00            0.00   \n",
       "144     Sonora            Cajeme        1257.00         1257.00   \n",
       "35     Durango             Lerdo           2.00            0.00   \n",
       "461   Veracruz            Atoyac          20.03           18.50   \n",
       "10    Guerrero          Ometepec           6.00            0.00   \n",
       "467     Oaxaca  San Pedro Mártir           3.00            3.00   \n",
       "20     Durango       Nuevo Ideal          32.00           32.00   \n",
       "157  Michoacán              Ario         150.00            0.00   \n",
       "\n",
       "     Siniestrada (ha)  Producción  Rendimiento (udm/ha)  \\\n",
       "141               0.0     3075.39                  0.52   \n",
       "418               0.0        0.00                  0.00   \n",
       "374               0.0        0.00                  0.00   \n",
       "144               0.0     2844.90                  2.26   \n",
       "35                0.0        0.00                  0.00   \n",
       "461               0.0      114.89                  6.21   \n",
       "10                0.0        0.00                  0.00   \n",
       "467               0.0      229.92                 76.64   \n",
       "20                0.0      139.53                  4.36   \n",
       "157               0.0        0.00                  0.00   \n",
       "\n",
       "                      Cultivo      fecha  \n",
       "141                 ajonjolí 2020-11-01  \n",
       "418  sorgo forrajero en verde 2023-08-01  \n",
       "374  sorgo forrajero en verde 2023-09-01  \n",
       "144            garbanzo grano 2022-12-01  \n",
       "35                    cebolla 2020-01-01  \n",
       "461                    limón 2022-11-01  \n",
       "10                      piña 2023-03-01  \n",
       "467                   alfalfa 2022-08-01  \n",
       "20                       pera 2020-09-01  \n",
       "157                     mango 2020-01-01  "
      ]
     },
     "execution_count": 5,
     "metadata": {},
     "output_type": "execute_result"
    }
   ],
   "source": [
    "df_cultivos_siap_wide.sample(10)"
   ]
  },
  {
   "cell_type": "markdown",
   "id": "fc60edd3",
   "metadata": {},
   "source": [
    "Antes de proseguir, podemos modificar las propiedades de seaborn para las visualizaciones que haremos mas adelante, seleccionando el estilo `whitegrid` y ajustando el tamaño de fuente a 1.2:"
   ]
  },
  {
   "cell_type": "code",
   "execution_count": 6,
   "id": "0b03ce31",
   "metadata": {},
   "outputs": [],
   "source": [
    "sns.set_style(\"whitegrid\")\n",
    "sns.set(font_scale=1.2)"
   ]
  },
  {
   "cell_type": "markdown",
   "id": "582709a5",
   "metadata": {},
   "source": [
    "# Analisis para datos sobre precios SNIIM"
   ]
  },
  {
   "cell_type": "markdown",
   "id": "d6452933",
   "metadata": {},
   "source": [
    "Antes de comenzar, crearemos un par de columnas en nuestra dataframe para indicar tanto el mes como el año de cada entrada:"
   ]
  },
  {
   "cell_type": "code",
   "execution_count": 7,
   "id": "f05e185a",
   "metadata": {},
   "outputs": [],
   "source": [
    "df_precios_sniim[\"año\"] = df_precios_sniim[\"fecha\"].dt.year\n",
    "df_precios_sniim[\"mes\"] = df_precios_sniim[\"fecha\"].dt.month"
   ]
  },
  {
   "cell_type": "markdown",
   "id": "ae1144a3",
   "metadata": {},
   "source": [
    "## Tendencia historica de los precios (2020 - 2023)"
   ]
  },
  {
   "cell_type": "markdown",
   "id": "81ac44a6",
   "metadata": {},
   "source": [
    "Para comenzar, podemos tratar de visualizar el cambio en los precios diarios para los productos de nuestro dataset. Sin embargo, existen algunos puntos importantes a considerar:\n",
    "* **La cantidad de datos**, ya que nuestro dataframe cuenta con 2 019 574 entradas, para diversos precios de diferentes productos en el periodo 2020 - 2023 a lo largo del país.\n",
    "* **La cantidad de productos**, en la columna `producto` de nuestro dataframe, tenemos 199 productos unicos, por lo que visualizar la variación o en el precio de cada uno al mismo tiempo puede no ser lo más práctico"
   ]
  },
  {
   "cell_type": "code",
   "execution_count": 18,
   "id": "b6db6ab7",
   "metadata": {},
   "outputs": [
    {
     "data": {
      "text/plain": [
       "(2019574, 11)"
      ]
     },
     "execution_count": 18,
     "metadata": {},
     "output_type": "execute_result"
    }
   ],
   "source": [
    "df_precios_sniim.shape"
   ]
  },
  {
   "cell_type": "code",
   "execution_count": 19,
   "id": "bd6db57c",
   "metadata": {},
   "outputs": [
    {
     "data": {
      "text/plain": [
       "199"
      ]
     },
     "execution_count": 19,
     "metadata": {},
     "output_type": "execute_result"
    }
   ],
   "source": [
    "df_precios_sniim[\"producto\"].nunique()"
   ]
  },
  {
   "cell_type": "markdown",
   "id": "9669d79f",
   "metadata": {},
   "source": [
    "Sin embargo, podemos hacer uso de las librerias `ipywidgets` y `seaborn` para agregar interactividad a nuestros plots, esto nos permitirá agilizar el proceso de visualización de nuestros datos.\n",
    "\n",
    "Para ello, primero definimos una función que nos generará un gráfico de los precios promedios diarios de un producto dado a lo largo del periodo seleccionado (2020 - 2023), ademas, podemos agregar una media móvil exponencial para tratar de apreciar mejor la tendencia del precio del producto a lo través del tiempo. Esto lo podemos lograr utilizando la libreria `seaborn`, ademas de los métodos `resample` y `ewm` de nuestro dataframe."
   ]
  },
  {
   "cell_type": "code",
   "execution_count": 23,
   "id": "50c01068",
   "metadata": {},
   "outputs": [],
   "source": [
    "def graficar_precios(cultivo):\n",
    "    \"\"\"\n",
    "    Grafica el promedio de los precios diarios de un cultivo desde el año 2020 hasta la fecha del ultimo registro, \n",
    "    ademas de una linea de tendencia (filtro exponencial)\n",
    "    \"\"\"\n",
    "    subset_df = df_precios_sniim[df_precios_sniim[\"producto\"] == cultivo]\n",
    "    \n",
    "    subset_df = subset_df.resample('D', on='fecha').mean(numeric_only=True)\n",
    "    subset_df[\"ewm\"] = subset_df[\"precio_frec\"].ewm(span=14).mean()\n",
    "    #subset_df[\"año\"] = subset_df.index.year\n",
    "    \n",
    "    fig,ax = plt.subplots()\n",
    "    \n",
    "    sns.lineplot(x=\"fecha\",\n",
    "                 y=\"ewm\",\n",
    "                 hue=\"año\",\n",
    "                 data=subset_df,\n",
    "                 errorbar=None,\n",
    "                 ax=ax,\n",
    "                 palette=\"tab10\")\n",
    "    \n",
    "    sns.scatterplot(x=\"fecha\",\n",
    "                    y=\"precio_frec\",\n",
    "                    hue=\"año\",\n",
    "                    data=subset_df,\n",
    "                    ax=ax,\n",
    "                    palette=\"tab10\",\n",
    "                    s=25,\n",
    "                    alpha=0.5)\n",
    "    \n",
    "    ax.title.set_text(f\"Historial de precios para {cultivo} (promedio diario)\")\n",
    "    ax.set_xlabel(\"Fecha\")\n",
    "    ax.set_ylabel(\"Precio por kg, MXN\")\n",
    "    ax.grid(axis='y')\n",
    "    ax.tick_params(axis='x',rotation=90);\n",
    "    ax.legend(title='Año', labels=[\"2020\",\"2021\",\"2022\",\"2023\"])\n",
    "    \n",
    "    fig.set_size_inches(16,9)\n",
    "    \n",
    "    plt.show()\n",
    "    \n",
    "    return"
   ]
  },
  {
   "cell_type": "markdown",
   "id": "a9fbf7bc",
   "metadata": {},
   "source": [
    "Después obtenemos una lista de los valores únicos de la columna producto, la cual podremos utilizar en nuestro widget para seleccionar el producto de nuestro interés."
   ]
  },
  {
   "cell_type": "code",
   "execution_count": 24,
   "id": "493ced6f",
   "metadata": {},
   "outputs": [],
   "source": [
    "lista_productos = sorted(list(df_precios_sniim[\"producto\"].unique()))\n",
    "lista_anios = [2020,2021,2022,2023]\n",
    "#lista_productos[:5]"
   ]
  },
  {
   "cell_type": "markdown",
   "id": "90756c5c",
   "metadata": {},
   "source": [
    "Finalmente, generamos un widget de tipo `Dropdown` el cual tomará los valores de la lista anterior, y utilizando la función `interact` de `ipywidgets`, podemos generar el gráfico de tendencia del producto que seleccionemos en nuestro widget, ya que al seleccionarlo se ejecutará la funcion `graficar_precios`, la cual tomará como valor el producto seleccionado de la lista."
   ]
  },
  {
   "cell_type": "code",
   "execution_count": 25,
   "id": "51e7b0f2",
   "metadata": {
    "scrolled": false
   },
   "outputs": [
    {
     "data": {
      "application/vnd.jupyter.widget-view+json": {
       "model_id": "2450c37312e142d1b0d28e9541767267",
       "version_major": 2,
       "version_minor": 0
      },
      "text/plain": [
       "interactive(children=(Dropdown(description='Producto: ', options=('Acelga', 'Aguacate Criollo', 'Aguacate Hass…"
      ]
     },
     "metadata": {},
     "output_type": "display_data"
    },
    {
     "data": {
      "text/plain": [
       "<function __main__.graficar_precios(cultivo)>"
      ]
     },
     "execution_count": 25,
     "metadata": {},
     "output_type": "execute_result"
    }
   ],
   "source": [
    "dd_productos = widgets.Dropdown(options=lista_productos,\n",
    "                      value=lista_productos[0],\n",
    "                      description=\"Producto: \")\n",
    "\n",
    "widgets.interact(graficar_precios,cultivo=dd_productos)"
   ]
  },
  {
   "cell_type": "markdown",
   "id": "26f8539c",
   "metadata": {},
   "source": [
    "Con la celda anterior podemos apreciar rápida y facilmente las tendencias para diversos productos, podemos ver que para productos como el **Tomate Rojo, el Saladette y el Verde**, a pesar de algunas variaciones que parecen ser estacionarias, el precio se ha mantenido en el rango de los $20.00 pesos por kilo en promedio. Sin embargo, si se repiten los patrones, puede que el precio de estos alcance un pico en los próximos meses.\n",
    "\n",
    "Para el caso del **Limón**, podemos ver que todas las variedades de éste tuvieron un gran pico en el su precio a principios del 2022, incluso el #2 alcanzo un precio promedio diario de mas de $70.00 pesos por kilo en este periodo. Además, podemos ver que todas las variedades (#2,#3,#4,#5 y sin semilla) de este producto muestran una tendencia a la alta a lo largo de estos últimos meses.\n",
    "\n",
    "Por otro lado, vemos que para las diversas variedades de **Manzana**, su precio promedio ha ido en constante aumento desde el 2020 hasta la fecha, y segun las tendencias más actuales, esta alza podria continuar al menos en el corto plazo.\n",
    "\n",
    "Para el caso del **Plátano**, parece ser que tanto la variedad Chiapas como el resto han estado experimentando un lento pero constante aumento en su precio desde el 2020. El mismo comportamiento parecen estarlo experimentando las diferentes presentaciones de la **Guayaba** y la **Piña**, esta última ha estado experimentando un aumento más pronunciado en su precio promedio en las últimas semanas.\n"
   ]
  },
  {
   "cell_type": "markdown",
   "id": "b8ad1c34",
   "metadata": {},
   "source": [
    "## Tendencia anual"
   ]
  },
  {
   "cell_type": "markdown",
   "id": "74d605cb",
   "metadata": {},
   "source": [
    "Realizando un procedimiento similar, podemos generar una grafica específica para cada año, esto permite estudiar con un poco mas de detalles la tendencia de los precios para un año en específico (o bien, simplemente para el año en curso). Además, podemos agregar un mensaje para indicar en donde y cuando se registraron los precios más altos y más bajos para el producto en el año seleccionado."
   ]
  },
  {
   "cell_type": "code",
   "execution_count": 11,
   "id": "4a035d37",
   "metadata": {},
   "outputs": [],
   "source": [
    "def grafica_anio(cultivo,anio):\n",
    "    \"\"\"\n",
    "    Grafica el promedio de los precios de un producto para un anio dado, ademas de una linea de tendencia\n",
    "    \"\"\"\n",
    "    subset_df = df_precios_sniim[df_precios_sniim[\"producto\"] == cultivo]\n",
    "    subset_df = subset_df[subset_df[\"año\"] == anio]\n",
    "    \n",
    "    try:\n",
    "        subset_df = subset_df.resample('D', on='fecha').mean(numeric_only=True)\n",
    "        subset_df[\"ewm\"] = subset_df[\"precio_frec\"].ewm(span=7).mean()\n",
    "\n",
    "        fig,ax = plt.subplots()\n",
    "\n",
    "        sns.lineplot(x=\"fecha\",\n",
    "                     y=\"ewm\",\n",
    "                     data=subset_df,\n",
    "                     errorbar=None,\n",
    "                     ax=ax)\n",
    "\n",
    "        sns.scatterplot(x=\"fecha\",\n",
    "                        y=\"precio_frec\",\n",
    "                        data=subset_df,\n",
    "                        ax=ax,\n",
    "                        s=25,\n",
    "                        alpha=0.5)\n",
    "\n",
    "        ax.title.set_text(f\"Historial de precios para {cultivo}, año: {anio} (promedio diario)\")\n",
    "        ax.set_xlabel(\"Fecha\")\n",
    "        ax.set_ylabel(\"Precio por kg, MXN\")\n",
    "        ax.grid(axis='y')\n",
    "        ax.tick_params(axis='x',rotation=90);\n",
    "\n",
    "        fig.set_size_inches(16,9)\n",
    "        \n",
    "        subset_df2 = df_precios_sniim[df_precios_sniim[\"producto\"] == cultivo]\n",
    "        subset_df2 = subset_df2[subset_df2[\"año\"] == anio]\n",
    "        \n",
    "        fecha_max = subset_df2[subset_df2[\"precio_max\"] == subset_df2[\"precio_max\"].max()][\"fecha\"].iloc[0]\n",
    "        central_max = subset_df2[subset_df2[\"precio_max\"] == subset_df2[\"precio_max\"].max()][\"central\"].iloc[0]\n",
    "        precio_max = subset_df2[\"precio_max\"].max()\n",
    "        \n",
    "        print(f\"Precio maximo: ${precio_max:.2f}/kg el {fecha_max.strftime('%d-%m-%Y')} en {central_max}\")\n",
    "        \n",
    "        fecha_min = subset_df2[subset_df2[\"precio_min\"] == subset_df2[\"precio_min\"].min()][\"fecha\"].iloc[0]\n",
    "        central_min = subset_df2[subset_df2[\"precio_min\"] == subset_df2[\"precio_min\"].min()][\"central\"].iloc[0]\n",
    "        precio_min = subset_df2[\"precio_min\"].min()\n",
    "        \n",
    "        print(f\"Precio minimo: ${precio_min:.2f}/kg el {fecha_min.strftime('%d-%m-%Y')} en {central_min}\")\n",
    "\n",
    "        plt.show()\n",
    "    \n",
    "    except:\n",
    "        print(\"No hay datos para esa combinacion\")\n",
    "    \n",
    "    return"
   ]
  },
  {
   "cell_type": "code",
   "execution_count": 12,
   "id": "66549c70",
   "metadata": {
    "scrolled": false
   },
   "outputs": [
    {
     "data": {
      "application/vnd.jupyter.widget-view+json": {
       "model_id": "bec9213ba2e34c2c91976358c22ac6c6",
       "version_major": 2,
       "version_minor": 0
      },
      "text/plain": [
       "interactive(children=(Dropdown(description='Producto: ', options=('Acelga', 'Aguacate Criollo', 'Aguacate Hass…"
      ]
     },
     "metadata": {},
     "output_type": "display_data"
    },
    {
     "data": {
      "text/plain": [
       "<function __main__.grafica_anio(cultivo, anio)>"
      ]
     },
     "execution_count": 12,
     "metadata": {},
     "output_type": "execute_result"
    }
   ],
   "source": [
    "dd_productos = widgets.Dropdown(options=lista_productos,\n",
    "                      value=lista_productos[0],\n",
    "                      description=\"Producto: \")\n",
    "\n",
    "dd_anios = widgets.Dropdown(options=lista_anios,\n",
    "                      value=lista_anios[-1],\n",
    "                      description=\"Año: \")\n",
    "\n",
    "widgets.interact(grafica_anio,cultivo=dd_productos,anio=dd_anios)"
   ]
  },
  {
   "cell_type": "markdown",
   "id": "e730db69",
   "metadata": {},
   "source": [
    "## Distribución y variación de nuestros datos"
   ]
  },
  {
   "cell_type": "markdown",
   "id": "94a72179",
   "metadata": {},
   "source": [
    "Siguiendo una lógica similar a la anterior, podemos generar un par de gráficas que nos ayudarán a analizar mejor la distribución de los precios en el año, así como su variación. Para esto, podemos definir una función que genere un par de gráficos:\n",
    "\n",
    "* Un diagrama de cajas (`boxplot`) de los precios del producto seleccionado **por mes**, lo cual nos puede ayudar a visualizar mejor la dispersión de nuestros precios, así como identificar posibles valores *aberrantes* (es decir, precios anormalmente altos o anormalmente bajos) en nuestros precios\n",
    "\n",
    "* Un histograma (`histplot`) para visualizar mejor la distribución de los precios muestreados a lo largo del año."
   ]
  },
  {
   "cell_type": "code",
   "execution_count": 13,
   "id": "949ea3dd",
   "metadata": {},
   "outputs": [],
   "source": [
    "def graficar_dist_precios(producto):\n",
    "    \"\"\"\n",
    "    Genera dos diagramas:\n",
    "        - Un diagrama de cajas con los datos de cada producto por mes (2023)\n",
    "        - Un histograma de la distribucion de los precios para el producto dado en el anio (2023)\n",
    "    \"\"\"\n",
    "    df = df_precios_sniim.copy()\n",
    "    \n",
    "    df_filter = df[(df[\"producto\"] == producto) & (df[\"año\"] == 2023)]\n",
    "    \n",
    "    try:\n",
    "        fig, (ax1,ax2) = plt.subplots(2,1)\n",
    "\n",
    "        sns.boxplot(x=\"mes\",\n",
    "                    y=\"precio_frec\",\n",
    "                    data=df_filter,\n",
    "                    ax=ax1)\n",
    "        \n",
    "\n",
    "        ax1.title.set_text(f\"Diagrama de cajas de precios por mes para {producto}\")\n",
    "        ax1.set_xlabel(\"Mes\")\n",
    "        ax1.set_ylabel(\"Precio por kg, MXN\")\n",
    "        \n",
    "        sns.histplot(x=\"precio_frec\",\n",
    "                   data=df_filter,\n",
    "                   ax=ax2,kde=True)\n",
    "        \n",
    "        ax2.title.set_text(f\"Histograma de precios en el año para {producto}\")\n",
    "        ax2.set_xlabel(\"Precio mas frecuente\")\n",
    "\n",
    "        fig.set_size_inches(16,16)\n",
    "        plt.tight_layout()\n",
    "        plt.show()\n",
    "    \n",
    "    except:\n",
    "        raise ValueError(\"Error! Parece que algo salio mal.\")"
   ]
  },
  {
   "cell_type": "code",
   "execution_count": 14,
   "id": "5b314f96",
   "metadata": {},
   "outputs": [
    {
     "data": {
      "application/vnd.jupyter.widget-view+json": {
       "model_id": "364d101c44d84f7d9abf37cd295f59fe",
       "version_major": 2,
       "version_minor": 0
      },
      "text/plain": [
       "interactive(children=(Dropdown(description='Producto: ', options=('Acelga', 'Aguacate Criollo', 'Aguacate Hass…"
      ]
     },
     "metadata": {},
     "output_type": "display_data"
    },
    {
     "data": {
      "text/plain": [
       "<function __main__.graficar_dist_precios(producto)>"
      ]
     },
     "execution_count": 14,
     "metadata": {},
     "output_type": "execute_result"
    }
   ],
   "source": [
    "dd_productos_hist = widgets.Dropdown(options=lista_productos,\n",
    "                      value=lista_productos[0],\n",
    "                      description=\"Producto: \")\n",
    "\n",
    "widgets.interact(graficar_dist_precios,producto = dd_productos_hist)"
   ]
  },
  {
   "cell_type": "markdown",
   "id": "b68a1aa3",
   "metadata": {},
   "source": [
    "Con los diagramas anteriores, principalmente con el de cajas, podemos apreciar mejor la variabilidad de los precios, ya que en casos como el de la **Coliflor** o el **Brócoli**, si bien la mediana de los precios se mantiene aparentemente constante a lo largo del año, podemos apreciar que hay algunos meses donde la variación (rango) de los precios puede ser mas amplia que en otros, e incluso en algunos meses se pueden detectar valores anormales de los  mismos (datos aberrantes)."
   ]
  },
  {
   "cell_type": "markdown",
   "id": "3b37b49e",
   "metadata": {},
   "source": [
    "## Desglose mensual de los precios"
   ]
  },
  {
   "cell_type": "markdown",
   "id": "fe6a51fa",
   "metadata": {},
   "source": [
    "Ademas de las tendencias anuales y de las distribuciones de nuestros datos, otro de los paramétros de interés en nuestro análisis es el de los **promedios mensuales**, y más específicamente, su desglose por municipio.\n",
    "\n",
    "De manera similar a lo anterior, podemos definir una función que nos ayude a visualizar mas facilmente estos promedios mensuales, y apoyandonos en la libreria de `ipywidgets`, podemos definir tanto el producto como la central de nuestro interés."
   ]
  },
  {
   "cell_type": "code",
   "execution_count": 15,
   "id": "7b02035c",
   "metadata": {},
   "outputs": [],
   "source": [
    "def graficar_promedios_mensuales(producto,central):\n",
    "    \"\"\"\n",
    "    Genera una grafica (pointplot) con los promedios mensuales para el producto dado en la central dada\n",
    "    \"\"\"\n",
    "    df = df_precios_sniim.copy()\n",
    "    \n",
    "    df_filter = df[(df[\"producto\"] == producto) & (df[\"año\"] == 2023)]\n",
    "    df_grouped = df_filter.groupby([\"central\",\"mes\"])[\"precio_frec\"].mean().to_frame()\n",
    "    \n",
    "    df_unstacked = df_grouped.unstack()\n",
    "    df_unstacked.columns = df_unstacked.columns.droplevel()\n",
    "    df_unstacked = df_unstacked.reset_index()\n",
    "    df_unstacked.columns.name=None\n",
    "    \n",
    "    df_melted = df_unstacked.melt(id_vars=[\"central\"],var_name=\"mes\",value_name=\"precio_promedio\").dropna()\n",
    "    \n",
    "    dict_meses = {1: \"Enero\",\n",
    "                  2: \"Febrero\",\n",
    "                  3: \"Marzo\",\n",
    "                  4: \"Abril\",\n",
    "                  5: \"Mayo\",\n",
    "                  6: \"Junio\",\n",
    "                  7: \"Julio\",\n",
    "                  8: \"Agosto\",\n",
    "                  9: \"Septiembre\",\n",
    "                  10: \"Octubre\",\n",
    "                  11: \"Noviembre\",\n",
    "                  12: \"Diciembre\"}\n",
    "    \n",
    "    df_melted[\"mes\"] = df_melted[\"mes\"].map(dict_meses)\n",
    "    df_final = df_melted[df_melted[\"central\"] == central]\n",
    "    \n",
    "    try:\n",
    "        fig, ax = plt.subplots()\n",
    "\n",
    "        sns.pointplot(x=\"mes\",\n",
    "                      y=\"precio_promedio\",\n",
    "                      data=df_final,\n",
    "                      ax=ax,\n",
    "                      color='r',\n",
    "                      errorbar=None)\n",
    "\n",
    "        ax.title.set_text(f\"Precios mensuales para {producto} en {central} (promedio mensual)\")\n",
    "        ax.set_xlabel(\"Mes\")\n",
    "        ax.set_ylabel(\"Precio por kg, MXN\")\n",
    "        ax.grid(axis='x')\n",
    "\n",
    "        fig.set_size_inches(16,9)\n",
    "        plt.show()\n",
    "    \n",
    "    except:\n",
    "        raise ValueError(f\"No existen datos para {producto} en {central}\")\n",
    "        \n",
    "    return\n",
    "\n",
    "def obtener_valores_unicos(df,columna):\n",
    "    \"\"\"\n",
    "    Regresa una lista con los valores unicos de la columna 'columna' en el dataframe 'df', ordenados.\n",
    "    \"\"\"\n",
    "    return sorted(list(df[columna].unique()))\n",
    "\n",
    "def fijar_central(producto):\n",
    "    \"\"\"\n",
    "    Genera un widget (dropdown) con todas las centrales posibles para el producto dado en el argumento, despues \n",
    "    ejecuta la funcion 'graficar_promedios_mensuales' con el producto dado en el argumento y la central seleccionada\n",
    "    \"\"\"\n",
    "    df = df_precios_sniim.copy()\n",
    "    subset_df = df[(df[\"producto\"] == producto) & (df[\"año\"] == 2023)]\n",
    "    \n",
    "    lista_centrales = obtener_valores_unicos(subset_df,\"central\")\n",
    "    \n",
    "    dd_centrales = widgets.Dropdown(options=lista_centrales,\n",
    "                      value=lista_centrales[0],\n",
    "                      description=\"Central: \")\n",
    "    \n",
    "    widgets.interact(graficar_promedios_mensuales,producto=widgets.fixed(producto),central=dd_centrales)\n",
    "    \n",
    "    return"
   ]
  },
  {
   "cell_type": "code",
   "execution_count": 16,
   "id": "9ff9bd50",
   "metadata": {
    "scrolled": false
   },
   "outputs": [
    {
     "data": {
      "application/vnd.jupyter.widget-view+json": {
       "model_id": "9ef3973913a24f7cbc9befad7bfdda82",
       "version_major": 2,
       "version_minor": 0
      },
      "text/plain": [
       "interactive(children=(Dropdown(description='Producto: ', options=('Acelga', 'Aguacate Criollo', 'Aguacate Hass…"
      ]
     },
     "metadata": {},
     "output_type": "display_data"
    },
    {
     "data": {
      "text/plain": [
       "<function __main__.fijar_central(producto)>"
      ]
     },
     "execution_count": 16,
     "metadata": {},
     "output_type": "execute_result"
    }
   ],
   "source": [
    "dd_productos2 = widgets.Dropdown(options=lista_productos,\n",
    "                      value=lista_productos[0],\n",
    "                      description=\"Producto: \")\n",
    "\n",
    "widgets.interact(fijar_central,producto=dd_productos2)"
   ]
  },
  {
   "cell_type": "markdown",
   "id": "a7241c3b",
   "metadata": {},
   "source": [
    "Además, de ser necesario, podemos generar un desglose similar pero en forma de tabla (dataframe), para poder observar con mayor exactitud estos promedios mensuales."
   ]
  },
  {
   "cell_type": "code",
   "execution_count": 55,
   "id": "5b470fbe",
   "metadata": {},
   "outputs": [],
   "source": [
    "def desglosar_promedios_mensuales(producto,central):\n",
    "    \"\"\"\n",
    "    Genera una dataframe con los promedios mensuales para el producto dado en la central dada\n",
    "    \"\"\"\n",
    "    df = df_precios_sniim.copy()\n",
    "    \n",
    "    df_filter = df[(df[\"producto\"] == producto) & (df[\"año\"] == 2023)]\n",
    "    df_grouped = df_filter.groupby([\"central\",\"mes\"])[\"precio_frec\"].mean().to_frame()\n",
    "    \n",
    "    df_unstacked = df_grouped.unstack()\n",
    "    df_unstacked.columns = df_unstacked.columns.droplevel()\n",
    "    df_unstacked = df_unstacked.reset_index()\n",
    "    df_unstacked.columns.name=None\n",
    "    \n",
    "    df_melted = df_unstacked.melt(id_vars=[\"central\"],var_name=\"mes\",value_name=\"precio_promedio\").dropna()\n",
    "    \n",
    "    dict_meses = {1: \"Enero\",\n",
    "                  2: \"Febrero\",\n",
    "                  3: \"Marzo\",\n",
    "                  4: \"Abril\",\n",
    "                  5: \"Mayo\",\n",
    "                  6: \"Junio\",\n",
    "                  7: \"Julio\",\n",
    "                  8: \"Agosto\",\n",
    "                  9: \"Septiembre\",\n",
    "                  10: \"Octubre\",\n",
    "                  11: \"Noviembre\",\n",
    "                  12: \"Diciembre\"}\n",
    "    \n",
    "    df_melted[\"mes\"] = df_melted[\"mes\"].map(dict_meses)\n",
    "    df_final = df_melted[df_melted[\"central\"] == central]\n",
    "    \n",
    "    df_final.columns = [\"Central de Abastos\",\"Mes\",\"Precio promedio por kg., MXN\"]\n",
    "    \n",
    "    df_final = df_final.style.set_caption(f\"Desglose de precios promedios mensuales para {producto}\").hide(axis=\"index\")\n",
    "    \n",
    "    display(df_final)\n",
    "        \n",
    "    return\n",
    "\n",
    "def fijar_central_desglose(producto):\n",
    "    \"\"\"\n",
    "    Genera un widget (dropdown) con todas las centrales posibles para el producto dado en el argumento, despues \n",
    "    ejecuta la funcion 'desglosar_promedios_mensuales' con el producto dado en el argumento y la central seleccionada\n",
    "    \"\"\"\n",
    "    df = df_precios_sniim.copy()\n",
    "    subset_df = df[(df[\"producto\"] == producto) & (df[\"año\"] == 2023)]\n",
    "    \n",
    "    lista_centrales = obtener_valores_unicos(subset_df,\"central\")\n",
    "    \n",
    "    dd_centrales = widgets.Dropdown(options=lista_centrales,\n",
    "                      value=lista_centrales[0],\n",
    "                      description=\"Central: \")\n",
    "    \n",
    "    widgets.interact(desglosar_promedios_mensuales,producto=widgets.fixed(producto),central=dd_centrales)\n",
    "    \n",
    "    return"
   ]
  },
  {
   "cell_type": "code",
   "execution_count": 56,
   "id": "7e91f155",
   "metadata": {},
   "outputs": [
    {
     "data": {
      "application/vnd.jupyter.widget-view+json": {
       "model_id": "d00bce4ab40a4360a59dd37a7868ce02",
       "version_major": 2,
       "version_minor": 0
      },
      "text/plain": [
       "interactive(children=(Dropdown(description='Producto: ', options=('Acelga', 'Aguacate Criollo', 'Aguacate Hass…"
      ]
     },
     "metadata": {},
     "output_type": "display_data"
    },
    {
     "data": {
      "text/plain": [
       "<function __main__.fijar_central_desglose(producto)>"
      ]
     },
     "execution_count": 56,
     "metadata": {},
     "output_type": "execute_result"
    }
   ],
   "source": [
    "dd_productos3 = widgets.Dropdown(options=lista_productos,\n",
    "                      value=lista_productos[0],\n",
    "                      description=\"Producto: \")\n",
    "\n",
    "widgets.interact(fijar_central_desglose,producto=dd_productos3)"
   ]
  },
  {
   "cell_type": "markdown",
   "id": "2a47cbb7",
   "metadata": {},
   "source": [
    "De esta forma podemos obtener un valor más exacto del promedio mensual para cada producto en las diferentes centrales de abasto del país."
   ]
  },
  {
   "cell_type": "markdown",
   "id": "2b0be4c3",
   "metadata": {},
   "source": [
    "# Análisis de producción agrícola (SIAP)"
   ]
  },
  {
   "cell_type": "code",
   "execution_count": null,
   "id": "09d4b24d",
   "metadata": {},
   "outputs": [],
   "source": []
  }
 ],
 "metadata": {
  "kernelspec": {
   "display_name": "Python 3 (ipykernel)",
   "language": "python",
   "name": "python3"
  },
  "language_info": {
   "codemirror_mode": {
    "name": "ipython",
    "version": 3
   },
   "file_extension": ".py",
   "mimetype": "text/x-python",
   "name": "python",
   "nbconvert_exporter": "python",
   "pygments_lexer": "ipython3",
   "version": "3.10.9"
  }
 },
 "nbformat": 4,
 "nbformat_minor": 5
}
