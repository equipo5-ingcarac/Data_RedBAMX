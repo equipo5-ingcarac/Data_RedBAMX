{
 "cells": [
  {
   "cell_type": "code",
   "execution_count": 1,
   "id": "71598345",
   "metadata": {},
   "outputs": [],
   "source": [
    "import pandas as pd\n",
    "import numpy as np\n",
    "import seaborn as sns\n",
    "import matplotlib.pyplot as plt\n",
    "import os\n",
    "import ipywidgets as widgets"
   ]
  },
  {
   "cell_type": "markdown",
   "id": "f9cee3ce",
   "metadata": {},
   "source": [
    "# Importando nuestros datos"
   ]
  },
  {
   "cell_type": "markdown",
   "id": "0678753a",
   "metadata": {},
   "source": [
    "Comenzamos obteniendo los archivos que contienen nuestros datasets, definiendo un path para cada uno para despues importarlos como dataframes"
   ]
  },
  {
   "cell_type": "code",
   "execution_count": 2,
   "id": "901e0bc2",
   "metadata": {},
   "outputs": [],
   "source": [
    "data_path_sniim = os.path.join(\"..\",\"..\",\"data\",\"clean_data\",\"precios_sniim.parquet\")\n",
    "data_path_siap = os.path.join(\"..\",\"..\",\"data\",\"clean_data\",\"siap.parquet.zip\")\n",
    "data_path_siap_wide = os.path.join(\"..\",\"..\",\"data\",\"clean_data\",\"siap_wide.parquet.zip\")"
   ]
  },
  {
   "cell_type": "code",
   "execution_count": 3,
   "id": "0a3323ee",
   "metadata": {},
   "outputs": [],
   "source": [
    "df_precios_sniim = pd.read_parquet(data_path_sniim)\n",
    "df_cultivos_siap = pd.read_parquet(data_path_siap)\n",
    "df_cultivos_siap_wide = pd.read_parquet(data_path_siap_wide)"
   ]
  },
  {
   "cell_type": "markdown",
   "id": "194adb3c",
   "metadata": {},
   "source": [
    "Después, podemos obtener algunas muestras de nuestras dataframes para verificar su estructura, las cuales están especificadas en nuestros diccionario de datos."
   ]
  },
  {
   "cell_type": "code",
   "execution_count": 23,
   "id": "4f0494ca",
   "metadata": {
    "scrolled": true
   },
   "outputs": [
    {
     "data": {
      "text/html": [
       "<div>\n",
       "<style scoped>\n",
       "    .dataframe tbody tr th:only-of-type {\n",
       "        vertical-align: middle;\n",
       "    }\n",
       "\n",
       "    .dataframe tbody tr th {\n",
       "        vertical-align: top;\n",
       "    }\n",
       "\n",
       "    .dataframe thead th {\n",
       "        text-align: right;\n",
       "    }\n",
       "</style>\n",
       "<table border=\"1\" class=\"dataframe\">\n",
       "  <thead>\n",
       "    <tr style=\"text-align: right;\">\n",
       "      <th></th>\n",
       "      <th>fecha</th>\n",
       "      <th>producto</th>\n",
       "      <th>presentacion</th>\n",
       "      <th>origen</th>\n",
       "      <th>destino</th>\n",
       "      <th>central</th>\n",
       "      <th>precio_min</th>\n",
       "      <th>precio_max</th>\n",
       "      <th>precio_frec</th>\n",
       "      <th>año</th>\n",
       "      <th>mes</th>\n",
       "    </tr>\n",
       "  </thead>\n",
       "  <tbody>\n",
       "    <tr>\n",
       "      <th>453946</th>\n",
       "      <td>2020-10-23</td>\n",
       "      <td>Ciruela Roja</td>\n",
       "      <td>Caja de 10 kg.</td>\n",
       "      <td>Importación</td>\n",
       "      <td>Nuevo León</td>\n",
       "      <td>Mercado de Abasto \"Estrella\" de San Nicolás de...</td>\n",
       "      <td>50.00</td>\n",
       "      <td>55.00</td>\n",
       "      <td>50.00</td>\n",
       "      <td>2020</td>\n",
       "      <td>10</td>\n",
       "    </tr>\n",
       "    <tr>\n",
       "      <th>863381</th>\n",
       "      <td>2022-10-14</td>\n",
       "      <td>Guayaba</td>\n",
       "      <td>Caja de 10 kg.</td>\n",
       "      <td>Michoacán</td>\n",
       "      <td>Coahuila</td>\n",
       "      <td>Central de Abasto de La Laguna, Torreón</td>\n",
       "      <td>20.00</td>\n",
       "      <td>21.30</td>\n",
       "      <td>21.20</td>\n",
       "      <td>2022</td>\n",
       "      <td>10</td>\n",
       "    </tr>\n",
       "    <tr>\n",
       "      <th>1021811</th>\n",
       "      <td>2021-08-26</td>\n",
       "      <td>Platano Tabasco</td>\n",
       "      <td>Caja de 18 kg.</td>\n",
       "      <td>Chiapas</td>\n",
       "      <td>Chihuahua</td>\n",
       "      <td>Mercado de Abasto de Cd. Juárez</td>\n",
       "      <td>12.78</td>\n",
       "      <td>12.78</td>\n",
       "      <td>12.78</td>\n",
       "      <td>2021</td>\n",
       "      <td>8</td>\n",
       "    </tr>\n",
       "    <tr>\n",
       "      <th>1358919</th>\n",
       "      <td>2023-05-26</td>\n",
       "      <td>Tomate Saladette</td>\n",
       "      <td>Kilogramo</td>\n",
       "      <td>Jalisco</td>\n",
       "      <td>Chihuahua</td>\n",
       "      <td>Mercado de Abasto de Cd. Juárez</td>\n",
       "      <td>22.50</td>\n",
       "      <td>22.50</td>\n",
       "      <td>22.50</td>\n",
       "      <td>2023</td>\n",
       "      <td>5</td>\n",
       "    </tr>\n",
       "    <tr>\n",
       "      <th>1069180</th>\n",
       "      <td>2021-04-19</td>\n",
       "      <td>Lima</td>\n",
       "      <td>Kilogramo</td>\n",
       "      <td>Nayarit</td>\n",
       "      <td>Nayarit</td>\n",
       "      <td>Mercado de abasto 'Adolfo López Mateos' de Tepic</td>\n",
       "      <td>22.00</td>\n",
       "      <td>24.00</td>\n",
       "      <td>23.00</td>\n",
       "      <td>2021</td>\n",
       "      <td>4</td>\n",
       "    </tr>\n",
       "    <tr>\n",
       "      <th>905127</th>\n",
       "      <td>2021-04-14</td>\n",
       "      <td>Naranja Valencia Grande</td>\n",
       "      <td>Kilogramo</td>\n",
       "      <td>Veracruz</td>\n",
       "      <td>Michoacán</td>\n",
       "      <td>Mercado de Abasto de Morelia</td>\n",
       "      <td>9.00</td>\n",
       "      <td>10.00</td>\n",
       "      <td>10.00</td>\n",
       "      <td>2021</td>\n",
       "      <td>4</td>\n",
       "    </tr>\n",
       "    <tr>\n",
       "      <th>870030</th>\n",
       "      <td>2022-08-25</td>\n",
       "      <td>Guayaba</td>\n",
       "      <td>Caja de 10 kg.</td>\n",
       "      <td>Veracruz</td>\n",
       "      <td>Veracruz</td>\n",
       "      <td>Central de Abasto de Minatitlán</td>\n",
       "      <td>21.00</td>\n",
       "      <td>24.00</td>\n",
       "      <td>22.00</td>\n",
       "      <td>2022</td>\n",
       "      <td>8</td>\n",
       "    </tr>\n",
       "    <tr>\n",
       "      <th>758960</th>\n",
       "      <td>2022-07-05</td>\n",
       "      <td>Cilantro</td>\n",
       "      <td>Kilogramo</td>\n",
       "      <td>Jalisco</td>\n",
       "      <td>Jalisco</td>\n",
       "      <td>Mercado de Abasto de Guadalajara</td>\n",
       "      <td>16.75</td>\n",
       "      <td>17.00</td>\n",
       "      <td>16.75</td>\n",
       "      <td>2022</td>\n",
       "      <td>7</td>\n",
       "    </tr>\n",
       "    <tr>\n",
       "      <th>692309</th>\n",
       "      <td>2020-10-01</td>\n",
       "      <td>Guayaba</td>\n",
       "      <td>Caja de 16 kg.</td>\n",
       "      <td>Michoacán</td>\n",
       "      <td>Michoacán</td>\n",
       "      <td>Mercado de Abasto de Morelia</td>\n",
       "      <td>16.88</td>\n",
       "      <td>19.69</td>\n",
       "      <td>19.69</td>\n",
       "      <td>2020</td>\n",
       "      <td>10</td>\n",
       "    </tr>\n",
       "    <tr>\n",
       "      <th>269307</th>\n",
       "      <td>2023-09-22</td>\n",
       "      <td>Brocoli</td>\n",
       "      <td>Caja de 8 kg.</td>\n",
       "      <td>Puebla</td>\n",
       "      <td>Sonora</td>\n",
       "      <td>Mercado de Abasto \"Francisco I. Madero\" de Her...</td>\n",
       "      <td>37.50</td>\n",
       "      <td>40.63</td>\n",
       "      <td>40.63</td>\n",
       "      <td>2023</td>\n",
       "      <td>9</td>\n",
       "    </tr>\n",
       "  </tbody>\n",
       "</table>\n",
       "</div>"
      ],
      "text/plain": [
       "             fecha                 producto    presentacion       origen  \\\n",
       "453946  2020-10-23             Ciruela Roja  Caja de 10 kg.  Importación   \n",
       "863381  2022-10-14                  Guayaba  Caja de 10 kg.    Michoacán   \n",
       "1021811 2021-08-26          Platano Tabasco  Caja de 18 kg.      Chiapas   \n",
       "1358919 2023-05-26         Tomate Saladette       Kilogramo      Jalisco   \n",
       "1069180 2021-04-19                     Lima       Kilogramo      Nayarit   \n",
       "905127  2021-04-14  Naranja Valencia Grande       Kilogramo     Veracruz   \n",
       "870030  2022-08-25                  Guayaba  Caja de 10 kg.     Veracruz   \n",
       "758960  2022-07-05                 Cilantro       Kilogramo      Jalisco   \n",
       "692309  2020-10-01                  Guayaba  Caja de 16 kg.    Michoacán   \n",
       "269307  2023-09-22                  Brocoli   Caja de 8 kg.       Puebla   \n",
       "\n",
       "            destino                                            central  \\\n",
       "453946   Nuevo León  Mercado de Abasto \"Estrella\" de San Nicolás de...   \n",
       "863381     Coahuila            Central de Abasto de La Laguna, Torreón   \n",
       "1021811   Chihuahua                    Mercado de Abasto de Cd. Juárez   \n",
       "1358919   Chihuahua                    Mercado de Abasto de Cd. Juárez   \n",
       "1069180     Nayarit   Mercado de abasto 'Adolfo López Mateos' de Tepic   \n",
       "905127    Michoacán                       Mercado de Abasto de Morelia   \n",
       "870030     Veracruz                    Central de Abasto de Minatitlán   \n",
       "758960      Jalisco                   Mercado de Abasto de Guadalajara   \n",
       "692309    Michoacán                       Mercado de Abasto de Morelia   \n",
       "269307       Sonora  Mercado de Abasto \"Francisco I. Madero\" de Her...   \n",
       "\n",
       "         precio_min  precio_max  precio_frec   año  mes  \n",
       "453946        50.00       55.00        50.00  2020   10  \n",
       "863381        20.00       21.30        21.20  2022   10  \n",
       "1021811       12.78       12.78        12.78  2021    8  \n",
       "1358919       22.50       22.50        22.50  2023    5  \n",
       "1069180       22.00       24.00        23.00  2021    4  \n",
       "905127         9.00       10.00        10.00  2021    4  \n",
       "870030        21.00       24.00        22.00  2022    8  \n",
       "758960        16.75       17.00        16.75  2022    7  \n",
       "692309        16.88       19.69        19.69  2020   10  \n",
       "269307        37.50       40.63        40.63  2023    9  "
      ]
     },
     "execution_count": 23,
     "metadata": {},
     "output_type": "execute_result"
    }
   ],
   "source": [
    "df_precios_sniim.sample(10)"
   ]
  },
  {
   "cell_type": "code",
   "execution_count": 24,
   "id": "642bc36f",
   "metadata": {
    "scrolled": false
   },
   "outputs": [
    {
     "data": {
      "text/html": [
       "<div>\n",
       "<style scoped>\n",
       "    .dataframe tbody tr th:only-of-type {\n",
       "        vertical-align: middle;\n",
       "    }\n",
       "\n",
       "    .dataframe tbody tr th {\n",
       "        vertical-align: top;\n",
       "    }\n",
       "\n",
       "    .dataframe thead th {\n",
       "        text-align: right;\n",
       "    }\n",
       "</style>\n",
       "<table border=\"1\" class=\"dataframe\">\n",
       "  <thead>\n",
       "    <tr style=\"text-align: right;\">\n",
       "      <th></th>\n",
       "      <th>Entidad</th>\n",
       "      <th>Municipio</th>\n",
       "      <th>Sembrada (ha)</th>\n",
       "      <th>Cosechada (ha)</th>\n",
       "      <th>Siniestrada (ha)</th>\n",
       "      <th>Producción</th>\n",
       "      <th>Rendimiento (udm/ha)</th>\n",
       "      <th>Cultivo</th>\n",
       "      <th>fecha</th>\n",
       "    </tr>\n",
       "  </thead>\n",
       "  <tbody>\n",
       "    <tr>\n",
       "      <th>91</th>\n",
       "      <td>Ciudad de México</td>\n",
       "      <td>Tláhuac</td>\n",
       "      <td>1.8</td>\n",
       "      <td>1.8</td>\n",
       "      <td>0.0</td>\n",
       "      <td>43.20</td>\n",
       "      <td>24.00</td>\n",
       "      <td>alfalfa</td>\n",
       "      <td>2022-01-01</td>\n",
       "    </tr>\n",
       "    <tr>\n",
       "      <th>149</th>\n",
       "      <td>Chihuahua</td>\n",
       "      <td>Coronado</td>\n",
       "      <td>35.0</td>\n",
       "      <td>22.0</td>\n",
       "      <td>0.0</td>\n",
       "      <td>22.00</td>\n",
       "      <td>1.00</td>\n",
       "      <td>frijol</td>\n",
       "      <td>2021-10-01</td>\n",
       "    </tr>\n",
       "    <tr>\n",
       "      <th>52</th>\n",
       "      <td>Tamaulipas</td>\n",
       "      <td>Soto La Marina</td>\n",
       "      <td>3.0</td>\n",
       "      <td>0.0</td>\n",
       "      <td>0.0</td>\n",
       "      <td>0.00</td>\n",
       "      <td>0.00</td>\n",
       "      <td>toronja (pomelo)</td>\n",
       "      <td>2020-07-01</td>\n",
       "    </tr>\n",
       "    <tr>\n",
       "      <th>299</th>\n",
       "      <td>Oaxaca</td>\n",
       "      <td>San Pablo Villa de Mitla</td>\n",
       "      <td>116.5</td>\n",
       "      <td>7.5</td>\n",
       "      <td>0.0</td>\n",
       "      <td>485.40</td>\n",
       "      <td>64.72</td>\n",
       "      <td>agave</td>\n",
       "      <td>2023-08-01</td>\n",
       "    </tr>\n",
       "    <tr>\n",
       "      <th>94</th>\n",
       "      <td>Puebla</td>\n",
       "      <td>San Jerónimo Tecuanipan</td>\n",
       "      <td>10.0</td>\n",
       "      <td>0.0</td>\n",
       "      <td>0.0</td>\n",
       "      <td>0.00</td>\n",
       "      <td>0.00</td>\n",
       "      <td>brócoli</td>\n",
       "      <td>2021-08-01</td>\n",
       "    </tr>\n",
       "    <tr>\n",
       "      <th>129</th>\n",
       "      <td>Tamaulipas</td>\n",
       "      <td>Bustamante</td>\n",
       "      <td>140.5</td>\n",
       "      <td>80.0</td>\n",
       "      <td>0.0</td>\n",
       "      <td>92.80</td>\n",
       "      <td>1.16</td>\n",
       "      <td>tuna</td>\n",
       "      <td>2020-09-01</td>\n",
       "    </tr>\n",
       "    <tr>\n",
       "      <th>9</th>\n",
       "      <td>Jalisco</td>\n",
       "      <td>La Manzanilla de la Paz</td>\n",
       "      <td>2.0</td>\n",
       "      <td>2.0</td>\n",
       "      <td>0.0</td>\n",
       "      <td>4725.00</td>\n",
       "      <td>2362.50</td>\n",
       "      <td>rosa</td>\n",
       "      <td>2023-09-01</td>\n",
       "    </tr>\n",
       "    <tr>\n",
       "      <th>159</th>\n",
       "      <td>Quintana Roo</td>\n",
       "      <td>Bacalar</td>\n",
       "      <td>35.0</td>\n",
       "      <td>35.0</td>\n",
       "      <td>0.0</td>\n",
       "      <td>623.70</td>\n",
       "      <td>17.82</td>\n",
       "      <td>papaya</td>\n",
       "      <td>2020-06-01</td>\n",
       "    </tr>\n",
       "    <tr>\n",
       "      <th>226</th>\n",
       "      <td>Oaxaca</td>\n",
       "      <td>San Juan Ozolotepec</td>\n",
       "      <td>281.0</td>\n",
       "      <td>278.0</td>\n",
       "      <td>0.0</td>\n",
       "      <td>336.38</td>\n",
       "      <td>1.21</td>\n",
       "      <td>café cereza</td>\n",
       "      <td>2022-09-01</td>\n",
       "    </tr>\n",
       "    <tr>\n",
       "      <th>115</th>\n",
       "      <td>Guanajuato</td>\n",
       "      <td>León</td>\n",
       "      <td>111.5</td>\n",
       "      <td>111.5</td>\n",
       "      <td>0.0</td>\n",
       "      <td>2407.50</td>\n",
       "      <td>21.59</td>\n",
       "      <td>chile verde</td>\n",
       "      <td>2021-10-01</td>\n",
       "    </tr>\n",
       "  </tbody>\n",
       "</table>\n",
       "</div>"
      ],
      "text/plain": [
       "              Entidad                 Municipio  Sembrada (ha)  \\\n",
       "91   Ciudad de México                   Tláhuac            1.8   \n",
       "149         Chihuahua                  Coronado           35.0   \n",
       "52         Tamaulipas            Soto La Marina            3.0   \n",
       "299            Oaxaca  San Pablo Villa de Mitla          116.5   \n",
       "94             Puebla   San Jerónimo Tecuanipan           10.0   \n",
       "129        Tamaulipas                Bustamante          140.5   \n",
       "9             Jalisco   La Manzanilla de la Paz            2.0   \n",
       "159      Quintana Roo                   Bacalar           35.0   \n",
       "226            Oaxaca       San Juan Ozolotepec          281.0   \n",
       "115        Guanajuato                      León          111.5   \n",
       "\n",
       "     Cosechada (ha)  Siniestrada (ha)  Producción  Rendimiento (udm/ha)  \\\n",
       "91              1.8               0.0       43.20                 24.00   \n",
       "149            22.0               0.0       22.00                  1.00   \n",
       "52              0.0               0.0        0.00                  0.00   \n",
       "299             7.5               0.0      485.40                 64.72   \n",
       "94              0.0               0.0        0.00                  0.00   \n",
       "129            80.0               0.0       92.80                  1.16   \n",
       "9               2.0               0.0     4725.00               2362.50   \n",
       "159            35.0               0.0      623.70                 17.82   \n",
       "226           278.0               0.0      336.38                  1.21   \n",
       "115           111.5               0.0     2407.50                 21.59   \n",
       "\n",
       "              Cultivo      fecha  \n",
       "91            alfalfa 2022-01-01  \n",
       "149            frijol 2021-10-01  \n",
       "52   toronja (pomelo) 2020-07-01  \n",
       "299             agave 2023-08-01  \n",
       "94           brócoli 2021-08-01  \n",
       "129              tuna 2020-09-01  \n",
       "9                rosa 2023-09-01  \n",
       "159            papaya 2020-06-01  \n",
       "226      café cereza 2022-09-01  \n",
       "115       chile verde 2021-10-01  "
      ]
     },
     "execution_count": 24,
     "metadata": {},
     "output_type": "execute_result"
    }
   ],
   "source": [
    "df_cultivos_siap_wide.sample(10)"
   ]
  },
  {
   "cell_type": "markdown",
   "id": "fc60edd3",
   "metadata": {},
   "source": [
    "Antes de proseguir, podemos modificar las propiedades de seaborn para las visualizaciones que haremos mas adelante, seleccionando el estilo `whitegrid` y ajustando el tamaño de fuente a 1.2:"
   ]
  },
  {
   "cell_type": "code",
   "execution_count": 6,
   "id": "0b03ce31",
   "metadata": {},
   "outputs": [],
   "source": [
    "sns.set_style(\"whitegrid\")\n",
    "sns.set(font_scale=1.2)"
   ]
  },
  {
   "cell_type": "markdown",
   "id": "582709a5",
   "metadata": {},
   "source": [
    "# Analisis para datos sobre precios SNIIM"
   ]
  },
  {
   "cell_type": "markdown",
   "id": "d6452933",
   "metadata": {},
   "source": [
    "Antes de comenzar, crearemos un par de columnas en nuestra dataframe para indicar tanto el mes como el año de cada entrada:"
   ]
  },
  {
   "cell_type": "code",
   "execution_count": 7,
   "id": "f05e185a",
   "metadata": {},
   "outputs": [],
   "source": [
    "df_precios_sniim[\"año\"] = df_precios_sniim[\"fecha\"].dt.year\n",
    "df_precios_sniim[\"mes\"] = df_precios_sniim[\"fecha\"].dt.month"
   ]
  },
  {
   "cell_type": "markdown",
   "id": "ae1144a3",
   "metadata": {},
   "source": [
    "## Tendencia historica de los precios (2020 - 2023)"
   ]
  },
  {
   "cell_type": "code",
   "execution_count": 8,
   "id": "50c01068",
   "metadata": {},
   "outputs": [],
   "source": [
    "def graficar_precios(cultivo):\n",
    "    subset_df = df_precios_sniim[df_precios_sniim[\"producto\"] == cultivo]\n",
    "    \n",
    "    subset_df = subset_df.resample('D', on='fecha').mean(numeric_only=True)\n",
    "    subset_df[\"ewm\"] = subset_df[\"precio_frec\"].ewm(span=14).mean()\n",
    "    #subset_df[\"año\"] = subset_df.index.year\n",
    "    \n",
    "    fig,ax = plt.subplots()\n",
    "    \n",
    "    sns.lineplot(x=\"fecha\",\n",
    "                 y=\"ewm\",\n",
    "                 hue=\"año\",\n",
    "                 data=subset_df,\n",
    "                 errorbar=None,\n",
    "                 ax=ax,\n",
    "                 palette=\"tab10\")\n",
    "    \n",
    "    sns.scatterplot(x=\"fecha\",\n",
    "                    y=\"precio_frec\",\n",
    "                    hue=\"año\",\n",
    "                    data=subset_df,\n",
    "                    ax=ax,\n",
    "                    palette=\"tab10\",\n",
    "                    s=25,\n",
    "                    alpha=0.5)\n",
    "    \n",
    "    ax.title.set_text(f\"Historial de precios para {cultivo} (promedio diario)\")\n",
    "    ax.set_xlabel(\"Fecha\")\n",
    "    ax.set_ylabel(\"Precio por kg, MXN\")\n",
    "    ax.grid(axis='y')\n",
    "    ax.tick_params(axis='x',rotation=90);\n",
    "    ax.legend(title='Año', labels=[\"2020\",\"2021\",\"2022\",\"2023\"])\n",
    "    \n",
    "    fig.set_size_inches(16,9)\n",
    "    \n",
    "    plt.show()\n",
    "    \n",
    "    return"
   ]
  },
  {
   "cell_type": "code",
   "execution_count": 9,
   "id": "493ced6f",
   "metadata": {},
   "outputs": [],
   "source": [
    "lista_productos = sorted(list(df_precios_sniim[\"producto\"].unique()))\n",
    "lista_destinos = sorted(list(df_precios_sniim[\"destino\"].unique()))\n",
    "lista_anios = [2020,2021,2022,2023]\n",
    "#lista_productos[:5]"
   ]
  },
  {
   "cell_type": "code",
   "execution_count": 10,
   "id": "51e7b0f2",
   "metadata": {},
   "outputs": [
    {
     "data": {
      "application/vnd.jupyter.widget-view+json": {
       "model_id": "1b587c9f2aa14fee9acdcaffcf207475",
       "version_major": 2,
       "version_minor": 0
      },
      "text/plain": [
       "interactive(children=(Dropdown(description='Producto: ', options=('Acelga', 'Aguacate Criollo', 'Aguacate Hass…"
      ]
     },
     "metadata": {},
     "output_type": "display_data"
    },
    {
     "data": {
      "text/plain": [
       "<function __main__.graficar_precios(cultivo)>"
      ]
     },
     "execution_count": 10,
     "metadata": {},
     "output_type": "execute_result"
    }
   ],
   "source": [
    "dd_productos = widgets.Dropdown(options=lista_productos,\n",
    "                      value=lista_productos[0],\n",
    "                      description=\"Producto: \")\n",
    "\n",
    "widgets.interact(graficar_precios,cultivo=dd_productos)"
   ]
  },
  {
   "cell_type": "code",
   "execution_count": 11,
   "id": "4a035d37",
   "metadata": {},
   "outputs": [],
   "source": [
    "def grafica_anio(cultivo,anio):\n",
    "    subset_df = df_precios_sniim[df_precios_sniim[\"producto\"] == cultivo]\n",
    "    subset_df = subset_df[subset_df[\"año\"] == anio]\n",
    "    \n",
    "    try:\n",
    "        subset_df = subset_df.resample('D', on='fecha').mean(numeric_only=True)\n",
    "        subset_df[\"ewm\"] = subset_df[\"precio_frec\"].ewm(span=7).mean()\n",
    "\n",
    "        fig,ax = plt.subplots()\n",
    "\n",
    "        sns.lineplot(x=\"fecha\",\n",
    "                     y=\"ewm\",\n",
    "                     data=subset_df,\n",
    "                     errorbar=None,\n",
    "                     ax=ax)\n",
    "\n",
    "        sns.scatterplot(x=\"fecha\",\n",
    "                        y=\"precio_frec\",\n",
    "                        data=subset_df,\n",
    "                        ax=ax,\n",
    "                        s=25,\n",
    "                        alpha=0.5)\n",
    "\n",
    "        ax.title.set_text(f\"Historial de precios para {cultivo}, año: {anio} (promedio diario)\")\n",
    "        ax.set_xlabel(\"Fecha\")\n",
    "        ax.set_ylabel(\"Precio por kg, MXN\")\n",
    "        ax.grid(axis='y')\n",
    "        ax.tick_params(axis='x',rotation=90);\n",
    "\n",
    "        fig.set_size_inches(16,9)\n",
    "        \n",
    "        subset_df2 = df_precios_sniim[df_precios_sniim[\"producto\"] == cultivo]\n",
    "        subset_df2 = subset_df2[subset_df2[\"año\"] == anio]\n",
    "        \n",
    "        fecha_max = subset_df2[subset_df2[\"precio_max\"] == subset_df2[\"precio_max\"].max()][\"fecha\"].iloc[0]\n",
    "        central_max = subset_df2[subset_df2[\"precio_max\"] == subset_df2[\"precio_max\"].max()][\"central\"].iloc[0]\n",
    "        precio_max = subset_df2[\"precio_max\"].max()\n",
    "        \n",
    "        print(f\"Precio maximo: ${precio_max:.2f}/kg el {fecha_max.strftime('%d-%m-%Y')} en {central_max}\")\n",
    "        \n",
    "        fecha_min = subset_df2[subset_df2[\"precio_min\"] == subset_df2[\"precio_min\"].min()][\"fecha\"].iloc[0]\n",
    "        central_min = subset_df2[subset_df2[\"precio_min\"] == subset_df2[\"precio_min\"].min()][\"central\"].iloc[0]\n",
    "        precio_min = subset_df2[\"precio_min\"].min()\n",
    "        \n",
    "        print(f\"Precio minimo: ${precio_min:.2f}/kg el {fecha_min.strftime('%d-%m-%Y')} en {central_min}\")\n",
    "\n",
    "        plt.show()\n",
    "    \n",
    "    except:\n",
    "        print(\"No hay datos para esa combinacion\")\n",
    "    \n",
    "    return"
   ]
  },
  {
   "cell_type": "code",
   "execution_count": 12,
   "id": "66549c70",
   "metadata": {
    "scrolled": false
   },
   "outputs": [
    {
     "data": {
      "application/vnd.jupyter.widget-view+json": {
       "model_id": "b8067d7ea81648b181462af17259d843",
       "version_major": 2,
       "version_minor": 0
      },
      "text/plain": [
       "interactive(children=(Dropdown(description='Producto: ', options=('Acelga', 'Aguacate Criollo', 'Aguacate Hass…"
      ]
     },
     "metadata": {},
     "output_type": "display_data"
    },
    {
     "data": {
      "text/plain": [
       "<function __main__.grafica_anio(cultivo, anio)>"
      ]
     },
     "execution_count": 12,
     "metadata": {},
     "output_type": "execute_result"
    }
   ],
   "source": [
    "dd_productos = widgets.Dropdown(options=lista_productos,\n",
    "                      value=lista_productos[0],\n",
    "                      description=\"Producto: \")\n",
    "\n",
    "dd_anios = widgets.Dropdown(options=lista_anios,\n",
    "                      value=lista_anios[-1],\n",
    "                      description=\"Año: \")\n",
    "\n",
    "widgets.interact(grafica_anio,cultivo=dd_productos,anio=dd_anios)"
   ]
  },
  {
   "cell_type": "code",
   "execution_count": 21,
   "id": "949ea3dd",
   "metadata": {},
   "outputs": [],
   "source": [
    "def graficar_dist_precios(producto):\n",
    "    df = df_precios_sniim.copy()\n",
    "    \n",
    "    df_filter = df[(df[\"producto\"] == producto) & (df[\"año\"] == 2023)]\n",
    "    \n",
    "    try:\n",
    "        fig, (ax1,ax2) = plt.subplots(2,1)\n",
    "\n",
    "        sns.boxplot(x=\"mes\",\n",
    "                    y=\"precio_frec\",\n",
    "                    data=df_filter,\n",
    "                    ax=ax1)\n",
    "        \n",
    "\n",
    "        ax1.title.set_text(f\"Diagrama de cajas de precios por mes para {producto}\")\n",
    "        ax1.set_xlabel(\"Mes\")\n",
    "        ax1.set_ylabel(\"Precio por kg, MXN\")\n",
    "        \n",
    "        sns.histplot(x=\"precio_frec\",\n",
    "                   data=df_filter,\n",
    "                   ax=ax2,kde=True)\n",
    "        \n",
    "        ax2.title.set_text(f\"Histograma de precios en el año para {producto}\")\n",
    "        ax2.set_xlabel(\"Precio mas frecuente\")\n",
    "\n",
    "        fig.set_size_inches(16,16)\n",
    "        plt.tight_layout()\n",
    "        plt.show()\n",
    "    \n",
    "    except:\n",
    "        raise ValueError(\"Error! Parece que algo salio mal.\")"
   ]
  },
  {
   "cell_type": "code",
   "execution_count": 22,
   "id": "5b314f96",
   "metadata": {},
   "outputs": [
    {
     "data": {
      "application/vnd.jupyter.widget-view+json": {
       "model_id": "3688c562722e4295a2fd21afbfab3e7b",
       "version_major": 2,
       "version_minor": 0
      },
      "text/plain": [
       "interactive(children=(Dropdown(description='Producto: ', options=('Acelga', 'Aguacate Criollo', 'Aguacate Hass…"
      ]
     },
     "metadata": {},
     "output_type": "display_data"
    },
    {
     "data": {
      "text/plain": [
       "<function __main__.graficar_dist_precios(producto)>"
      ]
     },
     "execution_count": 22,
     "metadata": {},
     "output_type": "execute_result"
    }
   ],
   "source": [
    "dd_productos_hist = widgets.Dropdown(options=lista_productos,\n",
    "                      value=lista_productos[0],\n",
    "                      description=\"Producto: \")\n",
    "\n",
    "widgets.interact(graficar_dist_precios,producto = dd_productos_hist)"
   ]
  },
  {
   "cell_type": "code",
   "execution_count": 15,
   "id": "7b02035c",
   "metadata": {},
   "outputs": [],
   "source": [
    "def graficar_promedios_mensuales(producto,central):\n",
    "    df = df_precios_sniim.copy()\n",
    "    \n",
    "    df_filter = df[(df[\"producto\"] == producto) & (df[\"año\"] == 2023)]\n",
    "    df_grouped = df_filter.groupby([\"central\",\"mes\"])[\"precio_frec\"].mean().to_frame()\n",
    "    \n",
    "    df_unstacked = df_grouped.unstack()\n",
    "    df_unstacked.columns = df_unstacked.columns.droplevel()\n",
    "    df_unstacked = df_unstacked.reset_index()\n",
    "    df_unstacked.columns.name=None\n",
    "    \n",
    "    df_melted = df_unstacked.melt(id_vars=[\"central\"],var_name=\"mes\",value_name=\"precio_promedio\").dropna()\n",
    "    \n",
    "    dict_meses = {1: \"Enero\",\n",
    "                  2: \"Febrero\",\n",
    "                  3: \"Marzo\",\n",
    "                  4: \"Abril\",\n",
    "                  5: \"Mayo\",\n",
    "                  6: \"Junio\",\n",
    "                  7: \"Julio\",\n",
    "                  8: \"Agosto\",\n",
    "                  9: \"Septiembre\",\n",
    "                  10: \"Octubre\",\n",
    "                  11: \"Noviembre\",\n",
    "                  12: \"Diciembre\"}\n",
    "    \n",
    "    df_melted[\"mes\"] = df_melted[\"mes\"].map(dict_meses)\n",
    "    df_final = df_melted[df_melted[\"central\"] == central]\n",
    "    \n",
    "    try:\n",
    "        fig, ax = plt.subplots()\n",
    "\n",
    "        sns.pointplot(x=\"mes\",\n",
    "                      y=\"precio_promedio\",\n",
    "                      data=df_final,\n",
    "                      ax=ax,\n",
    "                      color='r',\n",
    "                      errorbar=None)\n",
    "\n",
    "        ax.title.set_text(f\"Precios mensuales para {producto} en {central} (promedio mensual)\")\n",
    "        ax.set_xlabel(\"Mes\")\n",
    "        ax.set_ylabel(\"Precio por kg, MXN\")\n",
    "        ax.grid(axis='x')\n",
    "\n",
    "        fig.set_size_inches(16,9)\n",
    "        plt.show()\n",
    "    \n",
    "    except:\n",
    "        raise ValueError(f\"No existen datos para {producto} en {central}\")"
   ]
  },
  {
   "cell_type": "code",
   "execution_count": 16,
   "id": "cb0bd291",
   "metadata": {},
   "outputs": [],
   "source": [
    "def obtener_valores_unicos(df,columna):\n",
    "    return sorted(list(df[columna].unique()))"
   ]
  },
  {
   "cell_type": "code",
   "execution_count": 17,
   "id": "2fdc0d05",
   "metadata": {},
   "outputs": [],
   "source": [
    "def generar_grafica_precios_meses(producto):\n",
    "    df = df_precios_sniim.copy()\n",
    "    subset_df = df[(df[\"producto\"] == producto) & (df[\"año\"] == 2023)]\n",
    "    \n",
    "    lista_centrales = obtener_valores_unicos(subset_df,\"central\")\n",
    "    \n",
    "    dd_centrales = widgets.Dropdown(options=lista_centrales,\n",
    "                      value=lista_centrales[0],\n",
    "                      description=\"Central: \")\n",
    "    \n",
    "    widgets.interact(graficar_promedios_mensuales,producto=widgets.fixed(producto),central=dd_centrales)"
   ]
  },
  {
   "cell_type": "code",
   "execution_count": 18,
   "id": "9ff9bd50",
   "metadata": {
    "scrolled": false
   },
   "outputs": [
    {
     "data": {
      "application/vnd.jupyter.widget-view+json": {
       "model_id": "7cb9b11bfb1049cb8255d5fca761a949",
       "version_major": 2,
       "version_minor": 0
      },
      "text/plain": [
       "interactive(children=(Dropdown(description='Producto: ', options=('Acelga', 'Aguacate Criollo', 'Aguacate Hass…"
      ]
     },
     "metadata": {},
     "output_type": "display_data"
    },
    {
     "data": {
      "text/plain": [
       "<function __main__.generar_grafica_precios_meses(producto)>"
      ]
     },
     "execution_count": 18,
     "metadata": {},
     "output_type": "execute_result"
    }
   ],
   "source": [
    "dd_productos2 = widgets.Dropdown(options=lista_productos,\n",
    "                      value=lista_productos[0],\n",
    "                      description=\"Producto: \")\n",
    "\n",
    "widgets.interact(generar_grafica_precios_meses,producto=dd_productos2)"
   ]
  },
  {
   "cell_type": "markdown",
   "id": "2b0be4c3",
   "metadata": {},
   "source": [
    "## Utilizando categorias del SIAP"
   ]
  },
  {
   "cell_type": "code",
   "execution_count": null,
   "id": "09d4b24d",
   "metadata": {},
   "outputs": [],
   "source": []
  }
 ],
 "metadata": {
  "kernelspec": {
   "display_name": "Python 3 (ipykernel)",
   "language": "python",
   "name": "python3"
  },
  "language_info": {
   "codemirror_mode": {
    "name": "ipython",
    "version": 3
   },
   "file_extension": ".py",
   "mimetype": "text/x-python",
   "name": "python",
   "nbconvert_exporter": "python",
   "pygments_lexer": "ipython3",
   "version": "3.10.9"
  }
 },
 "nbformat": 4,
 "nbformat_minor": 5
}
