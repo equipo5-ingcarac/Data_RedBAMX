{
 "cells": [
  {
   "cell_type": "code",
   "execution_count": 1,
   "id": "71598345",
   "metadata": {},
   "outputs": [],
   "source": [
    "import pandas as pd\n",
    "import numpy as np\n",
    "import seaborn as sns\n",
    "import matplotlib.pyplot as plt\n",
    "import os\n",
    "import ipywidgets as widgets"
   ]
  },
  {
   "cell_type": "markdown",
   "id": "f9cee3ce",
   "metadata": {},
   "source": [
    "# Importando nuestros datos"
   ]
  },
  {
   "cell_type": "markdown",
   "id": "0678753a",
   "metadata": {},
   "source": [
    "Comenzamos obteniendo los archivos que contienen nuestros datasets, definiendo un path para cada uno para despues importarlos como dataframes"
   ]
  },
  {
   "cell_type": "code",
   "execution_count": 2,
   "id": "901e0bc2",
   "metadata": {},
   "outputs": [],
   "source": [
    "data_path_sniim = os.path.join(\"..\",\"..\",\"data\",\"clean_data\",\"precios_sniim.parquet\")\n",
    "data_path_siap = os.path.join(\"..\",\"..\",\"data\",\"clean_data\",\"siap.parquet.zip\")\n",
    "data_path_siap_wide = os.path.join(\"..\",\"..\",\"data\",\"clean_data\",\"siap_wide.parquet.zip\")"
   ]
  },
  {
   "cell_type": "code",
   "execution_count": 3,
   "id": "0a3323ee",
   "metadata": {},
   "outputs": [],
   "source": [
    "df_precios_sniim = pd.read_parquet(data_path_sniim)\n",
    "df_cultivos_siap = pd.read_parquet(data_path_siap)\n",
    "df_cultivos_siap_wide = pd.read_parquet(data_path_siap_wide)"
   ]
  },
  {
   "cell_type": "markdown",
   "id": "194adb3c",
   "metadata": {},
   "source": [
    "Después, podemos obtener algunas muestras de nuestras dataframes para verificar su estructura, las cuales están especificadas en nuestros diccionario de datos."
   ]
  },
  {
   "cell_type": "code",
   "execution_count": 4,
   "id": "4f0494ca",
   "metadata": {},
   "outputs": [
    {
     "data": {
      "text/html": [
       "<div>\n",
       "<style scoped>\n",
       "    .dataframe tbody tr th:only-of-type {\n",
       "        vertical-align: middle;\n",
       "    }\n",
       "\n",
       "    .dataframe tbody tr th {\n",
       "        vertical-align: top;\n",
       "    }\n",
       "\n",
       "    .dataframe thead th {\n",
       "        text-align: right;\n",
       "    }\n",
       "</style>\n",
       "<table border=\"1\" class=\"dataframe\">\n",
       "  <thead>\n",
       "    <tr style=\"text-align: right;\">\n",
       "      <th></th>\n",
       "      <th>fecha</th>\n",
       "      <th>producto</th>\n",
       "      <th>presentacion</th>\n",
       "      <th>origen</th>\n",
       "      <th>destino</th>\n",
       "      <th>central</th>\n",
       "      <th>precio_min</th>\n",
       "      <th>precio_max</th>\n",
       "      <th>precio_frec</th>\n",
       "    </tr>\n",
       "  </thead>\n",
       "  <tbody>\n",
       "    <tr>\n",
       "      <th>392896</th>\n",
       "      <td>2021-10-18</td>\n",
       "      <td>Jamaica</td>\n",
       "      <td>Kilogramo</td>\n",
       "      <td>Guerrero</td>\n",
       "      <td>Guerrero</td>\n",
       "      <td>Central de Abastos de Acapulco</td>\n",
       "      <td>110.00</td>\n",
       "      <td>110.00</td>\n",
       "      <td>110.00</td>\n",
       "    </tr>\n",
       "    <tr>\n",
       "      <th>588582</th>\n",
       "      <td>2022-04-18</td>\n",
       "      <td>Zanahoria Leña</td>\n",
       "      <td>Arpilla de 25 kg.</td>\n",
       "      <td>Puebla</td>\n",
       "      <td>DF</td>\n",
       "      <td>Central de Abasto de Iztapalapa DF</td>\n",
       "      <td>2.80</td>\n",
       "      <td>3.60</td>\n",
       "      <td>3.20</td>\n",
       "    </tr>\n",
       "    <tr>\n",
       "      <th>444884</th>\n",
       "      <td>2023-06-15</td>\n",
       "      <td>Fresa</td>\n",
       "      <td>Caja de 9 kg.</td>\n",
       "      <td>Distrito Federal</td>\n",
       "      <td>México</td>\n",
       "      <td>Central de Abasto de Ecatepec</td>\n",
       "      <td>26.67</td>\n",
       "      <td>33.33</td>\n",
       "      <td>27.78</td>\n",
       "    </tr>\n",
       "    <tr>\n",
       "      <th>909860</th>\n",
       "      <td>2021-02-15</td>\n",
       "      <td>Cacahuate</td>\n",
       "      <td>Kilogramo</td>\n",
       "      <td>Chihuahua</td>\n",
       "      <td>Coahuila</td>\n",
       "      <td>Central de Abasto de La Laguna, Torreón</td>\n",
       "      <td>45.00</td>\n",
       "      <td>50.00</td>\n",
       "      <td>47.00</td>\n",
       "    </tr>\n",
       "    <tr>\n",
       "      <th>1753716</th>\n",
       "      <td>2021-08-05</td>\n",
       "      <td>Zanahoria Mediana</td>\n",
       "      <td>Kilogramo</td>\n",
       "      <td>Puebla</td>\n",
       "      <td>Puebla</td>\n",
       "      <td>Central de Abasto de Puebla</td>\n",
       "      <td>9.00</td>\n",
       "      <td>10.00</td>\n",
       "      <td>9.00</td>\n",
       "    </tr>\n",
       "    <tr>\n",
       "      <th>1354603</th>\n",
       "      <td>2022-03-23</td>\n",
       "      <td>Chile De Arbol Fresco</td>\n",
       "      <td>Arpilla de 30 kg.</td>\n",
       "      <td>Jalisco</td>\n",
       "      <td>Jalisco</td>\n",
       "      <td>Mercado Felipe Ángeles de Guadalajara</td>\n",
       "      <td>50.50</td>\n",
       "      <td>50.50</td>\n",
       "      <td>50.50</td>\n",
       "    </tr>\n",
       "    <tr>\n",
       "      <th>1534541</th>\n",
       "      <td>2022-11-24</td>\n",
       "      <td>Uva Globo</td>\n",
       "      <td>Caja de 11 kg.</td>\n",
       "      <td>Baja California</td>\n",
       "      <td>Baja California Sur</td>\n",
       "      <td>Unión de Comerciantes de La Paz</td>\n",
       "      <td>36.36</td>\n",
       "      <td>63.64</td>\n",
       "      <td>54.55</td>\n",
       "    </tr>\n",
       "    <tr>\n",
       "      <th>1402141</th>\n",
       "      <td>2020-05-08</td>\n",
       "      <td>Chile Pasilla</td>\n",
       "      <td>Kilogramo</td>\n",
       "      <td>Jalisco</td>\n",
       "      <td>Colima</td>\n",
       "      <td>Centros de distribución de Colima</td>\n",
       "      <td>120.00</td>\n",
       "      <td>121.00</td>\n",
       "      <td>121.00</td>\n",
       "    </tr>\n",
       "    <tr>\n",
       "      <th>1680009</th>\n",
       "      <td>2021-04-14</td>\n",
       "      <td>Uva Globo</td>\n",
       "      <td>Caja de 8 kg.</td>\n",
       "      <td>Importación</td>\n",
       "      <td>Querétaro</td>\n",
       "      <td>Mercado de Abasto de Querétaro</td>\n",
       "      <td>62.50</td>\n",
       "      <td>68.75</td>\n",
       "      <td>68.75</td>\n",
       "    </tr>\n",
       "    <tr>\n",
       "      <th>850079</th>\n",
       "      <td>2022-05-31</td>\n",
       "      <td>Chile Pimiento Morron</td>\n",
       "      <td>Kilogramo</td>\n",
       "      <td>Veracruz</td>\n",
       "      <td>Veracruz</td>\n",
       "      <td>Central de Abasto de Jalapa</td>\n",
       "      <td>35.00</td>\n",
       "      <td>36.00</td>\n",
       "      <td>36.00</td>\n",
       "    </tr>\n",
       "  </tbody>\n",
       "</table>\n",
       "</div>"
      ],
      "text/plain": [
       "             fecha               producto       presentacion  \\\n",
       "392896  2021-10-18                Jamaica          Kilogramo   \n",
       "588582  2022-04-18         Zanahoria Leña  Arpilla de 25 kg.   \n",
       "444884  2023-06-15                  Fresa      Caja de 9 kg.   \n",
       "909860  2021-02-15              Cacahuate          Kilogramo   \n",
       "1753716 2021-08-05      Zanahoria Mediana          Kilogramo   \n",
       "1354603 2022-03-23  Chile De Arbol Fresco  Arpilla de 30 kg.   \n",
       "1534541 2022-11-24              Uva Globo     Caja de 11 kg.   \n",
       "1402141 2020-05-08          Chile Pasilla          Kilogramo   \n",
       "1680009 2021-04-14              Uva Globo      Caja de 8 kg.   \n",
       "850079  2022-05-31  Chile Pimiento Morron          Kilogramo   \n",
       "\n",
       "                   origen              destino  \\\n",
       "392896           Guerrero             Guerrero   \n",
       "588582             Puebla                   DF   \n",
       "444884   Distrito Federal               México   \n",
       "909860          Chihuahua             Coahuila   \n",
       "1753716            Puebla               Puebla   \n",
       "1354603           Jalisco              Jalisco   \n",
       "1534541   Baja California  Baja California Sur   \n",
       "1402141           Jalisco               Colima   \n",
       "1680009       Importación            Querétaro   \n",
       "850079           Veracruz             Veracruz   \n",
       "\n",
       "                                         central  precio_min  precio_max  \\\n",
       "392896            Central de Abastos de Acapulco      110.00      110.00   \n",
       "588582        Central de Abasto de Iztapalapa DF        2.80        3.60   \n",
       "444884             Central de Abasto de Ecatepec       26.67       33.33   \n",
       "909860   Central de Abasto de La Laguna, Torreón       45.00       50.00   \n",
       "1753716              Central de Abasto de Puebla        9.00       10.00   \n",
       "1354603    Mercado Felipe Ángeles de Guadalajara       50.50       50.50   \n",
       "1534541          Unión de Comerciantes de La Paz       36.36       63.64   \n",
       "1402141        Centros de distribución de Colima      120.00      121.00   \n",
       "1680009           Mercado de Abasto de Querétaro       62.50       68.75   \n",
       "850079               Central de Abasto de Jalapa       35.00       36.00   \n",
       "\n",
       "         precio_frec  \n",
       "392896        110.00  \n",
       "588582          3.20  \n",
       "444884         27.78  \n",
       "909860         47.00  \n",
       "1753716         9.00  \n",
       "1354603        50.50  \n",
       "1534541        54.55  \n",
       "1402141       121.00  \n",
       "1680009        68.75  \n",
       "850079         36.00  "
      ]
     },
     "execution_count": 4,
     "metadata": {},
     "output_type": "execute_result"
    }
   ],
   "source": [
    "df_precios_sniim.sample(10)"
   ]
  },
  {
   "cell_type": "code",
   "execution_count": 5,
   "id": "642bc36f",
   "metadata": {},
   "outputs": [
    {
     "data": {
      "text/html": [
       "<div>\n",
       "<style scoped>\n",
       "    .dataframe tbody tr th:only-of-type {\n",
       "        vertical-align: middle;\n",
       "    }\n",
       "\n",
       "    .dataframe tbody tr th {\n",
       "        vertical-align: top;\n",
       "    }\n",
       "\n",
       "    .dataframe thead th {\n",
       "        text-align: right;\n",
       "    }\n",
       "</style>\n",
       "<table border=\"1\" class=\"dataframe\">\n",
       "  <thead>\n",
       "    <tr style=\"text-align: right;\">\n",
       "      <th></th>\n",
       "      <th>Entidad</th>\n",
       "      <th>Municipio</th>\n",
       "      <th>Sembrada (ha)</th>\n",
       "      <th>Cosechada (ha)</th>\n",
       "      <th>Siniestrada (ha)</th>\n",
       "      <th>Producción</th>\n",
       "      <th>Rendimiento (udm/ha)</th>\n",
       "      <th>Cultivo</th>\n",
       "      <th>fecha</th>\n",
       "    </tr>\n",
       "  </thead>\n",
       "  <tbody>\n",
       "    <tr>\n",
       "      <th>428</th>\n",
       "      <td>Veracruz</td>\n",
       "      <td>Jalcomulco</td>\n",
       "      <td>83.00</td>\n",
       "      <td>60.0</td>\n",
       "      <td>0.0</td>\n",
       "      <td>96.00</td>\n",
       "      <td>1.60</td>\n",
       "      <td>café cereza</td>\n",
       "      <td>2020-06-01</td>\n",
       "    </tr>\n",
       "    <tr>\n",
       "      <th>372</th>\n",
       "      <td>Puebla</td>\n",
       "      <td>Francisco Z. Mena</td>\n",
       "      <td>136.00</td>\n",
       "      <td>127.5</td>\n",
       "      <td>0.0</td>\n",
       "      <td>1265.00</td>\n",
       "      <td>9.92</td>\n",
       "      <td>limón</td>\n",
       "      <td>2020-10-01</td>\n",
       "    </tr>\n",
       "    <tr>\n",
       "      <th>10</th>\n",
       "      <td>Campeche</td>\n",
       "      <td>Tenabo</td>\n",
       "      <td>15.50</td>\n",
       "      <td>13.0</td>\n",
       "      <td>0.0</td>\n",
       "      <td>123.50</td>\n",
       "      <td>9.50</td>\n",
       "      <td>aguacate</td>\n",
       "      <td>2021-09-01</td>\n",
       "    </tr>\n",
       "    <tr>\n",
       "      <th>189</th>\n",
       "      <td>Michoacán</td>\n",
       "      <td>Ocampo</td>\n",
       "      <td>11.00</td>\n",
       "      <td>11.0</td>\n",
       "      <td>0.0</td>\n",
       "      <td>77.00</td>\n",
       "      <td>7.00</td>\n",
       "      <td>durazno</td>\n",
       "      <td>2022-09-01</td>\n",
       "    </tr>\n",
       "    <tr>\n",
       "      <th>22</th>\n",
       "      <td>Guerrero</td>\n",
       "      <td>Alcozauca de Guerrero</td>\n",
       "      <td>0.50</td>\n",
       "      <td>0.0</td>\n",
       "      <td>0.0</td>\n",
       "      <td>0.00</td>\n",
       "      <td>0.00</td>\n",
       "      <td>pera</td>\n",
       "      <td>2020-06-01</td>\n",
       "    </tr>\n",
       "    <tr>\n",
       "      <th>163</th>\n",
       "      <td>Michoacán</td>\n",
       "      <td>La Piedad</td>\n",
       "      <td>1953.71</td>\n",
       "      <td>0.0</td>\n",
       "      <td>0.0</td>\n",
       "      <td>0.00</td>\n",
       "      <td>0.00</td>\n",
       "      <td>trigo grano</td>\n",
       "      <td>2020-03-01</td>\n",
       "    </tr>\n",
       "    <tr>\n",
       "      <th>165</th>\n",
       "      <td>Nuevo León</td>\n",
       "      <td>Rayones</td>\n",
       "      <td>1199.00</td>\n",
       "      <td>0.0</td>\n",
       "      <td>0.0</td>\n",
       "      <td>0.00</td>\n",
       "      <td>0.00</td>\n",
       "      <td>nuez</td>\n",
       "      <td>2021-09-01</td>\n",
       "    </tr>\n",
       "    <tr>\n",
       "      <th>365</th>\n",
       "      <td>Puebla</td>\n",
       "      <td>Juan C. Bonilla</td>\n",
       "      <td>7.00</td>\n",
       "      <td>2.0</td>\n",
       "      <td>0.0</td>\n",
       "      <td>15.55</td>\n",
       "      <td>7.78</td>\n",
       "      <td>durazno</td>\n",
       "      <td>2021-07-01</td>\n",
       "    </tr>\n",
       "    <tr>\n",
       "      <th>191</th>\n",
       "      <td>Jalisco</td>\n",
       "      <td>Tepatitlán de Morelos</td>\n",
       "      <td>492.25</td>\n",
       "      <td>449.5</td>\n",
       "      <td>0.0</td>\n",
       "      <td>862.04</td>\n",
       "      <td>1.92</td>\n",
       "      <td>aguacate</td>\n",
       "      <td>2021-01-01</td>\n",
       "    </tr>\n",
       "    <tr>\n",
       "      <th>34</th>\n",
       "      <td>Guanajuato</td>\n",
       "      <td>San Diego de La Unión</td>\n",
       "      <td>4.00</td>\n",
       "      <td>0.0</td>\n",
       "      <td>0.0</td>\n",
       "      <td>0.00</td>\n",
       "      <td>0.00</td>\n",
       "      <td>uva</td>\n",
       "      <td>2021-04-01</td>\n",
       "    </tr>\n",
       "  </tbody>\n",
       "</table>\n",
       "</div>"
      ],
      "text/plain": [
       "        Entidad              Municipio  Sembrada (ha)  Cosechada (ha)  \\\n",
       "428    Veracruz             Jalcomulco          83.00            60.0   \n",
       "372      Puebla      Francisco Z. Mena         136.00           127.5   \n",
       "10     Campeche                 Tenabo          15.50            13.0   \n",
       "189   Michoacán                 Ocampo          11.00            11.0   \n",
       "22     Guerrero  Alcozauca de Guerrero           0.50             0.0   \n",
       "163   Michoacán              La Piedad        1953.71             0.0   \n",
       "165  Nuevo León                Rayones        1199.00             0.0   \n",
       "365      Puebla        Juan C. Bonilla           7.00             2.0   \n",
       "191     Jalisco  Tepatitlán de Morelos         492.25           449.5   \n",
       "34   Guanajuato  San Diego de La Unión           4.00             0.0   \n",
       "\n",
       "     Siniestrada (ha)  Producción  Rendimiento (udm/ha)       Cultivo  \\\n",
       "428               0.0       96.00                  1.60  café cereza   \n",
       "372               0.0     1265.00                  9.92        limón   \n",
       "10                0.0      123.50                  9.50      aguacate   \n",
       "189               0.0       77.00                  7.00       durazno   \n",
       "22                0.0        0.00                  0.00          pera   \n",
       "163               0.0        0.00                  0.00   trigo grano   \n",
       "165               0.0        0.00                  0.00          nuez   \n",
       "365               0.0       15.55                  7.78       durazno   \n",
       "191               0.0      862.04                  1.92      aguacate   \n",
       "34                0.0        0.00                  0.00           uva   \n",
       "\n",
       "         fecha  \n",
       "428 2020-06-01  \n",
       "372 2020-10-01  \n",
       "10  2021-09-01  \n",
       "189 2022-09-01  \n",
       "22  2020-06-01  \n",
       "163 2020-03-01  \n",
       "165 2021-09-01  \n",
       "365 2021-07-01  \n",
       "191 2021-01-01  \n",
       "34  2021-04-01  "
      ]
     },
     "execution_count": 5,
     "metadata": {},
     "output_type": "execute_result"
    }
   ],
   "source": [
    "df_cultivos_siap_wide.sample(10)"
   ]
  },
  {
   "cell_type": "markdown",
   "id": "fc60edd3",
   "metadata": {},
   "source": [
    "Antes de proseguir, podemos modificar las propiedades de seaborn para las visualizaciones que haremos mas adelante, seleccionando el estilo `whitegrid` y ajustando el tamaño de fuente a 1.2:"
   ]
  },
  {
   "cell_type": "code",
   "execution_count": 6,
   "id": "0b03ce31",
   "metadata": {},
   "outputs": [],
   "source": [
    "sns.set_style(\"whitegrid\")\n",
    "sns.set(font_scale=1.2)"
   ]
  },
  {
   "cell_type": "markdown",
   "id": "582709a5",
   "metadata": {},
   "source": [
    "# Analisis para datos sobre precios SNIIM"
   ]
  },
  {
   "cell_type": "markdown",
   "id": "d6452933",
   "metadata": {},
   "source": [
    "Antes de comenzar, crearemos un par de columnas en nuestra dataframe para indicar tanto el mes como el año de cada entrada:"
   ]
  },
  {
   "cell_type": "code",
   "execution_count": 7,
   "id": "f05e185a",
   "metadata": {},
   "outputs": [],
   "source": [
    "df_precios_sniim[\"año\"] = df_precios_sniim[\"fecha\"].dt.year\n",
    "df_precios_sniim[\"mes\"] = df_precios_sniim[\"fecha\"].dt.month"
   ]
  },
  {
   "cell_type": "markdown",
   "id": "ae1144a3",
   "metadata": {},
   "source": [
    "## Tendencia historica de los precios (2020 - 2023)"
   ]
  },
  {
   "cell_type": "markdown",
   "id": "81ac44a6",
   "metadata": {},
   "source": [
    "Para comenzar, podemos tratar de visualizar el cambio en los precios diarios para los productos de nuestro dataset. Sin embargo, existen algunos puntos importantes a considerar:\n",
    "* **La cantidad de datos**, ya que nuestro dataframe cuenta con 2 019 574 entradas, para diversos precios de diferentes productos en el periodo 2020 - 2023 a lo largo del país.\n",
    "* **La cantidad de productos**, en la columna `producto` de nuestro dataframe, tenemos 199 productos unicos, por lo que visualizar la variación o en el precio de cada uno al mismo tiempo puede no ser lo más práctico"
   ]
  },
  {
   "cell_type": "code",
   "execution_count": 8,
   "id": "b6db6ab7",
   "metadata": {},
   "outputs": [
    {
     "data": {
      "text/plain": [
       "(2019574, 11)"
      ]
     },
     "execution_count": 8,
     "metadata": {},
     "output_type": "execute_result"
    }
   ],
   "source": [
    "df_precios_sniim.shape"
   ]
  },
  {
   "cell_type": "code",
   "execution_count": 9,
   "id": "bd6db57c",
   "metadata": {},
   "outputs": [
    {
     "data": {
      "text/plain": [
       "199"
      ]
     },
     "execution_count": 9,
     "metadata": {},
     "output_type": "execute_result"
    }
   ],
   "source": [
    "df_precios_sniim[\"producto\"].nunique()"
   ]
  },
  {
   "cell_type": "markdown",
   "id": "9669d79f",
   "metadata": {},
   "source": [
    "Sin embargo, podemos hacer uso de las librerias `ipywidgets` y `seaborn` para agregar interactividad a nuestros plots, esto nos permitirá agilizar el proceso de visualización de nuestros datos.\n",
    "\n",
    "Para ello, primero definimos una función que nos generará un gráfico de los precios promedios diarios de un producto dado a lo largo del periodo seleccionado (2020 - 2023), ademas, podemos agregar una media móvil exponencial para tratar de apreciar mejor la tendencia del precio del producto a lo través del tiempo. Esto lo podemos lograr utilizando la libreria `seaborn`, ademas de los métodos `resample` y `ewm` de nuestro dataframe."
   ]
  },
  {
   "cell_type": "code",
   "execution_count": 10,
   "id": "50c01068",
   "metadata": {},
   "outputs": [],
   "source": [
    "def graficar_precios(cultivo):\n",
    "    \"\"\"\n",
    "    Grafica el promedio de los precios diarios de un cultivo desde el año 2020 hasta la fecha del ultimo registro, \n",
    "    ademas de una linea de tendencia (filtro exponencial)\n",
    "    \"\"\"\n",
    "    subset_df = df_precios_sniim[df_precios_sniim[\"producto\"] == cultivo]\n",
    "    \n",
    "    subset_df = subset_df.resample('D', on='fecha').mean(numeric_only=True)\n",
    "    subset_df[\"ewm\"] = subset_df[\"precio_frec\"].ewm(span=14).mean()\n",
    "    #subset_df[\"año\"] = subset_df.index.year\n",
    "    \n",
    "    fig,ax = plt.subplots()\n",
    "    \n",
    "    sns.lineplot(x=\"fecha\",\n",
    "                 y=\"ewm\",\n",
    "                 hue=\"año\",\n",
    "                 data=subset_df,\n",
    "                 errorbar=None,\n",
    "                 ax=ax,\n",
    "                 palette=\"tab10\")\n",
    "    \n",
    "    sns.scatterplot(x=\"fecha\",\n",
    "                    y=\"precio_frec\",\n",
    "                    hue=\"año\",\n",
    "                    data=subset_df,\n",
    "                    ax=ax,\n",
    "                    palette=\"tab10\",\n",
    "                    s=25,\n",
    "                    alpha=0.5)\n",
    "    \n",
    "    ax.title.set_text(f\"Historial de precios para {cultivo} (promedio diario)\")\n",
    "    ax.set_xlabel(\"Fecha\")\n",
    "    ax.set_ylabel(\"Precio por kg, MXN\")\n",
    "    ax.grid(axis='y')\n",
    "    ax.tick_params(axis='x',rotation=90);\n",
    "    ax.legend(title='Año', labels=[\"2020\",\"2021\",\"2022\",\"2023\"])\n",
    "    \n",
    "    fig.set_size_inches(16,9)\n",
    "    \n",
    "    plt.show()\n",
    "    \n",
    "    return"
   ]
  },
  {
   "cell_type": "markdown",
   "id": "a9fbf7bc",
   "metadata": {},
   "source": [
    "Después obtenemos una lista de los valores únicos de la columna producto, la cual podremos utilizar en nuestro widget para seleccionar el producto de nuestro interés."
   ]
  },
  {
   "cell_type": "code",
   "execution_count": 11,
   "id": "493ced6f",
   "metadata": {},
   "outputs": [],
   "source": [
    "lista_productos = sorted(list(df_precios_sniim[\"producto\"].unique()))\n",
    "lista_anios = [2020,2021,2022,2023]\n",
    "#lista_productos[:5]"
   ]
  },
  {
   "cell_type": "markdown",
   "id": "90756c5c",
   "metadata": {},
   "source": [
    "Finalmente, generamos un widget de tipo `Dropdown` el cual tomará los valores de la lista anterior, y utilizando la función `interact` de `ipywidgets`, podemos generar el gráfico de tendencia del producto que seleccionemos en nuestro widget, ya que al seleccionarlo se ejecutará la funcion `graficar_precios`, la cual tomará como valor el producto seleccionado de la lista."
   ]
  },
  {
   "cell_type": "code",
   "execution_count": 12,
   "id": "51e7b0f2",
   "metadata": {},
   "outputs": [
    {
     "data": {
      "application/vnd.jupyter.widget-view+json": {
       "model_id": "c31a43a734d24a099b59636c1ff4cf32",
       "version_major": 2,
       "version_minor": 0
      },
      "text/plain": [
       "interactive(children=(Dropdown(description='Producto: ', options=('Acelga', 'Aguacate Criollo', 'Aguacate Hass…"
      ]
     },
     "metadata": {},
     "output_type": "display_data"
    },
    {
     "data": {
      "text/plain": [
       "<function __main__.graficar_precios(cultivo)>"
      ]
     },
     "execution_count": 12,
     "metadata": {},
     "output_type": "execute_result"
    }
   ],
   "source": [
    "dd_productos = widgets.Dropdown(options=lista_productos,\n",
    "                      value=lista_productos[0],\n",
    "                      description=\"Producto: \")\n",
    "\n",
    "widgets.interact(graficar_precios,cultivo=dd_productos)"
   ]
  },
  {
   "cell_type": "markdown",
   "id": "26f8539c",
   "metadata": {},
   "source": [
    "Con la celda anterior podemos apreciar rápida y facilmente las tendencias para diversos productos, podemos ver que para productos como el **Tomate Rojo, el Saladette y el Verde**, a pesar de algunas variaciones que parecen ser estacionarias, el precio se ha mantenido en el rango de los $20.00 pesos por kilo en promedio. Sin embargo, si se repiten los patrones, puede que el precio de estos alcance un pico en los próximos meses.\n",
    "\n",
    "Para el caso del **Limón**, podemos ver que todas las variedades de éste tuvieron un gran pico en el su precio a principios del 2022, incluso el #2 alcanzo un precio promedio diario de mas de $70.00 pesos por kilo en este periodo. Además, podemos ver que todas las variedades (#2,#3,#4,#5 y sin semilla) de este producto muestran una tendencia a la alta a lo largo de estos últimos meses.\n",
    "\n",
    "Por otro lado, vemos que para las diversas variedades de **Manzana**, su precio promedio ha ido en constante aumento desde el 2020 hasta la fecha, y segun las tendencias más actuales, esta alza podria continuar al menos en el corto plazo.\n",
    "\n",
    "Para el caso del **Plátano**, parece ser que tanto la variedad Chiapas como el resto han estado experimentando un lento pero constante aumento en su precio desde el 2020. El mismo comportamiento parecen estarlo experimentando las diferentes presentaciones de la **Guayaba** y la **Piña**, esta última ha estado experimentando un aumento más pronunciado en su precio promedio en las últimas semanas.\n"
   ]
  },
  {
   "cell_type": "markdown",
   "id": "b8ad1c34",
   "metadata": {},
   "source": [
    "## Tendencia anual"
   ]
  },
  {
   "cell_type": "markdown",
   "id": "74d605cb",
   "metadata": {},
   "source": [
    "Realizando un procedimiento similar, podemos generar una grafica específica para cada año, esto permite estudiar con un poco mas de detalles la tendencia de los precios para un año en específico (o bien, simplemente para el año en curso). Además, podemos agregar un mensaje para indicar en donde y cuando se registraron los precios más altos y más bajos para el producto en el año seleccionado."
   ]
  },
  {
   "cell_type": "code",
   "execution_count": 13,
   "id": "4a035d37",
   "metadata": {},
   "outputs": [],
   "source": [
    "def grafica_anio(cultivo,anio):\n",
    "    \"\"\"\n",
    "    Grafica el promedio de los precios de un producto para un anio dado, ademas de una linea de tendencia\n",
    "    \"\"\"\n",
    "    subset_df = df_precios_sniim[df_precios_sniim[\"producto\"] == cultivo]\n",
    "    subset_df = subset_df[subset_df[\"año\"] == anio]\n",
    "    \n",
    "    try:\n",
    "        subset_df = subset_df.resample('D', on='fecha').mean(numeric_only=True)\n",
    "        subset_df[\"ewm\"] = subset_df[\"precio_frec\"].ewm(span=7).mean()\n",
    "\n",
    "        fig,ax = plt.subplots()\n",
    "\n",
    "        sns.lineplot(x=\"fecha\",\n",
    "                     y=\"ewm\",\n",
    "                     data=subset_df,\n",
    "                     errorbar=None,\n",
    "                     ax=ax)\n",
    "\n",
    "        sns.scatterplot(x=\"fecha\",\n",
    "                        y=\"precio_frec\",\n",
    "                        data=subset_df,\n",
    "                        ax=ax,\n",
    "                        s=25,\n",
    "                        alpha=0.5)\n",
    "\n",
    "        ax.title.set_text(f\"Historial de precios para {cultivo}, año: {anio} (promedio diario)\")\n",
    "        ax.set_xlabel(\"Fecha\")\n",
    "        ax.set_ylabel(\"Precio por kg, MXN\")\n",
    "        ax.grid(axis='y')\n",
    "        ax.tick_params(axis='x',rotation=90);\n",
    "\n",
    "        fig.set_size_inches(16,9)\n",
    "        \n",
    "        subset_df2 = df_precios_sniim[df_precios_sniim[\"producto\"] == cultivo]\n",
    "        subset_df2 = subset_df2[subset_df2[\"año\"] == anio]\n",
    "        \n",
    "        fecha_max = subset_df2[subset_df2[\"precio_max\"] == subset_df2[\"precio_max\"].max()][\"fecha\"].iloc[0]\n",
    "        central_max = subset_df2[subset_df2[\"precio_max\"] == subset_df2[\"precio_max\"].max()][\"central\"].iloc[0]\n",
    "        precio_max = subset_df2[\"precio_max\"].max()\n",
    "        \n",
    "        print(f\"Precio maximo: ${precio_max:.2f}/kg el {fecha_max.strftime('%d-%m-%Y')} en {central_max}\")\n",
    "        \n",
    "        fecha_min = subset_df2[subset_df2[\"precio_min\"] == subset_df2[\"precio_min\"].min()][\"fecha\"].iloc[0]\n",
    "        central_min = subset_df2[subset_df2[\"precio_min\"] == subset_df2[\"precio_min\"].min()][\"central\"].iloc[0]\n",
    "        precio_min = subset_df2[\"precio_min\"].min()\n",
    "        \n",
    "        print(f\"Precio minimo: ${precio_min:.2f}/kg el {fecha_min.strftime('%d-%m-%Y')} en {central_min}\")\n",
    "\n",
    "        plt.show()\n",
    "    \n",
    "    except:\n",
    "        print(\"No hay datos para esa combinacion\")\n",
    "    \n",
    "    return"
   ]
  },
  {
   "cell_type": "code",
   "execution_count": 14,
   "id": "66549c70",
   "metadata": {},
   "outputs": [
    {
     "data": {
      "application/vnd.jupyter.widget-view+json": {
       "model_id": "9d75c547ea944f9aa66d31f5aa9b5457",
       "version_major": 2,
       "version_minor": 0
      },
      "text/plain": [
       "interactive(children=(Dropdown(description='Producto: ', options=('Acelga', 'Aguacate Criollo', 'Aguacate Hass…"
      ]
     },
     "metadata": {},
     "output_type": "display_data"
    },
    {
     "data": {
      "text/plain": [
       "<function __main__.grafica_anio(cultivo, anio)>"
      ]
     },
     "execution_count": 14,
     "metadata": {},
     "output_type": "execute_result"
    }
   ],
   "source": [
    "dd_productos = widgets.Dropdown(options=lista_productos,\n",
    "                      value=lista_productos[0],\n",
    "                      description=\"Producto: \")\n",
    "\n",
    "dd_anios = widgets.Dropdown(options=lista_anios,\n",
    "                      value=lista_anios[-1],\n",
    "                      description=\"Año: \")\n",
    "\n",
    "widgets.interact(grafica_anio,cultivo=dd_productos,anio=dd_anios)"
   ]
  },
  {
   "cell_type": "markdown",
   "id": "e730db69",
   "metadata": {},
   "source": [
    "## Distribución y variación de nuestros datos"
   ]
  },
  {
   "cell_type": "markdown",
   "id": "94a72179",
   "metadata": {},
   "source": [
    "Siguiendo una lógica similar a la anterior, podemos generar un par de gráficas que nos ayudarán a analizar mejor la distribución de los precios en el año, así como su variación. Para esto, podemos definir una función que genere un par de gráficos:\n",
    "\n",
    "* Un diagrama de cajas (`boxplot`) de los precios del producto seleccionado **por mes**, lo cual nos puede ayudar a visualizar mejor la dispersión de nuestros precios, así como identificar posibles valores *aberrantes* (es decir, precios anormalmente altos o anormalmente bajos) en nuestros precios\n",
    "\n",
    "* Un histograma (`histplot`) para visualizar mejor la distribución de los precios muestreados a lo largo del año."
   ]
  },
  {
   "cell_type": "code",
   "execution_count": 15,
   "id": "949ea3dd",
   "metadata": {},
   "outputs": [],
   "source": [
    "def graficar_dist_precios(producto):\n",
    "    \"\"\"\n",
    "    Genera dos diagramas:\n",
    "        - Un diagrama de cajas con los datos de cada producto por mes (2023)\n",
    "        - Un histograma de la distribucion de los precios para el producto dado en el anio (2023)\n",
    "    \"\"\"\n",
    "    df = df_precios_sniim.copy()\n",
    "    \n",
    "    df_filter = df[(df[\"producto\"] == producto) & (df[\"año\"] == 2023)]\n",
    "    \n",
    "    try:\n",
    "        fig, (ax1,ax2) = plt.subplots(2,1)\n",
    "\n",
    "        sns.boxplot(x=\"mes\",\n",
    "                    y=\"precio_frec\",\n",
    "                    hue=\"mes\",\n",
    "                    palette=\"tab10\",\n",
    "                    data=df_filter,\n",
    "                    ax=ax1)\n",
    "\n",
    "        ax1.legend_.remove()\n",
    "        ax1.title.set_text(f\"Diagrama de cajas de precios por mes para {producto}\")\n",
    "        ax1.set_xlabel(\"Mes\")\n",
    "        ax1.set_ylabel(\"Precio por kg, MXN\")\n",
    "        \n",
    "        sns.histplot(x=\"precio_frec\",\n",
    "                   data=df_filter,\n",
    "                   ax=ax2,kde=True)\n",
    "        \n",
    "        ax2.title.set_text(f\"Histograma de precios en el año para {producto}\")\n",
    "        ax2.set_xlabel(\"Precio mas frecuente\")\n",
    "\n",
    "        fig.set_size_inches(16,16)\n",
    "        plt.tight_layout()\n",
    "        plt.show()\n",
    "    \n",
    "    except:\n",
    "        raise ValueError(\"Error! Parece que algo salio mal.\")"
   ]
  },
  {
   "cell_type": "code",
   "execution_count": 16,
   "id": "5b314f96",
   "metadata": {},
   "outputs": [
    {
     "data": {
      "application/vnd.jupyter.widget-view+json": {
       "model_id": "a58d76a6f46242aab5b7626fffd3a9a0",
       "version_major": 2,
       "version_minor": 0
      },
      "text/plain": [
       "interactive(children=(Dropdown(description='Producto: ', options=('Acelga', 'Aguacate Criollo', 'Aguacate Hass…"
      ]
     },
     "metadata": {},
     "output_type": "display_data"
    },
    {
     "data": {
      "text/plain": [
       "<function __main__.graficar_dist_precios(producto)>"
      ]
     },
     "execution_count": 16,
     "metadata": {},
     "output_type": "execute_result"
    }
   ],
   "source": [
    "dd_productos_hist = widgets.Dropdown(options=lista_productos,\n",
    "                      value=lista_productos[0],\n",
    "                      description=\"Producto: \")\n",
    "\n",
    "widgets.interact(graficar_dist_precios,producto = dd_productos_hist)"
   ]
  },
  {
   "cell_type": "markdown",
   "id": "b68a1aa3",
   "metadata": {},
   "source": [
    "Con los diagramas anteriores, principalmente con el de cajas, podemos apreciar mejor la variabilidad de los precios, ya que en casos como el de la **Coliflor** o el **Brócoli**, si bien la mediana de los precios se mantiene aparentemente constante a lo largo del año, podemos apreciar que hay algunos meses donde la variación (rango) de los precios puede ser mas amplia que en otros, e incluso en algunos meses se pueden detectar valores anormales de los  mismos (datos aberrantes)."
   ]
  },
  {
   "cell_type": "markdown",
   "id": "3b37b49e",
   "metadata": {},
   "source": [
    "## Desglose mensual de los precios"
   ]
  },
  {
   "cell_type": "markdown",
   "id": "fe6a51fa",
   "metadata": {},
   "source": [
    "Ademas de las tendencias anuales y de las distribuciones de nuestros datos, otro de los paramétros de interés en nuestro análisis es el de los **promedios mensuales**, y más específicamente, su desglose por municipio.\n",
    "\n",
    "De manera similar a lo anterior, podemos definir una función que nos ayude a visualizar mas facilmente estos promedios mensuales, y apoyandonos en la libreria de `ipywidgets`, podemos definir tanto el producto como la central de nuestro interés."
   ]
  },
  {
   "cell_type": "code",
   "execution_count": 17,
   "id": "7b02035c",
   "metadata": {},
   "outputs": [],
   "source": [
    "def graficar_promedios_mensuales(producto,central):\n",
    "    \"\"\"\n",
    "    Genera una grafica (pointplot) con los promedios mensuales para el producto dado en la central dada\n",
    "    \"\"\"\n",
    "    df = df_precios_sniim.copy()\n",
    "    \n",
    "    df_filter = df[(df[\"producto\"] == producto) & (df[\"año\"] == 2023)]\n",
    "    df_grouped = df_filter.groupby([\"central\",\"mes\"])[\"precio_frec\"].mean().to_frame()\n",
    "    \n",
    "    df_unstacked = df_grouped.unstack()\n",
    "    df_unstacked.columns = df_unstacked.columns.droplevel()\n",
    "    df_unstacked = df_unstacked.reset_index()\n",
    "    df_unstacked.columns.name=None\n",
    "    \n",
    "    df_melted = df_unstacked.melt(id_vars=[\"central\"],var_name=\"mes\",value_name=\"precio_promedio\").dropna()\n",
    "    \n",
    "    dict_meses = {1: \"Enero\",\n",
    "                  2: \"Febrero\",\n",
    "                  3: \"Marzo\",\n",
    "                  4: \"Abril\",\n",
    "                  5: \"Mayo\",\n",
    "                  6: \"Junio\",\n",
    "                  7: \"Julio\",\n",
    "                  8: \"Agosto\",\n",
    "                  9: \"Septiembre\",\n",
    "                  10: \"Octubre\",\n",
    "                  11: \"Noviembre\",\n",
    "                  12: \"Diciembre\"}\n",
    "    \n",
    "    df_melted[\"mes\"] = df_melted[\"mes\"].map(dict_meses)\n",
    "    df_final = df_melted[df_melted[\"central\"] == central]\n",
    "    \n",
    "    try:\n",
    "        fig, ax = plt.subplots()\n",
    "\n",
    "        sns.pointplot(x=\"mes\",\n",
    "                      y=\"precio_promedio\",\n",
    "                      data=df_final,\n",
    "                      ax=ax,\n",
    "                      color='r',\n",
    "                      errorbar=None)\n",
    "\n",
    "        ax.title.set_text(f\"Precios mensuales para {producto} en {central} (promedio mensual)\")\n",
    "        ax.set_xlabel(\"Mes\")\n",
    "        ax.set_ylabel(\"Precio por kg, MXN\")\n",
    "        ax.grid(axis='x')\n",
    "\n",
    "        fig.set_size_inches(16,9)\n",
    "        plt.show()\n",
    "    \n",
    "    except:\n",
    "        raise ValueError(f\"No existen datos para {producto} en {central}\")\n",
    "\n",
    "    df_final = df_final.style.set_caption(f\"Desglose de precios promedios mensuales para {producto}\").hide(axis=\"index\")\n",
    "    display(df_final)\n",
    "        \n",
    "    return\n",
    "\n",
    "def obtener_valores_unicos(df,columna):\n",
    "    \"\"\"\n",
    "    Regresa una lista con los valores unicos de la columna 'columna' en el dataframe 'df', ordenados.\n",
    "    \"\"\"\n",
    "    return sorted(list(df[columna].unique()))\n",
    "\n",
    "def fijar_central(producto):\n",
    "    \"\"\"\n",
    "    Genera un widget (dropdown) con todas las centrales posibles para el producto dado en el argumento, despues \n",
    "    ejecuta la funcion 'graficar_promedios_mensuales' con el producto dado en el argumento y la central seleccionada\n",
    "    \"\"\"\n",
    "    df = df_precios_sniim.copy()\n",
    "    subset_df = df[(df[\"producto\"] == producto) & (df[\"año\"] == 2023)]\n",
    "    \n",
    "    lista_centrales = obtener_valores_unicos(subset_df,\"central\")\n",
    "    \n",
    "    dd_centrales = widgets.Dropdown(options=lista_centrales,\n",
    "                      value=lista_centrales[0],\n",
    "                      description=\"Central: \")\n",
    "    \n",
    "    widgets.interact(graficar_promedios_mensuales,producto=widgets.fixed(producto),central=dd_centrales)\n",
    "    \n",
    "    return"
   ]
  },
  {
   "cell_type": "code",
   "execution_count": 18,
   "id": "9ff9bd50",
   "metadata": {},
   "outputs": [
    {
     "data": {
      "application/vnd.jupyter.widget-view+json": {
       "model_id": "76ed57c679084457b347f78179a1abc0",
       "version_major": 2,
       "version_minor": 0
      },
      "text/plain": [
       "interactive(children=(Dropdown(description='Producto: ', options=('Acelga', 'Aguacate Criollo', 'Aguacate Hass…"
      ]
     },
     "metadata": {},
     "output_type": "display_data"
    },
    {
     "data": {
      "text/plain": [
       "<function __main__.fijar_central(producto)>"
      ]
     },
     "execution_count": 18,
     "metadata": {},
     "output_type": "execute_result"
    }
   ],
   "source": [
    "dd_productos2 = widgets.Dropdown(options=lista_productos,\n",
    "                      value=lista_productos[0],\n",
    "                      description=\"Producto: \")\n",
    "\n",
    "widgets.interact(fijar_central,producto=dd_productos2)"
   ]
  },
  {
   "cell_type": "markdown",
   "id": "2a47cbb7",
   "metadata": {},
   "source": [
    "De esta forma podemos obtener un valor más exacto del promedio mensual para cada producto en las diferentes centrales de abasto del país."
   ]
  },
  {
   "cell_type": "markdown",
   "id": "2b0be4c3",
   "metadata": {},
   "source": [
    "# Análisis de producción agrícola (SIAP)"
   ]
  },
  {
   "cell_type": "code",
   "execution_count": null,
   "id": "012931fd-3cfa-4548-9f9d-b0acdecc3cc6",
   "metadata": {},
   "outputs": [],
   "source": []
  }
 ],
 "metadata": {
  "kernelspec": {
   "display_name": "Python 3 (ipykernel)",
   "language": "python",
   "name": "python3"
  },
  "language_info": {
   "codemirror_mode": {
    "name": "ipython",
    "version": 3
   },
   "file_extension": ".py",
   "mimetype": "text/x-python",
   "name": "python",
   "nbconvert_exporter": "python",
   "pygments_lexer": "ipython3",
   "version": "3.10.9"
  }
 },
 "nbformat": 4,
 "nbformat_minor": 5
}
