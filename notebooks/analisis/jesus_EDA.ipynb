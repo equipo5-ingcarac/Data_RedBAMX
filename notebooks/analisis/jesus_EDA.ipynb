{
 "cells": [
  {
   "cell_type": "code",
   "execution_count": 1,
   "id": "71598345",
   "metadata": {},
   "outputs": [],
   "source": [
    "import pandas as pd\n",
    "import numpy as np\n",
    "import seaborn as sns\n",
    "import matplotlib.pyplot as plt\n",
    "import os\n",
    "import ipywidgets as widgets"
   ]
  },
  {
   "cell_type": "markdown",
   "id": "f9cee3ce",
   "metadata": {},
   "source": [
    "# Importando nuestros datos"
   ]
  },
  {
   "cell_type": "markdown",
   "id": "0678753a",
   "metadata": {},
   "source": [
    "Comenzamos obteniendo los archivos que contienen nuestros datasets, definiendo un path para cada uno para despues importarlos como dataframes"
   ]
  },
  {
   "cell_type": "code",
   "execution_count": 2,
   "id": "901e0bc2",
   "metadata": {},
   "outputs": [],
   "source": [
    "data_path_sniim = os.path.join(\"..\",\"..\",\"data\",\"clean_data\",\"precios_sniim.parquet\")\n",
    "data_path_siap = os.path.join(\"..\",\"..\",\"data\",\"clean_data\",\"siap.parquet.zip\")\n",
    "data_path_siap_wide = os.path.join(\"..\",\"..\",\"data\",\"clean_data\",\"siap_wide.parquet.zip\")"
   ]
  },
  {
   "cell_type": "code",
   "execution_count": 3,
   "id": "0a3323ee",
   "metadata": {},
   "outputs": [],
   "source": [
    "df_precios_sniim = pd.read_parquet(data_path_sniim)\n",
    "df_cultivos_siap = pd.read_parquet(data_path_siap)\n",
    "df_cultivos_siap_wide = pd.read_parquet(data_path_siap_wide)"
   ]
  },
  {
   "cell_type": "markdown",
   "id": "194adb3c",
   "metadata": {},
   "source": [
    "Después, podemos obtener algunas muestras de nuestras dataframes para verificar su estructura, las cuales están especificadas en nuestros diccionario de datos."
   ]
  },
  {
   "cell_type": "code",
   "execution_count": 4,
   "id": "4f0494ca",
   "metadata": {},
   "outputs": [
    {
     "data": {
      "text/html": [
       "<div>\n",
       "<style scoped>\n",
       "    .dataframe tbody tr th:only-of-type {\n",
       "        vertical-align: middle;\n",
       "    }\n",
       "\n",
       "    .dataframe tbody tr th {\n",
       "        vertical-align: top;\n",
       "    }\n",
       "\n",
       "    .dataframe thead th {\n",
       "        text-align: right;\n",
       "    }\n",
       "</style>\n",
       "<table border=\"1\" class=\"dataframe\">\n",
       "  <thead>\n",
       "    <tr style=\"text-align: right;\">\n",
       "      <th></th>\n",
       "      <th>fecha</th>\n",
       "      <th>producto</th>\n",
       "      <th>presentacion</th>\n",
       "      <th>origen</th>\n",
       "      <th>destino</th>\n",
       "      <th>central</th>\n",
       "      <th>precio_min</th>\n",
       "      <th>precio_max</th>\n",
       "      <th>precio_frec</th>\n",
       "    </tr>\n",
       "  </thead>\n",
       "  <tbody>\n",
       "    <tr>\n",
       "      <th>1838900</th>\n",
       "      <td>2020-01-15</td>\n",
       "      <td>Chile De Arbol Seco</td>\n",
       "      <td>Kilogramo</td>\n",
       "      <td>Nayarit</td>\n",
       "      <td>Nayarit</td>\n",
       "      <td>Nayarabastos de Tepic</td>\n",
       "      <td>109.0</td>\n",
       "      <td>111.0</td>\n",
       "      <td>110.0</td>\n",
       "    </tr>\n",
       "    <tr>\n",
       "      <th>1979234</th>\n",
       "      <td>2021-02-04</td>\n",
       "      <td>Manzana Golden Delicious</td>\n",
       "      <td>Kilogramo</td>\n",
       "      <td>Chihuahua</td>\n",
       "      <td>Coahuila</td>\n",
       "      <td>Central de Abasto de La Laguna, Torreón</td>\n",
       "      <td>16.0</td>\n",
       "      <td>17.0</td>\n",
       "      <td>16.5</td>\n",
       "    </tr>\n",
       "    <tr>\n",
       "      <th>1053063</th>\n",
       "      <td>2022-05-11</td>\n",
       "      <td>Chile Caloro</td>\n",
       "      <td>Kilogramo</td>\n",
       "      <td>Nayarit</td>\n",
       "      <td>Nayarit</td>\n",
       "      <td>Nayarabastos de Tepic</td>\n",
       "      <td>36.0</td>\n",
       "      <td>38.0</td>\n",
       "      <td>37.0</td>\n",
       "    </tr>\n",
       "    <tr>\n",
       "      <th>1736667</th>\n",
       "      <td>2021-11-26</td>\n",
       "      <td>Caña</td>\n",
       "      <td>Pieza</td>\n",
       "      <td>Nayarit</td>\n",
       "      <td>Nayarit</td>\n",
       "      <td>Mercado de abasto 'Adolfo López Mateos' de Tepic</td>\n",
       "      <td>15.0</td>\n",
       "      <td>17.0</td>\n",
       "      <td>16.0</td>\n",
       "    </tr>\n",
       "    <tr>\n",
       "      <th>1923231</th>\n",
       "      <td>2022-12-19</td>\n",
       "      <td>Champiñon</td>\n",
       "      <td>Kilogramo</td>\n",
       "      <td>Puebla</td>\n",
       "      <td>Veracruz</td>\n",
       "      <td>Central de Abasto de Minatitlán</td>\n",
       "      <td>60.0</td>\n",
       "      <td>80.0</td>\n",
       "      <td>70.0</td>\n",
       "    </tr>\n",
       "    <tr>\n",
       "      <th>527594</th>\n",
       "      <td>2022-03-03</td>\n",
       "      <td>Mango Tommy</td>\n",
       "      <td>Kilogramo</td>\n",
       "      <td>Quintana Roo</td>\n",
       "      <td>Quintana Roo</td>\n",
       "      <td>Mercado de Chetumal, Quintana Roo</td>\n",
       "      <td>25.0</td>\n",
       "      <td>25.0</td>\n",
       "      <td>25.0</td>\n",
       "    </tr>\n",
       "    <tr>\n",
       "      <th>908836</th>\n",
       "      <td>2020-10-05</td>\n",
       "      <td>Papaya Roja</td>\n",
       "      <td>Kilogramo</td>\n",
       "      <td>Colima</td>\n",
       "      <td>Baja California Sur</td>\n",
       "      <td>Unión de Comerciantes de La Paz</td>\n",
       "      <td>19.0</td>\n",
       "      <td>33.0</td>\n",
       "      <td>24.0</td>\n",
       "    </tr>\n",
       "    <tr>\n",
       "      <th>240976</th>\n",
       "      <td>2023-06-12</td>\n",
       "      <td>Limon Con Semilla Sin Clasificacion</td>\n",
       "      <td>Kilogramo</td>\n",
       "      <td>Colima</td>\n",
       "      <td>Chihuahua</td>\n",
       "      <td>Mercado de Abasto de Cd. Juárez</td>\n",
       "      <td>22.0</td>\n",
       "      <td>22.0</td>\n",
       "      <td>22.0</td>\n",
       "    </tr>\n",
       "    <tr>\n",
       "      <th>263882</th>\n",
       "      <td>2023-07-10</td>\n",
       "      <td>Esparrago</td>\n",
       "      <td>Kilogramo</td>\n",
       "      <td>Nayarit</td>\n",
       "      <td>Nayarit</td>\n",
       "      <td>Nayarabastos de Tepic</td>\n",
       "      <td>137.0</td>\n",
       "      <td>139.0</td>\n",
       "      <td>138.0</td>\n",
       "    </tr>\n",
       "    <tr>\n",
       "      <th>590536</th>\n",
       "      <td>2022-01-20</td>\n",
       "      <td>Zanahoria Leña</td>\n",
       "      <td>Kilogramo</td>\n",
       "      <td>Nayarit</td>\n",
       "      <td>Nayarit</td>\n",
       "      <td>Mercado de abasto 'Adolfo López Mateos' de Tepic</td>\n",
       "      <td>12.0</td>\n",
       "      <td>14.0</td>\n",
       "      <td>13.0</td>\n",
       "    </tr>\n",
       "  </tbody>\n",
       "</table>\n",
       "</div>"
      ],
      "text/plain": [
       "             fecha                             producto presentacion  \\\n",
       "1838900 2020-01-15                  Chile De Arbol Seco    Kilogramo   \n",
       "1979234 2021-02-04             Manzana Golden Delicious    Kilogramo   \n",
       "1053063 2022-05-11                         Chile Caloro    Kilogramo   \n",
       "1736667 2021-11-26                                 Caña        Pieza   \n",
       "1923231 2022-12-19                            Champiñon    Kilogramo   \n",
       "527594  2022-03-03                          Mango Tommy    Kilogramo   \n",
       "908836  2020-10-05                          Papaya Roja    Kilogramo   \n",
       "240976  2023-06-12  Limon Con Semilla Sin Clasificacion    Kilogramo   \n",
       "263882  2023-07-10                            Esparrago    Kilogramo   \n",
       "590536  2022-01-20                       Zanahoria Leña    Kilogramo   \n",
       "\n",
       "               origen              destino  \\\n",
       "1838900       Nayarit              Nayarit   \n",
       "1979234     Chihuahua             Coahuila   \n",
       "1053063       Nayarit              Nayarit   \n",
       "1736667       Nayarit              Nayarit   \n",
       "1923231        Puebla             Veracruz   \n",
       "527594   Quintana Roo         Quintana Roo   \n",
       "908836         Colima  Baja California Sur   \n",
       "240976         Colima            Chihuahua   \n",
       "263882        Nayarit              Nayarit   \n",
       "590536        Nayarit              Nayarit   \n",
       "\n",
       "                                                  central  precio_min  \\\n",
       "1838900                             Nayarabastos de Tepic       109.0   \n",
       "1979234           Central de Abasto de La Laguna, Torreón        16.0   \n",
       "1053063                             Nayarabastos de Tepic        36.0   \n",
       "1736667  Mercado de abasto 'Adolfo López Mateos' de Tepic        15.0   \n",
       "1923231                   Central de Abasto de Minatitlán        60.0   \n",
       "527594                  Mercado de Chetumal, Quintana Roo        25.0   \n",
       "908836                    Unión de Comerciantes de La Paz        19.0   \n",
       "240976                    Mercado de Abasto de Cd. Juárez        22.0   \n",
       "263882                              Nayarabastos de Tepic       137.0   \n",
       "590536   Mercado de abasto 'Adolfo López Mateos' de Tepic        12.0   \n",
       "\n",
       "         precio_max  precio_frec  \n",
       "1838900       111.0        110.0  \n",
       "1979234        17.0         16.5  \n",
       "1053063        38.0         37.0  \n",
       "1736667        17.0         16.0  \n",
       "1923231        80.0         70.0  \n",
       "527594         25.0         25.0  \n",
       "908836         33.0         24.0  \n",
       "240976         22.0         22.0  \n",
       "263882        139.0        138.0  \n",
       "590536         14.0         13.0  "
      ]
     },
     "execution_count": 4,
     "metadata": {},
     "output_type": "execute_result"
    }
   ],
   "source": [
    "df_precios_sniim.sample(10)"
   ]
  },
  {
   "cell_type": "code",
   "execution_count": 5,
   "id": "642bc36f",
   "metadata": {},
   "outputs": [
    {
     "data": {
      "text/html": [
       "<div>\n",
       "<style scoped>\n",
       "    .dataframe tbody tr th:only-of-type {\n",
       "        vertical-align: middle;\n",
       "    }\n",
       "\n",
       "    .dataframe tbody tr th {\n",
       "        vertical-align: top;\n",
       "    }\n",
       "\n",
       "    .dataframe thead th {\n",
       "        text-align: right;\n",
       "    }\n",
       "</style>\n",
       "<table border=\"1\" class=\"dataframe\">\n",
       "  <thead>\n",
       "    <tr style=\"text-align: right;\">\n",
       "      <th></th>\n",
       "      <th>Entidad</th>\n",
       "      <th>Municipio</th>\n",
       "      <th>Sembrada (ha)</th>\n",
       "      <th>Cosechada (ha)</th>\n",
       "      <th>Siniestrada (ha)</th>\n",
       "      <th>Producción</th>\n",
       "      <th>Rendimiento (udm/ha)</th>\n",
       "      <th>Cultivo</th>\n",
       "      <th>fecha</th>\n",
       "    </tr>\n",
       "  </thead>\n",
       "  <tbody>\n",
       "    <tr>\n",
       "      <th>532</th>\n",
       "      <td>Tlaxcala</td>\n",
       "      <td>Panotla</td>\n",
       "      <td>26.0</td>\n",
       "      <td>0.0</td>\n",
       "      <td>0.0</td>\n",
       "      <td>0.00</td>\n",
       "      <td>0.00</td>\n",
       "      <td>avena forrajera en verde</td>\n",
       "      <td>2022-01-01</td>\n",
       "    </tr>\n",
       "    <tr>\n",
       "      <th>866</th>\n",
       "      <td>Oaxaca</td>\n",
       "      <td>San Juan Teitipac</td>\n",
       "      <td>6.0</td>\n",
       "      <td>0.0</td>\n",
       "      <td>0.0</td>\n",
       "      <td>0.00</td>\n",
       "      <td>0.00</td>\n",
       "      <td>frijol</td>\n",
       "      <td>2022-10-01</td>\n",
       "    </tr>\n",
       "    <tr>\n",
       "      <th>1261</th>\n",
       "      <td>Oaxaca</td>\n",
       "      <td>San Pedro Y San Pablo Tequixtepec</td>\n",
       "      <td>433.0</td>\n",
       "      <td>34.0</td>\n",
       "      <td>0.0</td>\n",
       "      <td>92.60</td>\n",
       "      <td>2.72</td>\n",
       "      <td>maíz grano</td>\n",
       "      <td>2022-08-01</td>\n",
       "    </tr>\n",
       "    <tr>\n",
       "      <th>189</th>\n",
       "      <td>Oaxaca</td>\n",
       "      <td>Santa María Zacatepec</td>\n",
       "      <td>4.2</td>\n",
       "      <td>4.2</td>\n",
       "      <td>0.0</td>\n",
       "      <td>19.02</td>\n",
       "      <td>4.53</td>\n",
       "      <td>naranja</td>\n",
       "      <td>2021-11-01</td>\n",
       "    </tr>\n",
       "    <tr>\n",
       "      <th>61</th>\n",
       "      <td>México</td>\n",
       "      <td>Teotihuacán</td>\n",
       "      <td>1540.0</td>\n",
       "      <td>864.0</td>\n",
       "      <td>0.0</td>\n",
       "      <td>2956.77</td>\n",
       "      <td>3.42</td>\n",
       "      <td>tuna</td>\n",
       "      <td>2020-07-01</td>\n",
       "    </tr>\n",
       "    <tr>\n",
       "      <th>24</th>\n",
       "      <td>Guanajuato</td>\n",
       "      <td>Yuriria</td>\n",
       "      <td>640.0</td>\n",
       "      <td>570.0</td>\n",
       "      <td>0.0</td>\n",
       "      <td>1045.00</td>\n",
       "      <td>1.83</td>\n",
       "      <td>garbanzo grano</td>\n",
       "      <td>2021-04-01</td>\n",
       "    </tr>\n",
       "    <tr>\n",
       "      <th>65</th>\n",
       "      <td>Veracruz</td>\n",
       "      <td>Misantla</td>\n",
       "      <td>125.0</td>\n",
       "      <td>0.0</td>\n",
       "      <td>0.0</td>\n",
       "      <td>0.00</td>\n",
       "      <td>0.00</td>\n",
       "      <td>toronja (pomelo)</td>\n",
       "      <td>2020-09-01</td>\n",
       "    </tr>\n",
       "    <tr>\n",
       "      <th>66</th>\n",
       "      <td>Guanajuato</td>\n",
       "      <td>Manuel Doblado</td>\n",
       "      <td>92.0</td>\n",
       "      <td>55.0</td>\n",
       "      <td>0.0</td>\n",
       "      <td>2090.00</td>\n",
       "      <td>38.00</td>\n",
       "      <td>cebolla</td>\n",
       "      <td>2021-06-01</td>\n",
       "    </tr>\n",
       "    <tr>\n",
       "      <th>46</th>\n",
       "      <td>Chihuahua</td>\n",
       "      <td>Madera</td>\n",
       "      <td>149.0</td>\n",
       "      <td>0.0</td>\n",
       "      <td>0.0</td>\n",
       "      <td>0.00</td>\n",
       "      <td>0.00</td>\n",
       "      <td>manzana</td>\n",
       "      <td>2020-05-01</td>\n",
       "    </tr>\n",
       "    <tr>\n",
       "      <th>199</th>\n",
       "      <td>Oaxaca</td>\n",
       "      <td>San Juan Bautista Valle Nacional</td>\n",
       "      <td>7.8</td>\n",
       "      <td>0.0</td>\n",
       "      <td>0.0</td>\n",
       "      <td>0.00</td>\n",
       "      <td>0.00</td>\n",
       "      <td>naranja</td>\n",
       "      <td>2022-02-01</td>\n",
       "    </tr>\n",
       "  </tbody>\n",
       "</table>\n",
       "</div>"
      ],
      "text/plain": [
       "         Entidad                          Municipio  Sembrada (ha)  \\\n",
       "532     Tlaxcala                            Panotla           26.0   \n",
       "866       Oaxaca                  San Juan Teitipac            6.0   \n",
       "1261      Oaxaca  San Pedro Y San Pablo Tequixtepec          433.0   \n",
       "189       Oaxaca              Santa María Zacatepec            4.2   \n",
       "61        México                        Teotihuacán         1540.0   \n",
       "24    Guanajuato                            Yuriria          640.0   \n",
       "65      Veracruz                           Misantla          125.0   \n",
       "66    Guanajuato                     Manuel Doblado           92.0   \n",
       "46     Chihuahua                             Madera          149.0   \n",
       "199       Oaxaca   San Juan Bautista Valle Nacional            7.8   \n",
       "\n",
       "      Cosechada (ha)  Siniestrada (ha)  Producción  Rendimiento (udm/ha)  \\\n",
       "532              0.0               0.0        0.00                  0.00   \n",
       "866              0.0               0.0        0.00                  0.00   \n",
       "1261            34.0               0.0       92.60                  2.72   \n",
       "189              4.2               0.0       19.02                  4.53   \n",
       "61             864.0               0.0     2956.77                  3.42   \n",
       "24             570.0               0.0     1045.00                  1.83   \n",
       "65               0.0               0.0        0.00                  0.00   \n",
       "66              55.0               0.0     2090.00                 38.00   \n",
       "46               0.0               0.0        0.00                  0.00   \n",
       "199              0.0               0.0        0.00                  0.00   \n",
       "\n",
       "                       Cultivo      fecha  \n",
       "532   avena forrajera en verde 2022-01-01  \n",
       "866                     frijol 2022-10-01  \n",
       "1261               maíz grano 2022-08-01  \n",
       "189                    naranja 2021-11-01  \n",
       "61                        tuna 2020-07-01  \n",
       "24              garbanzo grano 2021-04-01  \n",
       "65            toronja (pomelo) 2020-09-01  \n",
       "66                     cebolla 2021-06-01  \n",
       "46                     manzana 2020-05-01  \n",
       "199                    naranja 2022-02-01  "
      ]
     },
     "execution_count": 5,
     "metadata": {},
     "output_type": "execute_result"
    }
   ],
   "source": [
    "df_cultivos_siap_wide.sample(10)"
   ]
  },
  {
   "cell_type": "markdown",
   "id": "fc60edd3",
   "metadata": {},
   "source": [
    "Antes de proseguir, podemos modificar las propiedades de seaborn para las visualizaciones que haremos mas adelante, seleccionando el estilo `whitegrid` y ajustando el tamaño de fuente a 1.2:"
   ]
  },
  {
   "cell_type": "code",
   "execution_count": 6,
   "id": "0b03ce31",
   "metadata": {},
   "outputs": [],
   "source": [
    "sns.set_style(\"whitegrid\")\n",
    "sns.set(font_scale=1.2)"
   ]
  },
  {
   "cell_type": "markdown",
   "id": "582709a5",
   "metadata": {},
   "source": [
    "# Analisis para datos sobre precios SNIIM"
   ]
  },
  {
   "cell_type": "markdown",
   "id": "d6452933",
   "metadata": {},
   "source": [
    "Antes de comenzar, crearemos un par de columnas en nuestra dataframe para indicar tanto el mes como el año de cada entrada:"
   ]
  },
  {
   "cell_type": "code",
   "execution_count": 7,
   "id": "f05e185a",
   "metadata": {},
   "outputs": [],
   "source": [
    "df_precios_sniim[\"año\"] = df_precios_sniim[\"fecha\"].dt.year\n",
    "df_precios_sniim[\"mes\"] = df_precios_sniim[\"fecha\"].dt.month"
   ]
  },
  {
   "cell_type": "markdown",
   "id": "d163d268-b37f-4356-afc0-698e65703208",
   "metadata": {},
   "source": [
    "Además, revisaremos nuestro dataframe para tratar de identificar datos faltantes, así como los tipos de cada una de nuestras columnas."
   ]
  },
  {
   "cell_type": "code",
   "execution_count": 8,
   "id": "39f4561f-cbd5-4a0b-bc8f-dec26db98c6e",
   "metadata": {
    "scrolled": true
   },
   "outputs": [
    {
     "data": {
      "text/plain": [
       "fecha           0\n",
       "producto        0\n",
       "presentacion    0\n",
       "origen          0\n",
       "destino         0\n",
       "central         0\n",
       "precio_min      0\n",
       "precio_max      0\n",
       "precio_frec     0\n",
       "año             0\n",
       "mes             0\n",
       "dtype: int64"
      ]
     },
     "execution_count": 8,
     "metadata": {},
     "output_type": "execute_result"
    }
   ],
   "source": [
    "df_precios_sniim.isna().sum()"
   ]
  },
  {
   "cell_type": "code",
   "execution_count": 9,
   "id": "e2355013-f12b-4a41-9aaa-544d7939e648",
   "metadata": {},
   "outputs": [
    {
     "data": {
      "text/plain": [
       "fecha           datetime64[us]\n",
       "producto                object\n",
       "presentacion            object\n",
       "origen                  object\n",
       "destino                 object\n",
       "central                 object\n",
       "precio_min             float64\n",
       "precio_max             float64\n",
       "precio_frec            float64\n",
       "año                      int32\n",
       "mes                      int32\n",
       "dtype: object"
      ]
     },
     "execution_count": 9,
     "metadata": {},
     "output_type": "execute_result"
    }
   ],
   "source": [
    "df_precios_sniim.dtypes"
   ]
  },
  {
   "cell_type": "markdown",
   "id": "f255048c-45e7-41c9-94f7-09c9a92bf9fa",
   "metadata": {},
   "source": [
    "De las celdas anteriores podemos aprecias que en este dataset no existen datos faltantes, y que tenemos una columna fecha tiene un tipo de dato de `datetime`, las columnas producto, presentacion, origen, destino y central tienen un tipo de `object` ya que se trata de cadenas de caracteres, y el resto tiene un tipo numérico, ya sea `float64` o `int32`."
   ]
  },
  {
   "cell_type": "markdown",
   "id": "8d1a1912-ec9a-4b84-a8b2-941e5cde4e5a",
   "metadata": {},
   "source": [
    "Podemos transformar las columnas de tipo `object` al tipo `category`, para una mayor facilidad y rapidez de procesamiento de los datos."
   ]
  },
  {
   "cell_type": "code",
   "execution_count": 10,
   "id": "4622c21e-b929-4415-a662-aac8f3f1bb84",
   "metadata": {},
   "outputs": [],
   "source": [
    "df_precios_sniim[\"producto\"] = df_precios_sniim[\"producto\"].astype(\"category\")\n",
    "df_precios_sniim[\"presentacion\"] = df_precios_sniim[\"presentacion\"].astype(\"category\")\n",
    "df_precios_sniim[\"origen\"] = df_precios_sniim[\"origen\"].astype(\"category\")\n",
    "df_precios_sniim[\"destino\"] = df_precios_sniim[\"destino\"].astype(\"category\")\n",
    "df_precios_sniim[\"central\"] = df_precios_sniim[\"central\"].astype(\"category\")"
   ]
  },
  {
   "cell_type": "code",
   "execution_count": 11,
   "id": "c482374c-519c-45a3-9b5e-9cd7d9234672",
   "metadata": {},
   "outputs": [
    {
     "data": {
      "text/plain": [
       "fecha           datetime64[us]\n",
       "producto              category\n",
       "presentacion          category\n",
       "origen                category\n",
       "destino               category\n",
       "central               category\n",
       "precio_min             float64\n",
       "precio_max             float64\n",
       "precio_frec            float64\n",
       "año                      int32\n",
       "mes                      int32\n",
       "dtype: object"
      ]
     },
     "execution_count": 11,
     "metadata": {},
     "output_type": "execute_result"
    }
   ],
   "source": [
    "df_precios_sniim.dtypes"
   ]
  },
  {
   "cell_type": "markdown",
   "id": "ae1144a3",
   "metadata": {},
   "source": [
    "## Tendencia historica de los precios (2020 - 2023)"
   ]
  },
  {
   "cell_type": "markdown",
   "id": "81ac44a6",
   "metadata": {},
   "source": [
    "Para comenzar, podemos tratar de visualizar el cambio en los precios diarios para los productos de nuestro dataset. Sin embargo, existen algunos puntos importantes a considerar:\n",
    "* **La cantidad de datos**, ya que nuestro dataframe cuenta con 2 019 574 entradas, para diversos precios de diferentes productos en el periodo 2020 - 2023 a lo largo del país.\n",
    "* **La cantidad de productos**, en la columna `producto` de nuestro dataframe, tenemos 199 productos unicos, por lo que visualizar la variación o en el precio de cada uno al mismo tiempo puede no ser lo más práctico"
   ]
  },
  {
   "cell_type": "code",
   "execution_count": 12,
   "id": "b6db6ab7",
   "metadata": {},
   "outputs": [
    {
     "data": {
      "text/plain": [
       "(2019574, 11)"
      ]
     },
     "execution_count": 12,
     "metadata": {},
     "output_type": "execute_result"
    }
   ],
   "source": [
    "df_precios_sniim.shape"
   ]
  },
  {
   "cell_type": "code",
   "execution_count": 13,
   "id": "bd6db57c",
   "metadata": {},
   "outputs": [
    {
     "data": {
      "text/plain": [
       "199"
      ]
     },
     "execution_count": 13,
     "metadata": {},
     "output_type": "execute_result"
    }
   ],
   "source": [
    "df_precios_sniim[\"producto\"].nunique()"
   ]
  },
  {
   "cell_type": "markdown",
   "id": "9669d79f",
   "metadata": {},
   "source": [
    "Sin embargo, podemos hacer uso de las librerias `ipywidgets` y `seaborn` para agregar interactividad a nuestros plots, esto nos permitirá agilizar el proceso de visualización de nuestros datos.\n",
    "\n",
    "Para ello, primero definimos una función que nos generará un gráfico de los precios promedios diarios de un producto dado a lo largo del periodo seleccionado (2020 - 2023), ademas, podemos agregar una media móvil exponencial para tratar de apreciar mejor la tendencia del precio del producto a lo través del tiempo. Esto lo podemos lograr utilizando la libreria `seaborn`, ademas de los métodos `resample` y `ewm` de nuestro dataframe."
   ]
  },
  {
   "cell_type": "code",
   "execution_count": 14,
   "id": "50c01068",
   "metadata": {},
   "outputs": [],
   "source": [
    "def graficar_precios(cultivo):\n",
    "    \"\"\"\n",
    "    Grafica el promedio de los precios diarios de un cultivo desde el año 2020 hasta la fecha del ultimo registro, \n",
    "    ademas de una linea de tendencia (filtro exponencial)\n",
    "    \"\"\"\n",
    "    subset_df = df_precios_sniim[df_precios_sniim[\"producto\"] == cultivo]\n",
    "    \n",
    "    subset_df = subset_df.resample('D', on='fecha').mean(numeric_only=True)\n",
    "    subset_df[\"ewm\"] = subset_df[\"precio_frec\"].ewm(span=14).mean()\n",
    "    #subset_df[\"año\"] = subset_df.index.year\n",
    "    \n",
    "    fig,ax = plt.subplots()\n",
    "    \n",
    "    sns.lineplot(x=\"fecha\",\n",
    "                 y=\"ewm\",\n",
    "                 hue=\"año\",\n",
    "                 data=subset_df,\n",
    "                 errorbar=None,\n",
    "                 ax=ax,\n",
    "                 palette=\"tab10\")\n",
    "    \n",
    "    sns.scatterplot(x=\"fecha\",\n",
    "                    y=\"precio_frec\",\n",
    "                    hue=\"año\",\n",
    "                    data=subset_df,\n",
    "                    ax=ax,\n",
    "                    palette=\"tab10\",\n",
    "                    s=25,\n",
    "                    alpha=0.5)\n",
    "    \n",
    "    ax.title.set_text(f\"Historial de precios para {cultivo} (promedio diario)\")\n",
    "    ax.set_xlabel(\"Fecha\")\n",
    "    ax.set_ylabel(\"Precio por kg, MXN\")\n",
    "    ax.grid(axis='y')\n",
    "    ax.tick_params(axis='x',rotation=90);\n",
    "    ax.legend(title='Año', labels=[\"2020\",\"2021\",\"2022\",\"2023\"])\n",
    "    \n",
    "    fig.set_size_inches(16,9)\n",
    "    \n",
    "    plt.show()\n",
    "    \n",
    "    return"
   ]
  },
  {
   "cell_type": "markdown",
   "id": "a9fbf7bc",
   "metadata": {},
   "source": [
    "Después obtenemos una lista de los valores únicos de la columna producto, la cual podremos utilizar en nuestro widget para seleccionar el producto de nuestro interés."
   ]
  },
  {
   "cell_type": "code",
   "execution_count": 15,
   "id": "493ced6f",
   "metadata": {},
   "outputs": [],
   "source": [
    "lista_productos = sorted(list(df_precios_sniim[\"producto\"].unique()))\n",
    "lista_anios = [2020,2021,2022,2023]\n",
    "#lista_productos[:5]"
   ]
  },
  {
   "cell_type": "markdown",
   "id": "90756c5c",
   "metadata": {},
   "source": [
    "Finalmente, generamos un widget de tipo `Dropdown` el cual tomará los valores de la lista anterior, y utilizando la función `interact` de `ipywidgets`, podemos generar el gráfico de tendencia del producto que seleccionemos en nuestro widget, ya que al seleccionarlo se ejecutará la funcion `graficar_precios`, la cual tomará como valor el producto seleccionado de la lista."
   ]
  },
  {
   "cell_type": "code",
   "execution_count": 16,
   "id": "51e7b0f2",
   "metadata": {},
   "outputs": [
    {
     "data": {
      "application/vnd.jupyter.widget-view+json": {
       "model_id": "cc9b8107968446d293db993166308814",
       "version_major": 2,
       "version_minor": 0
      },
      "text/plain": [
       "interactive(children=(Dropdown(description='Producto: ', options=('Acelga', 'Aguacate Criollo', 'Aguacate Hass…"
      ]
     },
     "metadata": {},
     "output_type": "display_data"
    },
    {
     "data": {
      "text/plain": [
       "<function __main__.graficar_precios(cultivo)>"
      ]
     },
     "execution_count": 16,
     "metadata": {},
     "output_type": "execute_result"
    }
   ],
   "source": [
    "dd_productos = widgets.Dropdown(options=lista_productos,\n",
    "                      value=lista_productos[0],\n",
    "                      description=\"Producto: \")\n",
    "\n",
    "widgets.interact(graficar_precios,cultivo=dd_productos)"
   ]
  },
  {
   "cell_type": "markdown",
   "id": "26f8539c",
   "metadata": {},
   "source": [
    "Con la celda anterior podemos apreciar rápida y facilmente las tendencias para diversos productos, podemos ver que para productos como el **Tomate Rojo, el Saladette y el Verde**, a pesar de algunas variaciones que parecen ser estacionarias, el precio se ha mantenido en el rango de los $20.00 pesos por kilo en promedio. Sin embargo, si se repiten los patrones, puede que el precio de estos alcance un pico en los próximos meses.\n",
    "\n",
    "Para el caso del **Limón**, podemos ver que todas las variedades de éste tuvieron un gran pico en el su precio a principios del 2022, incluso el #2 alcanzo un precio promedio diario de mas de $70.00 pesos por kilo en este periodo. Además, podemos ver que todas las variedades (#2,#3,#4,#5 y sin semilla) de este producto muestran una tendencia a la alta a lo largo de estos últimos meses.\n",
    "\n",
    "Por otro lado, vemos que para las diversas variedades de **Manzana**, su precio promedio ha ido en constante aumento desde el 2020 hasta la fecha, y segun las tendencias más actuales, esta alza podria continuar al menos en el corto plazo.\n",
    "\n",
    "Para el caso del **Plátano**, parece ser que tanto la variedad Chiapas como el resto han estado experimentando un lento pero constante aumento en su precio desde el 2020. El mismo comportamiento parecen estarlo experimentando las diferentes presentaciones de la **Guayaba** y la **Piña**, esta última ha estado experimentando un aumento más pronunciado en su precio promedio en las últimas semanas.\n"
   ]
  },
  {
   "cell_type": "markdown",
   "id": "b8ad1c34",
   "metadata": {},
   "source": [
    "## Tendencia anual"
   ]
  },
  {
   "cell_type": "markdown",
   "id": "74d605cb",
   "metadata": {},
   "source": [
    "Realizando un procedimiento similar, podemos generar una grafica específica para cada año, esto permite estudiar con un poco mas de detalles la tendencia de los precios para un año en específico (o bien, simplemente para el año en curso). Además, podemos agregar un mensaje para indicar en donde y cuando se registraron los precios más altos y más bajos para el producto en el año seleccionado."
   ]
  },
  {
   "cell_type": "code",
   "execution_count": 17,
   "id": "4a035d37",
   "metadata": {},
   "outputs": [],
   "source": [
    "def grafica_anio(cultivo,anio):\n",
    "    \"\"\"\n",
    "    Grafica el promedio de los precios de un producto para un anio dado, ademas de una linea de tendencia\n",
    "    \"\"\"\n",
    "    subset_df = df_precios_sniim[df_precios_sniim[\"producto\"] == cultivo]\n",
    "    subset_df = subset_df[subset_df[\"año\"] == anio]\n",
    "    \n",
    "    try:\n",
    "        subset_df = subset_df.resample('D', on='fecha').mean(numeric_only=True)\n",
    "        subset_df[\"ewm\"] = subset_df[\"precio_frec\"].ewm(span=7).mean()\n",
    "\n",
    "        fig,ax = plt.subplots()\n",
    "\n",
    "        sns.lineplot(x=\"fecha\",\n",
    "                     y=\"ewm\",\n",
    "                     data=subset_df,\n",
    "                     errorbar=None,\n",
    "                     ax=ax)\n",
    "\n",
    "        sns.scatterplot(x=\"fecha\",\n",
    "                        y=\"precio_frec\",\n",
    "                        data=subset_df,\n",
    "                        ax=ax,\n",
    "                        s=25,\n",
    "                        alpha=0.5)\n",
    "\n",
    "        ax.title.set_text(f\"Historial de precios para {cultivo}, año: {anio} (promedio diario)\")\n",
    "        ax.set_xlabel(\"Fecha\")\n",
    "        ax.set_ylabel(\"Precio por kg, MXN\")\n",
    "        ax.grid(axis='y')\n",
    "        ax.tick_params(axis='x',rotation=90);\n",
    "\n",
    "        fig.set_size_inches(16,9)\n",
    "        \n",
    "        subset_df2 = df_precios_sniim[df_precios_sniim[\"producto\"] == cultivo]\n",
    "        subset_df2 = subset_df2[subset_df2[\"año\"] == anio]\n",
    "        \n",
    "        fecha_max = subset_df2[subset_df2[\"precio_max\"] == subset_df2[\"precio_max\"].max()][\"fecha\"].iloc[0]\n",
    "        central_max = subset_df2[subset_df2[\"precio_max\"] == subset_df2[\"precio_max\"].max()][\"central\"].iloc[0]\n",
    "        precio_max = subset_df2[\"precio_max\"].max()\n",
    "        \n",
    "        print(f\"Precio maximo: ${precio_max:.2f}/kg el {fecha_max.strftime('%d-%m-%Y')} en {central_max}\")\n",
    "        \n",
    "        fecha_min = subset_df2[subset_df2[\"precio_min\"] == subset_df2[\"precio_min\"].min()][\"fecha\"].iloc[0]\n",
    "        central_min = subset_df2[subset_df2[\"precio_min\"] == subset_df2[\"precio_min\"].min()][\"central\"].iloc[0]\n",
    "        precio_min = subset_df2[\"precio_min\"].min()\n",
    "        \n",
    "        print(f\"Precio minimo: ${precio_min:.2f}/kg el {fecha_min.strftime('%d-%m-%Y')} en {central_min}\")\n",
    "\n",
    "        plt.show()\n",
    "    \n",
    "    except:\n",
    "        print(\"No hay datos para esa combinacion\")\n",
    "    \n",
    "    return"
   ]
  },
  {
   "cell_type": "code",
   "execution_count": 18,
   "id": "66549c70",
   "metadata": {},
   "outputs": [
    {
     "data": {
      "application/vnd.jupyter.widget-view+json": {
       "model_id": "b63082533c4b4307bbf9c6d5e40886ce",
       "version_major": 2,
       "version_minor": 0
      },
      "text/plain": [
       "interactive(children=(Dropdown(description='Producto: ', options=('Acelga', 'Aguacate Criollo', 'Aguacate Hass…"
      ]
     },
     "metadata": {},
     "output_type": "display_data"
    },
    {
     "data": {
      "text/plain": [
       "<function __main__.grafica_anio(cultivo, anio)>"
      ]
     },
     "execution_count": 18,
     "metadata": {},
     "output_type": "execute_result"
    }
   ],
   "source": [
    "dd_productos = widgets.Dropdown(options=lista_productos,\n",
    "                      value=lista_productos[0],\n",
    "                      description=\"Producto: \")\n",
    "\n",
    "dd_anios = widgets.Dropdown(options=lista_anios,\n",
    "                      value=lista_anios[-1],\n",
    "                      description=\"Año: \")\n",
    "\n",
    "widgets.interact(grafica_anio,cultivo=dd_productos,anio=dd_anios)"
   ]
  },
  {
   "cell_type": "markdown",
   "id": "e730db69",
   "metadata": {},
   "source": [
    "## Distribución y variación de nuestros datos"
   ]
  },
  {
   "cell_type": "markdown",
   "id": "94a72179",
   "metadata": {},
   "source": [
    "Siguiendo una lógica similar a la anterior, podemos generar un par de gráficas que nos ayudarán a analizar mejor la distribución de los precios en el año, así como su variación. Para esto, podemos definir una función que genere un par de gráficos:\n",
    "\n",
    "* Un diagrama de cajas (`boxplot`) de los precios del producto seleccionado **por mes**, lo cual nos puede ayudar a visualizar mejor la dispersión de nuestros precios, así como identificar posibles valores *aberrantes* (es decir, precios anormalmente altos o anormalmente bajos) en nuestros precios\n",
    "\n",
    "* Un histograma (`histplot`) para visualizar mejor la distribución de los precios muestreados a lo largo del año."
   ]
  },
  {
   "cell_type": "code",
   "execution_count": 19,
   "id": "949ea3dd",
   "metadata": {},
   "outputs": [],
   "source": [
    "def graficar_dist_precios(producto):\n",
    "    \"\"\"\n",
    "    Genera dos diagramas:\n",
    "        - Un diagrama de cajas con los datos de cada producto por mes (2023)\n",
    "        - Un histograma de la distribucion de los precios para el producto dado en el anio (2023)\n",
    "    \"\"\"\n",
    "    df = df_precios_sniim.copy()\n",
    "    \n",
    "    df_filter = df[(df[\"producto\"] == producto) & (df[\"año\"] == 2023)]\n",
    "    \n",
    "    try:\n",
    "        fig, (ax1,ax2) = plt.subplots(2,1)\n",
    "\n",
    "        sns.boxplot(x=\"mes\",\n",
    "                    y=\"precio_frec\",\n",
    "                    data=df_filter,\n",
    "                    ax=ax1)\n",
    "\n",
    "        ax1.title.set_text(f\"Diagrama de cajas de precios por mes para {producto}\")\n",
    "        ax1.set_xlabel(\"Mes\")\n",
    "        ax1.set_ylabel(\"Precio por kg, MXN\")\n",
    "        \n",
    "        sns.histplot(x=\"precio_frec\",\n",
    "                   data=df_filter,\n",
    "                   ax=ax2,kde=True)\n",
    "        \n",
    "        ax2.title.set_text(f\"Histograma de precios en el año para {producto}\")\n",
    "        ax2.set_xlabel(\"Precio mas frecuente\")\n",
    "\n",
    "        fig.set_size_inches(16,9)\n",
    "        plt.tight_layout()\n",
    "        plt.show()\n",
    "    \n",
    "    except:\n",
    "        raise ValueError(\"Error! Parece que algo salio mal.\")"
   ]
  },
  {
   "cell_type": "code",
   "execution_count": 20,
   "id": "5b314f96",
   "metadata": {},
   "outputs": [
    {
     "data": {
      "application/vnd.jupyter.widget-view+json": {
       "model_id": "f9fa1c5604684d38ba0e4c1c26dc7129",
       "version_major": 2,
       "version_minor": 0
      },
      "text/plain": [
       "interactive(children=(Dropdown(description='Producto: ', options=('Acelga', 'Aguacate Criollo', 'Aguacate Hass…"
      ]
     },
     "metadata": {},
     "output_type": "display_data"
    },
    {
     "data": {
      "text/plain": [
       "<function __main__.graficar_dist_precios(producto)>"
      ]
     },
     "execution_count": 20,
     "metadata": {},
     "output_type": "execute_result"
    }
   ],
   "source": [
    "dd_productos_hist = widgets.Dropdown(options=lista_productos,\n",
    "                      value=lista_productos[0],\n",
    "                      description=\"Producto: \")\n",
    "\n",
    "widgets.interact(graficar_dist_precios,producto = dd_productos_hist)"
   ]
  },
  {
   "cell_type": "markdown",
   "id": "b68a1aa3",
   "metadata": {},
   "source": [
    "Con los diagramas anteriores, principalmente con el de cajas, podemos apreciar mejor la variabilidad de los precios, ya que en casos como el de la **Coliflor** o el **Brócoli**, si bien la mediana de los precios se mantiene aparentemente constante a lo largo del año, podemos apreciar que hay algunos meses donde la variación (rango) de los precios puede ser mas amplia que en otros, e incluso en algunos meses se pueden detectar valores anormales de los  mismos (datos aberrantes)."
   ]
  },
  {
   "cell_type": "markdown",
   "id": "155e70e9-3a31-43d0-b781-24240068ba87",
   "metadata": {},
   "source": [
    "Además, en estos diagramas podemos apreciar también que la mayoría de los datos aberrantes, u *outliers* se encuentran ubicadas en el extremo superior de las distribuciones. Esto se ve en el diagrama de cajas como los puntos individuales que aparecen por encima del bigote superior, y en los histogramas como las colas que aparecen en el lado izquierdo de éste."
   ]
  },
  {
   "cell_type": "markdown",
   "id": "b064d377-5a6c-4a86-8fd9-72c6c94eb68f",
   "metadata": {},
   "source": [
    "Tal es el caso de productos como el **ejote**, **zanahoria**, **perejil**, o el **pepino**, entre muchos otros. Estos outliers representan precios anormalmente altos que fueron registrados en varias centrales en el país."
   ]
  },
  {
   "cell_type": "markdown",
   "id": "3b37b49e",
   "metadata": {},
   "source": [
    "## Desglose mensual de los precios"
   ]
  },
  {
   "cell_type": "markdown",
   "id": "fe6a51fa",
   "metadata": {},
   "source": [
    "Ademas de las tendencias anuales y de las distribuciones de nuestros datos, otro de los paramétros de interés en nuestro análisis es el de los **promedios mensuales**, y más específicamente, su desglose por municipio.\n",
    "\n",
    "De manera similar a lo anterior, podemos definir una función que nos ayude a visualizar mas facilmente estos promedios mensuales, y apoyandonos en la libreria de `ipywidgets`, podemos definir tanto el producto como la central de nuestro interés."
   ]
  },
  {
   "cell_type": "code",
   "execution_count": 21,
   "id": "7b02035c",
   "metadata": {},
   "outputs": [],
   "source": [
    "def graficar_promedios_mensuales(producto,central):\n",
    "    \"\"\"\n",
    "    Genera una grafica (pointplot) con los promedios mensuales para el producto dado en la central dada\n",
    "    \"\"\"\n",
    "    df = df_precios_sniim.copy()\n",
    "    \n",
    "    df_filter = df[(df[\"producto\"] == producto) & (df[\"año\"] == 2023)]\n",
    "    df_grouped = df_filter.groupby([\"central\",\"mes\"])[\"precio_frec\"].mean().to_frame()\n",
    "    \n",
    "    df_unstacked = df_grouped.unstack()\n",
    "    df_unstacked.columns = df_unstacked.columns.droplevel()\n",
    "    df_unstacked = df_unstacked.reset_index()\n",
    "    df_unstacked.columns.name=None\n",
    "    \n",
    "    df_melted = df_unstacked.melt(id_vars=[\"central\"],var_name=\"mes\",value_name=\"precio_promedio\").dropna()\n",
    "    \n",
    "    dict_meses = {1: \"Enero\",\n",
    "                  2: \"Febrero\",\n",
    "                  3: \"Marzo\",\n",
    "                  4: \"Abril\",\n",
    "                  5: \"Mayo\",\n",
    "                  6: \"Junio\",\n",
    "                  7: \"Julio\",\n",
    "                  8: \"Agosto\",\n",
    "                  9: \"Septiembre\",\n",
    "                  10: \"Octubre\",\n",
    "                  11: \"Noviembre\",\n",
    "                  12: \"Diciembre\"}\n",
    "    \n",
    "    df_melted[\"mes\"] = df_melted[\"mes\"].map(dict_meses)\n",
    "    df_final = df_melted[df_melted[\"central\"] == central]\n",
    "    \n",
    "    try:\n",
    "        fig, ax = plt.subplots()\n",
    "\n",
    "        sns.pointplot(x=\"mes\",\n",
    "                      y=\"precio_promedio\",\n",
    "                      data=df_final,\n",
    "                      ax=ax,\n",
    "                      color='r',\n",
    "                      errorbar=None)\n",
    "\n",
    "        ax.title.set_text(f\"Precios mensuales para {producto} en {central} (promedio mensual)\")\n",
    "        ax.set_xlabel(\"Mes\")\n",
    "        ax.set_ylabel(\"Precio por kg, MXN\")\n",
    "        ax.grid(axis='x')\n",
    "\n",
    "        fig.set_size_inches(16,9)\n",
    "        plt.show()\n",
    "    \n",
    "    except:\n",
    "        raise ValueError(f\"No existen datos para {producto} en {central}\")\n",
    "\n",
    "    df_final.columns = [\"Central\",\"Mes\",\"Precio promedio por kg, MXN\"]\n",
    "    df_final = df_final.style.set_caption(f\"Desglose de precios promedios mensuales para {producto}\").hide(axis=\"index\")\n",
    "    display(df_final)\n",
    "        \n",
    "    return\n",
    "\n",
    "def obtener_valores_unicos(df,columna):\n",
    "    \"\"\"\n",
    "    Regresa una lista con los valores unicos de la columna 'columna' en el dataframe 'df', ordenados.\n",
    "    \"\"\"\n",
    "    return sorted(list(df[columna].unique()))\n",
    "\n",
    "def fijar_central(producto):\n",
    "    \"\"\"\n",
    "    Genera un widget (dropdown) con todas las centrales posibles para el producto dado en el argumento, despues \n",
    "    ejecuta la funcion 'graficar_promedios_mensuales' con el producto dado en el argumento y la central seleccionada\n",
    "    \"\"\"\n",
    "    df = df_precios_sniim.copy()\n",
    "    subset_df = df[(df[\"producto\"] == producto) & (df[\"año\"] == 2023)]\n",
    "    \n",
    "    lista_centrales = obtener_valores_unicos(subset_df,\"central\")\n",
    "    \n",
    "    dd_centrales = widgets.Dropdown(options=lista_centrales,\n",
    "                      value=lista_centrales[0],\n",
    "                      description=\"Central: \")\n",
    "    \n",
    "    widgets.interact(graficar_promedios_mensuales,producto=widgets.fixed(producto),central=dd_centrales)\n",
    "    \n",
    "    return"
   ]
  },
  {
   "cell_type": "code",
   "execution_count": 22,
   "id": "9ff9bd50",
   "metadata": {},
   "outputs": [
    {
     "data": {
      "application/vnd.jupyter.widget-view+json": {
       "model_id": "79528661d9dc43da9b1a003870160d91",
       "version_major": 2,
       "version_minor": 0
      },
      "text/plain": [
       "interactive(children=(Dropdown(description='Producto: ', options=('Acelga', 'Aguacate Criollo', 'Aguacate Hass…"
      ]
     },
     "metadata": {},
     "output_type": "display_data"
    },
    {
     "data": {
      "text/plain": [
       "<function __main__.fijar_central(producto)>"
      ]
     },
     "execution_count": 22,
     "metadata": {},
     "output_type": "execute_result"
    }
   ],
   "source": [
    "dd_productos2 = widgets.Dropdown(options=lista_productos,\n",
    "                      value=lista_productos[0],\n",
    "                      description=\"Producto: \")\n",
    "\n",
    "widgets.interact(fijar_central,producto=dd_productos2)"
   ]
  },
  {
   "cell_type": "markdown",
   "id": "2a47cbb7",
   "metadata": {},
   "source": [
    "De esta forma podemos obtener un valor más exacto del promedio mensual para cada producto en las diferentes centrales de abasto del país."
   ]
  },
  {
   "cell_type": "markdown",
   "id": "2b0be4c3",
   "metadata": {},
   "source": [
    "# Análisis de producción agrícola (SIAP)"
   ]
  },
  {
   "cell_type": "markdown",
   "id": "cf814a45-d0aa-4d99-8aa7-6d79bb42df2a",
   "metadata": {},
   "source": [
    "Ahora podemos proceder con el análisis de los datos referentes a la producción agrícola de diversos productos agroalimentarios. Podemos comenzar tratando de identificar datos faltantes en este dataframe."
   ]
  },
  {
   "cell_type": "code",
   "execution_count": 23,
   "id": "041e422d-3453-44ab-9ddf-47592bb9bc11",
   "metadata": {},
   "outputs": [
    {
     "data": {
      "text/plain": [
       "Entidad                 0\n",
       "Municipio               0\n",
       "Sembrada (ha)           0\n",
       "Cosechada (ha)          0\n",
       "Siniestrada (ha)        0\n",
       "Producción              0\n",
       "Rendimiento (udm/ha)    0\n",
       "Cultivo                 0\n",
       "fecha                   0\n",
       "dtype: int64"
      ]
     },
     "execution_count": 23,
     "metadata": {},
     "output_type": "execute_result"
    }
   ],
   "source": [
    "df_cultivos_siap_wide.isna().sum()"
   ]
  },
  {
   "cell_type": "code",
   "execution_count": 24,
   "id": "b112b5e5-edd6-442b-9bf8-9d7f06557587",
   "metadata": {
    "scrolled": true
   },
   "outputs": [
    {
     "data": {
      "text/plain": [
       "Entidad                       category\n",
       "Municipio                     category\n",
       "Sembrada (ha)                  float64\n",
       "Cosechada (ha)                 float64\n",
       "Siniestrada (ha)               float64\n",
       "Producción                     float64\n",
       "Rendimiento (udm/ha)           float64\n",
       "Cultivo                       category\n",
       "fecha                   datetime64[us]\n",
       "dtype: object"
      ]
     },
     "execution_count": 24,
     "metadata": {},
     "output_type": "execute_result"
    }
   ],
   "source": [
    "df_cultivos_siap_wide.dtypes"
   ]
  },
  {
   "cell_type": "code",
   "execution_count": 25,
   "id": "714f6e65-83e0-4b32-8bfa-0062f33890e8",
   "metadata": {},
   "outputs": [
    {
     "data": {
      "text/html": [
       "<div>\n",
       "<style scoped>\n",
       "    .dataframe tbody tr th:only-of-type {\n",
       "        vertical-align: middle;\n",
       "    }\n",
       "\n",
       "    .dataframe tbody tr th {\n",
       "        vertical-align: top;\n",
       "    }\n",
       "\n",
       "    .dataframe thead th {\n",
       "        text-align: right;\n",
       "    }\n",
       "</style>\n",
       "<table border=\"1\" class=\"dataframe\">\n",
       "  <thead>\n",
       "    <tr style=\"text-align: right;\">\n",
       "      <th></th>\n",
       "      <th>Entidad</th>\n",
       "      <th>Municipio</th>\n",
       "      <th>Sembrada (ha)</th>\n",
       "      <th>Cosechada (ha)</th>\n",
       "      <th>Siniestrada (ha)</th>\n",
       "      <th>Producción</th>\n",
       "      <th>Rendimiento (udm/ha)</th>\n",
       "      <th>Cultivo</th>\n",
       "      <th>fecha</th>\n",
       "    </tr>\n",
       "  </thead>\n",
       "  <tbody>\n",
       "    <tr>\n",
       "      <th>0</th>\n",
       "      <td>Aguascalientes</td>\n",
       "      <td>Aguascalientes</td>\n",
       "      <td>2850.0</td>\n",
       "      <td>0.0</td>\n",
       "      <td>0.0</td>\n",
       "      <td>0.0</td>\n",
       "      <td>0.0</td>\n",
       "      <td>maíz forrajero en verde</td>\n",
       "      <td>2023-05-01</td>\n",
       "    </tr>\n",
       "    <tr>\n",
       "      <th>1</th>\n",
       "      <td>Aguascalientes</td>\n",
       "      <td>Asientos</td>\n",
       "      <td>1560.0</td>\n",
       "      <td>0.0</td>\n",
       "      <td>0.0</td>\n",
       "      <td>0.0</td>\n",
       "      <td>0.0</td>\n",
       "      <td>maíz forrajero en verde</td>\n",
       "      <td>2023-05-01</td>\n",
       "    </tr>\n",
       "    <tr>\n",
       "      <th>2</th>\n",
       "      <td>Aguascalientes</td>\n",
       "      <td>Calvillo</td>\n",
       "      <td>110.0</td>\n",
       "      <td>0.0</td>\n",
       "      <td>0.0</td>\n",
       "      <td>0.0</td>\n",
       "      <td>0.0</td>\n",
       "      <td>maíz forrajero en verde</td>\n",
       "      <td>2023-05-01</td>\n",
       "    </tr>\n",
       "    <tr>\n",
       "      <th>3</th>\n",
       "      <td>Aguascalientes</td>\n",
       "      <td>Cosío</td>\n",
       "      <td>650.0</td>\n",
       "      <td>0.0</td>\n",
       "      <td>0.0</td>\n",
       "      <td>0.0</td>\n",
       "      <td>0.0</td>\n",
       "      <td>maíz forrajero en verde</td>\n",
       "      <td>2023-05-01</td>\n",
       "    </tr>\n",
       "    <tr>\n",
       "      <th>4</th>\n",
       "      <td>Aguascalientes</td>\n",
       "      <td>Jesús María</td>\n",
       "      <td>600.0</td>\n",
       "      <td>0.0</td>\n",
       "      <td>0.0</td>\n",
       "      <td>0.0</td>\n",
       "      <td>0.0</td>\n",
       "      <td>maíz forrajero en verde</td>\n",
       "      <td>2023-05-01</td>\n",
       "    </tr>\n",
       "  </tbody>\n",
       "</table>\n",
       "</div>"
      ],
      "text/plain": [
       "          Entidad       Municipio  Sembrada (ha)  Cosechada (ha)  \\\n",
       "0  Aguascalientes  Aguascalientes         2850.0             0.0   \n",
       "1  Aguascalientes        Asientos         1560.0             0.0   \n",
       "2  Aguascalientes        Calvillo          110.0             0.0   \n",
       "3  Aguascalientes           Cosío          650.0             0.0   \n",
       "4  Aguascalientes     Jesús María          600.0             0.0   \n",
       "\n",
       "   Siniestrada (ha)  Producción  Rendimiento (udm/ha)  \\\n",
       "0               0.0         0.0                   0.0   \n",
       "1               0.0         0.0                   0.0   \n",
       "2               0.0         0.0                   0.0   \n",
       "3               0.0         0.0                   0.0   \n",
       "4               0.0         0.0                   0.0   \n",
       "\n",
       "                    Cultivo      fecha  \n",
       "0  maíz forrajero en verde 2023-05-01  \n",
       "1  maíz forrajero en verde 2023-05-01  \n",
       "2  maíz forrajero en verde 2023-05-01  \n",
       "3  maíz forrajero en verde 2023-05-01  \n",
       "4  maíz forrajero en verde 2023-05-01  "
      ]
     },
     "execution_count": 25,
     "metadata": {},
     "output_type": "execute_result"
    }
   ],
   "source": [
    "df_cultivos_siap_wide.head()"
   ]
  },
  {
   "cell_type": "markdown",
   "id": "30c508f8-a3ac-46bf-a898-6d2d6ff9e461",
   "metadata": {},
   "source": [
    "## ¿Qué cultivos analizar?"
   ]
  },
  {
   "cell_type": "markdown",
   "id": "d194b7a4-1331-4395-93cc-10b4385db8a4",
   "metadata": {},
   "source": [
    "Revisando la columna `cultivo` de nuestro dataframe, podemos apreciar que tenemos un total de 64 cultivos diferentes, pero ¿realmente son todos estos relevantes para nuestro análisis?"
   ]
  },
  {
   "cell_type": "code",
   "execution_count": 26,
   "id": "6b929f38-bc05-468e-8333-26347ceccfbb",
   "metadata": {},
   "outputs": [
    {
     "data": {
      "text/plain": [
       "['maíz forrajero en verde', 'avena grano', 'nuez', 'coliflor', 'sandía', ..., 'tuna', 'maguey pulquero', 'frijol', 'guayaba', 'espárrago']\n",
       "Length: 64\n",
       "Categories (64, object): ['agave', 'aguacate', 'ajo', 'ajonjolí', ..., 'tuna', 'uva', 'zanahoria', 'zarzamora']"
      ]
     },
     "execution_count": 26,
     "metadata": {},
     "output_type": "execute_result"
    }
   ],
   "source": [
    "df_cultivos_siap_wide[\"Cultivo\"].unique()"
   ]
  },
  {
   "cell_type": "markdown",
   "id": "624709e9-b775-41bb-a976-d69f67be500f",
   "metadata": {},
   "source": [
    "Sin embargo, tenemos una lista de cultivos que serán relevantes para este análisis, por lo que podemos filtrar nuestro dataframe para que solo contengan las entradas referentes a estos cultivos."
   ]
  },
  {
   "cell_type": "code",
   "execution_count": 27,
   "id": "9dd4ebe7-aaed-412f-a70e-782509ea65b1",
   "metadata": {},
   "outputs": [],
   "source": [
    "cultivos_relevantes = ['Tomate rojo (jitomate)', 'Chile verde', 'Limón', 'Pepino', 'Plátano', 'Mango', \n",
    "              'Garbanzo grano', 'Brócoli', 'Cebolla', 'Sandía', 'Papaya', 'Calabacita', 'Lechuga', \n",
    "              'Tomate verde', 'Espárrago', 'Frambuesa', 'Nopalitos', 'Nuez', 'Fresa', 'Toronja (pomelo)', \n",
    "              'Zarzamora', 'Piña', 'Coliflor', 'Frijol', 'Berenjena', 'Uva', 'Guayaba', 'Naranja', \n",
    "              'Papa', 'Melón', 'Manzana', 'Pera', 'Durazno']\n",
    "\n",
    "cultivos_siap = [x.lower() for x in cultivos_relevantes]"
   ]
  },
  {
   "cell_type": "code",
   "execution_count": 28,
   "id": "0f429c30-7499-4cdd-8373-e99e35f18336",
   "metadata": {},
   "outputs": [],
   "source": [
    "df_cultivos_siap_wide.columns=[\"entidad\",\"municipio\",\"sembrada_ha\",\"cosechada_ha\",\"siniestrada_ha\",\"produccion_ton\",\"rendimiento\",\"cultivo\",\"fecha\"]"
   ]
  },
  {
   "cell_type": "markdown",
   "id": "0ecbbd97-93f5-405c-8f85-f30091dca558",
   "metadata": {},
   "source": [
    "Podemos proceder a filtrar nuestro dataframe para que solo contenga estos cultivos. Lo primero es transformar nuestra columna al tipo string para poder compararla mas facilmente con nuestra lista. Además, podemos agregar columnas indicadoras de año y mes para una mejor distinción de las entradas."
   ]
  },
  {
   "cell_type": "code",
   "execution_count": 29,
   "id": "0f76f909-1aa0-4e41-ae7d-ac5eb7dd19c6",
   "metadata": {},
   "outputs": [],
   "source": [
    "df_cultivos_siap_wide[\"cultivo\"] = df_cultivos_siap_wide[\"cultivo\"].astype(\"string\")"
   ]
  },
  {
   "cell_type": "code",
   "execution_count": 30,
   "id": "012931fd-3cfa-4548-9f9d-b0acdecc3cc6",
   "metadata": {},
   "outputs": [],
   "source": [
    "df_cultivos_siap_wide[\"mes\"] = df_cultivos_siap_wide[\"fecha\"].dt.month\n",
    "df_cultivos_siap_wide[\"año\"] = df_cultivos_siap_wide[\"fecha\"].dt.year"
   ]
  },
  {
   "cell_type": "code",
   "execution_count": 31,
   "id": "8e49d56c-7e10-4ceb-b073-541707c99674",
   "metadata": {},
   "outputs": [
    {
     "data": {
      "text/html": [
       "<div>\n",
       "<style scoped>\n",
       "    .dataframe tbody tr th:only-of-type {\n",
       "        vertical-align: middle;\n",
       "    }\n",
       "\n",
       "    .dataframe tbody tr th {\n",
       "        vertical-align: top;\n",
       "    }\n",
       "\n",
       "    .dataframe thead th {\n",
       "        text-align: right;\n",
       "    }\n",
       "</style>\n",
       "<table border=\"1\" class=\"dataframe\">\n",
       "  <thead>\n",
       "    <tr style=\"text-align: right;\">\n",
       "      <th></th>\n",
       "      <th>entidad</th>\n",
       "      <th>municipio</th>\n",
       "      <th>sembrada_ha</th>\n",
       "      <th>cosechada_ha</th>\n",
       "      <th>siniestrada_ha</th>\n",
       "      <th>produccion_ton</th>\n",
       "      <th>rendimiento</th>\n",
       "      <th>cultivo</th>\n",
       "      <th>fecha</th>\n",
       "      <th>mes</th>\n",
       "      <th>año</th>\n",
       "    </tr>\n",
       "  </thead>\n",
       "  <tbody>\n",
       "    <tr>\n",
       "      <th>0</th>\n",
       "      <td>Baja California Sur</td>\n",
       "      <td>La Paz</td>\n",
       "      <td>6.00</td>\n",
       "      <td>6.00</td>\n",
       "      <td>0.0</td>\n",
       "      <td>180.96</td>\n",
       "      <td>30.16</td>\n",
       "      <td>berenjena</td>\n",
       "      <td>2022-11-01</td>\n",
       "      <td>11</td>\n",
       "      <td>2022</td>\n",
       "    </tr>\n",
       "    <tr>\n",
       "      <th>1</th>\n",
       "      <td>Baja California Sur</td>\n",
       "      <td>Los Cabos</td>\n",
       "      <td>7.75</td>\n",
       "      <td>7.75</td>\n",
       "      <td>0.0</td>\n",
       "      <td>114.00</td>\n",
       "      <td>14.71</td>\n",
       "      <td>berenjena</td>\n",
       "      <td>2022-11-01</td>\n",
       "      <td>11</td>\n",
       "      <td>2022</td>\n",
       "    </tr>\n",
       "    <tr>\n",
       "      <th>2</th>\n",
       "      <td>Michoacán</td>\n",
       "      <td>Churintzio</td>\n",
       "      <td>6.00</td>\n",
       "      <td>6.00</td>\n",
       "      <td>0.0</td>\n",
       "      <td>245.00</td>\n",
       "      <td>40.83</td>\n",
       "      <td>berenjena</td>\n",
       "      <td>2022-11-01</td>\n",
       "      <td>11</td>\n",
       "      <td>2022</td>\n",
       "    </tr>\n",
       "    <tr>\n",
       "      <th>3</th>\n",
       "      <td>Michoacán</td>\n",
       "      <td>Yurécuaro</td>\n",
       "      <td>13.00</td>\n",
       "      <td>13.00</td>\n",
       "      <td>0.0</td>\n",
       "      <td>783.90</td>\n",
       "      <td>60.30</td>\n",
       "      <td>berenjena</td>\n",
       "      <td>2022-11-01</td>\n",
       "      <td>11</td>\n",
       "      <td>2022</td>\n",
       "    </tr>\n",
       "    <tr>\n",
       "      <th>4</th>\n",
       "      <td>Morelos</td>\n",
       "      <td>Miacatlán</td>\n",
       "      <td>7.00</td>\n",
       "      <td>4.00</td>\n",
       "      <td>0.0</td>\n",
       "      <td>49.00</td>\n",
       "      <td>12.25</td>\n",
       "      <td>berenjena</td>\n",
       "      <td>2022-11-01</td>\n",
       "      <td>11</td>\n",
       "      <td>2022</td>\n",
       "    </tr>\n",
       "  </tbody>\n",
       "</table>\n",
       "</div>"
      ],
      "text/plain": [
       "               entidad   municipio  sembrada_ha  cosechada_ha  siniestrada_ha  \\\n",
       "0  Baja California Sur      La Paz         6.00          6.00             0.0   \n",
       "1  Baja California Sur   Los Cabos         7.75          7.75             0.0   \n",
       "2            Michoacán  Churintzio         6.00          6.00             0.0   \n",
       "3            Michoacán   Yurécuaro        13.00         13.00             0.0   \n",
       "4              Morelos   Miacatlán         7.00          4.00             0.0   \n",
       "\n",
       "   produccion_ton  rendimiento    cultivo      fecha  mes   año  \n",
       "0          180.96        30.16  berenjena 2022-11-01   11  2022  \n",
       "1          114.00        14.71  berenjena 2022-11-01   11  2022  \n",
       "2          245.00        40.83  berenjena 2022-11-01   11  2022  \n",
       "3          783.90        60.30  berenjena 2022-11-01   11  2022  \n",
       "4           49.00        12.25  berenjena 2022-11-01   11  2022  "
      ]
     },
     "execution_count": 31,
     "metadata": {},
     "output_type": "execute_result"
    }
   ],
   "source": [
    "df_cultivos_siap_filtered = df_cultivos_siap_wide[(df_cultivos_siap_wide[\"cultivo\"].isin(cultivos_siap))]\n",
    "df_cultivos_siap_filtered[df_cultivos_siap_filtered[\"cultivo\"]==\"berenjena\"].head()"
   ]
  },
  {
   "cell_type": "code",
   "execution_count": 32,
   "id": "420ff496-1f3b-4394-897f-637e2cafc3b5",
   "metadata": {},
   "outputs": [],
   "source": [
    "df_cultivos_siap_wide[\"cultivo\"] = df_cultivos_siap_wide[\"cultivo\"].astype(\"category\")"
   ]
  },
  {
   "cell_type": "code",
   "execution_count": 33,
   "id": "386a0530-89f2-49e2-bea5-dc1f0c3dd715",
   "metadata": {},
   "outputs": [],
   "source": [
    "df_cultivos_siap_filtered.loc[:,\"cultivo\"] = df_cultivos_siap_filtered.loc[:,\"cultivo\"].astype(\"category\")"
   ]
  },
  {
   "cell_type": "markdown",
   "id": "69069461-7cd5-4160-a377-5f8c5c608b44",
   "metadata": {},
   "source": [
    "Finalmente, verificamos que la cantidad de categorias en nuestro dataframe cambio, y que ahora solo contiene los cultivos de interés."
   ]
  },
  {
   "cell_type": "code",
   "execution_count": 34,
   "id": "b5053a49-e060-4843-8bd5-29aef2582862",
   "metadata": {},
   "outputs": [
    {
     "data": {
      "text/plain": [
       "['nuez', 'coliflor', 'mango', 'manzana', 'pepino', ..., 'naranja', 'frambuesa', 'nopalitos', 'frijol', 'guayaba']\n",
       "Length: 26\n",
       "Categories (26, string): [berenjena, calabacita, cebolla, chile verde, ..., tomate verde, toronja (pomelo), uva, zarzamora]"
      ]
     },
     "execution_count": 34,
     "metadata": {},
     "output_type": "execute_result"
    }
   ],
   "source": [
    "df_cultivos_siap_filtered[\"cultivo\"].unique()"
   ]
  },
  {
   "cell_type": "code",
   "execution_count": 35,
   "id": "7a3b95a7-03e7-47df-823f-90be5684676a",
   "metadata": {},
   "outputs": [],
   "source": [
    "df_grouped_siap = df_cultivos_siap_filtered.groupby([\"entidad\",\"cultivo\",\"año\",\"mes\"])"
   ]
  },
  {
   "cell_type": "code",
   "execution_count": 37,
   "id": "a9305288-891d-4689-8ed5-e7923513f6f4",
   "metadata": {},
   "outputs": [],
   "source": [
    "df_totales_mes_siap = df_grouped_siap[[\"sembrada_ha\",\"cosechada_ha\",\"siniestrada_ha\",\"produccion_ton\",\"rendimiento\"]].sum()"
   ]
  },
  {
   "cell_type": "code",
   "execution_count": 38,
   "id": "518190b4-3793-4aca-a675-a59bb3870b39",
   "metadata": {},
   "outputs": [
    {
     "data": {
      "text/html": [
       "<div>\n",
       "<style scoped>\n",
       "    .dataframe tbody tr th:only-of-type {\n",
       "        vertical-align: middle;\n",
       "    }\n",
       "\n",
       "    .dataframe tbody tr th {\n",
       "        vertical-align: top;\n",
       "    }\n",
       "\n",
       "    .dataframe thead th {\n",
       "        text-align: right;\n",
       "    }\n",
       "</style>\n",
       "<table border=\"1\" class=\"dataframe\">\n",
       "  <thead>\n",
       "    <tr style=\"text-align: right;\">\n",
       "      <th></th>\n",
       "      <th></th>\n",
       "      <th></th>\n",
       "      <th></th>\n",
       "      <th>sembrada_ha</th>\n",
       "      <th>cosechada_ha</th>\n",
       "      <th>siniestrada_ha</th>\n",
       "      <th>produccion_ton</th>\n",
       "      <th>rendimiento</th>\n",
       "      <th>sembrada_ha_mes</th>\n",
       "      <th>cosechada_ha_mes</th>\n",
       "      <th>siniestrada_ha_mes</th>\n",
       "      <th>produccion_ton_mes</th>\n",
       "    </tr>\n",
       "    <tr>\n",
       "      <th>entidad</th>\n",
       "      <th>cultivo</th>\n",
       "      <th>año</th>\n",
       "      <th>mes</th>\n",
       "      <th></th>\n",
       "      <th></th>\n",
       "      <th></th>\n",
       "      <th></th>\n",
       "      <th></th>\n",
       "      <th></th>\n",
       "      <th></th>\n",
       "      <th></th>\n",
       "      <th></th>\n",
       "    </tr>\n",
       "  </thead>\n",
       "  <tbody>\n",
       "    <tr>\n",
       "      <th rowspan=\"15\" valign=\"top\">Aguascalientes</th>\n",
       "      <th rowspan=\"15\" valign=\"top\">berenjena</th>\n",
       "      <th rowspan=\"12\" valign=\"top\">2020</th>\n",
       "      <th>1</th>\n",
       "      <td>0.0</td>\n",
       "      <td>0.0</td>\n",
       "      <td>0.0</td>\n",
       "      <td>0.0</td>\n",
       "      <td>0.0</td>\n",
       "      <td>NaN</td>\n",
       "      <td>NaN</td>\n",
       "      <td>NaN</td>\n",
       "      <td>NaN</td>\n",
       "    </tr>\n",
       "    <tr>\n",
       "      <th>2</th>\n",
       "      <td>0.0</td>\n",
       "      <td>0.0</td>\n",
       "      <td>0.0</td>\n",
       "      <td>0.0</td>\n",
       "      <td>0.0</td>\n",
       "      <td>0.0</td>\n",
       "      <td>0.0</td>\n",
       "      <td>0.0</td>\n",
       "      <td>0.0</td>\n",
       "    </tr>\n",
       "    <tr>\n",
       "      <th>3</th>\n",
       "      <td>0.0</td>\n",
       "      <td>0.0</td>\n",
       "      <td>0.0</td>\n",
       "      <td>0.0</td>\n",
       "      <td>0.0</td>\n",
       "      <td>0.0</td>\n",
       "      <td>0.0</td>\n",
       "      <td>0.0</td>\n",
       "      <td>0.0</td>\n",
       "    </tr>\n",
       "    <tr>\n",
       "      <th>4</th>\n",
       "      <td>0.0</td>\n",
       "      <td>0.0</td>\n",
       "      <td>0.0</td>\n",
       "      <td>0.0</td>\n",
       "      <td>0.0</td>\n",
       "      <td>0.0</td>\n",
       "      <td>0.0</td>\n",
       "      <td>0.0</td>\n",
       "      <td>0.0</td>\n",
       "    </tr>\n",
       "    <tr>\n",
       "      <th>5</th>\n",
       "      <td>0.0</td>\n",
       "      <td>0.0</td>\n",
       "      <td>0.0</td>\n",
       "      <td>0.0</td>\n",
       "      <td>0.0</td>\n",
       "      <td>0.0</td>\n",
       "      <td>0.0</td>\n",
       "      <td>0.0</td>\n",
       "      <td>0.0</td>\n",
       "    </tr>\n",
       "    <tr>\n",
       "      <th>6</th>\n",
       "      <td>0.0</td>\n",
       "      <td>0.0</td>\n",
       "      <td>0.0</td>\n",
       "      <td>0.0</td>\n",
       "      <td>0.0</td>\n",
       "      <td>0.0</td>\n",
       "      <td>0.0</td>\n",
       "      <td>0.0</td>\n",
       "      <td>0.0</td>\n",
       "    </tr>\n",
       "    <tr>\n",
       "      <th>7</th>\n",
       "      <td>0.0</td>\n",
       "      <td>0.0</td>\n",
       "      <td>0.0</td>\n",
       "      <td>0.0</td>\n",
       "      <td>0.0</td>\n",
       "      <td>0.0</td>\n",
       "      <td>0.0</td>\n",
       "      <td>0.0</td>\n",
       "      <td>0.0</td>\n",
       "    </tr>\n",
       "    <tr>\n",
       "      <th>8</th>\n",
       "      <td>0.0</td>\n",
       "      <td>0.0</td>\n",
       "      <td>0.0</td>\n",
       "      <td>0.0</td>\n",
       "      <td>0.0</td>\n",
       "      <td>0.0</td>\n",
       "      <td>0.0</td>\n",
       "      <td>0.0</td>\n",
       "      <td>0.0</td>\n",
       "    </tr>\n",
       "    <tr>\n",
       "      <th>9</th>\n",
       "      <td>0.0</td>\n",
       "      <td>0.0</td>\n",
       "      <td>0.0</td>\n",
       "      <td>0.0</td>\n",
       "      <td>0.0</td>\n",
       "      <td>0.0</td>\n",
       "      <td>0.0</td>\n",
       "      <td>0.0</td>\n",
       "      <td>0.0</td>\n",
       "    </tr>\n",
       "    <tr>\n",
       "      <th>10</th>\n",
       "      <td>0.0</td>\n",
       "      <td>0.0</td>\n",
       "      <td>0.0</td>\n",
       "      <td>0.0</td>\n",
       "      <td>0.0</td>\n",
       "      <td>0.0</td>\n",
       "      <td>0.0</td>\n",
       "      <td>0.0</td>\n",
       "      <td>0.0</td>\n",
       "    </tr>\n",
       "    <tr>\n",
       "      <th>11</th>\n",
       "      <td>0.0</td>\n",
       "      <td>0.0</td>\n",
       "      <td>0.0</td>\n",
       "      <td>0.0</td>\n",
       "      <td>0.0</td>\n",
       "      <td>0.0</td>\n",
       "      <td>0.0</td>\n",
       "      <td>0.0</td>\n",
       "      <td>0.0</td>\n",
       "    </tr>\n",
       "    <tr>\n",
       "      <th>12</th>\n",
       "      <td>0.0</td>\n",
       "      <td>0.0</td>\n",
       "      <td>0.0</td>\n",
       "      <td>0.0</td>\n",
       "      <td>0.0</td>\n",
       "      <td>0.0</td>\n",
       "      <td>0.0</td>\n",
       "      <td>0.0</td>\n",
       "      <td>0.0</td>\n",
       "    </tr>\n",
       "    <tr>\n",
       "      <th rowspan=\"3\" valign=\"top\">2021</th>\n",
       "      <th>1</th>\n",
       "      <td>0.0</td>\n",
       "      <td>0.0</td>\n",
       "      <td>0.0</td>\n",
       "      <td>0.0</td>\n",
       "      <td>0.0</td>\n",
       "      <td>0.0</td>\n",
       "      <td>0.0</td>\n",
       "      <td>0.0</td>\n",
       "      <td>0.0</td>\n",
       "    </tr>\n",
       "    <tr>\n",
       "      <th>2</th>\n",
       "      <td>0.0</td>\n",
       "      <td>0.0</td>\n",
       "      <td>0.0</td>\n",
       "      <td>0.0</td>\n",
       "      <td>0.0</td>\n",
       "      <td>0.0</td>\n",
       "      <td>0.0</td>\n",
       "      <td>0.0</td>\n",
       "      <td>0.0</td>\n",
       "    </tr>\n",
       "    <tr>\n",
       "      <th>3</th>\n",
       "      <td>0.0</td>\n",
       "      <td>0.0</td>\n",
       "      <td>0.0</td>\n",
       "      <td>0.0</td>\n",
       "      <td>0.0</td>\n",
       "      <td>0.0</td>\n",
       "      <td>0.0</td>\n",
       "      <td>0.0</td>\n",
       "      <td>0.0</td>\n",
       "    </tr>\n",
       "  </tbody>\n",
       "</table>\n",
       "</div>"
      ],
      "text/plain": [
       "                                   sembrada_ha  cosechada_ha  siniestrada_ha  \\\n",
       "entidad        cultivo   año  mes                                              \n",
       "Aguascalientes berenjena 2020 1            0.0           0.0             0.0   \n",
       "                              2            0.0           0.0             0.0   \n",
       "                              3            0.0           0.0             0.0   \n",
       "                              4            0.0           0.0             0.0   \n",
       "                              5            0.0           0.0             0.0   \n",
       "                              6            0.0           0.0             0.0   \n",
       "                              7            0.0           0.0             0.0   \n",
       "                              8            0.0           0.0             0.0   \n",
       "                              9            0.0           0.0             0.0   \n",
       "                              10           0.0           0.0             0.0   \n",
       "                              11           0.0           0.0             0.0   \n",
       "                              12           0.0           0.0             0.0   \n",
       "                         2021 1            0.0           0.0             0.0   \n",
       "                              2            0.0           0.0             0.0   \n",
       "                              3            0.0           0.0             0.0   \n",
       "\n",
       "                                   produccion_ton  rendimiento  \\\n",
       "entidad        cultivo   año  mes                                \n",
       "Aguascalientes berenjena 2020 1               0.0          0.0   \n",
       "                              2               0.0          0.0   \n",
       "                              3               0.0          0.0   \n",
       "                              4               0.0          0.0   \n",
       "                              5               0.0          0.0   \n",
       "                              6               0.0          0.0   \n",
       "                              7               0.0          0.0   \n",
       "                              8               0.0          0.0   \n",
       "                              9               0.0          0.0   \n",
       "                              10              0.0          0.0   \n",
       "                              11              0.0          0.0   \n",
       "                              12              0.0          0.0   \n",
       "                         2021 1               0.0          0.0   \n",
       "                              2               0.0          0.0   \n",
       "                              3               0.0          0.0   \n",
       "\n",
       "                                   sembrada_ha_mes  cosechada_ha_mes  \\\n",
       "entidad        cultivo   año  mes                                      \n",
       "Aguascalientes berenjena 2020 1                NaN               NaN   \n",
       "                              2                0.0               0.0   \n",
       "                              3                0.0               0.0   \n",
       "                              4                0.0               0.0   \n",
       "                              5                0.0               0.0   \n",
       "                              6                0.0               0.0   \n",
       "                              7                0.0               0.0   \n",
       "                              8                0.0               0.0   \n",
       "                              9                0.0               0.0   \n",
       "                              10               0.0               0.0   \n",
       "                              11               0.0               0.0   \n",
       "                              12               0.0               0.0   \n",
       "                         2021 1                0.0               0.0   \n",
       "                              2                0.0               0.0   \n",
       "                              3                0.0               0.0   \n",
       "\n",
       "                                   siniestrada_ha_mes  produccion_ton_mes  \n",
       "entidad        cultivo   año  mes                                          \n",
       "Aguascalientes berenjena 2020 1                   NaN                 NaN  \n",
       "                              2                   0.0                 0.0  \n",
       "                              3                   0.0                 0.0  \n",
       "                              4                   0.0                 0.0  \n",
       "                              5                   0.0                 0.0  \n",
       "                              6                   0.0                 0.0  \n",
       "                              7                   0.0                 0.0  \n",
       "                              8                   0.0                 0.0  \n",
       "                              9                   0.0                 0.0  \n",
       "                              10                  0.0                 0.0  \n",
       "                              11                  0.0                 0.0  \n",
       "                              12                  0.0                 0.0  \n",
       "                         2021 1                   0.0                 0.0  \n",
       "                              2                   0.0                 0.0  \n",
       "                              3                   0.0                 0.0  "
      ]
     },
     "execution_count": 38,
     "metadata": {},
     "output_type": "execute_result"
    }
   ],
   "source": [
    "df_totales_mes_siap[\"sembrada_ha_mes\"] = df_totales_mes_siap[\"sembrada_ha\"].diff()\n",
    "df_totales_mes_siap[\"cosechada_ha_mes\"] = df_totales_mes_siap[\"cosechada_ha\"].diff()\n",
    "df_totales_mes_siap[\"siniestrada_ha_mes\"] = df_totales_mes_siap[\"siniestrada_ha\"].diff()\n",
    "df_totales_mes_siap[\"produccion_ton_mes\"] = df_totales_mes_siap[\"produccion_ton\"].diff()\n",
    "df_totales_mes_siap.head(15)"
   ]
  },
  {
   "cell_type": "code",
   "execution_count": 39,
   "id": "4036f7e2-9403-44c9-881d-a3fd35b229b5",
   "metadata": {},
   "outputs": [],
   "source": [
    "df_totales_mes_siap = df_totales_mes_siap[(df_totales_mes_siap[\"sembrada_ha\"] != 0.0) & (df_totales_mes_siap[\"cosechada_ha\"] != 0.0)\\\n",
    "& (df_totales_mes_siap[\"produccion_ton\"] != 0.0)]"
   ]
  },
  {
   "cell_type": "code",
   "execution_count": 40,
   "id": "863643cf-56c4-4e69-9415-975ef9476ac2",
   "metadata": {},
   "outputs": [],
   "source": [
    "df_totales_mes_siap.reset_index(inplace=True)"
   ]
  },
  {
   "cell_type": "code",
   "execution_count": 41,
   "id": "2dd3b89a-4f8d-4ee6-b0af-7f92d52ad78d",
   "metadata": {},
   "outputs": [],
   "source": [
    "df_totales_mes_siap.loc[df_totales_mes_siap[\"mes\"] == 1,\"sembrada_ha_mes\"] = df_totales_mes_siap.loc[df_totales_mes_siap[\"mes\"] == 1,\"sembrada_ha\"]\n",
    "df_totales_mes_siap.loc[df_totales_mes_siap[\"mes\"] == 1,\"cosechada_ha_mes\"] = df_totales_mes_siap.loc[df_totales_mes_siap[\"mes\"] == 1,\"cosechada_ha\"]\n",
    "df_totales_mes_siap.loc[df_totales_mes_siap[\"mes\"] == 1,\"siniestrada_ha_mes\"] = df_totales_mes_siap.loc[df_totales_mes_siap[\"mes\"] == 1,\"siniestrada_ha\"]\n",
    "df_totales_mes_siap.loc[df_totales_mes_siap[\"mes\"] == 1,\"produccion_ton_mes\"] = df_totales_mes_siap.loc[df_totales_mes_siap[\"mes\"] == 1,\"produccion_ton\"]"
   ]
  },
  {
   "cell_type": "code",
   "execution_count": 42,
   "id": "f0abd596-8a74-415c-b712-df07dd62c540",
   "metadata": {},
   "outputs": [],
   "source": [
    "df_totales_mes_siap[\"rendimiento\"] = df_totales_mes_siap[\"produccion_ton\"] / df_totales_mes_siap[\"cosechada_ha\"]\n",
    "df_totales_mes_siap[\"rendimiento\"] = df_totales_mes_siap[\"rendimiento\"].round(2)"
   ]
  },
  {
   "cell_type": "code",
   "execution_count": 43,
   "id": "d6ece6aa-8bda-41b9-ad1f-290a230a6ee7",
   "metadata": {
    "scrolled": true
   },
   "outputs": [
    {
     "data": {
      "text/html": [
       "<div>\n",
       "<style scoped>\n",
       "    .dataframe tbody tr th:only-of-type {\n",
       "        vertical-align: middle;\n",
       "    }\n",
       "\n",
       "    .dataframe tbody tr th {\n",
       "        vertical-align: top;\n",
       "    }\n",
       "\n",
       "    .dataframe thead th {\n",
       "        text-align: right;\n",
       "    }\n",
       "</style>\n",
       "<table border=\"1\" class=\"dataframe\">\n",
       "  <thead>\n",
       "    <tr style=\"text-align: right;\">\n",
       "      <th></th>\n",
       "      <th>entidad</th>\n",
       "      <th>cultivo</th>\n",
       "      <th>año</th>\n",
       "      <th>mes</th>\n",
       "      <th>sembrada_ha</th>\n",
       "      <th>cosechada_ha</th>\n",
       "      <th>siniestrada_ha</th>\n",
       "      <th>produccion_ton</th>\n",
       "      <th>rendimiento</th>\n",
       "      <th>sembrada_ha_mes</th>\n",
       "      <th>cosechada_ha_mes</th>\n",
       "      <th>siniestrada_ha_mes</th>\n",
       "      <th>produccion_ton_mes</th>\n",
       "    </tr>\n",
       "  </thead>\n",
       "  <tbody>\n",
       "    <tr>\n",
       "      <th>0</th>\n",
       "      <td>Aguascalientes</td>\n",
       "      <td>calabacita</td>\n",
       "      <td>2021</td>\n",
       "      <td>1</td>\n",
       "      <td>18.0</td>\n",
       "      <td>13.0</td>\n",
       "      <td>0.0</td>\n",
       "      <td>198.25</td>\n",
       "      <td>15.25</td>\n",
       "      <td>18.0</td>\n",
       "      <td>13.0</td>\n",
       "      <td>0.0</td>\n",
       "      <td>198.25</td>\n",
       "    </tr>\n",
       "    <tr>\n",
       "      <th>1</th>\n",
       "      <td>Aguascalientes</td>\n",
       "      <td>calabacita</td>\n",
       "      <td>2021</td>\n",
       "      <td>2</td>\n",
       "      <td>18.0</td>\n",
       "      <td>18.0</td>\n",
       "      <td>0.0</td>\n",
       "      <td>274.50</td>\n",
       "      <td>15.25</td>\n",
       "      <td>0.0</td>\n",
       "      <td>5.0</td>\n",
       "      <td>0.0</td>\n",
       "      <td>76.25</td>\n",
       "    </tr>\n",
       "    <tr>\n",
       "      <th>2</th>\n",
       "      <td>Aguascalientes</td>\n",
       "      <td>calabacita</td>\n",
       "      <td>2021</td>\n",
       "      <td>3</td>\n",
       "      <td>18.0</td>\n",
       "      <td>18.0</td>\n",
       "      <td>0.0</td>\n",
       "      <td>274.50</td>\n",
       "      <td>15.25</td>\n",
       "      <td>0.0</td>\n",
       "      <td>0.0</td>\n",
       "      <td>0.0</td>\n",
       "      <td>0.00</td>\n",
       "    </tr>\n",
       "    <tr>\n",
       "      <th>3</th>\n",
       "      <td>Aguascalientes</td>\n",
       "      <td>calabacita</td>\n",
       "      <td>2021</td>\n",
       "      <td>4</td>\n",
       "      <td>64.5</td>\n",
       "      <td>18.0</td>\n",
       "      <td>0.0</td>\n",
       "      <td>274.50</td>\n",
       "      <td>15.25</td>\n",
       "      <td>46.5</td>\n",
       "      <td>0.0</td>\n",
       "      <td>0.0</td>\n",
       "      <td>0.00</td>\n",
       "    </tr>\n",
       "    <tr>\n",
       "      <th>4</th>\n",
       "      <td>Aguascalientes</td>\n",
       "      <td>calabacita</td>\n",
       "      <td>2021</td>\n",
       "      <td>5</td>\n",
       "      <td>191.5</td>\n",
       "      <td>18.0</td>\n",
       "      <td>0.0</td>\n",
       "      <td>303.27</td>\n",
       "      <td>16.85</td>\n",
       "      <td>127.0</td>\n",
       "      <td>0.0</td>\n",
       "      <td>0.0</td>\n",
       "      <td>28.77</td>\n",
       "    </tr>\n",
       "    <tr>\n",
       "      <th>5</th>\n",
       "      <td>Aguascalientes</td>\n",
       "      <td>calabacita</td>\n",
       "      <td>2021</td>\n",
       "      <td>6</td>\n",
       "      <td>216.5</td>\n",
       "      <td>118.0</td>\n",
       "      <td>0.0</td>\n",
       "      <td>3192.07</td>\n",
       "      <td>27.05</td>\n",
       "      <td>25.0</td>\n",
       "      <td>100.0</td>\n",
       "      <td>0.0</td>\n",
       "      <td>2888.80</td>\n",
       "    </tr>\n",
       "    <tr>\n",
       "      <th>6</th>\n",
       "      <td>Aguascalientes</td>\n",
       "      <td>calabacita</td>\n",
       "      <td>2021</td>\n",
       "      <td>7</td>\n",
       "      <td>216.5</td>\n",
       "      <td>216.5</td>\n",
       "      <td>0.0</td>\n",
       "      <td>5931.62</td>\n",
       "      <td>27.40</td>\n",
       "      <td>0.0</td>\n",
       "      <td>98.5</td>\n",
       "      <td>0.0</td>\n",
       "      <td>2739.55</td>\n",
       "    </tr>\n",
       "    <tr>\n",
       "      <th>7</th>\n",
       "      <td>Aguascalientes</td>\n",
       "      <td>calabacita</td>\n",
       "      <td>2021</td>\n",
       "      <td>8</td>\n",
       "      <td>216.5</td>\n",
       "      <td>216.5</td>\n",
       "      <td>0.0</td>\n",
       "      <td>5931.62</td>\n",
       "      <td>27.40</td>\n",
       "      <td>0.0</td>\n",
       "      <td>0.0</td>\n",
       "      <td>0.0</td>\n",
       "      <td>0.00</td>\n",
       "    </tr>\n",
       "    <tr>\n",
       "      <th>8</th>\n",
       "      <td>Aguascalientes</td>\n",
       "      <td>calabacita</td>\n",
       "      <td>2021</td>\n",
       "      <td>9</td>\n",
       "      <td>216.5</td>\n",
       "      <td>216.5</td>\n",
       "      <td>0.0</td>\n",
       "      <td>5931.62</td>\n",
       "      <td>27.40</td>\n",
       "      <td>0.0</td>\n",
       "      <td>0.0</td>\n",
       "      <td>0.0</td>\n",
       "      <td>0.00</td>\n",
       "    </tr>\n",
       "    <tr>\n",
       "      <th>9</th>\n",
       "      <td>Aguascalientes</td>\n",
       "      <td>calabacita</td>\n",
       "      <td>2021</td>\n",
       "      <td>10</td>\n",
       "      <td>216.5</td>\n",
       "      <td>216.5</td>\n",
       "      <td>0.0</td>\n",
       "      <td>5931.62</td>\n",
       "      <td>27.40</td>\n",
       "      <td>0.0</td>\n",
       "      <td>0.0</td>\n",
       "      <td>0.0</td>\n",
       "      <td>0.00</td>\n",
       "    </tr>\n",
       "    <tr>\n",
       "      <th>10</th>\n",
       "      <td>Aguascalientes</td>\n",
       "      <td>calabacita</td>\n",
       "      <td>2021</td>\n",
       "      <td>11</td>\n",
       "      <td>216.5</td>\n",
       "      <td>216.5</td>\n",
       "      <td>0.0</td>\n",
       "      <td>6331.62</td>\n",
       "      <td>29.25</td>\n",
       "      <td>0.0</td>\n",
       "      <td>0.0</td>\n",
       "      <td>0.0</td>\n",
       "      <td>400.00</td>\n",
       "    </tr>\n",
       "    <tr>\n",
       "      <th>11</th>\n",
       "      <td>Aguascalientes</td>\n",
       "      <td>calabacita</td>\n",
       "      <td>2021</td>\n",
       "      <td>12</td>\n",
       "      <td>216.5</td>\n",
       "      <td>216.5</td>\n",
       "      <td>0.0</td>\n",
       "      <td>7131.62</td>\n",
       "      <td>32.94</td>\n",
       "      <td>0.0</td>\n",
       "      <td>0.0</td>\n",
       "      <td>0.0</td>\n",
       "      <td>800.00</td>\n",
       "    </tr>\n",
       "    <tr>\n",
       "      <th>12</th>\n",
       "      <td>Aguascalientes</td>\n",
       "      <td>calabacita</td>\n",
       "      <td>2022</td>\n",
       "      <td>1</td>\n",
       "      <td>20.0</td>\n",
       "      <td>15.0</td>\n",
       "      <td>0.0</td>\n",
       "      <td>255.00</td>\n",
       "      <td>17.00</td>\n",
       "      <td>20.0</td>\n",
       "      <td>15.0</td>\n",
       "      <td>0.0</td>\n",
       "      <td>255.00</td>\n",
       "    </tr>\n",
       "    <tr>\n",
       "      <th>13</th>\n",
       "      <td>Aguascalientes</td>\n",
       "      <td>calabacita</td>\n",
       "      <td>2022</td>\n",
       "      <td>2</td>\n",
       "      <td>20.0</td>\n",
       "      <td>20.0</td>\n",
       "      <td>0.0</td>\n",
       "      <td>340.00</td>\n",
       "      <td>17.00</td>\n",
       "      <td>0.0</td>\n",
       "      <td>5.0</td>\n",
       "      <td>0.0</td>\n",
       "      <td>85.00</td>\n",
       "    </tr>\n",
       "    <tr>\n",
       "      <th>14</th>\n",
       "      <td>Aguascalientes</td>\n",
       "      <td>calabacita</td>\n",
       "      <td>2022</td>\n",
       "      <td>3</td>\n",
       "      <td>20.0</td>\n",
       "      <td>20.0</td>\n",
       "      <td>0.0</td>\n",
       "      <td>340.00</td>\n",
       "      <td>17.00</td>\n",
       "      <td>0.0</td>\n",
       "      <td>0.0</td>\n",
       "      <td>0.0</td>\n",
       "      <td>0.00</td>\n",
       "    </tr>\n",
       "  </tbody>\n",
       "</table>\n",
       "</div>"
      ],
      "text/plain": [
       "           entidad     cultivo   año  mes  sembrada_ha  cosechada_ha  \\\n",
       "0   Aguascalientes  calabacita  2021    1         18.0          13.0   \n",
       "1   Aguascalientes  calabacita  2021    2         18.0          18.0   \n",
       "2   Aguascalientes  calabacita  2021    3         18.0          18.0   \n",
       "3   Aguascalientes  calabacita  2021    4         64.5          18.0   \n",
       "4   Aguascalientes  calabacita  2021    5        191.5          18.0   \n",
       "5   Aguascalientes  calabacita  2021    6        216.5         118.0   \n",
       "6   Aguascalientes  calabacita  2021    7        216.5         216.5   \n",
       "7   Aguascalientes  calabacita  2021    8        216.5         216.5   \n",
       "8   Aguascalientes  calabacita  2021    9        216.5         216.5   \n",
       "9   Aguascalientes  calabacita  2021   10        216.5         216.5   \n",
       "10  Aguascalientes  calabacita  2021   11        216.5         216.5   \n",
       "11  Aguascalientes  calabacita  2021   12        216.5         216.5   \n",
       "12  Aguascalientes  calabacita  2022    1         20.0          15.0   \n",
       "13  Aguascalientes  calabacita  2022    2         20.0          20.0   \n",
       "14  Aguascalientes  calabacita  2022    3         20.0          20.0   \n",
       "\n",
       "    siniestrada_ha  produccion_ton  rendimiento  sembrada_ha_mes  \\\n",
       "0              0.0          198.25        15.25             18.0   \n",
       "1              0.0          274.50        15.25              0.0   \n",
       "2              0.0          274.50        15.25              0.0   \n",
       "3              0.0          274.50        15.25             46.5   \n",
       "4              0.0          303.27        16.85            127.0   \n",
       "5              0.0         3192.07        27.05             25.0   \n",
       "6              0.0         5931.62        27.40              0.0   \n",
       "7              0.0         5931.62        27.40              0.0   \n",
       "8              0.0         5931.62        27.40              0.0   \n",
       "9              0.0         5931.62        27.40              0.0   \n",
       "10             0.0         6331.62        29.25              0.0   \n",
       "11             0.0         7131.62        32.94              0.0   \n",
       "12             0.0          255.00        17.00             20.0   \n",
       "13             0.0          340.00        17.00              0.0   \n",
       "14             0.0          340.00        17.00              0.0   \n",
       "\n",
       "    cosechada_ha_mes  siniestrada_ha_mes  produccion_ton_mes  \n",
       "0               13.0                 0.0              198.25  \n",
       "1                5.0                 0.0               76.25  \n",
       "2                0.0                 0.0                0.00  \n",
       "3                0.0                 0.0                0.00  \n",
       "4                0.0                 0.0               28.77  \n",
       "5              100.0                 0.0             2888.80  \n",
       "6               98.5                 0.0             2739.55  \n",
       "7                0.0                 0.0                0.00  \n",
       "8                0.0                 0.0                0.00  \n",
       "9                0.0                 0.0                0.00  \n",
       "10               0.0                 0.0              400.00  \n",
       "11               0.0                 0.0              800.00  \n",
       "12              15.0                 0.0              255.00  \n",
       "13               5.0                 0.0               85.00  \n",
       "14               0.0                 0.0                0.00  "
      ]
     },
     "execution_count": 43,
     "metadata": {},
     "output_type": "execute_result"
    }
   ],
   "source": [
    "df_totales_mes_siap.head(15)"
   ]
  },
  {
   "cell_type": "code",
   "execution_count": 44,
   "id": "210b86bd-b404-4012-9e1f-f7ffbdafee45",
   "metadata": {},
   "outputs": [],
   "source": [
    "df_ags = df_totales_mes_siap[(df_totales_mes_siap[\"entidad\"] == \"Sonora\") & (df_totales_mes_siap[\"cultivo\"] == \"calabacita\")]"
   ]
  },
  {
   "cell_type": "code",
   "execution_count": 45,
   "id": "c824415b-e281-4351-8b17-2ce69d4880c7",
   "metadata": {},
   "outputs": [
    {
     "data": {
      "text/plain": [
       "<Axes: xlabel='mes', ylabel='produccion_ton_mes'>"
      ]
     },
     "execution_count": 45,
     "metadata": {},
     "output_type": "execute_result"
    },
    {
     "data": {
      "image/png": "[encoded data removed]",
      "text/plain": [
       "<Figure size 640x480 with 1 Axes>"
      ]
     },
     "metadata": {},
     "output_type": "display_data"
    }
   ],
   "source": [
    "sns.barplot(x=\"mes\",\n",
    "            y=\"produccion_ton_mes\",\n",
    "            hue=\"año\",\n",
    "            errorbar=None,\n",
    "            data=df_ags)"
   ]
  },
  {
   "cell_type": "code",
   "execution_count": null,
   "id": "e30ab4b4-62a9-4638-aa60-37171db1c0b8",
   "metadata": {},
   "outputs": [],
   "source": []
  }
 ],
 "metadata": {
  "kernelspec": {
   "display_name": "Python 3 (ipykernel)",
   "language": "python",
   "name": "python3"
  },
  "language_info": {
   "codemirror_mode": {
    "name": "ipython",
    "version": 3
   },
   "file_extension": ".py",
   "mimetype": "text/x-python",
   "name": "python",
   "nbconvert_exporter": "python",
   "pygments_lexer": "ipython3",
   "version": "3.10.9"
  }
 },
 "nbformat": 4,
 "nbformat_minor": 5
}
