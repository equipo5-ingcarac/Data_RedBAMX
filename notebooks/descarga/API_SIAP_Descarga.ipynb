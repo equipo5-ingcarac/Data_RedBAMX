{
 "cells": [
  {
   "cell_type": "code",
   "execution_count": 1,
   "metadata": {
    "id": "2pY1BR0xjJXY"
   },
   "outputs": [],
   "source": [
    "import requests\n",
    "from requests.packages.urllib3.exceptions import InsecureRequestWarning\n",
    "import pandas as pd\n",
    "import xml.etree.ElementTree as ET\n",
    "from lxml import etree\n",
    "from bs4 import BeautifulSoup\n",
    "import os\n",
    "import json\n",
    "import time\n",
    "import datetime"
   ]
  },
  {
   "cell_type": "code",
   "execution_count": 2,
   "metadata": {
    "id": "viQCM1iHn_rh"
   },
   "outputs": [],
   "source": [
    "requests.packages.urllib3.disable_warnings(InsecureRequestWarning)"
   ]
  },
  {
   "cell_type": "code",
   "execution_count": 3,
   "metadata": {
    "id": "AHnGG1jdfgRf"
   },
   "outputs": [],
   "source": [
    "data_dir = \"../../data/siap\"\n",
    "\n",
    "if not os.path.exists(data_dir):\n",
    "    os.makedirs(data_dir)"
   ]
  },
  {
   "cell_type": "code",
   "execution_count": 4,
   "metadata": {
    "id": "V59WMSXogV-V"
   },
   "outputs": [],
   "source": [
    "with open(\"idsSIAP.json\") as json_file:\n",
    "    dict_ids = json.load(json_file)"
   ]
  },
  {
   "cell_type": "code",
   "execution_count": 5,
   "metadata": {
    "id": "Ndgebzw2geY3"
   },
   "outputs": [],
   "source": [
    "dict_cultivos = {k.split('_')[1]:v for k,v in dict_ids.items() if k.startswith(\"cultivo\")}\n",
    "dict_ciclos = {k.split('_')[1]:v for k,v in dict_ids.items() if k.startswith(\"ciclo\")}\n",
    "dict_mes = {k.split('_')[1]:v for k,v in dict_ids.items() if k.startswith(\"mes\")}\n",
    "dict_modalidad = {k.split('_')[1]:v for k,v in dict_ids.items() if k.startswith(\"modalidad\")}"
   ]
  },
  {
   "cell_type": "code",
   "execution_count": 6,
   "metadata": {
    "id": "LRXxS93OjNpJ"
   },
   "outputs": [],
   "source": [
    "url = \"https://nube.siap.gob.mx/avance_agricola/\"\n",
    "\n",
    "payload = {'xajax': 'reporte', # Para obtener la tabla\n",
    "'xajaxr': '1696449941927', # Timestamp UNIX\n",
    "'xajaxargs[]': [\n",
    "    '1', # 1: Desglose por estados, 2: Cultivo total\n",
    "    '2023', # Anio\n",
    "    '5', # ID Ciclo\n",
    "    '3', # ID Modalidad\n",
    "    '0', # ID Estado (0: Nacional)\n",
    "    '--',\n",
    "    '--',\n",
    "    '7', # ID Cultivo\n",
    "    '200201',\n",
    "    '0',\n",
    "    '1', # 1: Por municipio\n",
    "    'undefined',\n",
    "    'undefined',\n",
    "    'undefined',\n",
    "    '8' # Valor del mes\n",
    "    ]\n",
    "}\n",
    "\n",
    "headers = {\n",
    "  'Cookie': 'PHPSESSID=45ri2k73cbp2iptcrufu88p360',\n",
    "  'User-Agent': 'Mozilla/5.0 (Windows NT 10.0; Win64; x64) AppleWebKit/537.36 (KHTML, like Gecko) Chrome/102.0.0.0 Safari/537.36'\n",
    "}"
   ]
  },
  {
   "cell_type": "code",
   "execution_count": 7,
   "metadata": {
    "id": "8ikJJViufjh4"
   },
   "outputs": [],
   "source": [
    "for year in range(2020,2024):\n",
    "    payload['xajaxargs[]'][1] = str(year)\n",
    "    \n",
    "    for key_mes in dict_mes:\n",
    "        payload['xajaxargs[]'][14] = dict_mes[key_mes]\n",
    "\n",
    "        for key_cultivo in dict_cultivos:\n",
    "            if dict_cultivos[key_cultivo] == \"0\":\n",
    "                continue\n",
    "                \n",
    "            if os.path.exists(f\"{data_dir}/{key_cultivo.lower().replace(' ','_')}_{key_mes.lower()}_{year}.csv\"):\n",
    "                continue\n",
    "\n",
    "            payload['xajaxargs[]'][7] = dict_cultivos[key_cultivo]\n",
    "\n",
    "            response = requests.request(\"POST\", url, headers=headers, data=payload, verify=False)\n",
    "            response.encoding='ISO-8859-1'\n",
    "\n",
    "            #extract the cdata as a string\n",
    "            root = etree.fromstring(response.content)\n",
    "            cd = root.xpath('//cmd//text()')[0]\n",
    "\n",
    "            parsed_html = BeautifulSoup(str(cd))\n",
    "            parsed_table = parsed_html.body.find(\"table\")\n",
    "\n",
    "            if parsed_table is None:\n",
    "                continue\n",
    "\n",
    "            df_iter = pd.read_html(str(parsed_html.body.find(\"table\")))[0]\n",
    "\n",
    "            df_iter.to_csv(f\"{data_dir}/{key_cultivo.lower().replace(' ','_')}_{key_mes.lower()}_{year}.csv\",index=False)\n",
    "            time.sleep(0.1)"
   ]
  },
  {
   "cell_type": "code",
   "execution_count": 8,
   "metadata": {},
   "outputs": [],
   "source": [
    "with open(\"../../logs/info_SIAP.txt\", 'w') as f:\n",
    "    f.write(\"Archivos sobre cultivos a nivel municipal\\n\")\n",
    "    info = f\"\"\"\n",
    "    Datos de superficie cultivada, cosechada y siniestrada para diversos cultivos a nivel nacional.\n",
    "\n",
    "    Los datos se obtuvieron del Servicio de Informacion Agroalimentaria y Pesquera de la Secretaria de Agricultura y Desarrollo Rural\n",
    "    con fecha desde el 1 de enero de 2020 hasta la fecha ({datetime.datetime.today().strftime(\"%d-%m-%Y\")})\n",
    "\n",
    "    Los datos son recibidos en forma de tablas HTML y almacenados en archivos CSVs para su posterior tratamiento.\n",
    "    \"\"\" \n",
    "    f.write(info + '\\n')\n",
    "    f.write(\"Descargado el \" + datetime.datetime.now().strftime(\"%Y-%m-%d %H:%M:%S\") + \"\\n\")\n",
    "    f.write(\"Desde: \" + url + \"\\n\")"
   ]
  },
  {
   "cell_type": "code",
   "execution_count": null,
   "metadata": {},
   "outputs": [],
   "source": []
  }
 ],
 "metadata": {
  "colab": {
   "provenance": []
  },
  "kernelspec": {
   "display_name": "Python 3 (ipykernel)",
   "language": "python",
   "name": "python3"
  },
  "language_info": {
   "codemirror_mode": {
    "name": "ipython",
    "version": 3
   },
   "file_extension": ".py",
   "mimetype": "text/x-python",
   "name": "python",
   "nbconvert_exporter": "python",
   "pygments_lexer": "ipython3",
   "version": "3.10.9"
  }
 },
 "nbformat": 4,
 "nbformat_minor": 1
}
