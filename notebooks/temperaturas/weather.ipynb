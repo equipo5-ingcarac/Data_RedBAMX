{
 "cells": [
  {
   "cell_type": "markdown",
   "metadata": {},
   "source": [
    "# Clima en los cultivos\n",
    "\n",
    "Uno de los factores principales a considerar durante las cosechas es el clima de la región, está determina las temporadas de cosecha y los tipos de cultivos que pueden existir. Por lo tanto será importante obtener la información metereológica del pais. \n",
    "\n",
    "## Extracción de datos\n",
    "\n",
    "### Consistencia de la nueva información\n",
    "\n",
    "Pretendemos obtener información del clima del país, sin embargo al observar la información obtenida del SIAP, vemos que la información esta dada según los municipios, por lo tanto debemos procurar que la información climática provenga de cada municipio. \n",
    "\n",
    "### Fuente\n",
    "La información será extraída de 'Historical Weather API', que se puede encontrar en el siguiente elnace: https://open-meteo.com/en/docs/historical-weather-api#latitude=29.0881&longitude=-111.0103&start_date=2020-01-01&hourly=temperature_2m,relativehumidity_2m,precipitation. \n",
    "\n",
    "Lo principal de la API, es que proporciona información según las coordenadas geograficas de la región (latitud, longitud). Por lo tanto deberemos extraer las coordendadas de cada municipio.\n",
    "\n",
    "### Proceso.\n",
    "\n",
    "Esto lo haremos, mediante la extracción de información del siguiente enlace. 'https://www.coordenadas.com.es/mexico/index.php'. Para ello usaremos algunas librerías."
   ]
  },
  {
   "cell_type": "code",
   "execution_count": 122,
   "metadata": {},
   "outputs": [],
   "source": [
    "from bs4 import BeautifulSoup\n",
    "import requests\n",
    "import pandas as pd\n",
    "import numpy as np\n",
    "import math\n",
    "import re\n"
   ]
  },
  {
   "cell_type": "markdown",
   "metadata": {},
   "source": [
    "Primero, obtendremos la lista de Estados y el número de municipios. Esto como referencia para más adelante."
   ]
  },
  {
   "cell_type": "code",
   "execution_count": 123,
   "metadata": {},
   "outputs": [
    {
     "data": {
      "text/html": [
       "<div>\n",
       "<style scoped>\n",
       "    .dataframe tbody tr th:only-of-type {\n",
       "        vertical-align: middle;\n",
       "    }\n",
       "\n",
       "    .dataframe tbody tr th {\n",
       "        vertical-align: top;\n",
       "    }\n",
       "\n",
       "    .dataframe thead th {\n",
       "        text-align: right;\n",
       "    }\n",
       "</style>\n",
       "<table border=\"1\" class=\"dataframe\">\n",
       "  <thead>\n",
       "    <tr style=\"text-align: right;\">\n",
       "      <th></th>\n",
       "      <th>Estado</th>\n",
       "      <th>Cantidad de municipios</th>\n",
       "    </tr>\n",
       "  </thead>\n",
       "  <tbody>\n",
       "    <tr>\n",
       "      <th>0</th>\n",
       "      <td>Aguascalientes</td>\n",
       "      <td>11</td>\n",
       "    </tr>\n",
       "    <tr>\n",
       "      <th>1</th>\n",
       "      <td>Baja California</td>\n",
       "      <td>5</td>\n",
       "    </tr>\n",
       "    <tr>\n",
       "      <th>2</th>\n",
       "      <td>Baja California Sur</td>\n",
       "      <td>5</td>\n",
       "    </tr>\n",
       "    <tr>\n",
       "      <th>3</th>\n",
       "      <td>Campeche</td>\n",
       "      <td>11</td>\n",
       "    </tr>\n",
       "    <tr>\n",
       "      <th>4</th>\n",
       "      <td>Chiapas</td>\n",
       "      <td>124</td>\n",
       "    </tr>\n",
       "  </tbody>\n",
       "</table>\n",
       "</div>"
      ],
      "text/plain": [
       "                Estado  Cantidad de municipios\n",
       "0       Aguascalientes                      11\n",
       "1      Baja California                       5\n",
       "2  Baja California Sur                       5\n",
       "3             Campeche                      11\n",
       "4              Chiapas                     124"
      ]
     },
     "execution_count": 123,
     "metadata": {},
     "output_type": "execute_result"
    }
   ],
   "source": [
    "url_ref = 'https://diaonia.com/cuantos-municipios-hay-en-cada-estado-de-la-republica-mexicana/'\n",
    "estados_ref = pd.read_html(url_ref)\n",
    "estados = pd.DataFrame(estados_ref[0])\n",
    "estados.head()"
   ]
  },
  {
   "cell_type": "markdown",
   "metadata": {},
   "source": [
    "Ahora si, comenzamos con la extracción. Esto lo haremos mediante dos métodos.\n",
    "#### Directo\n",
    "\n",
    "El paso directo, consta en usar la 'coordenadas.com.es', una página que posee las coordendadas de muchas partes del mundo, entre ellas México, por lo tanto nos interesa. Si observa el enlace a continuación https://www.coordenadas.com.es/mexico/index.php, podrá ver que aparecen todos los estados de México, entonces la usaremos para automatizar la extracción de los municipios por estado."
   ]
  },
  {
   "cell_type": "code",
   "execution_count": 124,
   "metadata": {},
   "outputs": [
    {
     "name": "stdout",
     "output_type": "stream",
     "text": [
      "<Response [200]>\n"
     ]
    }
   ],
   "source": [
    "coor_url = 'https://www.coordenadas.com.es/mexico/index.php'\n",
    "html = requests.get(coor_url)\n",
    "print(html)"
   ]
  },
  {
   "cell_type": "markdown",
   "metadata": {},
   "source": [
    "Vemos que `requests` pudo conectar con la página. Entonces usaremos `BeautifulSoup` para revisar su contenido. "
   ]
  },
  {
   "cell_type": "code",
   "execution_count": 125,
   "metadata": {},
   "outputs": [
    {
     "name": "stdout",
     "output_type": "stream",
     "text": [
      "['https://www.coordenadas.com.es/mexico/pueblos-de-aguascalientes/1/1', 'https://www.coordenadas.com.es/mexico/pueblos-de-baja-california/2/1', 'https://www.coordenadas.com.es/mexico/pueblos-de-baja-california-sur/3/1', 'https://www.coordenadas.com.es/mexico/pueblos-de-campeche/4/1', 'https://www.coordenadas.com.es/mexico/pueblos-de-chiapas/5/1', 'https://www.coordenadas.com.es/mexico/pueblos-de-chihuahua/6/1', 'https://www.coordenadas.com.es/mexico/pueblos-de-coahuila-de-zaragoza/7/1', 'https://www.coordenadas.com.es/mexico/pueblos-de-colima/8/1', 'https://www.coordenadas.com.es/mexico/pueblos-de-distrito-federal/9/1', 'https://www.coordenadas.com.es/mexico/pueblos-de-durango/10/1', 'https://www.coordenadas.com.es/mexico/pueblos-de-guanajuato/11/1', 'https://www.coordenadas.com.es/mexico/pueblos-de-guerrero/12/1', 'https://www.coordenadas.com.es/mexico/pueblos-de-hidalgo/13/1', 'https://www.coordenadas.com.es/mexico/pueblos-de-jalisco/14/1', 'https://www.coordenadas.com.es/mexico/pueblos-de-mexico/15/1', 'https://www.coordenadas.com.es/mexico/pueblos-de-michoacan-de-ocampo/16/1', 'https://www.coordenadas.com.es/mexico/pueblos-de-morelos/17/1', 'https://www.coordenadas.com.es/mexico/pueblos-de-nayarit/18/1', 'https://www.coordenadas.com.es/mexico/pueblos-de-nuevo-leon/19/1', 'https://www.coordenadas.com.es/mexico/pueblos-de-oaxaca/20/1', 'https://www.coordenadas.com.es/mexico/pueblos-de-puebla/21/1', 'https://www.coordenadas.com.es/mexico/pueblos-de-queretaro-arteaga/22/1', 'https://www.coordenadas.com.es/mexico/pueblos-de-quintana-roo/23/1', 'https://www.coordenadas.com.es/mexico/pueblos-de-san-luis-potosi/24/1', 'https://www.coordenadas.com.es/mexico/pueblos-de-sinaloa/25/1', 'https://www.coordenadas.com.es/mexico/pueblos-de-sonora/26/1', 'https://www.coordenadas.com.es/mexico/pueblos-de-tabasco/27/1', 'https://www.coordenadas.com.es/mexico/pueblos-de-tamaulipas/28/1', 'https://www.coordenadas.com.es/mexico/pueblos-de-tlaxcala/29/1', 'https://www.coordenadas.com.es/mexico/pueblos-de-veracruz-llave/30/1', 'https://www.coordenadas.com.es/mexico/pueblos-de-yucatan/31/1', 'https://www.coordenadas.com.es/mexico/pueblos-de-zacatecas/32/1'] ['Aguascalientes', 'Baja-California', 'Baja-California-Sur', 'Campeche', 'Chiapas', 'Chihuahua', 'Coahuila-de-Zaragoza', 'Colima', 'Distrito-Federal', 'Durango', 'Guanajuato', 'Guerrero', 'Hidalgo', 'Jalisco', 'Mexico', 'Michoacan-de-Ocampo', 'Morelos', 'Nayarit', 'Nuevo-Leon', 'Oaxaca', 'Puebla', 'Queretaro-Arteaga', 'Quintana-Roo', 'San-Luis-Potosi', 'Sinaloa', 'Sonora', 'Tabasco', 'Tamaulipas', 'Tlaxcala', 'Veracruz-Llave', 'Yucatan', 'Zacatecas']\n"
     ]
    }
   ],
   "source": [
    "html_content = html.text\n",
    "soup = BeautifulSoup(html_content)\n",
    "\n",
    "# Checando el código fuente de la página principal. Vemos que los enlaces que buscamos, se encuentra en cierta clase de HTML.\n",
    "data = soup.find_all('a',class_= 'list-group-item')\n",
    "url_estados = []\n",
    "name_estados = []\n",
    "for link in data:\n",
    "    lhref = link.get('href')\n",
    "    ltext = link.text\n",
    "    url_estados.append(lhref)\n",
    "    name_estados.append(ltext)\n",
    "\n",
    "print(url_estados, name_estados)\n",
    "\n",
    "i_cdmx = name_estados.index('Distrito-Federal')\n",
    "name_estados[i_cdmx] = 'Ciudad de México'\n",
    "name_estados.sort()"
   ]
  },
  {
   "cell_type": "markdown",
   "metadata": {},
   "source": [
    "Entonces, podríamos generar un dataframe con los estados, su nombre clave y la url correspondiente."
   ]
  },
  {
   "cell_type": "code",
   "execution_count": 126,
   "metadata": {},
   "outputs": [
    {
     "data": {
      "text/plain": [
       "Index(['Estado', 'Cantidad de municipios', 'Nombre', 'Url'], dtype='object')"
      ]
     },
     "execution_count": 126,
     "metadata": {},
     "output_type": "execute_result"
    }
   ],
   "source": [
    "estados['Nombre'] = name_estados\n",
    "estados['Url'] = url_estados\n",
    "\n",
    "estados.columns"
   ]
  },
  {
   "cell_type": "markdown",
   "metadata": {},
   "source": [
    "Entonces a partir del enlace principal, obtuvimos los enlaces para obtener los enlances de los estados para obtener las coordenadas de los municipios. Ahora definimos un buscador mediante la clave para obtener la url, tomaremos como ejemplo a Sonora."
   ]
  },
  {
   "cell_type": "code",
   "execution_count": 127,
   "metadata": {},
   "outputs": [
    {
     "data": {
      "text/plain": [
       "'https://www.coordenadas.com.es/mexico/pueblos-de-sonora/26/1'"
      ]
     },
     "execution_count": 127,
     "metadata": {},
     "output_type": "execute_result"
    }
   ],
   "source": [
    "def info_df(estado,columna,df):\n",
    "    i_e = list(df['Estado']).index(estado)\n",
    "    if i_e >= 0:\n",
    "        if columna == '*':\n",
    "            data = df.loc[int(i_e),:]\n",
    "        else:\n",
    "            data = df.loc[int(i_e),columna]\n",
    "    else: \n",
    "        data = 'No se encontro el estado'\n",
    "    return data\n",
    "\n",
    "\n",
    "info_df('Sonora','Url',estados)"
   ]
  },
  {
   "cell_type": "markdown",
   "metadata": {},
   "source": [
    "Ahora, obtenemos las coordenadas de los municipios."
   ]
  },
  {
   "cell_type": "code",
   "execution_count": 128,
   "metadata": {},
   "outputs": [
    {
     "name": "stdout",
     "output_type": "stream",
     "text": [
      "<class 'pandas.core.frame.DataFrame'>\n",
      "RangeIndex: 60 entries, 0 to 59\n",
      "Data columns (total 2 columns):\n",
      " #   Column       Non-Null Count  Dtype \n",
      "---  ------       --------------  ----- \n",
      " 0   Ciudad       60 non-null     object\n",
      " 1   Coordenadas  60 non-null     object\n",
      "dtypes: object(2)\n",
      "memory usage: 1.1+ KB\n"
     ]
    }
   ],
   "source": [
    "turl = info_df('Sonora','Url',estados)\n",
    "thtml = pd.read_html(turl)\n",
    "tdf = pd.DataFrame(thtml[0])\n",
    "tdf.info()"
   ]
  },
  {
   "cell_type": "markdown",
   "metadata": {},
   "source": [
    "Obtuvimos las coordenadas de los municipios de Sonora, sin embargo, como se puede apreciar. Faltan municipios. "
   ]
  },
  {
   "cell_type": "code",
   "execution_count": 129,
   "metadata": {},
   "outputs": [
    {
     "name": "stdout",
     "output_type": "stream",
     "text": [
      "Numero de renglones en Sonora: 60\n",
      "Número de Municipios de Sonora: 72\n"
     ]
    }
   ],
   "source": [
    "print(f'Numero de renglones en Sonora: {tdf.shape[0]}\\nNúmero de Municipios de Sonora: {info_df(\"Sonora\",\"Cantidad de municipios\",estados)}')"
   ]
  },
  {
   "cell_type": "markdown",
   "metadata": {},
   "source": [
    "Revisando la página de los municipios de Sonora podemos ver que se encuentran desplegados en varias pestañas. Cada pestaña puede mostrar máximo 60 municipios. Entonces debemos encontrar los que faltan, La página mostrada esta representada por él último número del enlace. Entonces nos tocará modificarlo. Para ello considere la siguiente función."
   ]
  },
  {
   "cell_type": "code",
   "execution_count": 130,
   "metadata": {},
   "outputs": [],
   "source": [
    "def modify_tabpage(url,tab):\n",
    "    url = url[:-1] + str(tab)\n",
    "    return url"
   ]
  },
  {
   "cell_type": "markdown",
   "metadata": {},
   "source": [
    "Ahora si podemos extraer todos los municipios de Sonora"
   ]
  },
  {
   "cell_type": "code",
   "execution_count": 131,
   "metadata": {},
   "outputs": [
    {
     "name": "stdout",
     "output_type": "stream",
     "text": [
      "<class 'pandas.core.frame.DataFrame'>\n",
      "RangeIndex: 64 entries, 0 to 63\n",
      "Data columns (total 2 columns):\n",
      " #   Column       Non-Null Count  Dtype \n",
      "---  ------       --------------  ----- \n",
      " 0   Ciudad       64 non-null     object\n",
      " 1   Coordenadas  64 non-null     object\n",
      "dtypes: object(2)\n",
      "memory usage: 1.1+ KB\n"
     ]
    }
   ],
   "source": [
    "n_s = tdf.shape[0]\n",
    "\n",
    "n_url = modify_tabpage(turl, 2)\n",
    "\n",
    "html_son = pd.read_html(n_url)\n",
    "Sonora2 = pd.DataFrame(html_son[0])\n",
    "S = pd.concat((tdf,Sonora2),ignore_index=True)\n",
    "S.info()"
   ]
  },
  {
   "cell_type": "markdown",
   "metadata": {},
   "source": [
    "Pero aún así faltan municipios, este es el principal problema del primer método. Entonces vamos a concluir con la extracción de todas las coordendas DISPONIBLES en el url."
   ]
  },
  {
   "cell_type": "code",
   "execution_count": 132,
   "metadata": {},
   "outputs": [
    {
     "data": {
      "text/html": [
       "<div>\n",
       "<style scoped>\n",
       "    .dataframe tbody tr th:only-of-type {\n",
       "        vertical-align: middle;\n",
       "    }\n",
       "\n",
       "    .dataframe tbody tr th {\n",
       "        vertical-align: top;\n",
       "    }\n",
       "\n",
       "    .dataframe thead th {\n",
       "        text-align: right;\n",
       "    }\n",
       "</style>\n",
       "<table border=\"1\" class=\"dataframe\">\n",
       "  <thead>\n",
       "    <tr style=\"text-align: right;\">\n",
       "      <th></th>\n",
       "      <th>Estado</th>\n",
       "      <th>Ciudad</th>\n",
       "      <th>Coordenadas</th>\n",
       "    </tr>\n",
       "  </thead>\n",
       "  <tbody>\n",
       "    <tr>\n",
       "      <th>0</th>\n",
       "      <td>Sonora</td>\n",
       "      <td>- Aconchi</td>\n",
       "      <td>29.82504,-110.22717</td>\n",
       "    </tr>\n",
       "    <tr>\n",
       "      <th>1</th>\n",
       "      <td>Sonora</td>\n",
       "      <td>- Agua-Prieta</td>\n",
       "      <td>30.94849,-109.27437</td>\n",
       "    </tr>\n",
       "    <tr>\n",
       "      <th>2</th>\n",
       "      <td>Sonora</td>\n",
       "      <td>- Alamos</td>\n",
       "      <td>27.02694,-108.93659</td>\n",
       "    </tr>\n",
       "    <tr>\n",
       "      <th>3</th>\n",
       "      <td>Sonora</td>\n",
       "      <td>- Altar</td>\n",
       "      <td>30.71361,-111.83528</td>\n",
       "    </tr>\n",
       "    <tr>\n",
       "      <th>4</th>\n",
       "      <td>Sonora</td>\n",
       "      <td>- Arivechi</td>\n",
       "      <td>28.92799,-109.18830</td>\n",
       "    </tr>\n",
       "    <tr>\n",
       "      <th>...</th>\n",
       "      <td>...</td>\n",
       "      <td>...</td>\n",
       "      <td>...</td>\n",
       "    </tr>\n",
       "    <tr>\n",
       "      <th>111</th>\n",
       "      <td>San Luis Potosí</td>\n",
       "      <td>- Villa-de-La-Paz</td>\n",
       "      <td>23.68333,-100.71667</td>\n",
       "    </tr>\n",
       "    <tr>\n",
       "      <th>112</th>\n",
       "      <td>San Luis Potosí</td>\n",
       "      <td>- Villa-de-Ramos</td>\n",
       "      <td>22.99898,-102.17120</td>\n",
       "    </tr>\n",
       "    <tr>\n",
       "      <th>113</th>\n",
       "      <td>San Luis Potosí</td>\n",
       "      <td>- Villa-de-Reyes</td>\n",
       "      <td>21.77412,-101.01419</td>\n",
       "    </tr>\n",
       "    <tr>\n",
       "      <th>114</th>\n",
       "      <td>San Luis Potosí</td>\n",
       "      <td>- Villa-Juarez</td>\n",
       "      <td>22.32314,-100.26459</td>\n",
       "    </tr>\n",
       "    <tr>\n",
       "      <th>115</th>\n",
       "      <td>San Luis Potosí</td>\n",
       "      <td>- Xilitla</td>\n",
       "      <td>21.31929,-99.05447</td>\n",
       "    </tr>\n",
       "  </tbody>\n",
       "</table>\n",
       "<p>116 rows × 3 columns</p>\n",
       "</div>"
      ],
      "text/plain": [
       "              Estado             Ciudad          Coordenadas\n",
       "0             Sonora          - Aconchi  29.82504,-110.22717\n",
       "1             Sonora      - Agua-Prieta  30.94849,-109.27437\n",
       "2             Sonora           - Alamos  27.02694,-108.93659\n",
       "3             Sonora            - Altar  30.71361,-111.83528\n",
       "4             Sonora         - Arivechi  28.92799,-109.18830\n",
       "..               ...                ...                  ...\n",
       "111  San Luis Potosí  - Villa-de-La-Paz  23.68333,-100.71667\n",
       "112  San Luis Potosí   - Villa-de-Ramos  22.99898,-102.17120\n",
       "113  San Luis Potosí   - Villa-de-Reyes  21.77412,-101.01419\n",
       "114  San Luis Potosí     - Villa-Juarez  22.32314,-100.26459\n",
       "115  San Luis Potosí          - Xilitla   21.31929,-99.05447\n",
       "\n",
       "[116 rows x 3 columns]"
      ]
     },
     "execution_count": 132,
     "metadata": {},
     "output_type": "execute_result"
    }
   ],
   "source": [
    "def simple_df(url):\n",
    "    html_zero = pd.read_html(url)\n",
    "    df = pd.DataFrame(html_zero[0])\n",
    "    return df\n",
    "\n",
    "def tabs_df(estado):\n",
    "    n_muns = info_df(estado,'Cantidad de municipios',estados)\n",
    "    url_zero = info_df(estado,'Url',estados)\n",
    "    df = simple_df(url_zero)\n",
    "    if n_muns > 60:\n",
    "        max_tabs = math.ceil(n_muns / 60)\n",
    "        for i in np.arange(2, max_tabs + 1):\n",
    "            n_url = modify_tabpage(url_zero,i)\n",
    "            n_df = simple_df(n_url)\n",
    "            df = pd.concat((df, n_df),ignore_index= True)\n",
    "    df['Estado'] = [estado for i in range(df.shape[0])]\n",
    "    df = df[['Estado','Ciudad','Coordenadas']]\n",
    "    return df\n",
    "\n",
    "def mexico_muns_coords(selector):\n",
    "    if selector == '*':\n",
    "        selector = list(estados['Estado'])\n",
    "    mex_df = pd.DataFrame()\n",
    "    for estado in selector:\n",
    "        est_df = tabs_df(estado)\n",
    "        mex_df = pd.concat((mex_df,est_df),ignore_index=True)\n",
    "    return mex_df\n",
    "\n",
    "mmc = mexico_muns_coords(['Sonora','San Luis Potosí'])\n",
    "mmc"
   ]
  },
  {
   "cell_type": "markdown",
   "metadata": {},
   "source": [
    "Ahora, debemos darle formato. Usaremos la 'mmc' como base. "
   ]
  },
  {
   "cell_type": "code",
   "execution_count": 133,
   "metadata": {},
   "outputs": [],
   "source": [
    "mmc['Ciudad'] = mmc['Ciudad'].str.strip('-').str.strip().str.replace('-',' ')\n",
    "mmc['Coordenadas'] = mmc['Coordenadas'].str.split(',')\n"
   ]
  },
  {
   "cell_type": "markdown",
   "metadata": {},
   "source": [
    "Con el formato ya definido, lo anexamos a la función que genera la base de datos."
   ]
  },
  {
   "cell_type": "code",
   "execution_count": 134,
   "metadata": {},
   "outputs": [
    {
     "data": {
      "text/html": [
       "<div>\n",
       "<style scoped>\n",
       "    .dataframe tbody tr th:only-of-type {\n",
       "        vertical-align: middle;\n",
       "    }\n",
       "\n",
       "    .dataframe tbody tr th {\n",
       "        vertical-align: top;\n",
       "    }\n",
       "\n",
       "    .dataframe thead th {\n",
       "        text-align: right;\n",
       "    }\n",
       "</style>\n",
       "<table border=\"1\" class=\"dataframe\">\n",
       "  <thead>\n",
       "    <tr style=\"text-align: right;\">\n",
       "      <th></th>\n",
       "      <th>Estado</th>\n",
       "      <th>Ciudad</th>\n",
       "      <th>Latitud</th>\n",
       "      <th>Longitud</th>\n",
       "    </tr>\n",
       "  </thead>\n",
       "  <tbody>\n",
       "    <tr>\n",
       "      <th>0</th>\n",
       "      <td>Sonora</td>\n",
       "      <td>Aconchi</td>\n",
       "      <td>29.82504</td>\n",
       "      <td>-110.22717</td>\n",
       "    </tr>\n",
       "    <tr>\n",
       "      <th>1</th>\n",
       "      <td>Sonora</td>\n",
       "      <td>Agua Prieta</td>\n",
       "      <td>30.94849</td>\n",
       "      <td>-109.27437</td>\n",
       "    </tr>\n",
       "    <tr>\n",
       "      <th>2</th>\n",
       "      <td>Sonora</td>\n",
       "      <td>Alamos</td>\n",
       "      <td>27.02694</td>\n",
       "      <td>-108.93659</td>\n",
       "    </tr>\n",
       "    <tr>\n",
       "      <th>3</th>\n",
       "      <td>Sonora</td>\n",
       "      <td>Altar</td>\n",
       "      <td>30.71361</td>\n",
       "      <td>-111.83528</td>\n",
       "    </tr>\n",
       "    <tr>\n",
       "      <th>4</th>\n",
       "      <td>Sonora</td>\n",
       "      <td>Arivechi</td>\n",
       "      <td>28.92799</td>\n",
       "      <td>-109.18830</td>\n",
       "    </tr>\n",
       "    <tr>\n",
       "      <th>...</th>\n",
       "      <td>...</td>\n",
       "      <td>...</td>\n",
       "      <td>...</td>\n",
       "      <td>...</td>\n",
       "    </tr>\n",
       "    <tr>\n",
       "      <th>59</th>\n",
       "      <td>Sonora</td>\n",
       "      <td>Trincheras</td>\n",
       "      <td>30.56667</td>\n",
       "      <td>-111.48333</td>\n",
       "    </tr>\n",
       "    <tr>\n",
       "      <th>60</th>\n",
       "      <td>Sonora</td>\n",
       "      <td>Tubutama</td>\n",
       "      <td>30.92182</td>\n",
       "      <td>-111.43449</td>\n",
       "    </tr>\n",
       "    <tr>\n",
       "      <th>61</th>\n",
       "      <td>Sonora</td>\n",
       "      <td>Ures</td>\n",
       "      <td>29.20698</td>\n",
       "      <td>-110.13310</td>\n",
       "    </tr>\n",
       "    <tr>\n",
       "      <th>62</th>\n",
       "      <td>Sonora</td>\n",
       "      <td>Villa Pesqueira</td>\n",
       "      <td>28.97680</td>\n",
       "      <td>-110.04024</td>\n",
       "    </tr>\n",
       "    <tr>\n",
       "      <th>63</th>\n",
       "      <td>Sonora</td>\n",
       "      <td>Yecora</td>\n",
       "      <td>28.37158</td>\n",
       "      <td>-108.92690</td>\n",
       "    </tr>\n",
       "  </tbody>\n",
       "</table>\n",
       "<p>64 rows × 4 columns</p>\n",
       "</div>"
      ],
      "text/plain": [
       "    Estado           Ciudad   Latitud    Longitud\n",
       "0   Sonora          Aconchi  29.82504  -110.22717\n",
       "1   Sonora      Agua Prieta  30.94849  -109.27437\n",
       "2   Sonora           Alamos  27.02694  -108.93659\n",
       "3   Sonora            Altar  30.71361  -111.83528\n",
       "4   Sonora         Arivechi  28.92799  -109.18830\n",
       "..     ...              ...       ...         ...\n",
       "59  Sonora       Trincheras  30.56667  -111.48333\n",
       "60  Sonora         Tubutama  30.92182  -111.43449\n",
       "61  Sonora             Ures  29.20698  -110.13310\n",
       "62  Sonora  Villa Pesqueira  28.97680  -110.04024\n",
       "63  Sonora           Yecora  28.37158  -108.92690\n",
       "\n",
       "[64 rows x 4 columns]"
      ]
     },
     "execution_count": 134,
     "metadata": {},
     "output_type": "execute_result"
    }
   ],
   "source": [
    "def mexico_muns_coords(selector):\n",
    "    if selector == '*':\n",
    "        selector = list(estados['Estado'])\n",
    "    mex_df = pd.DataFrame()\n",
    "    for estado in selector:\n",
    "        est_df = tabs_df(estado)\n",
    "        mex_df = pd.concat((mex_df,est_df),ignore_index=True)\n",
    "    mex_df['Ciudad'] = mex_df['Ciudad'].str.strip('-').str.strip().str.replace('-',' ')\n",
    "    mex_df['Coordenadas'] = mex_df['Coordenadas'].str.split(',')\n",
    "    lat = []\n",
    "    lon = []\n",
    "    for coord in list(mex_df['Coordenadas']):\n",
    "        lat.append(coord[0])\n",
    "        lon.append(coord[1])\n",
    "    mex_df['Latitud'] = lat\n",
    "    mex_df['Longitud'] = lon\n",
    "    mex_df.drop(columns='Coordenadas',inplace=True)\n",
    "    return mex_df\n",
    "\n",
    "mexico_muns_coords(['Sonora'])"
   ]
  },
  {
   "cell_type": "markdown",
   "metadata": {},
   "source": [
    "Listo, obtuvimos las coordenadas de los municipios de sonora, en general de cualquier conjunto de estados. Sin embargo como vimos al comienzo nos faltaron municipios, entonces partiremos con el segundo método, un poco más complicado. Pero más completo*\n",
    "\n",
    "#### Indirecto.\n",
    "\n",
    "Para el método indirecto, nos basaremos en dos páginas.\n",
    "\n",
    "* INEGI.\n",
    "* CCA\n",
    "* Wikipedia. \n",
    "\n",
    "Primero, observemos la url de la división municipal de Sonora. 'https://cuentame.inegi.org.mx/monografias/informacion/son/territorio/div_municipal.aspx', notemos que lo que va a cambiar entre estados es 'son' que es la abreviatura del estado. Entonces deberemos extraerlas, en eso entra CCA, en particula en el siguiente enlace 'http://www.cca.org.mx/ec/cursos/hb030/contenido/glosario_gentil.htm'. Una vez obtenidas extramos TODOS los municipios y usaremos las entradas de los municipios en Wikipedia para extraer las coordenadas. Entonces partimos con el primer paso.\n",
    "\n",
    "##### Extraer Abreviaturas."
   ]
  },
  {
   "cell_type": "code",
   "execution_count": 135,
   "metadata": {},
   "outputs": [
    {
     "data": {
      "text/plain": [
       "'\\nurl_abr = \\'https://es.wikipedia.org/wiki/Plantilla:Abreviaciones_de_los_estados_de_M%C3%A9xico\\'\\nhtml_abr = pd.read_html(url_abr)\\ndf_abr = html_abr[0][[\\'Estado\\',\\'Variable\\']]\\ndf_abr = df_abr.drop(index = 32)\\nabr = list(df_abr[\\'Variable\\'])\\nn_abr = []\\nfor i in abr:\\n    if i.find(\\']\\') >0:\\n        i = i[0:(i.find(\\']\\')-2)]\\n    n_abr.append(i.lower().replace(\\'.\\',\"\").replace(\" \",\"\"))\\nn_abr[abr.index(\\'C.D.Mx.\\')] = \\'df\\'\\nn_abr[14] = \\'mex\\'\\n\\ndf_abr[\\'Variable\\'] = n_abr\\ndf_abr.head()\\n'"
      ]
     },
     "execution_count": 135,
     "metadata": {},
     "output_type": "execute_result"
    }
   ],
   "source": [
    "# Ya no funciona, el enlace se perdio. \n",
    "\"\"\"\n",
    "url_abr = 'https://es.wikipedia.org/wiki/Plantilla:Abreviaciones_de_los_estados_de_M%C3%A9xico'\n",
    "html_abr = pd.read_html(url_abr)\n",
    "df_abr = html_abr[0][['Estado','Variable']]\n",
    "df_abr = df_abr.drop(index = 32)\n",
    "abr = list(df_abr['Variable'])\n",
    "n_abr = []\n",
    "for i in abr:\n",
    "    if i.find(']') >0:\n",
    "        i = i[0:(i.find(']')-2)]\n",
    "    n_abr.append(i.lower().replace('.',\"\").replace(\" \",\"\"))\n",
    "n_abr[abr.index('C.D.Mx.')] = 'df'\n",
    "n_abr[14] = 'mex'\n",
    "\n",
    "df_abr['Variable'] = n_abr\n",
    "df_abr.head()\n",
    "\"\"\""
   ]
  },
  {
   "cell_type": "code",
   "execution_count": 136,
   "metadata": {},
   "outputs": [
    {
     "data": {
      "text/html": [
       "<div>\n",
       "<style scoped>\n",
       "    .dataframe tbody tr th:only-of-type {\n",
       "        vertical-align: middle;\n",
       "    }\n",
       "\n",
       "    .dataframe tbody tr th {\n",
       "        vertical-align: top;\n",
       "    }\n",
       "\n",
       "    .dataframe thead th {\n",
       "        text-align: right;\n",
       "    }\n",
       "</style>\n",
       "<table border=\"1\" class=\"dataframe\">\n",
       "  <thead>\n",
       "    <tr style=\"text-align: right;\">\n",
       "      <th></th>\n",
       "      <th>Estado</th>\n",
       "      <th>Clave</th>\n",
       "    </tr>\n",
       "    <tr>\n",
       "      <th>n</th>\n",
       "      <th></th>\n",
       "      <th></th>\n",
       "    </tr>\n",
       "  </thead>\n",
       "  <tbody>\n",
       "    <tr>\n",
       "      <th>0</th>\n",
       "      <td>Aguascalientes</td>\n",
       "      <td>ags</td>\n",
       "    </tr>\n",
       "    <tr>\n",
       "      <th>1</th>\n",
       "      <td>Baja California</td>\n",
       "      <td>bc</td>\n",
       "    </tr>\n",
       "    <tr>\n",
       "      <th>2</th>\n",
       "      <td>Baja California Sur</td>\n",
       "      <td>bcs</td>\n",
       "    </tr>\n",
       "    <tr>\n",
       "      <th>3</th>\n",
       "      <td>Campeche</td>\n",
       "      <td>camp</td>\n",
       "    </tr>\n",
       "    <tr>\n",
       "      <th>4</th>\n",
       "      <td>Coahuila</td>\n",
       "      <td>coah</td>\n",
       "    </tr>\n",
       "  </tbody>\n",
       "</table>\n",
       "</div>"
      ],
      "text/plain": [
       "                Estado Clave\n",
       "n                           \n",
       "0       Aguascalientes   ags\n",
       "1      Baja California    bc\n",
       "2  Baja California Sur   bcs\n",
       "3             Campeche  camp\n",
       "4             Coahuila  coah"
      ]
     },
     "execution_count": 136,
     "metadata": {},
     "output_type": "execute_result"
    }
   ],
   "source": [
    "url_abr = 'http://www.cca.org.mx/ec/cursos/hb030/contenido/glosario_gentil.htm'\n",
    "html_abr = pd.read_html(url_abr)\n",
    "df_abr = pd.DataFrame(html_abr[1])[[0,1]]\n",
    "df_abr.rename({0: 'Estado', 1: 'Clave'},axis= 1,inplace = True)\n",
    "df_abr.drop(index = 0,inplace=True)\n",
    "state = df_abr['Estado']\n",
    "state = list(state)\n",
    "code_re = []\n",
    "for text in state:\n",
    "    s = re.sub(r'\\d{1,2}.','',text)\n",
    "    s = s.lstrip()\n",
    "    code_re.append(s)\n",
    "df_abr['Estado'] = code_re\n",
    "df_abr['Clave'] = df_abr['Clave'].str.lower().str.replace('é','e').str.replace('.','',regex=True)\n",
    "df_abr.replace('Distrito Federal','Ciudad de México',inplace= True)\n",
    "df_abr['n'] = [i for i in range(32)]\n",
    "df_abr.set_index(['n'],inplace=True)\n",
    "df_abr.head()"
   ]
  },
  {
   "cell_type": "markdown",
   "metadata": {},
   "source": [
    "##### Obtener Municipios\n",
    "\n",
    "Ahora, iremos a INEGI a extraer la lista de municipos, de nuevo, experimentaremos con Sonora. "
   ]
  },
  {
   "cell_type": "code",
   "execution_count": 137,
   "metadata": {},
   "outputs": [
    {
     "data": {
      "text/html": [
       "<div>\n",
       "<style scoped>\n",
       "    .dataframe tbody tr th:only-of-type {\n",
       "        vertical-align: middle;\n",
       "    }\n",
       "\n",
       "    .dataframe tbody tr th {\n",
       "        vertical-align: top;\n",
       "    }\n",
       "\n",
       "    .dataframe thead th {\n",
       "        text-align: right;\n",
       "    }\n",
       "</style>\n",
       "<table border=\"1\" class=\"dataframe\">\n",
       "  <thead>\n",
       "    <tr style=\"text-align: right;\">\n",
       "      <th></th>\n",
       "      <th>Clave del municipio</th>\n",
       "      <th>Municipio</th>\n",
       "    </tr>\n",
       "  </thead>\n",
       "  <tbody>\n",
       "    <tr>\n",
       "      <th>0</th>\n",
       "      <td>1</td>\n",
       "      <td>Aconchi</td>\n",
       "    </tr>\n",
       "    <tr>\n",
       "      <th>1</th>\n",
       "      <td>2</td>\n",
       "      <td>Agua Prieta</td>\n",
       "    </tr>\n",
       "    <tr>\n",
       "      <th>2</th>\n",
       "      <td>3</td>\n",
       "      <td>Alamos</td>\n",
       "    </tr>\n",
       "    <tr>\n",
       "      <th>3</th>\n",
       "      <td>4</td>\n",
       "      <td>Altar</td>\n",
       "    </tr>\n",
       "    <tr>\n",
       "      <th>4</th>\n",
       "      <td>5</td>\n",
       "      <td>Arivechi</td>\n",
       "    </tr>\n",
       "  </tbody>\n",
       "</table>\n",
       "</div>"
      ],
      "text/plain": [
       "   Clave del municipio    Municipio\n",
       "0                    1      Aconchi\n",
       "1                    2  Agua Prieta\n",
       "2                    3       Alamos\n",
       "3                    4        Altar\n",
       "4                    5     Arivechi"
      ]
     },
     "execution_count": 137,
     "metadata": {},
     "output_type": "execute_result"
    }
   ],
   "source": [
    "inegi_state = 'https://cuentame.inegi.org.mx/monografias/informacion/son/territorio/div_municipal.aspx'\n",
    "html_inegi = pd.read_html(inegi_state)\n",
    "df_state = pd.DataFrame(html_inegi[3])[['Clave del municipio','Municipio']]\n",
    "df_state.drop(df_state.index[-1],inplace=True)\n",
    "df_state['Clave del municipio'] = df_state['Clave del municipio'].astype(int)\n",
    "df_state.head()"
   ]
  },
  {
   "cell_type": "markdown",
   "metadata": {},
   "source": [
    "Una vez que funciona generamos una función similar a la del método directo. Para eso modificaremos una tabla anterior para facilitar el código."
   ]
  },
  {
   "cell_type": "code",
   "execution_count": 138,
   "metadata": {},
   "outputs": [],
   "source": [
    "estados['Url'] = df_abr['Clave']\n",
    "estados.rename(columns = {'Url':'Abreviatura'},inplace=True)\n",
    "estados.drop(columns='Nombre',inplace=True)"
   ]
  },
  {
   "cell_type": "code",
   "execution_count": 139,
   "metadata": {},
   "outputs": [
    {
     "data": {
      "text/html": [
       "<div>\n",
       "<style scoped>\n",
       "    .dataframe tbody tr th:only-of-type {\n",
       "        vertical-align: middle;\n",
       "    }\n",
       "\n",
       "    .dataframe tbody tr th {\n",
       "        vertical-align: top;\n",
       "    }\n",
       "\n",
       "    .dataframe thead th {\n",
       "        text-align: right;\n",
       "    }\n",
       "</style>\n",
       "<table border=\"1\" class=\"dataframe\">\n",
       "  <thead>\n",
       "    <tr style=\"text-align: right;\">\n",
       "      <th></th>\n",
       "      <th>Estado</th>\n",
       "      <th>Cantidad de municipios</th>\n",
       "      <th>Abreviatura</th>\n",
       "    </tr>\n",
       "  </thead>\n",
       "  <tbody>\n",
       "    <tr>\n",
       "      <th>0</th>\n",
       "      <td>Aguascalientes</td>\n",
       "      <td>11</td>\n",
       "      <td>ags</td>\n",
       "    </tr>\n",
       "    <tr>\n",
       "      <th>1</th>\n",
       "      <td>Baja California</td>\n",
       "      <td>5</td>\n",
       "      <td>bc</td>\n",
       "    </tr>\n",
       "    <tr>\n",
       "      <th>2</th>\n",
       "      <td>Baja California Sur</td>\n",
       "      <td>5</td>\n",
       "      <td>bcs</td>\n",
       "    </tr>\n",
       "    <tr>\n",
       "      <th>3</th>\n",
       "      <td>Campeche</td>\n",
       "      <td>11</td>\n",
       "      <td>camp</td>\n",
       "    </tr>\n",
       "    <tr>\n",
       "      <th>4</th>\n",
       "      <td>Chiapas</td>\n",
       "      <td>124</td>\n",
       "      <td>coah</td>\n",
       "    </tr>\n",
       "  </tbody>\n",
       "</table>\n",
       "</div>"
      ],
      "text/plain": [
       "                Estado  Cantidad de municipios Abreviatura\n",
       "0       Aguascalientes                      11         ags\n",
       "1      Baja California                       5          bc\n",
       "2  Baja California Sur                       5         bcs\n",
       "3             Campeche                      11        camp\n",
       "4              Chiapas                     124        coah"
      ]
     },
     "execution_count": 139,
     "metadata": {},
     "output_type": "execute_result"
    }
   ],
   "source": [
    "estados.head()"
   ]
  },
  {
   "cell_type": "code",
   "execution_count": 140,
   "metadata": {},
   "outputs": [
    {
     "data": {
      "text/html": [
       "<div>\n",
       "<style scoped>\n",
       "    .dataframe tbody tr th:only-of-type {\n",
       "        vertical-align: middle;\n",
       "    }\n",
       "\n",
       "    .dataframe tbody tr th {\n",
       "        vertical-align: top;\n",
       "    }\n",
       "\n",
       "    .dataframe thead th {\n",
       "        text-align: right;\n",
       "    }\n",
       "</style>\n",
       "<table border=\"1\" class=\"dataframe\">\n",
       "  <thead>\n",
       "    <tr style=\"text-align: right;\">\n",
       "      <th></th>\n",
       "      <th>Clave del municipio</th>\n",
       "      <th>Municipio</th>\n",
       "    </tr>\n",
       "  </thead>\n",
       "  <tbody>\n",
       "    <tr>\n",
       "      <th>0</th>\n",
       "      <td>1</td>\n",
       "      <td>Aguascalientes</td>\n",
       "    </tr>\n",
       "    <tr>\n",
       "      <th>1</th>\n",
       "      <td>2</td>\n",
       "      <td>Asientos</td>\n",
       "    </tr>\n",
       "    <tr>\n",
       "      <th>2</th>\n",
       "      <td>3</td>\n",
       "      <td>Calvillo</td>\n",
       "    </tr>\n",
       "    <tr>\n",
       "      <th>3</th>\n",
       "      <td>4</td>\n",
       "      <td>Cosío</td>\n",
       "    </tr>\n",
       "    <tr>\n",
       "      <th>4</th>\n",
       "      <td>5</td>\n",
       "      <td>Jesús María</td>\n",
       "    </tr>\n",
       "    <tr>\n",
       "      <th>5</th>\n",
       "      <td>6</td>\n",
       "      <td>Pabellón de Arteaga</td>\n",
       "    </tr>\n",
       "    <tr>\n",
       "      <th>6</th>\n",
       "      <td>7</td>\n",
       "      <td>Rincón de Romos</td>\n",
       "    </tr>\n",
       "    <tr>\n",
       "      <th>7</th>\n",
       "      <td>8</td>\n",
       "      <td>San José de Gracia</td>\n",
       "    </tr>\n",
       "    <tr>\n",
       "      <th>8</th>\n",
       "      <td>9</td>\n",
       "      <td>Tepezalá</td>\n",
       "    </tr>\n",
       "    <tr>\n",
       "      <th>9</th>\n",
       "      <td>10</td>\n",
       "      <td>El Llano</td>\n",
       "    </tr>\n",
       "    <tr>\n",
       "      <th>10</th>\n",
       "      <td>11</td>\n",
       "      <td>San Francisco de los Romo</td>\n",
       "    </tr>\n",
       "  </tbody>\n",
       "</table>\n",
       "</div>"
      ],
      "text/plain": [
       "    Clave del municipio                  Municipio\n",
       "0                     1             Aguascalientes\n",
       "1                     2                   Asientos\n",
       "2                     3                   Calvillo\n",
       "3                     4                      Cosío\n",
       "4                     5                Jesús María\n",
       "5                     6        Pabellón de Arteaga\n",
       "6                     7            Rincón de Romos\n",
       "7                     8         San José de Gracia\n",
       "8                     9                   Tepezalá\n",
       "9                    10                   El Llano\n",
       "10                   11  San Francisco de los Romo"
      ]
     },
     "execution_count": 140,
     "metadata": {},
     "output_type": "execute_result"
    }
   ],
   "source": [
    "def df_muns_inegi(selector):\n",
    "    burl_s = 'https://cuentame.inegi.org.mx/monografias/informacion/'\n",
    "    burl_e = '/territorio/div_municipal.aspx'\n",
    "    df = pd.DataFrame()\n",
    "    if selector == '*':\n",
    "        selector = list(estados['Estado'])\n",
    "    for state in selector:\n",
    "        a = info_df(state,'Abreviatura',estados)\n",
    "        url_state = burl_s + a + burl_e\n",
    "        html = pd.read_html(url_state,encoding='utf8')\n",
    "        df_state = pd.DataFrame(html[3])[['Clave del municipio','Municipio']]\n",
    "        df_state.drop(df_state.index[-1],inplace=True)\n",
    "        df_state['Clave del municipio'] = df_state['Clave del municipio'].astype(int)\n",
    "        df = pd.concat((df, df_state))\n",
    "    return df\n",
    "\n",
    "df_muns_inegi(['Aguascalientes'])           "
   ]
  },
  {
   "cell_type": "markdown",
   "metadata": {},
   "source": [
    "##### Obtener las coordenadas.\n",
    "Finalmente obtendremos las coordenadas mediante Wikipedia. Ahora observe la extracción del municipio de Irapuato. Notemos que esto no es una tabla, es un valor dento del HTML. Entonces tocará hacerlo de la forma general, usando `requests` y `BeautifulSoup`. Veamos el siguiente ejemplo con Irapuato, Guanajuato."
   ]
  },
  {
   "cell_type": "code",
   "execution_count": 141,
   "metadata": {},
   "outputs": [
    {
     "name": "stdout",
     "output_type": "stream",
     "text": [
      "20°41′00″N  101°22′00″O\n"
     ]
    }
   ],
   "source": [
    "url_coord = \"https://es.wikipedia.org/wiki/Municipio_de_Irapuato\"\n",
    " \n",
    "r  = requests.get(url_coord).content\n",
    "soup = BeautifulSoup(r,\"lxml\")\n",
    "\n",
    "q = soup.find_all('span')\n",
    "s_las = soup.select_one(\"span[class*= latitude]\").text\n",
    "s_la = s_las\n",
    "s_lo = soup.select_one(\"span[class*= longitude]\").text\n",
    "print(s_la, s_lo)"
   ]
  },
  {
   "cell_type": "markdown",
   "metadata": {},
   "source": [
    "Notemos que las coordenadas estan en la forma (grados, minutos, segundos, punto cardinal). Entonces, vamos a convertirlo a grados con decimales. Como detalle, la letra define el signo de la coordenada. \n",
    "\n",
    "* Positivo si es Norte y Oeste.\n",
    "* Negativo si es Sur y Este.\n",
    "\n",
    "Entonces debemos realizar la conversion."
   ]
  },
  {
   "cell_type": "code",
   "execution_count": 142,
   "metadata": {},
   "outputs": [
    {
     "data": {
      "text/plain": [
       "(['20', '41', '00', 'N'], 20.683333333333334)"
      ]
     },
     "execution_count": 142,
     "metadata": {},
     "output_type": "execute_result"
    }
   ],
   "source": [
    "\n",
    "u_coord = []\n",
    "g_coord = ['°','′','″',' ']\n",
    "\n",
    "a = s_la.split('°')\n",
    "u_coord.append(a[0])\n",
    "a = a[-1]\n",
    "a = a.split('′')\n",
    "u_coord.append(a[0])\n",
    "a = a[-1]\n",
    "a = a.split('″')\n",
    "u_coord.append(a[0])\n",
    "a = a[-1]\n",
    "a = a.strip()\n",
    "u_coord.append(a[0])\n",
    "\n",
    "u = u_coord[:-1]\n",
    "u_f = u_coord[-1]\n",
    "\n",
    "for i in range(len(u)):\n",
    "    u[i] = int(u[i])\n",
    "\n",
    "u\n",
    "s = 0\n",
    "for i in range(len(u)):\n",
    "    s += u[i] * 60 ** (-i)\n",
    "\n",
    "if (u_f == 'N') | (u_f == 'W'):\n",
    "    s = s\n",
    "else:\n",
    "    s = -s\n",
    "\n",
    "u_coord, s"
   ]
  },
  {
   "cell_type": "markdown",
   "metadata": {},
   "source": [
    "Con esto, resumimos todo en una sola función."
   ]
  },
  {
   "cell_type": "code",
   "execution_count": 143,
   "metadata": {},
   "outputs": [],
   "source": [
    "### Funciones auxiliares\n",
    "    # Extraer los valores de las coordenadas en grados, minutos, segundos y el cardinal.\n",
    "def extract_coords_g(text):\n",
    "    coord = []\n",
    "    g_coord = ['°', '′', '″', 'sign']\n",
    "    s = text\n",
    "    for i in range(len(g_coord)):\n",
    "            try:\n",
    "                s.index(g_coord[i])\n",
    "                s = s.split(g_coord[i])\n",
    "                coord.append(s[0])\n",
    "                s = s[-1]\n",
    "            except:\n",
    "                if i == (len(g_coord) - 1):\n",
    "                     coord.append(s[0])\n",
    "                else:\n",
    "                    coord.append(str(0))\n",
    "                continue\n",
    "    return coord\n",
    "    # Convertir los elementos de la lista en un tipo en particular. (En este caso entero)\n",
    "def parse_list(g,t):\n",
    "    g_t = []\n",
    "    for i in g:\n",
    "        g_t.append(t(i))\n",
    "    return np.array(g_t)\n",
    "    # Define el signo de la coordenadas.\n",
    "def sign_coord(cor, g_f):\n",
    "\n",
    "    if (g_f == 'N ') | (g_f == 'W '):\n",
    "        cor = cor\n",
    "    else:\n",
    "        cor = -cor\n",
    "    return cor\n",
    "    # Conversion (g,m,s,c) a grados con decimal. \n",
    "def minsec_to_grades(coord):\n",
    "    data = coord[:-1]\n",
    "    data_f = coord[-1]\n",
    "    cord = parse_list(data,int)\n",
    "    c = 0\n",
    "    for i,j in enumerate(cord):\n",
    "        c+= j * 60 ** (-i)\n",
    "    return sign_coord(c, data_f)\n"
   ]
  },
  {
   "cell_type": "code",
   "execution_count": 144,
   "metadata": {},
   "outputs": [
    {
     "data": {
      "text/plain": [
       "('20°41′00″N ', -20.683333333333334)"
      ]
     },
     "execution_count": 144,
     "metadata": {},
     "output_type": "execute_result"
    }
   ],
   "source": [
    "# Funcion final.\n",
    "def coordinates(geo_info):\n",
    "    coord = extract_coords_g(geo_info)\n",
    "    return minsec_to_grades(coord)\n",
    "\n",
    "\n",
    "s_la, coordinates(s_la)"
   ]
  },
  {
   "cell_type": "markdown",
   "metadata": {},
   "source": [
    "Con esto logramos extraer los datos requeridos. Ahora debemos hacer la conexión de los 3 pasos del segundo método para tener lo que buscamos. Definiendo como valor de entrada el estado. "
   ]
  },
  {
   "cell_type": "code",
   "execution_count": 145,
   "metadata": {},
   "outputs": [],
   "source": [
    "# Definimos el o los estados\n",
    "estado = 'Sonora'  \n",
    "# Tomamos la lista de municipios.\n",
    "e_muns = df_muns_inegi([estado])\n",
    "e_muns.head()\n",
    "\n",
    "url_base = \"https://es.wikipedia.org/wiki/Municipio_de_\"\n",
    "municipies = []\n",
    "for i in range(72):\n",
    "    mun = e_muns['Municipio'].iloc[i]\n",
    "    mun = mun.replace(' ','_')\n",
    "    url_coord = url_base + mun\n",
    "    try:    \n",
    "        r  = requests.get(url_coord).content\n",
    "        soup = BeautifulSoup(r,\"lxml\")\n",
    "        q = soup.find_all('span')\n",
    "        s_las = soup.select_one(\"span[class*= latitude]\").text\n",
    "        s_la = s_las\n",
    "        s_lo = soup.select_one(\"span[class*= longitude]\").text\n",
    "        lat = coordinates(s_la)\n",
    "        lon = coordinates(s_lo)\n",
    "        municipies.append([estado, mun, lat, lon, 'Sucess'])\n",
    "    except:\n",
    "        municipies.append([estado, mun, np.nan, np.nan, 'Modificar URL'])\n",
    "\n",
    "state_coords = pd.DataFrame(data = municipies, columns=['Estado','Municipio','Latitud','Longitud','Proceso'])\n",
    "\n"
   ]
  },
  {
   "cell_type": "code",
   "execution_count": 146,
   "metadata": {},
   "outputs": [
    {
     "data": {
      "text/html": [
       "<div>\n",
       "<style scoped>\n",
       "    .dataframe tbody tr th:only-of-type {\n",
       "        vertical-align: middle;\n",
       "    }\n",
       "\n",
       "    .dataframe tbody tr th {\n",
       "        vertical-align: top;\n",
       "    }\n",
       "\n",
       "    .dataframe thead th {\n",
       "        text-align: right;\n",
       "    }\n",
       "</style>\n",
       "<table border=\"1\" class=\"dataframe\">\n",
       "  <thead>\n",
       "    <tr style=\"text-align: right;\">\n",
       "      <th></th>\n",
       "      <th>Estado</th>\n",
       "      <th>Municipio</th>\n",
       "      <th>Latitud</th>\n",
       "      <th>Longitud</th>\n",
       "      <th>Proceso</th>\n",
       "    </tr>\n",
       "  </thead>\n",
       "  <tbody>\n",
       "    <tr>\n",
       "      <th>2</th>\n",
       "      <td>Sonora</td>\n",
       "      <td>Alamos</td>\n",
       "      <td>NaN</td>\n",
       "      <td>NaN</td>\n",
       "      <td>Modificar URL</td>\n",
       "    </tr>\n",
       "    <tr>\n",
       "      <th>35</th>\n",
       "      <td>Sonora</td>\n",
       "      <td>Magdalena</td>\n",
       "      <td>NaN</td>\n",
       "      <td>NaN</td>\n",
       "      <td>Modificar URL</td>\n",
       "    </tr>\n",
       "    <tr>\n",
       "      <th>36</th>\n",
       "      <td>Sonora</td>\n",
       "      <td>Mazatán</td>\n",
       "      <td>NaN</td>\n",
       "      <td>NaN</td>\n",
       "      <td>Modificar URL</td>\n",
       "    </tr>\n",
       "    <tr>\n",
       "      <th>37</th>\n",
       "      <td>Sonora</td>\n",
       "      <td>Moctezuma</td>\n",
       "      <td>NaN</td>\n",
       "      <td>NaN</td>\n",
       "      <td>Modificar URL</td>\n",
       "    </tr>\n",
       "    <tr>\n",
       "      <th>42</th>\n",
       "      <td>Sonora</td>\n",
       "      <td>Nogales</td>\n",
       "      <td>NaN</td>\n",
       "      <td>NaN</td>\n",
       "      <td>Modificar URL</td>\n",
       "    </tr>\n",
       "    <tr>\n",
       "      <th>49</th>\n",
       "      <td>Sonora</td>\n",
       "      <td>Rayón</td>\n",
       "      <td>NaN</td>\n",
       "      <td>NaN</td>\n",
       "      <td>Modificar URL</td>\n",
       "    </tr>\n",
       "    <tr>\n",
       "      <th>50</th>\n",
       "      <td>Sonora</td>\n",
       "      <td>Rosario</td>\n",
       "      <td>NaN</td>\n",
       "      <td>NaN</td>\n",
       "      <td>Modificar URL</td>\n",
       "    </tr>\n",
       "    <tr>\n",
       "      <th>70</th>\n",
       "      <td>Sonora</td>\n",
       "      <td>Benito_Juárez</td>\n",
       "      <td>NaN</td>\n",
       "      <td>NaN</td>\n",
       "      <td>Modificar URL</td>\n",
       "    </tr>\n",
       "  </tbody>\n",
       "</table>\n",
       "</div>"
      ],
      "text/plain": [
       "    Estado      Municipio  Latitud  Longitud        Proceso\n",
       "2   Sonora         Alamos      NaN       NaN  Modificar URL\n",
       "35  Sonora      Magdalena      NaN       NaN  Modificar URL\n",
       "36  Sonora        Mazatán      NaN       NaN  Modificar URL\n",
       "37  Sonora      Moctezuma      NaN       NaN  Modificar URL\n",
       "42  Sonora        Nogales      NaN       NaN  Modificar URL\n",
       "49  Sonora          Rayón      NaN       NaN  Modificar URL\n",
       "50  Sonora        Rosario      NaN       NaN  Modificar URL\n",
       "70  Sonora  Benito_Juárez      NaN       NaN  Modificar URL"
      ]
     },
     "execution_count": 146,
     "metadata": {},
     "output_type": "execute_result"
    }
   ],
   "source": [
    "state_coords[state_coords['Proceso'] != 'Sucess']"
   ]
  },
  {
   "cell_type": "code",
   "execution_count": 147,
   "metadata": {},
   "outputs": [
    {
     "name": "stdout",
     "output_type": "stream",
     "text": [
      "https://es.wikipedia.org/wiki/Municipio_de_Hermosillo\n"
     ]
    },
    {
     "data": {
      "text/plain": [
       "['29', '00', '0', 'N']"
      ]
     },
     "execution_count": 147,
     "metadata": {},
     "output_type": "execute_result"
    }
   ],
   "source": [
    "mun = e_muns['Municipio'].iloc[29]\n",
    "mun = mun.replace(' ','_')\n",
    "url_coord = url_base + mun\n",
    "print(url_coord)\n",
    "\n",
    "r  = requests.get(url_coord).content\n",
    "soup = BeautifulSoup(r,\"lxml\")\n",
    "q = soup.find_all('span')\n",
    "s_las = soup.select_one(\"span[class*= latitude]\").text\n",
    "s_la = s_las\n",
    "s_lo = soup.select_one(\"span[class*= longitude]\").text\n",
    "\n",
    "s_la, s_lo\n",
    "\n",
    "\n",
    "def extract_coords_g(text):\n",
    "    coord = []\n",
    "    g_coord = ['°', '′', '″', 'sign']\n",
    "    s = text\n",
    "    for i in range(len(g_coord)):\n",
    "            try:\n",
    "                s.index(g_coord[i])\n",
    "                s = s.split(g_coord[i])\n",
    "                coord.append(s[0])\n",
    "                s = s[-1]\n",
    "            except:\n",
    "                if i == (len(g_coord) - 1):\n",
    "                     coord.append(s[0])\n",
    "                else:\n",
    "                    coord.append(str(0))\n",
    "                continue\n",
    "    return coord\n",
    "\n",
    "extract_coords_g(s_la)\n"
   ]
  },
  {
   "cell_type": "code",
   "execution_count": 148,
   "metadata": {},
   "outputs": [
    {
     "name": "stdout",
     "output_type": "stream",
     "text": [
      "2\n",
      "2\n",
      "<built-in method index of str object at 0x000002327FCC7370>\n"
     ]
    }
   ],
   "source": [
    "s_la\n",
    "coord = []\n",
    "g_coord = ['°', '′', '″', 'sign']\n",
    "print(s_la.index(g_coord[0]))\n",
    "s = s_la.split(g_coord[0])\n",
    "s\n",
    "coord.append(s[0])\n",
    "s = s[-1]\n",
    "print(s.index(g_coord[1]))\n",
    "s = s.split(g_coord[1])\n",
    "coord.append(s[0])\n",
    "s = s[-1]\n",
    "print(s.index)\n"
   ]
  }
 ],
 "metadata": {
  "kernelspec": {
   "display_name": "base",
   "language": "python",
   "name": "python3"
  },
  "language_info": {
   "codemirror_mode": {
    "name": "ipython",
    "version": 3
   },
   "file_extension": ".py",
   "mimetype": "text/x-python",
   "name": "python",
   "nbconvert_exporter": "python",
   "pygments_lexer": "ipython3",
   "version": "3.9.18"
  }
 },
 "nbformat": 4,
 "nbformat_minor": 2
}
