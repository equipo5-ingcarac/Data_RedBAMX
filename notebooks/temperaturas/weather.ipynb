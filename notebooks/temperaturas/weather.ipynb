{
 "cells": [
  {
   "cell_type": "markdown",
   "metadata": {},
   "source": [
    "# Clima en los cultivos\n",
    "\n",
    "Uno de los factores principales a considerar durante las cosechas es el clima de la región, está determina las temporadas de cosecha y los tipos de cultivos que pueden existir. Por lo tanto será importante obtener la información metereológica del pais. \n",
    "\n",
    "## Extracción de datos\n",
    "\n",
    "### Consistencia de la nueva información\n",
    "\n",
    "Pretendemos obtener información del clima del país, sin embargo al observar la información obtenida del SIAP, vemos que la información esta dada según los municipios, por lo tanto debemos procurar que la información climática provenga de cada municipio. \n",
    "\n",
    "### Fuente\n",
    "La información será extraída de 'Historical Weather API', que se puede encontrar en el siguiente elnace: https://open-meteo.com/en/docs/historical-weather-api#latitude=29.0881&longitude=-111.0103&start_date=2020-01-01&hourly=temperature_2m,relativehumidity_2m,precipitation. \n",
    "\n",
    "Lo principal de la API, es que proporciona información según las coordenadas geograficas de la región (latitud, longitud). Por lo tanto deberemos extraer las coordendadas de cada municipio.\n",
    "\n",
    "### Proceso.\n",
    "\n",
    "Esto lo haremos, mediante la extracción de información del siguiente enlace. 'https://www.coordenadas.com.es/mexico/index.php'. Para ello usaremos algunas librerías."
   ]
  },
  {
   "cell_type": "code",
   "execution_count": 130,
   "metadata": {},
   "outputs": [],
   "source": [
    "from bs4 import BeautifulSoup\n",
    "import requests\n",
    "import pandas as pd\n",
    "import numpy as np\n",
    "import math"
   ]
  },
  {
   "cell_type": "markdown",
   "metadata": {},
   "source": [
    "Primero, obtendremos la lista de Estados y el número de municipios. Esto como referencia para más adelante."
   ]
  },
  {
   "cell_type": "code",
   "execution_count": 111,
   "metadata": {},
   "outputs": [
    {
     "data": {
      "text/html": [
       "<div>\n",
       "<style scoped>\n",
       "    .dataframe tbody tr th:only-of-type {\n",
       "        vertical-align: middle;\n",
       "    }\n",
       "\n",
       "    .dataframe tbody tr th {\n",
       "        vertical-align: top;\n",
       "    }\n",
       "\n",
       "    .dataframe thead th {\n",
       "        text-align: right;\n",
       "    }\n",
       "</style>\n",
       "<table border=\"1\" class=\"dataframe\">\n",
       "  <thead>\n",
       "    <tr style=\"text-align: right;\">\n",
       "      <th></th>\n",
       "      <th>Estado</th>\n",
       "      <th>Cantidad de municipios</th>\n",
       "    </tr>\n",
       "  </thead>\n",
       "  <tbody>\n",
       "    <tr>\n",
       "      <th>0</th>\n",
       "      <td>Aguascalientes</td>\n",
       "      <td>11</td>\n",
       "    </tr>\n",
       "    <tr>\n",
       "      <th>1</th>\n",
       "      <td>Baja California</td>\n",
       "      <td>5</td>\n",
       "    </tr>\n",
       "    <tr>\n",
       "      <th>2</th>\n",
       "      <td>Baja California Sur</td>\n",
       "      <td>5</td>\n",
       "    </tr>\n",
       "    <tr>\n",
       "      <th>3</th>\n",
       "      <td>Campeche</td>\n",
       "      <td>11</td>\n",
       "    </tr>\n",
       "    <tr>\n",
       "      <th>4</th>\n",
       "      <td>Chiapas</td>\n",
       "      <td>124</td>\n",
       "    </tr>\n",
       "  </tbody>\n",
       "</table>\n",
       "</div>"
      ],
      "text/plain": [
       "                Estado  Cantidad de municipios\n",
       "0       Aguascalientes                      11\n",
       "1      Baja California                       5\n",
       "2  Baja California Sur                       5\n",
       "3             Campeche                      11\n",
       "4              Chiapas                     124"
      ]
     },
     "execution_count": 111,
     "metadata": {},
     "output_type": "execute_result"
    }
   ],
   "source": [
    "url_ref = 'https://diaonia.com/cuantos-municipios-hay-en-cada-estado-de-la-republica-mexicana/'\n",
    "estados_ref = pd.read_html(url_ref)\n",
    "estados = pd.DataFrame(estados_ref[0])\n",
    "estados.head()"
   ]
  },
  {
   "cell_type": "markdown",
   "metadata": {},
   "source": [
    "Ahora si, comenzamos con la extracción. Esto lo haremos mediante dos métodos.\n",
    "#### Directo\n",
    "\n",
    "El paso directo, consta en usar la 'coordenadas.com.es', una página que posee las coordendadas de muchas partes del mundo, entre ellas México, por lo tanto nos interesa. Si observa el enlace a continuación https://www.coordenadas.com.es/mexico/index.php, podrá ver que aparecen todos los estados de México, entonces la usaremos para automatizar la extracción de los municipios por estado."
   ]
  },
  {
   "cell_type": "code",
   "execution_count": 112,
   "metadata": {},
   "outputs": [
    {
     "name": "stdout",
     "output_type": "stream",
     "text": [
      "<Response [200]>\n"
     ]
    }
   ],
   "source": [
    "coor_url = 'https://www.coordenadas.com.es/mexico/index.php'\n",
    "html = requests.get(coor_url)\n",
    "print(html)"
   ]
  },
  {
   "cell_type": "markdown",
   "metadata": {},
   "source": [
    "Vemos que `requests` pudo conectar con la página. Entonces usaremos `BeautifulSoup` para revisar su contenido. "
   ]
  },
  {
   "cell_type": "code",
   "execution_count": 113,
   "metadata": {},
   "outputs": [
    {
     "name": "stdout",
     "output_type": "stream",
     "text": [
      "['https://www.coordenadas.com.es/mexico/pueblos-de-aguascalientes/1/1', 'https://www.coordenadas.com.es/mexico/pueblos-de-baja-california/2/1', 'https://www.coordenadas.com.es/mexico/pueblos-de-baja-california-sur/3/1', 'https://www.coordenadas.com.es/mexico/pueblos-de-campeche/4/1', 'https://www.coordenadas.com.es/mexico/pueblos-de-chiapas/5/1', 'https://www.coordenadas.com.es/mexico/pueblos-de-chihuahua/6/1', 'https://www.coordenadas.com.es/mexico/pueblos-de-coahuila-de-zaragoza/7/1', 'https://www.coordenadas.com.es/mexico/pueblos-de-colima/8/1', 'https://www.coordenadas.com.es/mexico/pueblos-de-distrito-federal/9/1', 'https://www.coordenadas.com.es/mexico/pueblos-de-durango/10/1', 'https://www.coordenadas.com.es/mexico/pueblos-de-guanajuato/11/1', 'https://www.coordenadas.com.es/mexico/pueblos-de-guerrero/12/1', 'https://www.coordenadas.com.es/mexico/pueblos-de-hidalgo/13/1', 'https://www.coordenadas.com.es/mexico/pueblos-de-jalisco/14/1', 'https://www.coordenadas.com.es/mexico/pueblos-de-mexico/15/1', 'https://www.coordenadas.com.es/mexico/pueblos-de-michoacan-de-ocampo/16/1', 'https://www.coordenadas.com.es/mexico/pueblos-de-morelos/17/1', 'https://www.coordenadas.com.es/mexico/pueblos-de-nayarit/18/1', 'https://www.coordenadas.com.es/mexico/pueblos-de-nuevo-leon/19/1', 'https://www.coordenadas.com.es/mexico/pueblos-de-oaxaca/20/1', 'https://www.coordenadas.com.es/mexico/pueblos-de-puebla/21/1', 'https://www.coordenadas.com.es/mexico/pueblos-de-queretaro-arteaga/22/1', 'https://www.coordenadas.com.es/mexico/pueblos-de-quintana-roo/23/1', 'https://www.coordenadas.com.es/mexico/pueblos-de-san-luis-potosi/24/1', 'https://www.coordenadas.com.es/mexico/pueblos-de-sinaloa/25/1', 'https://www.coordenadas.com.es/mexico/pueblos-de-sonora/26/1', 'https://www.coordenadas.com.es/mexico/pueblos-de-tabasco/27/1', 'https://www.coordenadas.com.es/mexico/pueblos-de-tamaulipas/28/1', 'https://www.coordenadas.com.es/mexico/pueblos-de-tlaxcala/29/1', 'https://www.coordenadas.com.es/mexico/pueblos-de-veracruz-llave/30/1', 'https://www.coordenadas.com.es/mexico/pueblos-de-yucatan/31/1', 'https://www.coordenadas.com.es/mexico/pueblos-de-zacatecas/32/1'] ['Aguascalientes', 'Baja-California', 'Baja-California-Sur', 'Campeche', 'Chiapas', 'Chihuahua', 'Coahuila-de-Zaragoza', 'Colima', 'Distrito-Federal', 'Durango', 'Guanajuato', 'Guerrero', 'Hidalgo', 'Jalisco', 'Mexico', 'Michoacan-de-Ocampo', 'Morelos', 'Nayarit', 'Nuevo-Leon', 'Oaxaca', 'Puebla', 'Queretaro-Arteaga', 'Quintana-Roo', 'San-Luis-Potosi', 'Sinaloa', 'Sonora', 'Tabasco', 'Tamaulipas', 'Tlaxcala', 'Veracruz-Llave', 'Yucatan', 'Zacatecas']\n"
     ]
    }
   ],
   "source": [
    "html_content = html.text\n",
    "soup = BeautifulSoup(html_content)\n",
    "\n",
    "# Checando el código fuente de la página principal. Vemos que los enlaces que buscamos, se encuentra en cierta clase de HTML.\n",
    "data = soup.find_all('a',class_= 'list-group-item')\n",
    "url_estados = []\n",
    "name_estados = []\n",
    "for link in data:\n",
    "    lhref = link.get('href')\n",
    "    ltext = link.text\n",
    "    url_estados.append(lhref)\n",
    "    name_estados.append(ltext)\n",
    "\n",
    "print(url_estados, name_estados)\n",
    "\n",
    "i_cdmx = name_estados.index('Distrito-Federal')\n",
    "name_estados[i_cdmx] = 'Ciudad de México'\n",
    "name_estados.sort()"
   ]
  },
  {
   "cell_type": "markdown",
   "metadata": {},
   "source": [
    "Entonces, podríamos generar un dataframe con los estados, su nombre clave y la url correspondiente."
   ]
  },
  {
   "cell_type": "code",
   "execution_count": 114,
   "metadata": {},
   "outputs": [
    {
     "data": {
      "text/plain": [
       "Index(['Estado', 'Cantidad de municipios', 'Nombre', 'Url'], dtype='object')"
      ]
     },
     "execution_count": 114,
     "metadata": {},
     "output_type": "execute_result"
    }
   ],
   "source": [
    "estados['Nombre'] = name_estados\n",
    "estados['Url'] = url_estados\n",
    "\n",
    "estados.columns"
   ]
  },
  {
   "cell_type": "markdown",
   "metadata": {},
   "source": [
    "Entonces a partir del enlace principal, obtuvimos los enlaces para obtener los enlances de los estados para obtener las coordenadas de los municipios. Ahora definimos un buscador mediante la clave para obtener la url, tomaremos como ejemplo a Sonora."
   ]
  },
  {
   "cell_type": "code",
   "execution_count": 115,
   "metadata": {},
   "outputs": [
    {
     "data": {
      "text/plain": [
       "'https://www.coordenadas.com.es/mexico/pueblos-de-sonora/26/1'"
      ]
     },
     "execution_count": 115,
     "metadata": {},
     "output_type": "execute_result"
    }
   ],
   "source": [
    "def info_estado(estado,columna):\n",
    "    i_e = list(estados['Estado']).index(estado)\n",
    "    if i_e > 0:\n",
    "        if columna == '*':\n",
    "            data = estados.loc[int(i_e),:]\n",
    "        else:\n",
    "            data = estados.loc[int(i_e),columna]\n",
    "    else: \n",
    "        data = 'No se encontro el estado'\n",
    "    return data\n",
    "\n",
    "info_estado('Sonora','Url')"
   ]
  },
  {
   "cell_type": "markdown",
   "metadata": {},
   "source": [
    "Ahora, obtenemos las coordenadas de los municipios."
   ]
  },
  {
   "cell_type": "code",
   "execution_count": 116,
   "metadata": {},
   "outputs": [
    {
     "name": "stdout",
     "output_type": "stream",
     "text": [
      "<class 'pandas.core.frame.DataFrame'>\n",
      "RangeIndex: 60 entries, 0 to 59\n",
      "Data columns (total 2 columns):\n",
      " #   Column       Non-Null Count  Dtype \n",
      "---  ------       --------------  ----- \n",
      " 0   Ciudad       60 non-null     object\n",
      " 1   Coordenadas  60 non-null     object\n",
      "dtypes: object(2)\n",
      "memory usage: 1.1+ KB\n"
     ]
    }
   ],
   "source": [
    "turl = info_estado('Sonora','Url')\n",
    "thtml = pd.read_html(turl)\n",
    "tdf = pd.DataFrame(thtml[0])\n",
    "tdf.info()"
   ]
  },
  {
   "cell_type": "markdown",
   "metadata": {},
   "source": [
    "Obtuvimos las coordenadas de los municipios de Sonora, sin embargo, como se puede apreciar. Faltan municipios. "
   ]
  },
  {
   "cell_type": "code",
   "execution_count": 117,
   "metadata": {},
   "outputs": [
    {
     "name": "stdout",
     "output_type": "stream",
     "text": [
      "Numero de renglones en Sonora: 60\n",
      "Número de Municipios de Sonora: 72\n"
     ]
    }
   ],
   "source": [
    "print(f'Numero de renglones en Sonora: {tdf.shape[0]}\\nNúmero de Municipios de Sonora: {info_estado(\"Sonora\",\"Cantidad de municipios\")}')"
   ]
  },
  {
   "cell_type": "markdown",
   "metadata": {},
   "source": [
    "Revisando la página de los municipios de Sonora podemos ver que se encuentran desplegados en varias pestañas. Cada pestaña puede mostrar máximo 60 municipios. Entonces debemos encontrar los que faltan, La página mostrada esta representada por él último número del enlace. Entonces nos tocará modificarlo. Para ello considere la siguiente función."
   ]
  },
  {
   "cell_type": "code",
   "execution_count": 118,
   "metadata": {},
   "outputs": [],
   "source": [
    "def modify_tabpage(url,tab):\n",
    "    url = url[:-1] + str(tab)\n",
    "    return url"
   ]
  },
  {
   "cell_type": "markdown",
   "metadata": {},
   "source": [
    "Ahora si podemos extraer todos los municipios de Sonora"
   ]
  },
  {
   "cell_type": "code",
   "execution_count": 125,
   "metadata": {},
   "outputs": [
    {
     "name": "stdout",
     "output_type": "stream",
     "text": [
      "<class 'pandas.core.frame.DataFrame'>\n",
      "RangeIndex: 64 entries, 0 to 63\n",
      "Data columns (total 2 columns):\n",
      " #   Column       Non-Null Count  Dtype \n",
      "---  ------       --------------  ----- \n",
      " 0   Ciudad       64 non-null     object\n",
      " 1   Coordenadas  64 non-null     object\n",
      "dtypes: object(2)\n",
      "memory usage: 1.1+ KB\n"
     ]
    }
   ],
   "source": [
    "n_s = tdf.shape[0]\n",
    "\n",
    "n_url = modify_tabpage(turl, 2)\n",
    "\n",
    "html_son = pd.read_html(n_url)\n",
    "Sonora2 = pd.DataFrame(html_son[0])\n",
    "S = pd.concat((tdf,Sonora2),ignore_index=True)\n",
    "S.info()"
   ]
  },
  {
   "cell_type": "markdown",
   "metadata": {},
   "source": [
    "Pero aún así faltan municipios, este es el principal problema del primer método. Entonces vamos a concluir con la extracción de todas las coordendas DISPONIBLES en el url."
   ]
  },
  {
   "cell_type": "code",
   "execution_count": 157,
   "metadata": {},
   "outputs": [
    {
     "data": {
      "text/plain": [
       "'No se encontro el estado'"
      ]
     },
     "execution_count": 157,
     "metadata": {},
     "output_type": "execute_result"
    }
   ],
   "source": [
    "def simple_df(url):\n",
    "    html_zero = pd.read_html(url)\n",
    "    df = pd.DataFrame(html_zero[0])\n",
    "    return df\n",
    "\n",
    "def tabs_df(estado):\n",
    "    n_muns = info_estado(estado,'Cantidad de municipios')\n",
    "    url_zero = info_estado(estado,'Url')\n",
    "    df = simple_df(url_zero)\n",
    "    if n_muns > 60:\n",
    "        max_tabs = math.ceil(n_muns / 60)\n",
    "        for i in np.arange(2, max_tabs + 1):\n",
    "            n_url = modify_tabpage(url_zero,i)\n",
    "            n_df = simple_df(n_url)\n",
    "            df = pd.concat((df, n_df),ignore_index= True)\n",
    "    df['Estado'] = [estado for i in range(df.shape[0])]\n",
    "    df = df[['Estado','Ciudad','Coordenadas']]\n",
    "    return df\n",
    "\n",
    "def mexico_muns_coords(selector):\n",
    "    if selector == '*':\n",
    "        selector = list(estados['Estado'])\n",
    "    mex_df = pd.DataFrame()\n",
    "    for estado in selector:\n",
    "        est_df = tabs_df(estado)\n",
    "        mex_df = pd.concat((mex_df,est_df),ignore_index=True)\n",
    "    return mex_df\n",
    "\n",
    "aguas = info_estado('Aguascalientes','Url')\n",
    "aguas\n"
   ]
  },
  {
   "cell_type": "code",
   "execution_count": null,
   "metadata": {},
   "outputs": [],
   "source": []
  },
  {
   "cell_type": "code",
   "execution_count": null,
   "metadata": {},
   "outputs": [
    {
     "name": "stdout",
     "output_type": "stream",
     "text": [
      "                        Municipio\n",
      "0                         Aconchi\n",
      "1                     Agua Prieta\n",
      "2                          Alamos\n",
      "3                           Altar\n",
      "4                        Arivechi\n",
      "..                            ...\n",
      "67                Villa Pesqueira\n",
      "68                         Yécora\n",
      "69  General Plutarco Elías Calles\n",
      "70                  Benito Juárez\n",
      "71         San Ignacio Río Muerto\n",
      "\n",
      "[72 rows x 1 columns]\n",
      "0                           - Aconchi\n",
      "1                       - Agua-Prieta\n",
      "2                            - Alamos\n",
      "3                             - Altar\n",
      "4                          - Arivechi\n",
      "5                            - Arizpe\n",
      "6                              - Atil\n",
      "7                      - Bacadehuachi\n",
      "8                          - Bacanora\n",
      "9                           - Bacerac\n",
      "10                         - Bacoachi\n",
      "11                            - Bacum\n",
      "12                        - Banamichi\n",
      "13                        - Baviacora\n",
      "14                          - Bavispe\n",
      "15                    - Benjamin-Hill\n",
      "16                          - Caborca\n",
      "17                           - Cajeme\n",
      "18                          - Cananea\n",
      "19                            - Carbo\n",
      "20                          - Cucurpe\n",
      "21                           - Cumpas\n",
      "22                      - Divisaderos\n",
      "23                          - Empalme\n",
      "24                         - Etchojoa\n",
      "25                        - Fronteras\n",
      "26    - General-Plutarco-Elias-Calles\n",
      "27                         - Granados\n",
      "28                          - Guaymas\n",
      "29                       - Hermosillo\n",
      "30                       - Huachinera\n",
      "31                         - Huasabas\n",
      "32                       - Huatabampo\n",
      "33                           - Huepac\n",
      "34                           - Imuris\n",
      "35                      - La-Colorada\n",
      "36                             - Naco\n",
      "37                     - Nacori-Chico\n",
      "38               - Nacozari-de-Garcia\n",
      "39                          - Navojoa\n",
      "40                          - Nogales\n",
      "41                           - Onavas\n",
      "42                          - Opodepe\n",
      "43                          - Oquitoa\n",
      "44                        - Pitiquito\n",
      "45                   - Puerto-Penasco\n",
      "46                         - Quiriego\n",
      "47                        - Sahuaripa\n",
      "48              - San-Felipe-de-Jesus\n",
      "49           - San-Ignacio-Rio-Muerto\n",
      "50                       - San-Javier\n",
      "51            - San-Luis-Rio-Colorado\n",
      "52         - San-Miguel-de-Horcasitas\n",
      "53            - San-Pedro-de-La-Cueva\n",
      "54                       - Santa-Cruz\n",
      "55                            - Saric\n",
      "56                           - Soyopa\n",
      "57                    - Suaqui-Grande\n",
      "58                          - Tepache\n",
      "59                       - Trincheras\n",
      "Name: Ciudad, dtype: object\n"
     ]
    }
   ],
   "source": [
    "url_base = \"https://cuentame.inegi.org.mx/monografias/informacion/\"\n",
    "state = 'son'\n",
    "url_final = \"/territorio/div_municipal.aspx\"\n",
    "\n",
    "url_mun = url_base + state + url_final\n",
    "\n",
    "mun_html = pd.read_html(url_mun)\n",
    "municipios = pd.DataFrame(mun_html[3])[['Municipio']]\n",
    "municipios = municipios.drop(municipios.index[-1])\n",
    "print(municipios)\n",
    "\n",
    "s = Sonora['Ciudad']\n",
    "\n",
    "print(s)\n"
   ]
  },
  {
   "cell_type": "markdown",
   "metadata": {},
   "source": [
    "Con esto logramos extraer los datos requeridos"
   ]
  },
  {
   "cell_type": "code",
   "execution_count": null,
   "metadata": {},
   "outputs": [],
   "source": [
    "\n",
    "def get_df_mun(url):\n",
    "    html = pd.read_html(url)\n",
    "    df = pd.DataFrame(html[0])\n",
    "    return df"
   ]
  }
 ],
 "metadata": {
  "kernelspec": {
   "display_name": "base",
   "language": "python",
   "name": "python3"
  },
  "language_info": {
   "codemirror_mode": {
    "name": "ipython",
    "version": 3
   },
   "file_extension": ".py",
   "mimetype": "text/x-python",
   "name": "python",
   "nbconvert_exporter": "python",
   "pygments_lexer": "ipython3",
   "version": "3.10.9"
  }
 },
 "nbformat": 4,
 "nbformat_minor": 2
}
