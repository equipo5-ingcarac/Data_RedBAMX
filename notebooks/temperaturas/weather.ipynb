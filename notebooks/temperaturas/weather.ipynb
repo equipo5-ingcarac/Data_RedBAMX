{
 "cells": [
  {
   "cell_type": "markdown",
   "metadata": {},
   "source": [
    "# Clima en los cultivos\n",
    "\n",
    "Uno de los factores principales a considerar durante las cosechas es el clima de la región, está determina las temporadas de cosecha y los tipos de cultivos que pueden existir ahí. Por lo tanto veremos que relación tiene el clima de México con los números generados por el SIAP y el SNIIM. \n",
    "\n",
    "## Extracción de datos\n",
    "\n",
    "### Consistencia de la nueva información\n",
    "\n",
    "Pretendemos obtener información del clima del país, sin embargo notemos que en el SIAP la información esta dada según los municipios, por lo tanto debemos procurar que la información climática provenga de igual forma. \n",
    "\n",
    "### Fuente\n",
    "La información será extraída de 'Historical Weather API', que se puede encontrar en el siguiente elnace: https://open-meteo.com/en/docs/historical-weather-api#latitude=29.0881&longitude=-111.0103&start_date=2020-01-01&hourly=temperature_2m,relativehumidity_2m,precipitation. \n",
    "\n",
    "Lo principal, es que la API (dado las variables de nuestro intéres), recibe las coordenadas de la región en cuestion (latitud, longitud). Por lo tanto deberemos extraer las de cada municipio de datos. "
   ]
  },
  {
   "cell_type": "code",
   "execution_count": null,
   "metadata": {},
   "outputs": [],
   "source": [
    "import pandas as pd\n",
    "from bs4 import BeautifulSoup\n",
    "import requests"
   ]
  }
 ],
 "metadata": {
  "kernelspec": {
   "display_name": "base",
   "language": "python",
   "name": "python3"
  },
  "language_info": {
   "name": "python",
   "version": "3.8.17"
  }
 },
 "nbformat": 4,
 "nbformat_minor": 2
}
