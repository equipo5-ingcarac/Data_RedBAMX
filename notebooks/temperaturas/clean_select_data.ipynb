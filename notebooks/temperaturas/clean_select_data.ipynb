{
 "cells": [
  {
   "cell_type": "markdown",
   "metadata": {},
   "source": [
    "# Limpieza de Datos. \n",
    "\n",
    "En este apartado le daremos apariencia "
   ]
  },
  {
   "cell_type": "code",
   "execution_count": 2,
   "metadata": {},
   "outputs": [
    {
     "name": "stdout",
     "output_type": "stream",
     "text": [
      "['Resumen cultivos', 'Agave', 'Aguacate', 'Ajo', 'Ajonjolí', 'Alfalfa', 'Algodón hueso', 'Amaranto', 'Arroz palay', 'Avena forrajera en verde', 'Avena grano', 'Berenjena', 'Brócoli', 'Cacao', 'Café cereza', 'Calabacita', 'Caña de azúcar', 'Cártamo', 'Cebada grano', 'Cebolla', 'Chile verde', 'Coliflor', 'Copra', 'Crisantemo', 'Durazno', 'Elote', 'Espárrago', 'Frambuesa', 'Fresa', 'Frijol', 'Garbanzo grano', 'Gerbera', 'Gladiola', 'Guayaba', 'Lechuga', 'Limón', 'Maguey pulquero', 'Maíz forrajero en verde', 'Maíz grano', 'Mango', 'Manzana', 'Melón', 'Naranja', 'Nopalitos', 'Nuez', 'Papa', 'Papaya', 'Pepino', 'Pera', 'Piña', 'Plátano', 'Rosa', 'Sandía', 'Sorgo forrajero en verde', 'Sorgo grano', 'Soya', 'Tabaco', 'Tomate rojo (jitomate)', 'Tomate verde', 'Toronja (pomelo)', 'Trigo grano', 'Tuna', 'Uva', 'Zanahoria', 'Zarzamora']\n",
      "['Otoño - Invierno', 'Primavera - Verano', 'Perennes', 'Año Agrícola (OI + PV)', 'Ciclicos - Perennes']\n",
      "['Riego', 'Temporal', 'Riego + Temporal']\n",
      "['Agosto', 'Julio', 'Junio', 'Mayo', 'Abril', 'Marzo', 'Febrero', 'Enero', 'Diciembre', 'Noviembre', 'Octubre', 'Septiembre']\n",
      "[2018, 2019, 2020, 2021, 2022, 2023]\n"
     ]
    }
   ],
   "source": [
    "import selector as s\n",
    "import selective_download_siap as d\n",
    "\n",
    "print(s.cultivos)\n",
    "print(s.ciclos)\n",
    "print(s.modalidad)\n",
    "print(s.meses)\n",
    "print(s.anios)"
   ]
  }
 ],
 "metadata": {
  "kernelspec": {
   "display_name": "base",
   "language": "python",
   "name": "python3"
  },
  "language_info": {
   "codemirror_mode": {
    "name": "ipython",
    "version": 3
   },
   "file_extension": ".py",
   "mimetype": "text/x-python",
   "name": "python",
   "nbconvert_exporter": "python",
   "pygments_lexer": "ipython3",
   "version": "3.9.18"
  }
 },
 "nbformat": 4,
 "nbformat_minor": 2
}
