{
 "cells": [
  {
   "cell_type": "markdown",
   "metadata": {},
   "source": [
    "# Limpiando Datos de SIAP\n",
    "\n",
    "La limpieza de datos es una de las etapas más críticas y esenciales en el proceso de Ciencia de Datos. Antes de que los datos puedan ser utilizados para modelar, analizar o visualizar, es muy importante asegurarse de que estén limpios, consistentes y libres de anomalías o inexactitudes. Esto se debe a que la calidad de los datos determina directamente la calidad de los insights obtenidos. Datos incorrectos o inconsistentes pueden conducir a resultados engañosos, decisiones erróneas y, en última instancia, a la pérdida de confianza en los análisis realizados. Así, la limpieza de datos no es sólo un paso preliminar, sino un componente integral para garantizar que el análisis de datos sea preciso, relevante y confiable."
   ]
  },
  {
   "cell_type": "markdown",
   "metadata": {},
   "source": [
    "Esta libreta es previa a la descarga de datos de la libreta API_SIAP_Descarga.ipynb"
   ]
  },
  {
   "cell_type": "markdown",
   "metadata": {},
   "source": [
    "Primero importamos las librerias que vamos a usar."
   ]
  },
  {
   "cell_type": "code",
   "execution_count": 113,
   "metadata": {},
   "outputs": [],
   "source": [
    "import pandas as pd\n",
    "import numpy as np\n",
    "import matplotlib.pyplot as plt\n",
    "import os\n",
    "from datetime import datetime"
   ]
  },
  {
   "cell_type": "markdown",
   "metadata": {},
   "source": [
    "Se crea un loop para enlistar todos los archivos que están dentro de el archivo."
   ]
  },
  {
   "cell_type": "code",
   "execution_count": 114,
   "metadata": {},
   "outputs": [
    {
     "data": {
      "text/plain": [
       "['data\\\\siap\\\\agave_abril_2020.csv',\n",
       " 'data\\\\siap\\\\agave_abril_2021.csv',\n",
       " 'data\\\\siap\\\\agave_abril_2022.csv',\n",
       " 'data\\\\siap\\\\agave_abril_2023.csv',\n",
       " 'data\\\\siap\\\\agave_agosto_2020.csv']"
      ]
     },
     "execution_count": 114,
     "metadata": {},
     "output_type": "execute_result"
    }
   ],
   "source": [
    "file_pad = r\"data\\siap\"\n",
    "path_list = []\n",
    "for x in os.listdir(file_pad):\n",
    "    if x.endswith(\".csv\"):\n",
    "        x = file_pad + \"\\\\\" + x\n",
    "        path_list.append(x)\n",
    "path_list[:5]"
   ]
  },
  {
   "cell_type": "markdown",
   "metadata": {},
   "source": [
    "Se lee el primer csv para analizar para explorar los datos."
   ]
  },
  {
   "cell_type": "code",
   "execution_count": 115,
   "metadata": {},
   "outputs": [
    {
     "data": {
      "text/html": [
       "<div>\n",
       "<style scoped>\n",
       "    .dataframe tbody tr th:only-of-type {\n",
       "        vertical-align: middle;\n",
       "    }\n",
       "\n",
       "    .dataframe tbody tr th {\n",
       "        vertical-align: top;\n",
       "    }\n",
       "\n",
       "    .dataframe thead th {\n",
       "        text-align: right;\n",
       "    }\n",
       "</style>\n",
       "<table border=\"1\" class=\"dataframe\">\n",
       "  <thead>\n",
       "    <tr style=\"text-align: right;\">\n",
       "      <th></th>\n",
       "      <th>Entidad</th>\n",
       "      <th>Municipio</th>\n",
       "      <th>Sembrada</th>\n",
       "      <th>Cosechada</th>\n",
       "      <th>Siniestrada</th>\n",
       "      <th>Producción</th>\n",
       "      <th>Rendimiento (udm/ha)</th>\n",
       "      <th>Cultivo</th>\n",
       "      <th>Mes</th>\n",
       "      <th>Año</th>\n",
       "    </tr>\n",
       "  </thead>\n",
       "  <tbody>\n",
       "    <tr>\n",
       "      <th>0</th>\n",
       "      <td>Aguascalientes</td>\n",
       "      <td>Aguascalientes</td>\n",
       "      <td>8.0</td>\n",
       "      <td>0.0</td>\n",
       "      <td>0.0</td>\n",
       "      <td>0.0</td>\n",
       "      <td>0.0</td>\n",
       "      <td>Agave</td>\n",
       "      <td>4</td>\n",
       "      <td>2020</td>\n",
       "    </tr>\n",
       "    <tr>\n",
       "      <th>1</th>\n",
       "      <td>Baja California</td>\n",
       "      <td>Ensenada</td>\n",
       "      <td>1.0</td>\n",
       "      <td>0.0</td>\n",
       "      <td>0.0</td>\n",
       "      <td>0.0</td>\n",
       "      <td>0.0</td>\n",
       "      <td>Agave</td>\n",
       "      <td>4</td>\n",
       "      <td>2020</td>\n",
       "    </tr>\n",
       "    <tr>\n",
       "      <th>2</th>\n",
       "      <td>Colima</td>\n",
       "      <td>Manzanillo</td>\n",
       "      <td>1.4</td>\n",
       "      <td>0.0</td>\n",
       "      <td>0.0</td>\n",
       "      <td>0.0</td>\n",
       "      <td>0.0</td>\n",
       "      <td>Agave</td>\n",
       "      <td>4</td>\n",
       "      <td>2020</td>\n",
       "    </tr>\n",
       "    <tr>\n",
       "      <th>3</th>\n",
       "      <td>Durango</td>\n",
       "      <td>Durango</td>\n",
       "      <td>12.0</td>\n",
       "      <td>0.0</td>\n",
       "      <td>0.0</td>\n",
       "      <td>0.0</td>\n",
       "      <td>0.0</td>\n",
       "      <td>Agave</td>\n",
       "      <td>4</td>\n",
       "      <td>2020</td>\n",
       "    </tr>\n",
       "    <tr>\n",
       "      <th>4</th>\n",
       "      <td>Durango</td>\n",
       "      <td>Mezquital</td>\n",
       "      <td>110.0</td>\n",
       "      <td>0.0</td>\n",
       "      <td>0.0</td>\n",
       "      <td>0.0</td>\n",
       "      <td>0.0</td>\n",
       "      <td>Agave</td>\n",
       "      <td>4</td>\n",
       "      <td>2020</td>\n",
       "    </tr>\n",
       "  </tbody>\n",
       "</table>\n",
       "</div>"
      ],
      "text/plain": [
       "           Entidad       Municipio  Sembrada  Cosechada  Siniestrada  \\\n",
       "0   Aguascalientes  Aguascalientes       8.0        0.0          0.0   \n",
       "1  Baja California        Ensenada       1.0        0.0          0.0   \n",
       "2           Colima      Manzanillo       1.4        0.0          0.0   \n",
       "3          Durango         Durango      12.0        0.0          0.0   \n",
       "4          Durango       Mezquital     110.0        0.0          0.0   \n",
       "\n",
       "   Producción  Rendimiento (udm/ha) Cultivo  Mes   Año  \n",
       "0         0.0                   0.0   Agave    4  2020  \n",
       "1         0.0                   0.0   Agave    4  2020  \n",
       "2         0.0                   0.0   Agave    4  2020  \n",
       "3         0.0                   0.0   Agave    4  2020  \n",
       "4         0.0                   0.0   Agave    4  2020  "
      ]
     },
     "execution_count": 115,
     "metadata": {},
     "output_type": "execute_result"
    }
   ],
   "source": [
    "dt = pd.read_csv(path_list[0],\n",
    "                sep = ',',\n",
    "                encoding='utf-8')\n",
    "\n",
    "dt.head()"
   ]
  },
  {
   "cell_type": "markdown",
   "metadata": {},
   "source": [
    "Una vez teniendo la lista de archivos, leemos los csv dentro del archivo y los concatenamos a un solo dataframe."
   ]
  },
  {
   "cell_type": "code",
   "execution_count": 116,
   "metadata": {},
   "outputs": [],
   "source": [
    "for i, file in enumerate(path_list):\n",
    "    dt = pd.read_csv(file,\n",
    "                   sep = ',',\n",
    "                   encoding='utf-8')\n",
    "    # dt.index = pd.to_datetime(dt.index)\n",
    "\n",
    "    if i == 0:\n",
    "        data_siap = dt.copy()\n",
    "    else:\n",
    "        data_siap = pd.concat([data_siap, dt])"
   ]
  },
  {
   "cell_type": "code",
   "execution_count": 117,
   "metadata": {},
   "outputs": [
    {
     "data": {
      "text/plain": [
       "(655428, 10)"
      ]
     },
     "execution_count": 117,
     "metadata": {},
     "output_type": "execute_result"
    }
   ],
   "source": [
    "data_siap.shape"
   ]
  },
  {
   "cell_type": "markdown",
   "metadata": {},
   "source": [
    "El dataframe tiene un total de 10 características y 655428 observaciones."
   ]
  },
  {
   "cell_type": "code",
   "execution_count": 118,
   "metadata": {},
   "outputs": [
    {
     "data": {
      "text/html": [
       "<div>\n",
       "<style scoped>\n",
       "    .dataframe tbody tr th:only-of-type {\n",
       "        vertical-align: middle;\n",
       "    }\n",
       "\n",
       "    .dataframe tbody tr th {\n",
       "        vertical-align: top;\n",
       "    }\n",
       "\n",
       "    .dataframe thead th {\n",
       "        text-align: right;\n",
       "    }\n",
       "</style>\n",
       "<table border=\"1\" class=\"dataframe\">\n",
       "  <thead>\n",
       "    <tr style=\"text-align: right;\">\n",
       "      <th></th>\n",
       "      <th>Entidad</th>\n",
       "      <th>Municipio</th>\n",
       "      <th>Sembrada</th>\n",
       "      <th>Cosechada</th>\n",
       "      <th>Siniestrada</th>\n",
       "      <th>Producción</th>\n",
       "      <th>Rendimiento (udm/ha)</th>\n",
       "      <th>Cultivo</th>\n",
       "      <th>Mes</th>\n",
       "      <th>Año</th>\n",
       "    </tr>\n",
       "  </thead>\n",
       "  <tbody>\n",
       "    <tr>\n",
       "      <th>0</th>\n",
       "      <td>Aguascalientes</td>\n",
       "      <td>Aguascalientes</td>\n",
       "      <td>8.0</td>\n",
       "      <td>0.0</td>\n",
       "      <td>0.0</td>\n",
       "      <td>0.0</td>\n",
       "      <td>0.0</td>\n",
       "      <td>Agave</td>\n",
       "      <td>4</td>\n",
       "      <td>2020</td>\n",
       "    </tr>\n",
       "    <tr>\n",
       "      <th>1</th>\n",
       "      <td>Baja California</td>\n",
       "      <td>Ensenada</td>\n",
       "      <td>1.0</td>\n",
       "      <td>0.0</td>\n",
       "      <td>0.0</td>\n",
       "      <td>0.0</td>\n",
       "      <td>0.0</td>\n",
       "      <td>Agave</td>\n",
       "      <td>4</td>\n",
       "      <td>2020</td>\n",
       "    </tr>\n",
       "    <tr>\n",
       "      <th>2</th>\n",
       "      <td>Colima</td>\n",
       "      <td>Manzanillo</td>\n",
       "      <td>1.4</td>\n",
       "      <td>0.0</td>\n",
       "      <td>0.0</td>\n",
       "      <td>0.0</td>\n",
       "      <td>0.0</td>\n",
       "      <td>Agave</td>\n",
       "      <td>4</td>\n",
       "      <td>2020</td>\n",
       "    </tr>\n",
       "    <tr>\n",
       "      <th>3</th>\n",
       "      <td>Durango</td>\n",
       "      <td>Durango</td>\n",
       "      <td>12.0</td>\n",
       "      <td>0.0</td>\n",
       "      <td>0.0</td>\n",
       "      <td>0.0</td>\n",
       "      <td>0.0</td>\n",
       "      <td>Agave</td>\n",
       "      <td>4</td>\n",
       "      <td>2020</td>\n",
       "    </tr>\n",
       "    <tr>\n",
       "      <th>4</th>\n",
       "      <td>Durango</td>\n",
       "      <td>Mezquital</td>\n",
       "      <td>110.0</td>\n",
       "      <td>0.0</td>\n",
       "      <td>0.0</td>\n",
       "      <td>0.0</td>\n",
       "      <td>0.0</td>\n",
       "      <td>Agave</td>\n",
       "      <td>4</td>\n",
       "      <td>2020</td>\n",
       "    </tr>\n",
       "  </tbody>\n",
       "</table>\n",
       "</div>"
      ],
      "text/plain": [
       "           Entidad       Municipio  Sembrada  Cosechada  Siniestrada  \\\n",
       "0   Aguascalientes  Aguascalientes       8.0        0.0          0.0   \n",
       "1  Baja California        Ensenada       1.0        0.0          0.0   \n",
       "2           Colima      Manzanillo       1.4        0.0          0.0   \n",
       "3          Durango         Durango      12.0        0.0          0.0   \n",
       "4          Durango       Mezquital     110.0        0.0          0.0   \n",
       "\n",
       "   Producción  Rendimiento (udm/ha) Cultivo  Mes   Año  \n",
       "0         0.0                   0.0   Agave    4  2020  \n",
       "1         0.0                   0.0   Agave    4  2020  \n",
       "2         0.0                   0.0   Agave    4  2020  \n",
       "3         0.0                   0.0   Agave    4  2020  \n",
       "4         0.0                   0.0   Agave    4  2020  "
      ]
     },
     "execution_count": 118,
     "metadata": {},
     "output_type": "execute_result"
    }
   ],
   "source": [
    "data_siap.head()"
   ]
  },
  {
   "cell_type": "markdown",
   "metadata": {},
   "source": [
    "Tipos de características del dataframe."
   ]
  },
  {
   "cell_type": "code",
   "execution_count": 119,
   "metadata": {},
   "outputs": [
    {
     "data": {
      "text/plain": [
       "Entidad                  object\n",
       "Municipio                object\n",
       "Sembrada                float64\n",
       "Cosechada               float64\n",
       "Siniestrada             float64\n",
       "Producción              float64\n",
       "Rendimiento (udm/ha)    float64\n",
       "Cultivo                  object\n",
       "Mes                       int64\n",
       "Año                       int64\n",
       "dtype: object"
      ]
     },
     "execution_count": 119,
     "metadata": {},
     "output_type": "execute_result"
    }
   ],
   "source": [
    "data_siap.dtypes"
   ]
  },
  {
   "cell_type": "markdown",
   "metadata": {},
   "source": [
    "Podemos ver que hay dos características que pueden ser embebida en una sola característica: **Mes** y **Año** pueden ir en una sola variable llamada **Fecha**. Se puede observar que en Entidad Municipio y Cultivo son variables categóricas, pero no se le ha asignado."
   ]
  },
  {
   "cell_type": "code",
   "execution_count": 120,
   "metadata": {},
   "outputs": [],
   "source": [
    "data_siap[\"fecha_str\"] = data_siap[\"Año\"].astype(str) + \"_\" + data_siap[\"Mes\"].astype(str)"
   ]
  },
  {
   "cell_type": "code",
   "execution_count": 121,
   "metadata": {},
   "outputs": [
    {
     "data": {
      "text/html": [
       "<div>\n",
       "<style scoped>\n",
       "    .dataframe tbody tr th:only-of-type {\n",
       "        vertical-align: middle;\n",
       "    }\n",
       "\n",
       "    .dataframe tbody tr th {\n",
       "        vertical-align: top;\n",
       "    }\n",
       "\n",
       "    .dataframe thead th {\n",
       "        text-align: right;\n",
       "    }\n",
       "</style>\n",
       "<table border=\"1\" class=\"dataframe\">\n",
       "  <thead>\n",
       "    <tr style=\"text-align: right;\">\n",
       "      <th></th>\n",
       "      <th>Entidad</th>\n",
       "      <th>Municipio</th>\n",
       "      <th>Sembrada</th>\n",
       "      <th>Cosechada</th>\n",
       "      <th>Siniestrada</th>\n",
       "      <th>Producción</th>\n",
       "      <th>Rendimiento (udm/ha)</th>\n",
       "      <th>Cultivo</th>\n",
       "      <th>Mes</th>\n",
       "      <th>Año</th>\n",
       "      <th>fecha_str</th>\n",
       "      <th>fecha</th>\n",
       "    </tr>\n",
       "  </thead>\n",
       "  <tbody>\n",
       "    <tr>\n",
       "      <th>0</th>\n",
       "      <td>Aguascalientes</td>\n",
       "      <td>Aguascalientes</td>\n",
       "      <td>8.0</td>\n",
       "      <td>0.0</td>\n",
       "      <td>0.0</td>\n",
       "      <td>0.0</td>\n",
       "      <td>0.0</td>\n",
       "      <td>Agave</td>\n",
       "      <td>4</td>\n",
       "      <td>2020</td>\n",
       "      <td>2020_4</td>\n",
       "      <td>2020-04-01</td>\n",
       "    </tr>\n",
       "    <tr>\n",
       "      <th>1</th>\n",
       "      <td>Baja California</td>\n",
       "      <td>Ensenada</td>\n",
       "      <td>1.0</td>\n",
       "      <td>0.0</td>\n",
       "      <td>0.0</td>\n",
       "      <td>0.0</td>\n",
       "      <td>0.0</td>\n",
       "      <td>Agave</td>\n",
       "      <td>4</td>\n",
       "      <td>2020</td>\n",
       "      <td>2020_4</td>\n",
       "      <td>2020-04-01</td>\n",
       "    </tr>\n",
       "    <tr>\n",
       "      <th>2</th>\n",
       "      <td>Colima</td>\n",
       "      <td>Manzanillo</td>\n",
       "      <td>1.4</td>\n",
       "      <td>0.0</td>\n",
       "      <td>0.0</td>\n",
       "      <td>0.0</td>\n",
       "      <td>0.0</td>\n",
       "      <td>Agave</td>\n",
       "      <td>4</td>\n",
       "      <td>2020</td>\n",
       "      <td>2020_4</td>\n",
       "      <td>2020-04-01</td>\n",
       "    </tr>\n",
       "    <tr>\n",
       "      <th>3</th>\n",
       "      <td>Durango</td>\n",
       "      <td>Durango</td>\n",
       "      <td>12.0</td>\n",
       "      <td>0.0</td>\n",
       "      <td>0.0</td>\n",
       "      <td>0.0</td>\n",
       "      <td>0.0</td>\n",
       "      <td>Agave</td>\n",
       "      <td>4</td>\n",
       "      <td>2020</td>\n",
       "      <td>2020_4</td>\n",
       "      <td>2020-04-01</td>\n",
       "    </tr>\n",
       "    <tr>\n",
       "      <th>4</th>\n",
       "      <td>Durango</td>\n",
       "      <td>Mezquital</td>\n",
       "      <td>110.0</td>\n",
       "      <td>0.0</td>\n",
       "      <td>0.0</td>\n",
       "      <td>0.0</td>\n",
       "      <td>0.0</td>\n",
       "      <td>Agave</td>\n",
       "      <td>4</td>\n",
       "      <td>2020</td>\n",
       "      <td>2020_4</td>\n",
       "      <td>2020-04-01</td>\n",
       "    </tr>\n",
       "  </tbody>\n",
       "</table>\n",
       "</div>"
      ],
      "text/plain": [
       "           Entidad       Municipio  Sembrada  Cosechada  Siniestrada  \\\n",
       "0   Aguascalientes  Aguascalientes       8.0        0.0          0.0   \n",
       "1  Baja California        Ensenada       1.0        0.0          0.0   \n",
       "2           Colima      Manzanillo       1.4        0.0          0.0   \n",
       "3          Durango         Durango      12.0        0.0          0.0   \n",
       "4          Durango       Mezquital     110.0        0.0          0.0   \n",
       "\n",
       "   Producción  Rendimiento (udm/ha) Cultivo  Mes   Año fecha_str      fecha  \n",
       "0         0.0                   0.0   Agave    4  2020    2020_4 2020-04-01  \n",
       "1         0.0                   0.0   Agave    4  2020    2020_4 2020-04-01  \n",
       "2         0.0                   0.0   Agave    4  2020    2020_4 2020-04-01  \n",
       "3         0.0                   0.0   Agave    4  2020    2020_4 2020-04-01  \n",
       "4         0.0                   0.0   Agave    4  2020    2020_4 2020-04-01  "
      ]
     },
     "execution_count": 121,
     "metadata": {},
     "output_type": "execute_result"
    }
   ],
   "source": [
    "data_siap[\"fecha\"] = pd.to_datetime(data_siap[\"fecha_str\"], format='%Y_%m', errors='ignore')\n",
    "data_siap.head()"
   ]
  },
  {
   "cell_type": "markdown",
   "metadata": {},
   "source": [
    "Se remueven las características ya embebidas."
   ]
  },
  {
   "cell_type": "code",
   "execution_count": 122,
   "metadata": {},
   "outputs": [
    {
     "data": {
      "text/html": [
       "<div>\n",
       "<style scoped>\n",
       "    .dataframe tbody tr th:only-of-type {\n",
       "        vertical-align: middle;\n",
       "    }\n",
       "\n",
       "    .dataframe tbody tr th {\n",
       "        vertical-align: top;\n",
       "    }\n",
       "\n",
       "    .dataframe thead th {\n",
       "        text-align: right;\n",
       "    }\n",
       "</style>\n",
       "<table border=\"1\" class=\"dataframe\">\n",
       "  <thead>\n",
       "    <tr style=\"text-align: right;\">\n",
       "      <th></th>\n",
       "      <th>Entidad</th>\n",
       "      <th>Municipio</th>\n",
       "      <th>Sembrada</th>\n",
       "      <th>Cosechada</th>\n",
       "      <th>Siniestrada</th>\n",
       "      <th>Producción</th>\n",
       "      <th>Rendimiento (udm/ha)</th>\n",
       "      <th>Cultivo</th>\n",
       "      <th>fecha</th>\n",
       "    </tr>\n",
       "  </thead>\n",
       "  <tbody>\n",
       "    <tr>\n",
       "      <th>0</th>\n",
       "      <td>Aguascalientes</td>\n",
       "      <td>Aguascalientes</td>\n",
       "      <td>8.0</td>\n",
       "      <td>0.0</td>\n",
       "      <td>0.0</td>\n",
       "      <td>0.0</td>\n",
       "      <td>0.0</td>\n",
       "      <td>Agave</td>\n",
       "      <td>2020-04-01</td>\n",
       "    </tr>\n",
       "    <tr>\n",
       "      <th>1</th>\n",
       "      <td>Baja California</td>\n",
       "      <td>Ensenada</td>\n",
       "      <td>1.0</td>\n",
       "      <td>0.0</td>\n",
       "      <td>0.0</td>\n",
       "      <td>0.0</td>\n",
       "      <td>0.0</td>\n",
       "      <td>Agave</td>\n",
       "      <td>2020-04-01</td>\n",
       "    </tr>\n",
       "    <tr>\n",
       "      <th>2</th>\n",
       "      <td>Colima</td>\n",
       "      <td>Manzanillo</td>\n",
       "      <td>1.4</td>\n",
       "      <td>0.0</td>\n",
       "      <td>0.0</td>\n",
       "      <td>0.0</td>\n",
       "      <td>0.0</td>\n",
       "      <td>Agave</td>\n",
       "      <td>2020-04-01</td>\n",
       "    </tr>\n",
       "    <tr>\n",
       "      <th>3</th>\n",
       "      <td>Durango</td>\n",
       "      <td>Durango</td>\n",
       "      <td>12.0</td>\n",
       "      <td>0.0</td>\n",
       "      <td>0.0</td>\n",
       "      <td>0.0</td>\n",
       "      <td>0.0</td>\n",
       "      <td>Agave</td>\n",
       "      <td>2020-04-01</td>\n",
       "    </tr>\n",
       "    <tr>\n",
       "      <th>4</th>\n",
       "      <td>Durango</td>\n",
       "      <td>Mezquital</td>\n",
       "      <td>110.0</td>\n",
       "      <td>0.0</td>\n",
       "      <td>0.0</td>\n",
       "      <td>0.0</td>\n",
       "      <td>0.0</td>\n",
       "      <td>Agave</td>\n",
       "      <td>2020-04-01</td>\n",
       "    </tr>\n",
       "  </tbody>\n",
       "</table>\n",
       "</div>"
      ],
      "text/plain": [
       "           Entidad       Municipio  Sembrada  Cosechada  Siniestrada  \\\n",
       "0   Aguascalientes  Aguascalientes       8.0        0.0          0.0   \n",
       "1  Baja California        Ensenada       1.0        0.0          0.0   \n",
       "2           Colima      Manzanillo       1.4        0.0          0.0   \n",
       "3          Durango         Durango      12.0        0.0          0.0   \n",
       "4          Durango       Mezquital     110.0        0.0          0.0   \n",
       "\n",
       "   Producción  Rendimiento (udm/ha) Cultivo      fecha  \n",
       "0         0.0                   0.0   Agave 2020-04-01  \n",
       "1         0.0                   0.0   Agave 2020-04-01  \n",
       "2         0.0                   0.0   Agave 2020-04-01  \n",
       "3         0.0                   0.0   Agave 2020-04-01  \n",
       "4         0.0                   0.0   Agave 2020-04-01  "
      ]
     },
     "execution_count": 122,
     "metadata": {},
     "output_type": "execute_result"
    }
   ],
   "source": [
    "data_siap = data_siap.drop(labels = [\"Año\", \"Mes\", \"fecha_str\"], axis = 1)\n",
    "data_siap.head()"
   ]
  },
  {
   "cell_type": "markdown",
   "metadata": {},
   "source": [
    "Cambiamos los tipo de objeto de object a category."
   ]
  },
  {
   "cell_type": "code",
   "execution_count": 123,
   "metadata": {},
   "outputs": [
    {
     "data": {
      "text/plain": [
       "Entidad                       category\n",
       "Municipio                     category\n",
       "Sembrada                       float64\n",
       "Cosechada                      float64\n",
       "Siniestrada                    float64\n",
       "Producción                     float64\n",
       "Rendimiento (udm/ha)           float64\n",
       "Cultivo                       category\n",
       "fecha                   datetime64[ns]\n",
       "dtype: object"
      ]
     },
     "execution_count": 123,
     "metadata": {},
     "output_type": "execute_result"
    }
   ],
   "source": [
    "data_siap[\"Entidad\"] = data_siap[\"Entidad\"].astype(\"category\")\n",
    "data_siap[\"Municipio\"] = data_siap[\"Municipio\"].astype(\"category\")\n",
    "data_siap[\"Cultivo\"] = data_siap[\"Cultivo\"].astype(\"category\")\n",
    "data_siap.dtypes"
   ]
  },
  {
   "cell_type": "code",
   "execution_count": 124,
   "metadata": {},
   "outputs": [
    {
     "data": {
      "text/html": [
       "<div>\n",
       "<style scoped>\n",
       "    .dataframe tbody tr th:only-of-type {\n",
       "        vertical-align: middle;\n",
       "    }\n",
       "\n",
       "    .dataframe tbody tr th {\n",
       "        vertical-align: top;\n",
       "    }\n",
       "\n",
       "    .dataframe thead th {\n",
       "        text-align: right;\n",
       "    }\n",
       "</style>\n",
       "<table border=\"1\" class=\"dataframe\">\n",
       "  <thead>\n",
       "    <tr style=\"text-align: right;\">\n",
       "      <th></th>\n",
       "      <th>Sembrada</th>\n",
       "      <th>Cosechada</th>\n",
       "      <th>Siniestrada</th>\n",
       "      <th>Producción</th>\n",
       "      <th>Rendimiento (udm/ha)</th>\n",
       "      <th>fecha</th>\n",
       "    </tr>\n",
       "  </thead>\n",
       "  <tbody>\n",
       "    <tr>\n",
       "      <th>count</th>\n",
       "      <td>6.554280e+05</td>\n",
       "      <td>6.554280e+05</td>\n",
       "      <td>655428.000000</td>\n",
       "      <td>6.554280e+05</td>\n",
       "      <td>655428.000000</td>\n",
       "      <td>655428</td>\n",
       "    </tr>\n",
       "    <tr>\n",
       "      <th>mean</th>\n",
       "      <td>1.314943e+03</td>\n",
       "      <td>5.663875e+02</td>\n",
       "      <td>12.920081</td>\n",
       "      <td>1.192478e+04</td>\n",
       "      <td>26.851913</td>\n",
       "      <td>2021-10-30 21:58:39.852065792</td>\n",
       "    </tr>\n",
       "    <tr>\n",
       "      <th>min</th>\n",
       "      <td>0.000000e+00</td>\n",
       "      <td>0.000000e+00</td>\n",
       "      <td>0.000000</td>\n",
       "      <td>0.000000e+00</td>\n",
       "      <td>0.000000</td>\n",
       "      <td>2020-01-01 00:00:00</td>\n",
       "    </tr>\n",
       "    <tr>\n",
       "      <th>25%</th>\n",
       "      <td>1.050000e+01</td>\n",
       "      <td>0.000000e+00</td>\n",
       "      <td>0.000000</td>\n",
       "      <td>0.000000e+00</td>\n",
       "      <td>0.000000</td>\n",
       "      <td>2020-12-01 00:00:00</td>\n",
       "    </tr>\n",
       "    <tr>\n",
       "      <th>50%</th>\n",
       "      <td>4.500000e+01</td>\n",
       "      <td>4.000000e+00</td>\n",
       "      <td>0.000000</td>\n",
       "      <td>2.178000e+01</td>\n",
       "      <td>1.300000</td>\n",
       "      <td>2021-11-01 00:00:00</td>\n",
       "    </tr>\n",
       "    <tr>\n",
       "      <th>75%</th>\n",
       "      <td>2.550000e+02</td>\n",
       "      <td>5.100000e+01</td>\n",
       "      <td>0.000000</td>\n",
       "      <td>5.335500e+02</td>\n",
       "      <td>12.860000</td>\n",
       "      <td>2022-09-01 00:00:00</td>\n",
       "    </tr>\n",
       "    <tr>\n",
       "      <th>max</th>\n",
       "      <td>7.481137e+06</td>\n",
       "      <td>1.314829e+06</td>\n",
       "      <td>321319.460000</td>\n",
       "      <td>5.503910e+07</td>\n",
       "      <td>77943.320000</td>\n",
       "      <td>2023-08-01 00:00:00</td>\n",
       "    </tr>\n",
       "    <tr>\n",
       "      <th>std</th>\n",
       "      <td>3.514412e+04</td>\n",
       "      <td>1.144078e+04</td>\n",
       "      <td>1236.769113</td>\n",
       "      <td>3.809474e+05</td>\n",
       "      <td>404.760392</td>\n",
       "      <td>NaN</td>\n",
       "    </tr>\n",
       "  </tbody>\n",
       "</table>\n",
       "</div>"
      ],
      "text/plain": [
       "           Sembrada     Cosechada    Siniestrada    Producción  \\\n",
       "count  6.554280e+05  6.554280e+05  655428.000000  6.554280e+05   \n",
       "mean   1.314943e+03  5.663875e+02      12.920081  1.192478e+04   \n",
       "min    0.000000e+00  0.000000e+00       0.000000  0.000000e+00   \n",
       "25%    1.050000e+01  0.000000e+00       0.000000  0.000000e+00   \n",
       "50%    4.500000e+01  4.000000e+00       0.000000  2.178000e+01   \n",
       "75%    2.550000e+02  5.100000e+01       0.000000  5.335500e+02   \n",
       "max    7.481137e+06  1.314829e+06  321319.460000  5.503910e+07   \n",
       "std    3.514412e+04  1.144078e+04    1236.769113  3.809474e+05   \n",
       "\n",
       "       Rendimiento (udm/ha)                          fecha  \n",
       "count         655428.000000                         655428  \n",
       "mean              26.851913  2021-10-30 21:58:39.852065792  \n",
       "min                0.000000            2020-01-01 00:00:00  \n",
       "25%                0.000000            2020-12-01 00:00:00  \n",
       "50%                1.300000            2021-11-01 00:00:00  \n",
       "75%               12.860000            2022-09-01 00:00:00  \n",
       "max            77943.320000            2023-08-01 00:00:00  \n",
       "std              404.760392                            NaN  "
      ]
     },
     "execution_count": 124,
     "metadata": {},
     "output_type": "execute_result"
    }
   ],
   "source": [
    "data_siap.describe()"
   ]
  },
  {
   "cell_type": "markdown",
   "metadata": {},
   "source": [
    "Cambiamos el orden de los datos de wide a tidy"
   ]
  },
  {
   "cell_type": "code",
   "execution_count": 125,
   "metadata": {},
   "outputs": [
    {
     "data": {
      "text/html": [
       "<div>\n",
       "<style scoped>\n",
       "    .dataframe tbody tr th:only-of-type {\n",
       "        vertical-align: middle;\n",
       "    }\n",
       "\n",
       "    .dataframe tbody tr th {\n",
       "        vertical-align: top;\n",
       "    }\n",
       "\n",
       "    .dataframe thead th {\n",
       "        text-align: right;\n",
       "    }\n",
       "</style>\n",
       "<table border=\"1\" class=\"dataframe\">\n",
       "  <thead>\n",
       "    <tr style=\"text-align: right;\">\n",
       "      <th></th>\n",
       "      <th>Entidad</th>\n",
       "      <th>Municipio</th>\n",
       "      <th>Cultivo</th>\n",
       "      <th>fecha</th>\n",
       "      <th>variable</th>\n",
       "      <th>values</th>\n",
       "    </tr>\n",
       "  </thead>\n",
       "  <tbody>\n",
       "    <tr>\n",
       "      <th>0</th>\n",
       "      <td>Aguascalientes</td>\n",
       "      <td>Aguascalientes</td>\n",
       "      <td>Agave</td>\n",
       "      <td>2020-04-01</td>\n",
       "      <td>Sembrada</td>\n",
       "      <td>8.0</td>\n",
       "    </tr>\n",
       "    <tr>\n",
       "      <th>1</th>\n",
       "      <td>Baja California</td>\n",
       "      <td>Ensenada</td>\n",
       "      <td>Agave</td>\n",
       "      <td>2020-04-01</td>\n",
       "      <td>Sembrada</td>\n",
       "      <td>1.0</td>\n",
       "    </tr>\n",
       "    <tr>\n",
       "      <th>2</th>\n",
       "      <td>Colima</td>\n",
       "      <td>Manzanillo</td>\n",
       "      <td>Agave</td>\n",
       "      <td>2020-04-01</td>\n",
       "      <td>Sembrada</td>\n",
       "      <td>1.4</td>\n",
       "    </tr>\n",
       "    <tr>\n",
       "      <th>3</th>\n",
       "      <td>Durango</td>\n",
       "      <td>Durango</td>\n",
       "      <td>Agave</td>\n",
       "      <td>2020-04-01</td>\n",
       "      <td>Sembrada</td>\n",
       "      <td>12.0</td>\n",
       "    </tr>\n",
       "    <tr>\n",
       "      <th>4</th>\n",
       "      <td>Durango</td>\n",
       "      <td>Mezquital</td>\n",
       "      <td>Agave</td>\n",
       "      <td>2020-04-01</td>\n",
       "      <td>Sembrada</td>\n",
       "      <td>110.0</td>\n",
       "    </tr>\n",
       "  </tbody>\n",
       "</table>\n",
       "</div>"
      ],
      "text/plain": [
       "           Entidad       Municipio Cultivo      fecha  variable  values\n",
       "0   Aguascalientes  Aguascalientes   Agave 2020-04-01  Sembrada     8.0\n",
       "1  Baja California        Ensenada   Agave 2020-04-01  Sembrada     1.0\n",
       "2           Colima      Manzanillo   Agave 2020-04-01  Sembrada     1.4\n",
       "3          Durango         Durango   Agave 2020-04-01  Sembrada    12.0\n",
       "4          Durango       Mezquital   Agave 2020-04-01  Sembrada   110.0"
      ]
     },
     "execution_count": 125,
     "metadata": {},
     "output_type": "execute_result"
    }
   ],
   "source": [
    "siap_tidy = pd.melt(data_siap,\n",
    "                    [\"Entidad\", \"Municipio\", \"Cultivo\", \"fecha\"],\n",
    "                    var_name=\"variable\",\n",
    "                    value_name=\"values\")\n",
    "siap_tidy.head()"
   ]
  },
  {
   "cell_type": "markdown",
   "metadata": {},
   "source": [
    "Vamos a guardar los resultados de estas tablas en un formato parquet ya que este es la forma más compacta. Para esto es necesario importar la librería arrow para poder usar pd.DataFrame.to_parquet(), ya que este utiliza esta libaría como mecanismo de empaquetamiento."
   ]
  },
  {
   "cell_type": "code",
   "execution_count": 126,
   "metadata": {},
   "outputs": [],
   "source": [
    "import pyarrow"
   ]
  },
  {
   "cell_type": "markdown",
   "metadata": {},
   "source": [
    "Se guarda en clean_data/ dentro del archivo data/"
   ]
  },
  {
   "cell_type": "code",
   "execution_count": 127,
   "metadata": {},
   "outputs": [],
   "source": [
    "siap_tidy.to_parquet(r\"data\\clean_data\\siap.parquet.zip\", engine=\"pyarrow\", compression = \"gzip\")"
   ]
  }
 ],
 "metadata": {
  "kernelspec": {
   "display_name": "mstria",
   "language": "python",
   "name": "python3"
  },
  "language_info": {
   "codemirror_mode": {
    "name": "ipython",
    "version": 3
   },
   "file_extension": ".py",
   "mimetype": "text/x-python",
   "name": "python",
   "nbconvert_exporter": "python",
   "pygments_lexer": "ipython3",
   "version": "3.8.17"
  }
 },
 "nbformat": 4,
 "nbformat_minor": 2
}
