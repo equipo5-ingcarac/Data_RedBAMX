{
 "cells": [
  {
   "cell_type": "markdown",
   "metadata": {},
   "source": [
    "# Limpiando Datos de SIAP\n",
    "\n",
    "La limpieza de datos es una de las etapas más críticas y esenciales en el proceso de Ciencia de Datos. Antes de que los datos puedan ser utilizados para modelar, analizar o visualizar, es muy importante asegurarse de que estén limpios, consistentes y libres de anomalías o inexactitudes. Esto se debe a que la calidad de los datos determina directamente la calidad de los insights obtenidos. Datos incorrectos o inconsistentes pueden conducir a resultados engañosos, decisiones erróneas y, en última instancia, a la pérdida de confianza en los análisis realizados. Así, la limpieza de datos no es sólo un paso preliminar, sino un componente integral para garantizar que el análisis de datos sea preciso, relevante y confiable."
   ]
  },
  {
   "cell_type": "markdown",
   "metadata": {},
   "source": [
    "Esta libreta es previa a la descarga de datos de la libreta API_SIAP_Descarga.ipynb"
   ]
  },
  {
   "cell_type": "markdown",
   "metadata": {},
   "source": [
    "Primero importamos las librerias que vamos a usar."
   ]
  },
  {
   "cell_type": "code",
   "execution_count": 1,
   "metadata": {},
   "outputs": [],
   "source": [
    "import pandas as pd\n",
    "import numpy as np\n",
    "import matplotlib.pyplot as plt\n",
    "import os\n",
    "from datetime import datetime"
   ]
  },
  {
   "cell_type": "markdown",
   "metadata": {},
   "source": [
    "Se crea un loop para enlistar todos los archivos que están dentro de el folder."
   ]
  },
  {
   "cell_type": "code",
   "execution_count": 2,
   "metadata": {},
   "outputs": [
    {
     "data": {
      "text/plain": [
       "['data/siap/maíz_forrajero_en_verde_mayo_2023.csv',\n",
       " 'data/siap/avena_grano_febrero_2021.csv',\n",
       " 'data/siap/nuez_marzo_2023.csv',\n",
       " 'data/siap/coliflor_enero_2022.csv',\n",
       " 'data/siap/sandía_abril_2022.csv']"
      ]
     },
     "execution_count": 2,
     "metadata": {},
     "output_type": "execute_result"
    }
   ],
   "source": [
    "file_pad = os.path.join(\"data\",\"siap\")\n",
    "path_list = []\n",
    "for x in os.listdir(file_pad):\n",
    "    if x.endswith(\".csv\"):\n",
    "        x = os.path.join(file_pad,x)\n",
    "        path_list.append(x)\n",
    "path_list[:5]"
   ]
  },
  {
   "cell_type": "code",
   "execution_count": 3,
   "metadata": {},
   "outputs": [
    {
     "data": {
      "text/plain": [
       "2792"
      ]
     },
     "execution_count": 3,
     "metadata": {},
     "output_type": "execute_result"
    }
   ],
   "source": [
    "len(path_list)"
   ]
  },
  {
   "cell_type": "markdown",
   "metadata": {},
   "source": [
    "Se lee el primer csv para analizar para explorar los datos."
   ]
  },
  {
   "cell_type": "code",
   "execution_count": 4,
   "metadata": {},
   "outputs": [
    {
     "data": {
      "text/html": [
       "<div>\n",
       "<style scoped>\n",
       "    .dataframe tbody tr th:only-of-type {\n",
       "        vertical-align: middle;\n",
       "    }\n",
       "\n",
       "    .dataframe tbody tr th {\n",
       "        vertical-align: top;\n",
       "    }\n",
       "\n",
       "    .dataframe thead tr th {\n",
       "        text-align: left;\n",
       "    }\n",
       "</style>\n",
       "<table border=\"1\" class=\"dataframe\">\n",
       "  <thead>\n",
       "    <tr>\n",
       "      <th></th>\n",
       "      <th>Unnamed: 0_level_0</th>\n",
       "      <th>Entidad</th>\n",
       "      <th>Municipio</th>\n",
       "      <th colspan=\"3\" halign=\"left\">Superficie (ha)</th>\n",
       "      <th>Producción</th>\n",
       "      <th>Rendimiento (udm/ha)</th>\n",
       "    </tr>\n",
       "    <tr>\n",
       "      <th></th>\n",
       "      <th>Unnamed: 0_level_1</th>\n",
       "      <th>Entidad</th>\n",
       "      <th>Municipio</th>\n",
       "      <th>Sembrada</th>\n",
       "      <th>Cosechada</th>\n",
       "      <th>Siniestrada</th>\n",
       "      <th>Producción</th>\n",
       "      <th>Rendimiento (udm/ha)</th>\n",
       "    </tr>\n",
       "  </thead>\n",
       "  <tbody>\n",
       "    <tr>\n",
       "      <th>0</th>\n",
       "      <td>1</td>\n",
       "      <td>Aguascalientes</td>\n",
       "      <td>Aguascalientes</td>\n",
       "      <td>2850.0</td>\n",
       "      <td>0.0</td>\n",
       "      <td>0.0</td>\n",
       "      <td>0.0</td>\n",
       "      <td>0.0</td>\n",
       "    </tr>\n",
       "    <tr>\n",
       "      <th>1</th>\n",
       "      <td>2</td>\n",
       "      <td>Aguascalientes</td>\n",
       "      <td>Asientos</td>\n",
       "      <td>1560.0</td>\n",
       "      <td>0.0</td>\n",
       "      <td>0.0</td>\n",
       "      <td>0.0</td>\n",
       "      <td>0.0</td>\n",
       "    </tr>\n",
       "    <tr>\n",
       "      <th>2</th>\n",
       "      <td>3</td>\n",
       "      <td>Aguascalientes</td>\n",
       "      <td>Calvillo</td>\n",
       "      <td>110.0</td>\n",
       "      <td>0.0</td>\n",
       "      <td>0.0</td>\n",
       "      <td>0.0</td>\n",
       "      <td>0.0</td>\n",
       "    </tr>\n",
       "    <tr>\n",
       "      <th>3</th>\n",
       "      <td>4</td>\n",
       "      <td>Aguascalientes</td>\n",
       "      <td>Cosío</td>\n",
       "      <td>650.0</td>\n",
       "      <td>0.0</td>\n",
       "      <td>0.0</td>\n",
       "      <td>0.0</td>\n",
       "      <td>0.0</td>\n",
       "    </tr>\n",
       "    <tr>\n",
       "      <th>4</th>\n",
       "      <td>5</td>\n",
       "      <td>Aguascalientes</td>\n",
       "      <td>Jesús María</td>\n",
       "      <td>600.0</td>\n",
       "      <td>0.0</td>\n",
       "      <td>0.0</td>\n",
       "      <td>0.0</td>\n",
       "      <td>0.0</td>\n",
       "    </tr>\n",
       "  </tbody>\n",
       "</table>\n",
       "</div>"
      ],
      "text/plain": [
       "  Unnamed: 0_level_0         Entidad       Municipio Superficie (ha)  \\\n",
       "  Unnamed: 0_level_1         Entidad       Municipio        Sembrada   \n",
       "0                  1  Aguascalientes  Aguascalientes          2850.0   \n",
       "1                  2  Aguascalientes        Asientos          1560.0   \n",
       "2                  3  Aguascalientes        Calvillo           110.0   \n",
       "3                  4  Aguascalientes           Cosío           650.0   \n",
       "4                  5  Aguascalientes     Jesús María           600.0   \n",
       "\n",
       "                        Producción Rendimiento (udm/ha)  \n",
       "  Cosechada Siniestrada Producción Rendimiento (udm/ha)  \n",
       "0       0.0         0.0        0.0                  0.0  \n",
       "1       0.0         0.0        0.0                  0.0  \n",
       "2       0.0         0.0        0.0                  0.0  \n",
       "3       0.0         0.0        0.0                  0.0  \n",
       "4       0.0         0.0        0.0                  0.0  "
      ]
     },
     "execution_count": 4,
     "metadata": {},
     "output_type": "execute_result"
    }
   ],
   "source": [
    "dt = pd.read_csv(path_list[0],\n",
    "                sep = ',',\n",
    "                encoding='utf-8',\n",
    "                header=[0,1])\n",
    "\n",
    "dt.head()"
   ]
  },
  {
   "cell_type": "markdown",
   "metadata": {},
   "source": [
    "Una vez teniendo la lista de archivos, leemos los csv dentro del archivo y los concatenamos a un solo dataframe."
   ]
  },
  {
   "cell_type": "code",
   "execution_count": 5,
   "metadata": {},
   "outputs": [],
   "source": [
    "for i, file in enumerate(path_list):\n",
    "    dt = pd.read_csv(file,\n",
    "                   sep = ',',\n",
    "                   encoding='utf-8',\n",
    "                   header=[0,1])\n",
    "    # dt.index = pd.to_datetime(dt.index)\n",
    "\n",
    "    if i == 0:\n",
    "        data_siap = dt.copy()\n",
    "    else:\n",
    "        data_siap = pd.concat([data_siap, dt])"
   ]
  },
  {
   "cell_type": "code",
   "execution_count": 6,
   "metadata": {},
   "outputs": [
    {
     "data": {
      "text/plain": [
       "(655428, 8)"
      ]
     },
     "execution_count": 6,
     "metadata": {},
     "output_type": "execute_result"
    }
   ],
   "source": [
    "data_siap.shape"
   ]
  },
  {
   "cell_type": "markdown",
   "metadata": {},
   "source": [
    "El dataframe tiene un total de 8 características y 655428 observaciones."
   ]
  },
  {
   "cell_type": "code",
   "execution_count": 7,
   "metadata": {},
   "outputs": [
    {
     "data": {
      "text/html": [
       "<div>\n",
       "<style scoped>\n",
       "    .dataframe tbody tr th:only-of-type {\n",
       "        vertical-align: middle;\n",
       "    }\n",
       "\n",
       "    .dataframe tbody tr th {\n",
       "        vertical-align: top;\n",
       "    }\n",
       "\n",
       "    .dataframe thead tr th {\n",
       "        text-align: left;\n",
       "    }\n",
       "</style>\n",
       "<table border=\"1\" class=\"dataframe\">\n",
       "  <thead>\n",
       "    <tr>\n",
       "      <th></th>\n",
       "      <th>Unnamed: 0_level_0</th>\n",
       "      <th>Entidad</th>\n",
       "      <th>Municipio</th>\n",
       "      <th colspan=\"3\" halign=\"left\">Superficie (ha)</th>\n",
       "      <th>Producción</th>\n",
       "      <th>Rendimiento (udm/ha)</th>\n",
       "    </tr>\n",
       "    <tr>\n",
       "      <th></th>\n",
       "      <th>Unnamed: 0_level_1</th>\n",
       "      <th>Entidad</th>\n",
       "      <th>Municipio</th>\n",
       "      <th>Sembrada</th>\n",
       "      <th>Cosechada</th>\n",
       "      <th>Siniestrada</th>\n",
       "      <th>Producción</th>\n",
       "      <th>Rendimiento (udm/ha)</th>\n",
       "    </tr>\n",
       "  </thead>\n",
       "  <tbody>\n",
       "    <tr>\n",
       "      <th>0</th>\n",
       "      <td>1</td>\n",
       "      <td>Aguascalientes</td>\n",
       "      <td>Aguascalientes</td>\n",
       "      <td>2850.0</td>\n",
       "      <td>0.0</td>\n",
       "      <td>0.0</td>\n",
       "      <td>0.0</td>\n",
       "      <td>0.0</td>\n",
       "    </tr>\n",
       "    <tr>\n",
       "      <th>1</th>\n",
       "      <td>2</td>\n",
       "      <td>Aguascalientes</td>\n",
       "      <td>Asientos</td>\n",
       "      <td>1560.0</td>\n",
       "      <td>0.0</td>\n",
       "      <td>0.0</td>\n",
       "      <td>0.0</td>\n",
       "      <td>0.0</td>\n",
       "    </tr>\n",
       "    <tr>\n",
       "      <th>2</th>\n",
       "      <td>3</td>\n",
       "      <td>Aguascalientes</td>\n",
       "      <td>Calvillo</td>\n",
       "      <td>110.0</td>\n",
       "      <td>0.0</td>\n",
       "      <td>0.0</td>\n",
       "      <td>0.0</td>\n",
       "      <td>0.0</td>\n",
       "    </tr>\n",
       "    <tr>\n",
       "      <th>3</th>\n",
       "      <td>4</td>\n",
       "      <td>Aguascalientes</td>\n",
       "      <td>Cosío</td>\n",
       "      <td>650.0</td>\n",
       "      <td>0.0</td>\n",
       "      <td>0.0</td>\n",
       "      <td>0.0</td>\n",
       "      <td>0.0</td>\n",
       "    </tr>\n",
       "    <tr>\n",
       "      <th>4</th>\n",
       "      <td>5</td>\n",
       "      <td>Aguascalientes</td>\n",
       "      <td>Jesús María</td>\n",
       "      <td>600.0</td>\n",
       "      <td>0.0</td>\n",
       "      <td>0.0</td>\n",
       "      <td>0.0</td>\n",
       "      <td>0.0</td>\n",
       "    </tr>\n",
       "  </tbody>\n",
       "</table>\n",
       "</div>"
      ],
      "text/plain": [
       "  Unnamed: 0_level_0         Entidad       Municipio Superficie (ha)  \\\n",
       "  Unnamed: 0_level_1         Entidad       Municipio        Sembrada   \n",
       "0                  1  Aguascalientes  Aguascalientes          2850.0   \n",
       "1                  2  Aguascalientes        Asientos          1560.0   \n",
       "2                  3  Aguascalientes        Calvillo           110.0   \n",
       "3                  4  Aguascalientes           Cosío           650.0   \n",
       "4                  5  Aguascalientes     Jesús María           600.0   \n",
       "\n",
       "                        Producción Rendimiento (udm/ha)  \n",
       "  Cosechada Siniestrada Producción Rendimiento (udm/ha)  \n",
       "0       0.0         0.0        0.0                  0.0  \n",
       "1       0.0         0.0        0.0                  0.0  \n",
       "2       0.0         0.0        0.0                  0.0  \n",
       "3       0.0         0.0        0.0                  0.0  \n",
       "4       0.0         0.0        0.0                  0.0  "
      ]
     },
     "execution_count": 7,
     "metadata": {},
     "output_type": "execute_result"
    }
   ],
   "source": [
    "data_siap.head()"
   ]
  },
  {
   "cell_type": "markdown",
   "metadata": {},
   "source": [
    "Vemos que nuestro dataframe cuenta con dos niveles de indice para las columnas. El nivel superior parece ser redundante con el inferior, asi que podemos removerlo para evitar confusiones mas adelante."
   ]
  },
  {
   "cell_type": "code",
   "execution_count": 8,
   "metadata": {},
   "outputs": [],
   "source": [
    "data_siap.columns = data_siap.columns.droplevel()"
   ]
  },
  {
   "cell_type": "code",
   "execution_count": 9,
   "metadata": {},
   "outputs": [
    {
     "data": {
      "text/html": [
       "<div>\n",
       "<style scoped>\n",
       "    .dataframe tbody tr th:only-of-type {\n",
       "        vertical-align: middle;\n",
       "    }\n",
       "\n",
       "    .dataframe tbody tr th {\n",
       "        vertical-align: top;\n",
       "    }\n",
       "\n",
       "    .dataframe thead th {\n",
       "        text-align: right;\n",
       "    }\n",
       "</style>\n",
       "<table border=\"1\" class=\"dataframe\">\n",
       "  <thead>\n",
       "    <tr style=\"text-align: right;\">\n",
       "      <th></th>\n",
       "      <th>Unnamed: 0_level_1</th>\n",
       "      <th>Entidad</th>\n",
       "      <th>Municipio</th>\n",
       "      <th>Sembrada</th>\n",
       "      <th>Cosechada</th>\n",
       "      <th>Siniestrada</th>\n",
       "      <th>Producción</th>\n",
       "      <th>Rendimiento (udm/ha)</th>\n",
       "    </tr>\n",
       "  </thead>\n",
       "  <tbody>\n",
       "    <tr>\n",
       "      <th>0</th>\n",
       "      <td>1</td>\n",
       "      <td>Aguascalientes</td>\n",
       "      <td>Aguascalientes</td>\n",
       "      <td>2850.0</td>\n",
       "      <td>0.0</td>\n",
       "      <td>0.0</td>\n",
       "      <td>0.0</td>\n",
       "      <td>0.0</td>\n",
       "    </tr>\n",
       "    <tr>\n",
       "      <th>1</th>\n",
       "      <td>2</td>\n",
       "      <td>Aguascalientes</td>\n",
       "      <td>Asientos</td>\n",
       "      <td>1560.0</td>\n",
       "      <td>0.0</td>\n",
       "      <td>0.0</td>\n",
       "      <td>0.0</td>\n",
       "      <td>0.0</td>\n",
       "    </tr>\n",
       "    <tr>\n",
       "      <th>2</th>\n",
       "      <td>3</td>\n",
       "      <td>Aguascalientes</td>\n",
       "      <td>Calvillo</td>\n",
       "      <td>110.0</td>\n",
       "      <td>0.0</td>\n",
       "      <td>0.0</td>\n",
       "      <td>0.0</td>\n",
       "      <td>0.0</td>\n",
       "    </tr>\n",
       "    <tr>\n",
       "      <th>3</th>\n",
       "      <td>4</td>\n",
       "      <td>Aguascalientes</td>\n",
       "      <td>Cosío</td>\n",
       "      <td>650.0</td>\n",
       "      <td>0.0</td>\n",
       "      <td>0.0</td>\n",
       "      <td>0.0</td>\n",
       "      <td>0.0</td>\n",
       "    </tr>\n",
       "    <tr>\n",
       "      <th>4</th>\n",
       "      <td>5</td>\n",
       "      <td>Aguascalientes</td>\n",
       "      <td>Jesús María</td>\n",
       "      <td>600.0</td>\n",
       "      <td>0.0</td>\n",
       "      <td>0.0</td>\n",
       "      <td>0.0</td>\n",
       "      <td>0.0</td>\n",
       "    </tr>\n",
       "  </tbody>\n",
       "</table>\n",
       "</div>"
      ],
      "text/plain": [
       "  Unnamed: 0_level_1         Entidad       Municipio  Sembrada  Cosechada  \\\n",
       "0                  1  Aguascalientes  Aguascalientes    2850.0        0.0   \n",
       "1                  2  Aguascalientes        Asientos    1560.0        0.0   \n",
       "2                  3  Aguascalientes        Calvillo     110.0        0.0   \n",
       "3                  4  Aguascalientes           Cosío     650.0        0.0   \n",
       "4                  5  Aguascalientes     Jesús María     600.0        0.0   \n",
       "\n",
       "   Siniestrada  Producción  Rendimiento (udm/ha)  \n",
       "0          0.0         0.0                   0.0  \n",
       "1          0.0         0.0                   0.0  \n",
       "2          0.0         0.0                   0.0  \n",
       "3          0.0         0.0                   0.0  \n",
       "4          0.0         0.0                   0.0  "
      ]
     },
     "execution_count": 9,
     "metadata": {},
     "output_type": "execute_result"
    }
   ],
   "source": [
    "data_siap.head()"
   ]
  },
  {
   "cell_type": "markdown",
   "metadata": {},
   "source": [
    "Para evitar confusiones, podemos aclarar que las columnas de `Sembrada`, `Cosechada` y `Siniestrada` se refiere a la superficie sembrada/cosechada/siniestrada en hectareas (ha), por lo que podemos renombrar dichas columnas."
   ]
  },
  {
   "cell_type": "code",
   "execution_count": 10,
   "metadata": {},
   "outputs": [],
   "source": [
    "nuevos_nombres_cols = {\n",
    "    \"Sembrada\": \"Sembrada (ha)\",\n",
    "    \"Cosechada\": \"Cosechada (ha)\",\n",
    "    \"Siniestrada\": \"Siniestrada (ha)\"\n",
    "}"
   ]
  },
  {
   "cell_type": "code",
   "execution_count": 11,
   "metadata": {
    "scrolled": true
   },
   "outputs": [],
   "source": [
    "data_siap = data_siap.rename(columns=nuevos_nombres_cols)"
   ]
  },
  {
   "cell_type": "code",
   "execution_count": 12,
   "metadata": {},
   "outputs": [
    {
     "data": {
      "text/html": [
       "<div>\n",
       "<style scoped>\n",
       "    .dataframe tbody tr th:only-of-type {\n",
       "        vertical-align: middle;\n",
       "    }\n",
       "\n",
       "    .dataframe tbody tr th {\n",
       "        vertical-align: top;\n",
       "    }\n",
       "\n",
       "    .dataframe thead th {\n",
       "        text-align: right;\n",
       "    }\n",
       "</style>\n",
       "<table border=\"1\" class=\"dataframe\">\n",
       "  <thead>\n",
       "    <tr style=\"text-align: right;\">\n",
       "      <th></th>\n",
       "      <th>Unnamed: 0_level_1</th>\n",
       "      <th>Entidad</th>\n",
       "      <th>Municipio</th>\n",
       "      <th>Sembrada (ha)</th>\n",
       "      <th>Cosechada (ha)</th>\n",
       "      <th>Siniestrada (ha)</th>\n",
       "      <th>Producción</th>\n",
       "      <th>Rendimiento (udm/ha)</th>\n",
       "    </tr>\n",
       "  </thead>\n",
       "  <tbody>\n",
       "    <tr>\n",
       "      <th>0</th>\n",
       "      <td>1</td>\n",
       "      <td>Aguascalientes</td>\n",
       "      <td>Aguascalientes</td>\n",
       "      <td>2850.0</td>\n",
       "      <td>0.0</td>\n",
       "      <td>0.0</td>\n",
       "      <td>0.0</td>\n",
       "      <td>0.0</td>\n",
       "    </tr>\n",
       "    <tr>\n",
       "      <th>1</th>\n",
       "      <td>2</td>\n",
       "      <td>Aguascalientes</td>\n",
       "      <td>Asientos</td>\n",
       "      <td>1560.0</td>\n",
       "      <td>0.0</td>\n",
       "      <td>0.0</td>\n",
       "      <td>0.0</td>\n",
       "      <td>0.0</td>\n",
       "    </tr>\n",
       "    <tr>\n",
       "      <th>2</th>\n",
       "      <td>3</td>\n",
       "      <td>Aguascalientes</td>\n",
       "      <td>Calvillo</td>\n",
       "      <td>110.0</td>\n",
       "      <td>0.0</td>\n",
       "      <td>0.0</td>\n",
       "      <td>0.0</td>\n",
       "      <td>0.0</td>\n",
       "    </tr>\n",
       "    <tr>\n",
       "      <th>3</th>\n",
       "      <td>4</td>\n",
       "      <td>Aguascalientes</td>\n",
       "      <td>Cosío</td>\n",
       "      <td>650.0</td>\n",
       "      <td>0.0</td>\n",
       "      <td>0.0</td>\n",
       "      <td>0.0</td>\n",
       "      <td>0.0</td>\n",
       "    </tr>\n",
       "    <tr>\n",
       "      <th>4</th>\n",
       "      <td>5</td>\n",
       "      <td>Aguascalientes</td>\n",
       "      <td>Jesús María</td>\n",
       "      <td>600.0</td>\n",
       "      <td>0.0</td>\n",
       "      <td>0.0</td>\n",
       "      <td>0.0</td>\n",
       "      <td>0.0</td>\n",
       "    </tr>\n",
       "  </tbody>\n",
       "</table>\n",
       "</div>"
      ],
      "text/plain": [
       "  Unnamed: 0_level_1         Entidad       Municipio  Sembrada (ha)  \\\n",
       "0                  1  Aguascalientes  Aguascalientes         2850.0   \n",
       "1                  2  Aguascalientes        Asientos         1560.0   \n",
       "2                  3  Aguascalientes        Calvillo          110.0   \n",
       "3                  4  Aguascalientes           Cosío          650.0   \n",
       "4                  5  Aguascalientes     Jesús María          600.0   \n",
       "\n",
       "   Cosechada (ha)  Siniestrada (ha)  Producción  Rendimiento (udm/ha)  \n",
       "0             0.0               0.0         0.0                   0.0  \n",
       "1             0.0               0.0         0.0                   0.0  \n",
       "2             0.0               0.0         0.0                   0.0  \n",
       "3             0.0               0.0         0.0                   0.0  \n",
       "4             0.0               0.0         0.0                   0.0  "
      ]
     },
     "execution_count": 12,
     "metadata": {},
     "output_type": "execute_result"
    }
   ],
   "source": [
    "data_siap.head()"
   ]
  },
  {
   "cell_type": "markdown",
   "metadata": {},
   "source": [
    "Ademas, vemos que la primera columna (`Unnamed: 0_level_1`, parece ser una columna de indices, por lo que podemos eliminarla para evitar redundancias."
   ]
  },
  {
   "cell_type": "code",
   "execution_count": 13,
   "metadata": {},
   "outputs": [],
   "source": [
    "data_siap.drop(columns=\"Unnamed: 0_level_1\",inplace=True)"
   ]
  },
  {
   "cell_type": "code",
   "execution_count": 14,
   "metadata": {},
   "outputs": [
    {
     "data": {
      "text/html": [
       "<div>\n",
       "<style scoped>\n",
       "    .dataframe tbody tr th:only-of-type {\n",
       "        vertical-align: middle;\n",
       "    }\n",
       "\n",
       "    .dataframe tbody tr th {\n",
       "        vertical-align: top;\n",
       "    }\n",
       "\n",
       "    .dataframe thead th {\n",
       "        text-align: right;\n",
       "    }\n",
       "</style>\n",
       "<table border=\"1\" class=\"dataframe\">\n",
       "  <thead>\n",
       "    <tr style=\"text-align: right;\">\n",
       "      <th></th>\n",
       "      <th>Entidad</th>\n",
       "      <th>Municipio</th>\n",
       "      <th>Sembrada (ha)</th>\n",
       "      <th>Cosechada (ha)</th>\n",
       "      <th>Siniestrada (ha)</th>\n",
       "      <th>Producción</th>\n",
       "      <th>Rendimiento (udm/ha)</th>\n",
       "    </tr>\n",
       "  </thead>\n",
       "  <tbody>\n",
       "    <tr>\n",
       "      <th>0</th>\n",
       "      <td>Aguascalientes</td>\n",
       "      <td>Aguascalientes</td>\n",
       "      <td>2850.0</td>\n",
       "      <td>0.0</td>\n",
       "      <td>0.0</td>\n",
       "      <td>0.0</td>\n",
       "      <td>0.0</td>\n",
       "    </tr>\n",
       "    <tr>\n",
       "      <th>1</th>\n",
       "      <td>Aguascalientes</td>\n",
       "      <td>Asientos</td>\n",
       "      <td>1560.0</td>\n",
       "      <td>0.0</td>\n",
       "      <td>0.0</td>\n",
       "      <td>0.0</td>\n",
       "      <td>0.0</td>\n",
       "    </tr>\n",
       "    <tr>\n",
       "      <th>2</th>\n",
       "      <td>Aguascalientes</td>\n",
       "      <td>Calvillo</td>\n",
       "      <td>110.0</td>\n",
       "      <td>0.0</td>\n",
       "      <td>0.0</td>\n",
       "      <td>0.0</td>\n",
       "      <td>0.0</td>\n",
       "    </tr>\n",
       "    <tr>\n",
       "      <th>3</th>\n",
       "      <td>Aguascalientes</td>\n",
       "      <td>Cosío</td>\n",
       "      <td>650.0</td>\n",
       "      <td>0.0</td>\n",
       "      <td>0.0</td>\n",
       "      <td>0.0</td>\n",
       "      <td>0.0</td>\n",
       "    </tr>\n",
       "    <tr>\n",
       "      <th>4</th>\n",
       "      <td>Aguascalientes</td>\n",
       "      <td>Jesús María</td>\n",
       "      <td>600.0</td>\n",
       "      <td>0.0</td>\n",
       "      <td>0.0</td>\n",
       "      <td>0.0</td>\n",
       "      <td>0.0</td>\n",
       "    </tr>\n",
       "  </tbody>\n",
       "</table>\n",
       "</div>"
      ],
      "text/plain": [
       "          Entidad       Municipio  Sembrada (ha)  Cosechada (ha)  \\\n",
       "0  Aguascalientes  Aguascalientes         2850.0             0.0   \n",
       "1  Aguascalientes        Asientos         1560.0             0.0   \n",
       "2  Aguascalientes        Calvillo          110.0             0.0   \n",
       "3  Aguascalientes           Cosío          650.0             0.0   \n",
       "4  Aguascalientes     Jesús María          600.0             0.0   \n",
       "\n",
       "   Siniestrada (ha)  Producción  Rendimiento (udm/ha)  \n",
       "0               0.0         0.0                   0.0  \n",
       "1               0.0         0.0                   0.0  \n",
       "2               0.0         0.0                   0.0  \n",
       "3               0.0         0.0                   0.0  \n",
       "4               0.0         0.0                   0.0  "
      ]
     },
     "execution_count": 14,
     "metadata": {},
     "output_type": "execute_result"
    }
   ],
   "source": [
    "data_siap.head()"
   ]
  },
  {
   "cell_type": "markdown",
   "metadata": {},
   "source": [
    "Tipos de características del dataframe."
   ]
  },
  {
   "cell_type": "code",
   "execution_count": 15,
   "metadata": {},
   "outputs": [
    {
     "data": {
      "text/plain": [
       "Entidad                  object\n",
       "Municipio                object\n",
       "Sembrada (ha)           float64\n",
       "Cosechada (ha)          float64\n",
       "Siniestrada (ha)        float64\n",
       "Producción              float64\n",
       "Rendimiento (udm/ha)    float64\n",
       "dtype: object"
      ]
     },
     "execution_count": 15,
     "metadata": {},
     "output_type": "execute_result"
    }
   ],
   "source": [
    "data_siap.dtypes"
   ]
  },
  {
   "cell_type": "markdown",
   "metadata": {},
   "source": [
    "Se puede observar que en ``Entidad``, ``Municipio`` y ``Cultivo`` son variables categóricas, pero no se le ha asignado."
   ]
  },
  {
   "cell_type": "markdown",
   "metadata": {},
   "source": [
    "Cambiamos los tipo de objeto ``object`` a ``category``."
   ]
  },
  {
   "cell_type": "code",
   "execution_count": 16,
   "metadata": {},
   "outputs": [
    {
     "data": {
      "text/plain": [
       "Entidad                 category\n",
       "Municipio               category\n",
       "Sembrada (ha)            float64\n",
       "Cosechada (ha)           float64\n",
       "Siniestrada (ha)         float64\n",
       "Producción               float64\n",
       "Rendimiento (udm/ha)     float64\n",
       "dtype: object"
      ]
     },
     "execution_count": 16,
     "metadata": {},
     "output_type": "execute_result"
    }
   ],
   "source": [
    "data_siap[\"Entidad\"] = data_siap[\"Entidad\"].astype(\"category\")\n",
    "data_siap[\"Municipio\"] = data_siap[\"Municipio\"].astype(\"category\")\n",
    "data_siap.dtypes"
   ]
  },
  {
   "cell_type": "code",
   "execution_count": 17,
   "metadata": {},
   "outputs": [
    {
     "data": {
      "text/html": [
       "<div>\n",
       "<style scoped>\n",
       "    .dataframe tbody tr th:only-of-type {\n",
       "        vertical-align: middle;\n",
       "    }\n",
       "\n",
       "    .dataframe tbody tr th {\n",
       "        vertical-align: top;\n",
       "    }\n",
       "\n",
       "    .dataframe thead th {\n",
       "        text-align: right;\n",
       "    }\n",
       "</style>\n",
       "<table border=\"1\" class=\"dataframe\">\n",
       "  <thead>\n",
       "    <tr style=\"text-align: right;\">\n",
       "      <th></th>\n",
       "      <th>Sembrada (ha)</th>\n",
       "      <th>Cosechada (ha)</th>\n",
       "      <th>Siniestrada (ha)</th>\n",
       "      <th>Producción</th>\n",
       "      <th>Rendimiento (udm/ha)</th>\n",
       "    </tr>\n",
       "  </thead>\n",
       "  <tbody>\n",
       "    <tr>\n",
       "      <th>count</th>\n",
       "      <td>6.554280e+05</td>\n",
       "      <td>6.554280e+05</td>\n",
       "      <td>655428.000000</td>\n",
       "      <td>6.554280e+05</td>\n",
       "      <td>655428.000000</td>\n",
       "    </tr>\n",
       "    <tr>\n",
       "      <th>mean</th>\n",
       "      <td>1.314943e+03</td>\n",
       "      <td>5.663875e+02</td>\n",
       "      <td>12.920081</td>\n",
       "      <td>1.192478e+04</td>\n",
       "      <td>26.851913</td>\n",
       "    </tr>\n",
       "    <tr>\n",
       "      <th>std</th>\n",
       "      <td>3.514412e+04</td>\n",
       "      <td>1.144078e+04</td>\n",
       "      <td>1236.769113</td>\n",
       "      <td>3.809474e+05</td>\n",
       "      <td>404.760392</td>\n",
       "    </tr>\n",
       "    <tr>\n",
       "      <th>min</th>\n",
       "      <td>0.000000e+00</td>\n",
       "      <td>0.000000e+00</td>\n",
       "      <td>0.000000</td>\n",
       "      <td>0.000000e+00</td>\n",
       "      <td>0.000000</td>\n",
       "    </tr>\n",
       "    <tr>\n",
       "      <th>25%</th>\n",
       "      <td>1.050000e+01</td>\n",
       "      <td>0.000000e+00</td>\n",
       "      <td>0.000000</td>\n",
       "      <td>0.000000e+00</td>\n",
       "      <td>0.000000</td>\n",
       "    </tr>\n",
       "    <tr>\n",
       "      <th>50%</th>\n",
       "      <td>4.500000e+01</td>\n",
       "      <td>4.000000e+00</td>\n",
       "      <td>0.000000</td>\n",
       "      <td>2.178000e+01</td>\n",
       "      <td>1.300000</td>\n",
       "    </tr>\n",
       "    <tr>\n",
       "      <th>75%</th>\n",
       "      <td>2.550000e+02</td>\n",
       "      <td>5.100000e+01</td>\n",
       "      <td>0.000000</td>\n",
       "      <td>5.335500e+02</td>\n",
       "      <td>12.860000</td>\n",
       "    </tr>\n",
       "    <tr>\n",
       "      <th>max</th>\n",
       "      <td>7.481137e+06</td>\n",
       "      <td>1.314829e+06</td>\n",
       "      <td>321319.460000</td>\n",
       "      <td>5.503910e+07</td>\n",
       "      <td>77943.320000</td>\n",
       "    </tr>\n",
       "  </tbody>\n",
       "</table>\n",
       "</div>"
      ],
      "text/plain": [
       "       Sembrada (ha)  Cosechada (ha)  Siniestrada (ha)    Producción  \\\n",
       "count   6.554280e+05    6.554280e+05     655428.000000  6.554280e+05   \n",
       "mean    1.314943e+03    5.663875e+02         12.920081  1.192478e+04   \n",
       "std     3.514412e+04    1.144078e+04       1236.769113  3.809474e+05   \n",
       "min     0.000000e+00    0.000000e+00          0.000000  0.000000e+00   \n",
       "25%     1.050000e+01    0.000000e+00          0.000000  0.000000e+00   \n",
       "50%     4.500000e+01    4.000000e+00          0.000000  2.178000e+01   \n",
       "75%     2.550000e+02    5.100000e+01          0.000000  5.335500e+02   \n",
       "max     7.481137e+06    1.314829e+06     321319.460000  5.503910e+07   \n",
       "\n",
       "       Rendimiento (udm/ha)  \n",
       "count         655428.000000  \n",
       "mean              26.851913  \n",
       "std              404.760392  \n",
       "min                0.000000  \n",
       "25%                0.000000  \n",
       "50%                1.300000  \n",
       "75%               12.860000  \n",
       "max            77943.320000  "
      ]
     },
     "execution_count": 17,
     "metadata": {},
     "output_type": "execute_result"
    }
   ],
   "source": [
    "data_siap.describe()"
   ]
  },
  {
   "cell_type": "markdown",
   "metadata": {},
   "source": [
    "Cambiamos el orden de los datos de wide a tidy"
   ]
  },
  {
   "cell_type": "code",
   "execution_count": 22,
   "metadata": {},
   "outputs": [
    {
     "data": {
      "text/html": [
       "<div>\n",
       "<style scoped>\n",
       "    .dataframe tbody tr th:only-of-type {\n",
       "        vertical-align: middle;\n",
       "    }\n",
       "\n",
       "    .dataframe tbody tr th {\n",
       "        vertical-align: top;\n",
       "    }\n",
       "\n",
       "    .dataframe thead th {\n",
       "        text-align: right;\n",
       "    }\n",
       "</style>\n",
       "<table border=\"1\" class=\"dataframe\">\n",
       "  <thead>\n",
       "    <tr style=\"text-align: right;\">\n",
       "      <th></th>\n",
       "      <th>Entidad</th>\n",
       "      <th>Municipio</th>\n",
       "      <th>variable</th>\n",
       "      <th>values</th>\n",
       "    </tr>\n",
       "  </thead>\n",
       "  <tbody>\n",
       "    <tr>\n",
       "      <th>0</th>\n",
       "      <td>Aguascalientes</td>\n",
       "      <td>Aguascalientes</td>\n",
       "      <td>Sembrada (ha)</td>\n",
       "      <td>2850.0</td>\n",
       "    </tr>\n",
       "    <tr>\n",
       "      <th>1</th>\n",
       "      <td>Aguascalientes</td>\n",
       "      <td>Asientos</td>\n",
       "      <td>Sembrada (ha)</td>\n",
       "      <td>1560.0</td>\n",
       "    </tr>\n",
       "    <tr>\n",
       "      <th>2</th>\n",
       "      <td>Aguascalientes</td>\n",
       "      <td>Calvillo</td>\n",
       "      <td>Sembrada (ha)</td>\n",
       "      <td>110.0</td>\n",
       "    </tr>\n",
       "    <tr>\n",
       "      <th>3</th>\n",
       "      <td>Aguascalientes</td>\n",
       "      <td>Cosío</td>\n",
       "      <td>Sembrada (ha)</td>\n",
       "      <td>650.0</td>\n",
       "    </tr>\n",
       "    <tr>\n",
       "      <th>4</th>\n",
       "      <td>Aguascalientes</td>\n",
       "      <td>Jesús María</td>\n",
       "      <td>Sembrada (ha)</td>\n",
       "      <td>600.0</td>\n",
       "    </tr>\n",
       "  </tbody>\n",
       "</table>\n",
       "</div>"
      ],
      "text/plain": [
       "          Entidad       Municipio       variable  values\n",
       "0  Aguascalientes  Aguascalientes  Sembrada (ha)  2850.0\n",
       "1  Aguascalientes        Asientos  Sembrada (ha)  1560.0\n",
       "2  Aguascalientes        Calvillo  Sembrada (ha)   110.0\n",
       "3  Aguascalientes           Cosío  Sembrada (ha)   650.0\n",
       "4  Aguascalientes     Jesús María  Sembrada (ha)   600.0"
      ]
     },
     "execution_count": 22,
     "metadata": {},
     "output_type": "execute_result"
    }
   ],
   "source": [
    "siap_tidy = pd.melt(data_siap,\n",
    "                    [\"Entidad\", \"Municipio\"],\n",
    "                    var_name=\"variable\",\n",
    "                    value_name=\"values\")\n",
    "siap_tidy.head()"
   ]
  },
  {
   "cell_type": "markdown",
   "metadata": {},
   "source": [
    "Vamos a guardar los resultados de estas tablas en un formato parquet ya que este es la forma más compacta. Para esto es necesario importar la librería arrow para poder usar ``pd.DataFrame.to_parquet()``, ya que èsta funcion utiliza esta libaría como mecanismo de empaquetamiento."
   ]
  },
  {
   "cell_type": "code",
   "execution_count": 23,
   "metadata": {},
   "outputs": [],
   "source": [
    "import pyarrow"
   ]
  },
  {
   "cell_type": "markdown",
   "metadata": {},
   "source": [
    "Se guarda en ``clean_data/`` dentro del archivo ``data/``"
   ]
  },
  {
   "cell_type": "code",
   "execution_count": 25,
   "metadata": {},
   "outputs": [],
   "source": [
    "if not os.path.exists(os.path.join(\"data\",\"clean_data\")):\n",
    "    os.mkdir(os.path.join(\"data\",\"clean_data\"))\n",
    "    \n",
    "siap_tidy.to_parquet(os.path.join(\"data\",\"clean_data\",\"siap.parquet.zip\"), engine=\"pyarrow\", compression = \"gzip\")"
   ]
  }
 ],
 "metadata": {
  "kernelspec": {
   "display_name": "Python 3 (ipykernel)",
   "language": "python",
   "name": "python3"
  },
  "language_info": {
   "codemirror_mode": {
    "name": "ipython",
    "version": 3
   },
   "file_extension": ".py",
   "mimetype": "text/x-python",
   "name": "python",
   "nbconvert_exporter": "python",
   "pygments_lexer": "ipython3",
   "version": "3.10.9"
  }
 },
 "nbformat": 4,
 "nbformat_minor": 2
}
