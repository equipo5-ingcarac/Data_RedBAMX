{
 "cells": [
  {
   "cell_type": "markdown",
   "metadata": {},
   "source": [
    "# Descarga de Datos\n",
    "A la hora del analísis de los datos, después una vez seleccionado el problema es la extracción de datos. \n",
    "\n",
    "¿Dónde podemos encontrar información para resolver nuestro problema?. En nuestro caso partiremos de la base de datos del SIAP (Servicio de Informacion Agroalimentaria y Pesquera de la Secretaria de Agricultura y Desarrollo Rural).\n",
    "\n",
    "Otra pregunta es, ¿Qué información nos será de utilidad?, por lo general no se requiere la base de datos completa, entonces viene bien descargar la información relacionada o útil para la resolución. \n",
    "\n",
    "En esta libreta, pretendemos construir una forma fácil de seleccionar parte de la base de datos para su futura utilización.\n",
    "\n",
    "## Importación de Librerias\n",
    "Para la descarga usaremos las siguientes líbrerias."
   ]
  },
  {
   "cell_type": "code",
   "execution_count": 1,
   "metadata": {},
   "outputs": [],
   "source": [
    "import requests\n",
    "import pandas as pd\n",
    "import xml.etree.ElementTree as ET\n",
    "from lxml import etree\n",
    "from bs4 import BeautifulSoup\n",
    "import os\n",
    "import json\n",
    "import time\n",
    "import datetime\n",
    "\n",
    "\"\"\"\n",
    "El siguiente fragmento de código pretende limpiar la consola de los problemas de certificados\n",
    "que tiene la página origen de los datos del SIAP. \n",
    "\"\"\"\n",
    "\n",
    "from requests.packages.urllib3.exceptions import InsecureRequestWarning\n",
    "requests.packages.urllib3.disable_warnings(InsecureRequestWarning)\n"
   ]
  },
  {
   "cell_type": "markdown",
   "metadata": {},
   "source": [
    "Una vez hayan sido seleccionadas las librerias requeridas, iremos describiendo el paso de construcción paso a paso.\n",
    "## Carpeta de Destino.\n",
    "\n",
    "Lo primero, es definir la carpeta donde serán descargados los archivos. Nosotros la llamaremos {\\em selection}, dentro de la caperta siap, que a su vez esté dentro de la carpeta data."
   ]
  },
  {
   "cell_type": "code",
   "execution_count": 2,
   "metadata": {},
   "outputs": [],
   "source": [
    "\n",
    "data_dir = \"./data/siap/selection\"\n",
    "if not os.path.exists(data_dir):\n",
    "    os.makedirs(data_dir)"
   ]
  },
  {
   "cell_type": "markdown",
   "metadata": {},
   "source": [
    "## Constucción del selector\n",
    "\n",
    "Una de la forma más sencilla de generar un selector es mediante un diccionario, donde cada clave es una de las categorías que nos interesan y su valor será una lista donde especificaremos la información requerida. \n",
    "\n",
    "Entonces, de la pagina del SIAP, extraemos los distintos parámetros que se pueden modificar. Estos parámetros toman el nombre de 'ids' dentro de la base de datos del SIAP, entonces vamos a tomarlos de los ids extraidos y almacenados en 'idsSIAP.json'."
   ]
  },
  {
   "cell_type": "code",
   "execution_count": 5,
   "metadata": {},
   "outputs": [],
   "source": [
    "with open(\"idsSIAP.json\",encoding= 'utf8') as json_file:\n",
    "    dict_ids = json.load(json_file)\n",
    "\n",
    "dict_cultivos = {k.split('_')[1]:v for k,v in dict_ids.items() if k.startswith(\"cultivo\")}\n",
    "dict_ciclos = {k.split('_')[1]:v for k,v in dict_ids.items() if k.startswith(\"ciclo\")}\n",
    "dict_mes = {k.split('_')[1]:v for k,v in dict_ids.items() if k.startswith(\"mes\")}\n",
    "dict_modalidad = {k.split('_')[1]:v for k,v in dict_ids.items() if k.startswith(\"modalidad\")}\n",
    "\n",
    "url = \"https://nube.siap.gob.mx/avance_agricola/\"\n",
    "\n",
    "payload = {'xajax': 'reporte', # Para obtener la tabla\n",
    "'xajaxr': '1696449941927', # Timestamp UNIX\n",
    "'xajaxargs[]': [\n",
    "    '1', # 1: Desglose por estados, 2: Cultivo total\n",
    "    '2023', # Anio\n",
    "    '5', # ID Ciclo\n",
    "    '3', # ID Modalidad\n",
    "    '0', # ID Estado (0: Nacional)\n",
    "    '--',\n",
    "    '--',\n",
    "    '7', # ID Cultivo\n",
    "    '200201',\n",
    "    '0',\n",
    "    '1', # 1: Por municipio\n",
    "    'undefined',\n",
    "    'undefined',\n",
    "    'undefined',\n",
    "    '8' # Valor del mes\n",
    "    ]\n",
    "}\n",
    "\n",
    "headers = {\n",
    "  'Cookie': 'PHPSESSID=45ri2k73cbp2iptcrufu88p360',\n",
    "  'User-Agent': 'Mozilla/5.0 (Windows NT 10.0; Win64; x64) AppleWebKit/537.36 (KHTML, like Gecko) Chrome/102.0.0.0 Safari/537.36'\n",
    "}"
   ]
  },
  {
   "cell_type": "markdown",
   "metadata": {},
   "source": [
    "Entonces vemos 5 de las categorías principales.\n",
    "* Cultivos\n",
    "* Ciclos\n",
    "* Mes\n",
    "* Modalidad\n",
    "\n",
    "Además de elementos como 'url', 'payload' y 'headers'. Ahora, nuestro intéres esta en 'payload' ya que este es quien da formato a las peticiones de la base de datos. Notamos que agrega el año como categoría, luego elementos adicionales como el desglose, en este caso puede ser mediante estados o directamente el nacional. Por el momento nos centraremos en las primeras 5 categorías. \n",
    "\n",
    "* Año\n",
    "* Cultivos\n",
    "* Ciclos\n",
    "* Mes\n",
    "* Modalidad\n",
    "\n",
    "Ahora mostraremos el formato general de nuestro selector."
   ]
  },
  {
   "cell_type": "code",
   "execution_count": null,
   "metadata": {},
   "outputs": [],
   "source": [
    "selector_data = {\n",
    "    'Anio':[],\n",
    "    'Ciclos':['Otoño - Invierno'],\n",
    "    'Cultivos':['Aguacate'],\n",
    "    'Meses':['Enero'],\n",
    "    'Modalidad':['Riego']\n",
    "}"
   ]
  },
  {
   "cell_type": "markdown",
   "metadata": {},
   "source": [
    "Notemos que el selector, posee parámetros con listas vacías. Bien, en nuestro selector, queremos que esa lista vacía, de la orden que considere todas las opciones posibles, en este caso, los años, para eso consideraremos un selector total, es decir, uno que considere la base de datos completa."
   ]
  },
  {
   "cell_type": "code",
   "execution_count": 6,
   "metadata": {},
   "outputs": [],
   "source": [
    "ciclos = list(dict_ciclos.keys())\n",
    "cultivos = list(dict_cultivos.keys())\n",
    "meses = list(dict_mes.keys())\n",
    "modalidad = list(dict_modalidad.keys())\n",
    "anios = [2018 + i for i in range(6)]\n",
    "\n",
    "all_data = {\n",
    "    'Anio':anios,\n",
    "    'Ciclos':ciclos,\n",
    "    'Cultivos':cultivos,\n",
    "    'Meses':meses,\n",
    "    'Modalidad':modalidad\n",
    "}"
   ]
  },
  {
   "cell_type": "markdown",
   "metadata": {},
   "source": [
    "Con esto, y algunas funciones defenidas en `selector.py`, tenemos la función que buscamos. "
   ]
  },
  {
   "cell_type": "code",
   "execution_count": 8,
   "metadata": {},
   "outputs": [],
   "source": [
    "import selector as s\n",
    "\n",
    "def download_select_data(selector):\n",
    "    sel_keys = selector.keys()\n",
    "    for u in sel_keys:\n",
    "        if len(selector[u]) == 0:\n",
    "            selector[u] = all_data[u]\n",
    "    for year in selector['Anio']:\n",
    "        payload['xajaxargs[]'][1] = str(year)\n",
    "        for key_mes in selector['Meses']:\n",
    "            payload['xajaxargs[]'][14] = dict_mes[key_mes]\n",
    "\n",
    "            for key_cultivo in selector['Cultivos']:\n",
    "                if dict_cultivos[key_cultivo] == \"0\":\n",
    "                    continue\n",
    "                    \n",
    "                if os.path.exists(f\"{data_dir}/{key_cultivo.lower().replace(' ','_')}_{key_mes.lower()}_{year}.csv\"):\n",
    "                    continue\n",
    "\n",
    "                payload['xajaxargs[]'][7] = dict_cultivos[key_cultivo]\n",
    "\n",
    "                response = requests.request(\"POST\", url, headers=headers, data=payload, verify=False)\n",
    "                response.encoding='ISO-8859-1'\n",
    "\n",
    "                #extract the cdata as a string\n",
    "                root = etree.fromstring(response.content)\n",
    "                cd = root.xpath('//cmd//text()')[0]\n",
    "\n",
    "                parsed_html = BeautifulSoup(str(cd),\"lxml\")\n",
    "                parsed_table = parsed_html.body.find(\"table\")\n",
    "\n",
    "                if parsed_table is None:\n",
    "                    continue\n",
    "\n",
    "                df_iter = pd.read_html(str(parsed_html.body.find(\"table\")))[0]\n",
    "\n",
    "                df_iter.to_csv(f\"{data_dir}/{key_cultivo.lower().replace(' ','_')}_{key_mes.lower()}_{year}.csv\",index=False)\n",
    "                time.sleep(0.1)\n"
   ]
  },
  {
   "cell_type": "markdown",
   "metadata": {},
   "source": [
    "Ahora, recordando el selector de ejemplo, notemos que se descargarán únicamente la información requerida."
   ]
  },
  {
   "cell_type": "code",
   "execution_count": 9,
   "metadata": {},
   "outputs": [],
   "source": [
    "selector_data = {\n",
    "    'Anio':[],\n",
    "    'Ciclos':['Otoño - Invierno'],\n",
    "    'Cultivos':['Aguacate'],\n",
    "    'Meses':['Enero'],\n",
    "    'Modalidad':['Riego']\n",
    "}\n",
    "\n",
    "download_select_data(selector_data)"
   ]
  },
  {
   "cell_type": "markdown",
   "metadata": {},
   "source": [
    "El selector puede agregar más o menos categorías según lo requerido. Ahora, en la siguiente libreta, veremos la relevancia del selector. "
   ]
  }
 ],
 "metadata": {
  "kernelspec": {
   "display_name": "base",
   "language": "python",
   "name": "python3"
  },
  "language_info": {
   "codemirror_mode": {
    "name": "ipython",
    "version": 3
   },
   "file_extension": ".py",
   "mimetype": "text/x-python",
   "name": "python",
   "nbconvert_exporter": "python",
   "pygments_lexer": "ipython3",
   "version": "3.9.18"
  }
 },
 "nbformat": 4,
 "nbformat_minor": 2
}
