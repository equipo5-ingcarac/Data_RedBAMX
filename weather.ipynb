{
 "cells": [
  {
   "cell_type": "markdown",
   "metadata": {},
   "source": [
    "# Clima en los cultivos\n",
    "\n",
    "Uno de los factores principales a considerar durante las cosechas es el clima de la región, está determina las temporadas de cosecha y los tipos de cultivos que pueden existir. Por lo tanto será importante obtener la información metereológica del pais. \n",
    "\n",
    "## Extracción de datos\n",
    "\n",
    "### Consistencia de la nueva información\n",
    "\n",
    "Pretendemos obtener información del clima del país, sin embargo al observar la información obtenida del SIAP, vemos que la información esta dada según los municipios, por lo tanto debemos procurar que la información climática provenga de cada municipio. \n",
    "\n",
    "### Fuente\n",
    "La información será extraída de 'Historical Weather API', que se puede encontrar en el siguiente elnace: https://open-meteo.com/en/docs/historical-weather-api#latitude=29.0881&longitude=-111.0103&start_date=2020-01-01&hourly=temperature_2m,relativehumidity_2m,precipitation. \n",
    "\n",
    "Lo principal de la API, es que proporciona información según las coordenadas geograficas de la región (latitud, longitud). Por lo tanto deberemos extraer las coordendadas de cada municipio.\n",
    "\n",
    "### Proceso.\n",
    "\n",
    "Esto lo haremos, mediante la extracción de información del siguiente enlace. 'https://www.coordenadas.com.es/mexico/index.php'. Para ello usaremos algunas librerías."
   ]
  },
  {
   "cell_type": "code",
   "execution_count": 3,
   "metadata": {},
   "outputs": [],
   "source": [
    "import pandas as pd\n",
    "from bs4 import BeautifulSoup\n",
    "import requests"
   ]
  },
  {
   "cell_type": "markdown",
   "metadata": {},
   "source": [
    "Entonces, primero analizaremos el enlace principal. "
   ]
  },
  {
   "cell_type": "code",
   "execution_count": 4,
   "metadata": {},
   "outputs": [
    {
     "name": "stdout",
     "output_type": "stream",
     "text": [
      "<Response [200]>\n"
     ]
    }
   ],
   "source": [
    "main_url = 'https://www.coordenadas.com.es/mexico/index.php'\n",
    "html = requests.get(main_url)\n",
    "print(html)"
   ]
  },
  {
   "cell_type": "markdown",
   "metadata": {},
   "source": [
    "Vemos que `requests` pudo conectar con la página. Entonces usaremos `BeautifulSoup` para revisar su contenido. "
   ]
  },
  {
   "cell_type": "code",
   "execution_count": 5,
   "metadata": {},
   "outputs": [],
   "source": [
    "html_content = html.text\n",
    "soup = BeautifulSoup(html_content)\n",
    "data = soup.find_all('a',class_= 'list-group-item')\n",
    "url_estados = []\n",
    "estados = []\n",
    "for link in data:\n",
    "    lhref = link.get('href')\n",
    "    ltext = link.text\n",
    "    url_estados.append(lhref)\n",
    "    estados.append(ltext)"
   ]
  },
  {
   "cell_type": "markdown",
   "metadata": {},
   "source": [
    "Entonces a partir del enlace principal, obtenemos los enlaces para obtener las coordenadas de los municipios, considere esté ejemplo con Sonora."
   ]
  },
  {
   "cell_type": "code",
   "execution_count": 9,
   "metadata": {},
   "outputs": [
    {
     "name": "stdout",
     "output_type": "stream",
     "text": [
      "<class 'pandas.core.frame.DataFrame'>\n",
      "RangeIndex: 60 entries, 0 to 59\n",
      "Data columns (total 2 columns):\n",
      " #   Column       Non-Null Count  Dtype \n",
      "---  ------       --------------  ----- \n",
      " 0   Ciudad       60 non-null     object\n",
      " 1   Coordenadas  60 non-null     object\n",
      "dtypes: object(2)\n",
      "memory usage: 1.1+ KB\n"
     ]
    }
   ],
   "source": [
    "son = estados.index('Sonora')\n",
    "url_son = url_estados[son]\n",
    "\n",
    "html_son = pd.read_html(url_son)\n",
    "Sonora = pd.DataFrame(html_son[0])\n",
    "Sonora.info()"
   ]
  },
  {
   "cell_type": "markdown",
   "metadata": {},
   "source": [
    "Obtuvimos las coordenadas de los municipios de Sonora, sin embargo, como se puede apreciar. Sonora tiene 72 municipios, y solo nos presenta 60. Esto es debido a la forma de estructura de la página, como puede observar en la siguiente página. "
   ]
  },
  {
   "cell_type": "code",
   "execution_count": 10,
   "metadata": {},
   "outputs": [
    {
     "name": "stdout",
     "output_type": "stream",
     "text": [
      "https://www.coordenadas.com.es/mexico/pueblos-de-sonora/26/1\n"
     ]
    }
   ],
   "source": [
    "print(url_son)"
   ]
  },
  {
   "cell_type": "markdown",
   "metadata": {},
   "source": [
    "Los municipios de Sonora se encuentran desplegados en varias pestañas, en este caso dos. La página mostrada esta representada por él último número del enlace. Entonces debemos modificarlo, para ello definiremos la siguiente función. "
   ]
  },
  {
   "cell_type": "code",
   "execution_count": 11,
   "metadata": {},
   "outputs": [],
   "source": [
    "def modify_tabpage(url,tab):\n",
    "    url = url[:-1] + str(tab)\n",
    "    return url"
   ]
  },
  {
   "cell_type": "code",
   "execution_count": null,
   "metadata": {},
   "outputs": [],
   "source": []
  },
  {
   "cell_type": "code",
   "execution_count": 91,
   "metadata": {},
   "outputs": [
    {
     "name": "stdout",
     "output_type": "stream",
     "text": [
      "                        Municipio\n",
      "0                         Aconchi\n",
      "1                     Agua Prieta\n",
      "2                          Alamos\n",
      "3                           Altar\n",
      "4                        Arivechi\n",
      "..                            ...\n",
      "67                Villa Pesqueira\n",
      "68                         Yécora\n",
      "69  General Plutarco Elías Calles\n",
      "70                  Benito Juárez\n",
      "71         San Ignacio Río Muerto\n",
      "\n",
      "[72 rows x 1 columns]\n",
      "0             - Aconchi\n",
      "1         - Agua-Prieta\n",
      "2              - Alamos\n",
      "3               - Altar\n",
      "4            - Arivechi\n",
      "            ...        \n",
      "59         - Trincheras\n",
      "0            - Tubutama\n",
      "1                - Ures\n",
      "2     - Villa-Pesqueira\n",
      "3              - Yecora\n",
      "Name: Ciudad, Length: 64, dtype: object\n"
     ]
    }
   ],
   "source": [
    "url_base = \"https://cuentame.inegi.org.mx/monografias/informacion/\"\n",
    "state = 'son'\n",
    "url_final = \"/territorio/div_municipal.aspx\"\n",
    "\n",
    "url_mun = url_base + state + url_final\n",
    "\n",
    "mun_html = pd.read_html(url_mun)\n",
    "municipios = pd.DataFrame(mun_html[3])[['Municipio']]\n",
    "municipios = municipios.drop(municipios.index[-1])\n",
    "print(municipios)\n",
    "\n",
    "s = Sonora['Ciudad']\n",
    "\n",
    "print(s)\n"
   ]
  },
  {
   "cell_type": "markdown",
   "metadata": {},
   "source": [
    "Con esto logramos extraer los datos requeridos"
   ]
  },
  {
   "cell_type": "code",
   "execution_count": null,
   "metadata": {},
   "outputs": [],
   "source": [
    "\n",
    "def get_df_mun(url):\n",
    "    html = pd.read_html(url)\n",
    "    df = pd.DataFrame(html[0])\n",
    "    return df"
   ]
  }
 ],
 "metadata": {
  "kernelspec": {
   "display_name": "base",
   "language": "python",
   "name": "python3"
  },
  "language_info": {
   "codemirror_mode": {
    "name": "ipython",
    "version": 3
   },
   "file_extension": ".py",
   "mimetype": "text/x-python",
   "name": "python",
   "nbconvert_exporter": "python",
   "pygments_lexer": "ipython3",
   "version": "3.9.18"
  }
 },
 "nbformat": 4,
 "nbformat_minor": 2
}
